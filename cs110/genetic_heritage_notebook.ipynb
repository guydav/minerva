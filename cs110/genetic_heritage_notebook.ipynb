{
 "cells": [
  {
   "cell_type": "code",
   "execution_count": 1,
   "metadata": {
    "collapsed": true
   },
   "outputs": [],
   "source": [
    "%matplotlib inline"
   ]
  },
  {
   "cell_type": "code",
   "execution_count": 5,
   "metadata": {
    "collapsed": false
   },
   "outputs": [],
   "source": [
    "from genetic_heritage import *"
   ]
  },
  {
   "cell_type": "code",
   "execution_count": 6,
   "metadata": {
    "collapsed": true
   },
   "outputs": [],
   "source": [
    "import matplotlib.pyplot as plt"
   ]
  },
  {
   "cell_type": "code",
   "execution_count": 9,
   "metadata": {
    "collapsed": false
   },
   "outputs": [
    {
     "data": {
      "image/png": "[encoded data removed]",
      "text/plain": [
       "<matplotlib.figure.Figure at 0x105a46210>"
      ]
     },
     "metadata": {},
     "output_type": "display_data"
    }
   ],
   "source": [
    "def plot_table_with_gradient(tabular_data, row_headers, column_headers):\n",
    "    plt.table(cellText=tabular_data,\n",
    "             rowLabels=row_headers,\n",
    "             colLabels=column_headers,\n",
    "             loc='top')\n",
    "    \n",
    "    plt.show()\n",
    "    \n",
    "def plot_subsequence_lengths_table(gene_data=RAW_GENE_DATA):\n",
    "    gene_indices, genes = zip(*gene_data)\n",
    "    table = [[gene_resemblance(row_gene, col_gene, genes, longest_subsequence_length)\n",
    "                           for col_gene in gene_indices]\n",
    "             for row_gene in gene_indices]\n",
    "\n",
    "    plot_table_with_gradient(table, gene_indices, gene_indices)\n",
    "    \n",
    "plot_subsequence_lengths_table()"
   ]
  },
  {
   "cell_type": "code",
   "execution_count": null,
   "metadata": {
    "collapsed": true
   },
   "outputs": [],
   "source": []
  }
 ],
 "metadata": {
  "kernelspec": {
   "display_name": "Python 2",
   "language": "python",
   "name": "python2"
  },
  "language_info": {
   "codemirror_mode": {
    "name": "ipython",
    "version": 2
   },
   "file_extension": ".py",
   "mimetype": "text/x-python",
   "name": "python",
   "nbconvert_exporter": "python",
   "pygments_lexer": "ipython2",
   "version": "2.7.10"
  }
 },
 "nbformat": 4,
 "nbformat_minor": 0
}
