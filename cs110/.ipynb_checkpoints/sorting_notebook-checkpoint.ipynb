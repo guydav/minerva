{
 "cells": [
  {
   "cell_type": "code",
   "execution_count": 1,
   "metadata": {
    "collapsed": false
   },
   "outputs": [
    {
     "name": "stdout",
     "output_type": "stream",
     "text": [
      "[77, 90, 88, 91, 0, 32, 22, 96, 90, 18, 51, 19, 19, 94, 32, 70, 44, 55, 44, 26, 74, 7, 40, 44, 53, 41, 99, 22, 40, 94, 65, 87, 35, 28, 62, 34, 84, 19, 67, 75, 8, 64, 91, 74, 15, 6, 72, 92, 20, 35, 35, 73, 3, 89, 83, 96, 10, 98, 66, 86, 12, 87, 91, 96, 97, 27, 91, 24, 35, 36, 6, 11, 82, 95, 21, 53, 13, 10, 30, 91, 5, 91, 94, 50, 6, 20, 48, 77, 0, 95, 29, 91, 30, 54, 9, 45, 73, 90, 36, 100]\n",
      "insertion_sort\n",
      "[0, 0, 3, 5, 6, 6, 6, 7, 8, 9, 10, 10, 11, 12, 13, 15, 18, 19, 19, 19, 20, 20, 21, 22, 22, 24, 26, 27, 28, 29, 30, 30, 32, 32, 34, 35, 35, 35, 35, 36, 36, 40, 40, 41, 44, 44, 44, 45, 48, 50, 51, 53, 53, 54, 55, 62, 64, 65, 66, 67, 70, 72, 73, 73, 74, 74, 75, 77, 77, 82, 83, 84, 86, 87, 87, 88, 89, 90, 90, 90, 91, 91, 91, 91, 91, 91, 91, 92, 94, 94, 94, 95, 95, 96, 96, 96, 97, 98, 99, 100]\n",
      "bubble_sort\n",
      "[0, 0, 3, 5, 6, 6, 6, 7, 8, 9, 10, 10, 11, 12, 13, 15, 18, 19, 19, 19, 20, 20, 21, 22, 22, 24, 26, 27, 28, 29, 30, 30, 32, 32, 34, 35, 35, 35, 35, 36, 36, 40, 40, 41, 44, 44, 44, 45, 48, 50, 51, 53, 53, 54, 55, 62, 64, 65, 66, 67, 70, 72, 73, 73, 74, 74, 75, 77, 77, 82, 83, 84, 86, 87, 87, 88, 89, 90, 90, 90, 91, 91, 91, 91, 91, 91, 91, 92, 94, 94, 94, 95, 95, 96, 96, 96, 97, 98, 99, 100]\n",
      "selection_sort\n",
      "[0, 0, 3, 5, 6, 6, 6, 7, 8, 9, 10, 10, 11, 12, 13, 15, 18, 19, 19, 19, 20, 20, 21, 22, 22, 24, 26, 27, 28, 29, 30, 30, 32, 32, 34, 35, 35, 35, 35, 36, 36, 40, 40, 41, 44, 44, 44, 45, 48, 50, 51, 53, 53, 54, 55, 62, 64, 65, 66, 67, 70, 72, 73, 73, 74, 74, 75, 77, 77, 82, 83, 84, 86, 87, 87, 88, 89, 90, 90, 90, 91, 91, 91, 91, 91, 91, 91, 92, 94, 94, 94, 95, 95, 96, 96, 96, 97, 98, 99, 100]\n"
     ]
    }
   ],
   "source": [
    "from profilehooks import profile, timecall\n",
    "from numpy import random\n",
    "\n",
    "\n",
    "def run_function(func, initial_size, num_outputs):\n",
    "    return [func(initial_size * 2 ** i) for i in xrange(num_outputs)]\n",
    "\n",
    "\n",
    "def swap(input_list, a, b):\n",
    "    temp = input_list[a]\n",
    "    input_list[a] = input_list[b]\n",
    "    input_list[b] = temp\n",
    "\n",
    "\n",
    "def compare_gt(input_list, a, b):\n",
    "    return input_list[a] > input_list[b]\n",
    "\n",
    "\n",
    "@profile(sort='calls', immediate=True)\n",
    "def insertion_sort(input_list):\n",
    "    list_length = len(input_list)\n",
    "\n",
    "    for j in xrange(1, list_length):\n",
    "        for i in xrange(0, j):\n",
    "            # if input_list[i] > input_list[j]:\n",
    "            if compare_gt(input_list, i, j):\n",
    "                input_list.insert(i, input_list.pop(j))\n",
    "                continue\n",
    "\n",
    "@profile(sort='calls', immediate=True)\n",
    "def bubble_sort(input_list):\n",
    "    done = False\n",
    "    max_index = len(input_list) - 1\n",
    "\n",
    "    while not done:\n",
    "        done = True\n",
    "        for i in xrange(max_index):\n",
    "            # if input_list[i] > input_list[i+1]:\n",
    "            if compare_gt(input_list, i, i+1):\n",
    "                swap(input_list, i, i+1)\n",
    "                done = False\n",
    "\n",
    "\n",
    "@profile(sort='calls', immediate=True)\n",
    "def selection_sort(input_list):\n",
    "    list_length = len(input_list)\n",
    "\n",
    "    for i in xrange(list_length):\n",
    "        min_index = i\n",
    "        for j in xrange(i+1, list_length):\n",
    "            if compare_gt(input_list, min_index, j):\n",
    "                min_index = j\n",
    "\n",
    "        input_list.insert(i, input_list.pop(min_index))\n",
    "\n",
    "\n",
    "\n",
    "# 1.1\n",
    "run_function(lambda x: [0] * x, 2, 10)\n",
    "\n",
    "# 1.2\n",
    "ints = [i for i in random.random_integers(0, 100, 100)]\n",
    "print ints\n",
    "\n",
    "for sort_func in [insertion_sort, bubble_sort, selection_sort]:\n",
    "    ints_copy = ints[:]\n",
    "    sort_func(ints_copy)\n",
    "    print sort_func.func_name\n",
    "    print ints_copy\n"
   ]
  },
  {
   "cell_type": "code",
   "execution_count": null,
   "metadata": {
    "collapsed": true
   },
   "outputs": [],
   "source": []
  }
 ],
 "metadata": {
  "kernelspec": {
   "display_name": "Python 2",
   "language": "python",
   "name": "python2"
  },
  "language_info": {
   "codemirror_mode": {
    "name": "ipython",
    "version": 2
   },
   "file_extension": ".py",
   "mimetype": "text/x-python",
   "name": "python",
   "nbconvert_exporter": "python",
   "pygments_lexer": "ipython2",
   "version": "2.7.10"
  }
 },
 "nbformat": 4,
 "nbformat_minor": 0
}
