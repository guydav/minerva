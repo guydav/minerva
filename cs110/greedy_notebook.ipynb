{
 "cells": [
  {
   "cell_type": "code",
   "execution_count": null,
   "metadata": {
    "collapsed": false
   },
   "outputs": [],
   "source": [
    "import heapq\n",
    "\n",
    "def min_lecture_halls(activities):\n",
    "    activities.sort() # will sort by starting time\n",
    "    current = [] # ending times of all currently ongoing activities\n",
    "    concurrent = 0\n",
    "    max_concurrent = 0\n",
    "    \n",
    "    for activity in activities:\n",
    "        concurrent += 1\n",
    "        \n",
    "        while current[0] < activity[0]:\n",
    "            heapq.heappop(current)\n",
    "            concurrent -= 1\n",
    "            \n",
    "        heapq.heappush(current, activity[1])\n",
    "        if concurrent > max_concurrent:\n",
    "            max_concurrent = concurrent\n",
    "            \n",
    "    return concurrent\n",
    "\n",
    "\n",
    "\n",
    "    \n",
    "    "
   ]
  },
  {
   "cell_type": "code",
   "execution_count": null,
   "metadata": {
    "collapsed": false
   },
   "outputs": [],
   "source": [
    "US_CURRENCY = [1, 2, 5, 10, 25, 100, 200, 500, 1000, 2000]\n",
    "US_CURRENCY.reverse()\n",
    "EURO_CURRENCY = [1, 2, 5, 10, 20, 50, 1, 2, 5, 10, 20]\n",
    "EURO_CURRENCY.reverse()\n",
    "\n",
    "def change(amount, coins):\n",
    "    results = {}\n",
    "    for denomination in coins:\n",
    "        if denomination < amount:\n",
    "            count = amount / denomination\n",
    "            amount %= denomination\n",
    "            results[denomination] = count\n",
    "            \n",
    "    return results\n"
   ]
  },
  {
   "cell_type": "code",
   "execution_count": null,
   "metadata": {
    "collapsed": false
   },
   "outputs": [],
   "source": [
    "change(757, US_CURRENCY)"
   ]
  },
  {
   "cell_type": "code",
   "execution_count": 3,
   "metadata": {
    "collapsed": false
   },
   "outputs": [
    {
     "name": "stdout",
     "output_type": "stream",
     "text": [
      "Complexity [] []\n",
      "Big O notation [] [Complexity]\n",
      "Recursion [Big O notation, Complexity] []\n",
      "Heaps [Big O notation, Complexity, Recursion] []\n",
      "Heap Sort [Big O notation, Complexity, Recursion, Heaps] []\n",
      "Quicksort [Big O notation, Complexity, Recursion, Heaps, Heap Sort] []\n",
      "Red Black trees [Big O notation, Complexity, Recursion, Heaps, Heap Sort, Quicksort] []\n",
      "Binary Search Trees [Big O notation, Complexity, Recursion, Heaps, Heap Sort, Quicksort] [Red Black trees]\n",
      "Dynamic Programming [Big O notation, Complexity, Recursion, Heaps, Heap Sort, Quicksort, Binary Search Trees, Red Black trees] []\n",
      "Big O notation\n",
      "Complexity\n",
      "Recursion\n",
      "Heaps\n",
      "Heap Sort\n",
      "Quicksort\n",
      "Binary Search Trees\n",
      "Red Black trees\n",
      "Dynamic Programming\n"
     ]
    }
   ],
   "source": [
    "class Lesson(object):\n",
    "    def __init__(self, name):\n",
    "        self.name = name\n",
    "        self.depends = []\n",
    "\n",
    "    def requires(self, node):\n",
    "        self.depends.append(node)\n",
    "        \n",
    "    def __str__(self):\n",
    "        return self.name\n",
    "    \n",
    "    def __repr__(self):\n",
    "        return str(self)\n",
    "\n",
    "# Our lessons in alphabetical order:\n",
    "big_oh = Lesson(\"Big O notation\")\n",
    "binary_trees = Lesson(\"Binary Search Trees\")\n",
    "complexity = Lesson(\"Complexity\")\n",
    "dynamic_p = Lesson(\"Dynamic Programming\")\n",
    "heaps = Lesson(\"Heaps\")\n",
    "heapsort = Lesson(\"Heap Sort\")\n",
    "quicksort = Lesson(\"Quicksort\")\n",
    "recursion = Lesson(\"Recursion\")\n",
    "red_black = Lesson(\"Red Black trees\")\n",
    "\n",
    "# The dependencies our lessons have:\n",
    "binary_trees.requires(recursion)\n",
    "binary_trees.requires(complexity)\n",
    "complexity.requires(big_oh)\n",
    "dynamic_p.requires(recursion)\n",
    "dynamic_p.requires(complexity)\n",
    "heaps.requires(recursion)\n",
    "heaps.requires(complexity)\n",
    "heapsort.requires(complexity)\n",
    "heapsort.requires(recursion)\n",
    "heapsort.requires(heaps)\n",
    "quicksort.requires(complexity)\n",
    "quicksort.requires(recursion)\n",
    "red_black.requires(binary_trees)\n",
    "\n",
    "# Our syllabus requires that we cover all lessons.\n",
    "syllabus = [complexity, big_oh, recursion, heaps, heapsort, quicksort,\n",
    "            red_black, binary_trees, dynamic_p]\n",
    "\n",
    "\n",
    "def dep_resolve(node, resolved, unresolved):\n",
    "    print str(node), resolved, unresolved\n",
    "    unresolved.append(node)\n",
    "    for dep in node.depends:\n",
    "        if dep not in resolved:\n",
    "            if dep in unresolved:\n",
    "                raise Exception('Circular reference detected :’-( ')\n",
    "            dep_resolve(dep, resolved, unresolved)\n",
    "    resolved.append(node)\n",
    "    unresolved.remove(node)\n",
    "\n",
    "\n",
    "resolved = []\n",
    "for lesson in syllabus:\n",
    "    if lesson in resolved:\n",
    "        continue\n",
    "    dep_resolve(lesson, resolved, [])\n",
    "\n",
    "for node in resolved:\n",
    "    print(node.name)\n"
   ]
  },
  {
   "cell_type": "code",
   "execution_count": null,
   "metadata": {
    "collapsed": false
   },
   "outputs": [],
   "source": [
    "big_oh.__str__()"
   ]
  },
  {
   "cell_type": "code",
   "execution_count": null,
   "metadata": {
    "collapsed": true
   },
   "outputs": [],
   "source": []
  }
 ],
 "metadata": {
  "kernelspec": {
   "display_name": "Python 2",
   "language": "python",
   "name": "python2"
  },
  "language_info": {
   "codemirror_mode": {
    "name": "ipython",
    "version": 2
   },
   "file_extension": ".py",
   "mimetype": "text/x-python",
   "name": "python",
   "nbconvert_exporter": "python",
   "pygments_lexer": "ipython2",
   "version": "2.7.10"
  }
 },
 "nbformat": 4,
 "nbformat_minor": 0
}
