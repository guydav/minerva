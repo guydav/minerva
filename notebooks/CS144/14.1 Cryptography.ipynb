{
 "cells": [
  {
   "cell_type": "code",
   "execution_count": 8,
   "metadata": {
    "collapsed": true
   },
   "outputs": [],
   "source": [
    "%matplotlib inline"
   ]
  },
  {
   "cell_type": "code",
   "execution_count": 9,
   "metadata": {
    "collapsed": true
   },
   "outputs": [],
   "source": [
    "import pandas\n",
    "import numpy as np\n",
    "import matplotlib\n",
    "import matplotlib.pyplot as plt\n",
    "import matplotlib.gridspec as gridspec\n",
    "from datetime import datetime, date\n",
    "import timeit\n",
    "from collections import defaultdict, OrderedDict\n",
    "import tabulate\n",
    "import time\n",
    "import glob\n",
    "from functools import reduce\n",
    "\n",
    "timeit.template = \"\"\"\n",
    "def inner(_it, _timer{init}):\n",
    "    {setup}\n",
    "    _t0 = _timer()\n",
    "    for _i in _it:\n",
    "        retval = {stmt}\n",
    "    _t1 = _timer()\n",
    "    return _t1 - _t0, retval\n",
    "\"\"\"\n",
    "\n",
    "matplotlib.style.use('ggplot')\n",
    "\n",
    "RANDOM_SEED = 33"
   ]
  },
  {
   "cell_type": "code",
   "execution_count": 6,
   "metadata": {},
   "outputs": [
    {
     "data": {
      "text/plain": [
       "'WILL THIS BE ONTHE FINAL'"
      ]
     },
     "execution_count": 6,
     "metadata": {},
     "output_type": "execute_result"
    }
   ],
   "source": [
    "def shift_encrypt(plain, k, n=26):\n",
    "    plain = plain.upper().replace(' ', '')\n",
    "    plain = [ord(x) - ord('A') for x in plain]\n",
    "    cipher = [(x + k) % n for x in plain]\n",
    "    cipher = [chr(x + ord('A')) for x in cipher]\n",
    "    return ''.join(cipher)\n",
    "\n",
    "def shift_decrypt(cipher, k, n=26):\n",
    "    return shift_encrypt(cipher, -k, n)\n",
    "\n",
    "' '.join(shift_decrypt('ZLOOA WKLVA EHARQ WKHA ILQDO', 3).split('X'))"
   ]
  },
  {
   "cell_type": "code",
   "execution_count": 65,
   "metadata": {},
   "outputs": [
    {
     "name": "stdout",
     "output_type": "stream",
     "text": [
      "YIEULHNRML\n"
     ]
    }
   ],
   "source": [
    "def affine_encrypt(plain, A, b, n=26):\n",
    "    plain = plain.upper().replace(' ', '')\n",
    "    if len(plain) % 2:\n",
    "        plain = plain + 'X'\n",
    "        \n",
    "    plain = [ord(x) - ord('A') for x in plain]\n",
    "    plain_vecs = [np.asarray(plain[i:i+2]).reshape((2, 1)) for i in range(0, len(plain), 2)]\n",
    "    cipher = np.asarray([np.mod(A.dot(p) + b, n) for p in plain_vecs])\n",
    "    cipher = cipher.flatten()\n",
    "    cipher = [chr(x + ord('A')) for x in cipher]\n",
    "    return ''.join(cipher)\n",
    "\n",
    "\n",
    "A = np.matrix([[3, 4], [2, 3]])\n",
    "b = np.matrix([[2], [5]])\n",
    "cipher = affine_encrypt('CRYPTOLOGY', A, b)\n",
    "print(cipher)"
   ]
  },
  {
   "cell_type": "code",
   "execution_count": 59,
   "metadata": {},
   "outputs": [
    {
     "data": {
      "text/plain": [
       "matrix([[ 8],\n",
       "        [19]])"
      ]
     },
     "execution_count": 59,
     "metadata": {},
     "output_type": "execute_result"
    }
   ],
   "source": [
    "A_inv = np.invert(A)\n",
    "b_inv = A_inv.dot(b)\n",
    "\n",
    "np.mod(A_inv.dot(np.matrix([[13], [5]])) - b_inv, 26)"
   ]
  },
  {
   "cell_type": "code",
   "execution_count": 57,
   "metadata": {},
   "outputs": [
    {
     "data": {
      "text/plain": [
       "5"
      ]
     },
     "execution_count": 57,
     "metadata": {},
     "output_type": "execute_result"
    }
   ],
   "source": [
    "ord('F') - ord('A')"
   ]
  },
  {
   "cell_type": "code",
   "execution_count": 67,
   "metadata": {},
   "outputs": [
    {
     "name": "stdout",
     "output_type": "stream",
     "text": [
      "RRGR\n"
     ]
    }
   ],
   "source": [
    "A = np.matrix([[3, 5], [1, 2]])\n",
    "b = np.matrix([[2], [2]])\n",
    "cipher = affine_encrypt('HELP', A, b)\n",
    "print(cipher)"
   ]
  },
  {
   "cell_type": "code",
   "execution_count": 63,
   "metadata": {},
   "outputs": [
    {
     "data": {
      "text/plain": [
       "matrix([[22, 20],\n",
       "        [24, 23]])"
      ]
     },
     "execution_count": 63,
     "metadata": {},
     "output_type": "execute_result"
    }
   ],
   "source": [
    "A_inv = np.mod(np.invert(A), 26)\n",
    "A_inv"
   ]
  },
  {
   "cell_type": "code",
   "execution_count": 98,
   "metadata": {},
   "outputs": [
    {
     "name": "stdout",
     "output_type": "stream",
     "text": [
      "321 = 2^0 + 2^6 + 2^8\n",
      "271^(2^0) = 271 (mod 481)\n",
      "271^(2^6) = 419 (mod 481)\n",
      "271^(2^8) = 16 (mod 481)\n",
      "271^(321) (mod 481) = 271^(2^0 + 2^6 + 2^8) (mod 481)\n",
      "= 271 * 419 * 16 (mod 481)\n",
      "= 1816784(mod 481) = 47 (mod 481)\n"
     ]
    }
   ],
   "source": [
    "def powers_of_two_mod(base, exp, mod):\n",
    "    current = base\n",
    "    indices = [i for i, x in enumerate(bin(exp)[2:][::-1]) if x == '1']\n",
    "    powers=' + '.join(['2^{ind}'.format(ind=ind) for ind in indices])\n",
    "    print('{exp} = {powers}'.format(exp=exp, powers=powers))\n",
    "    \n",
    "    n = indices[-1]\n",
    "    components = []\n",
    "    if 0 in indices:\n",
    "        print('{base}^(2^{i}) = {current} (mod {mod})'.format(base=base, i=0, current=current, mod=mod))\n",
    "        components.append(current)\n",
    "        \n",
    "    for i in range(n):\n",
    "        current = (current ** 2) % mod\n",
    "        if i + 1 in indices: \n",
    "            print('{base}^(2^{i}) = {current} (mod {mod})'.format(base=base, i=i + 1, current=current, mod=mod))\n",
    "            components.append(current)\n",
    "    \n",
    "    print('{base}^({exp}) (mod {mod}) = {base}^({powers}) (mod {mod})'.format(base=base, exp=exp, mod=mod,\n",
    "                                                      powers=powers))\n",
    "    \n",
    "    print('= {prod} (mod {mod})'.format(base=base, exp=exp, mod=mod,\n",
    "                                                      prod=' * '.join([str(x) for x in components])))\n",
    "    prod = np.product(components)\n",
    "    print('= {prod}(mod {mod}) = {result} (mod {mod})'.format(mod=mod, prod=prod, result=prod%mod))\n",
    "        \n",
    "powers_of_two_mod(271, 321, 481)"
   ]
  },
  {
   "cell_type": "code",
   "execution_count": 95,
   "metadata": {},
   "outputs": [
    {
     "name": "stdout",
     "output_type": "stream",
     "text": [
      "31^(2^0) = 31 (mod 3551)\n",
      "31^(2^2) = 261 (mod 3551)\n",
      "31^(2^4) = 2535 (mod 3551)\n",
      "31^(2^5) = 2466 (mod 3551)\n",
      "31^(2^6) = 1844 (mod 3551)\n",
      "31^(2^9) = 1547 (mod 3551)\n",
      "31^(629) (mod 3551) = 31 * 261 * 2535 * 2466 * 1844 * 1547 (mod 3551)\n",
      "= 144286090952192280(mod 3551) = 2791 (mod 3551)\n"
     ]
    }
   ],
   "source": [
    "powers_of_two_mod(31, 629, 3551)"
   ]
  },
  {
   "cell_type": "code",
   "execution_count": 109,
   "metadata": {},
   "outputs": [
    {
     "name": "stdout",
     "output_type": "stream",
     "text": [
      "1997 = 2^0 + 2^2 + 2^3 + 2^6 + 2^7 + 2^8 + 2^9 + 2^10\n",
      "2791^(2^0) = 2791 (mod 3551)\n",
      "2791^(2^2) = 1255 (mod 3551)\n",
      "2791^(2^3) = 1932 (mod 3551)\n",
      "2791^(2^6) = 3302 (mod 3551)\n",
      "2791^(2^7) = 1634 (mod 3551)\n",
      "2791^(2^8) = 3155 (mod 3551)\n",
      "2791^(2^9) = 572 (mod 3551)\n",
      "2791^(2^10) = 492 (mod 3551)\n",
      "2791^(1997) (mod 3551) = 2791^(2^0 + 2^2 + 2^3 + 2^6 + 2^7 + 2^8 + 2^9 + 2^10) (mod 3551)\n",
      "= 2791 * 1255 * 1932 * 3302 * 1634 * 3155 * 572 * 492 (mod 3551)\n",
      "= 5320094803028514560(mod 3551) = 2804 (mod 3551)\n"
     ]
    }
   ],
   "source": [
    "powers_of_two_mod(2791, 1997, 3551)"
   ]
  },
  {
   "cell_type": "code",
   "execution_count": 4,
   "metadata": {},
   "outputs": [
    {
     "name": "stdout",
     "output_type": "stream",
     "text": [
      "Bézout coefficients: (1997, 263)\n",
      "greatest common divisor: 1\n",
      "quotients by the gcd: (2803, 3432)\n"
     ]
    },
    {
     "data": {
      "text/plain": [
       "1997"
      ]
     },
     "execution_count": 4,
     "metadata": {},
     "output_type": "execute_result"
    }
   ],
   "source": [
    "def extended_gcd(a, b, verbose=True):\n",
    "    s = 0\n",
    "    old_s = 1\n",
    "    t = 1\n",
    "    old_t = 0\n",
    "    r = b\n",
    "    old_r = a\n",
    "    \n",
    "    while r != 0:\n",
    "        q = old_r // r\n",
    "        old_r, r = r, old_r - q * r\n",
    "        old_s, s = s, old_s - q * s\n",
    "        old_t, t = t, old_t - q * t\n",
    "        \n",
    "    if verbose:\n",
    "        print(\"Bézout coefficients:\", (old_s % b, old_t % b))\n",
    "        print(\"greatest common divisor:\", old_r)\n",
    "        print(\"quotients by the gcd:\", (t % b, s))\n",
    "    return old_s % b\n",
    "    \n",
    "extended_gcd(629, 3432)"
   ]
  },
  {
   "cell_type": "code",
   "execution_count": 3,
   "metadata": {},
   "outputs": [
    {
     "name": "stdout",
     "output_type": "stream",
     "text": [
      "Bézout coefficients: (71, 359)\n",
      "greatest common divisor: 1\n",
      "quotients by the gcd: (231, -400)\n"
     ]
    },
    {
     "data": {
      "text/plain": [
       "71"
      ]
     },
     "execution_count": 3,
     "metadata": {},
     "output_type": "execute_result"
    }
   ],
   "source": [
    "extended_gcd(231, 400)"
   ]
  },
  {
   "cell_type": "code",
   "execution_count": 112,
   "metadata": {},
   "outputs": [
    {
     "name": "stdout",
     "output_type": "stream",
     "text": [
      "Bézout coefficients: (2161, 509)\n",
      "greatest common divisor: 1\n",
      "quotients by the gcd: (1019, 2940)\n"
     ]
    }
   ],
   "source": [
    "extended_gcd(1921, 2940)"
   ]
  },
  {
   "cell_type": "code",
   "execution_count": 12,
   "metadata": {},
   "outputs": [
    {
     "data": {
      "text/plain": [
       "{'A': 4,\n",
       " 'B': 0,\n",
       " 'C': 3,\n",
       " 'D': 3,\n",
       " 'E': 26,\n",
       " 'F': 6,\n",
       " 'G': 8,\n",
       " 'H': 12,\n",
       " 'I': 0,\n",
       " 'J': 0,\n",
       " 'K': 12,\n",
       " 'L': 2,\n",
       " 'M': 0,\n",
       " 'N': 1,\n",
       " 'O': 9,\n",
       " 'P': 8,\n",
       " 'Q': 1,\n",
       " 'R': 5,\n",
       " 'S': 0,\n",
       " 'T': 9,\n",
       " 'U': 7,\n",
       " 'V': 12,\n",
       " 'W': 0,\n",
       " 'X': 7,\n",
       " 'Y': 2,\n",
       " 'Z': 3}"
      ]
     },
     "execution_count": 12,
     "metadata": {},
     "output_type": "execute_result"
    }
   ],
   "source": [
    "characters = [chr(x) for x in range(ord('A'), ord('Z') + 1)]\n",
    "cipher = \"\"\"APHUO EGEHP PEXOV FKEUH CKVUE CHKVE APHUO\n",
    "EGEHU EXOVL EXDKT VGEFT EHFKE UHCKF TZEXO\n",
    "VEZDT TVKUE XOVKV ENOHK ZFTEH TEHKQ LEROF\n",
    "PVEHP PEXOV ERYKP GERYT GVKEG XDRTE RGAGA\"\"\"\n",
    "counts = {c: cipher.count(c) for c in characters}\n",
    "counts"
   ]
  },
  {
   "cell_type": "code",
   "execution_count": 6,
   "metadata": {},
   "outputs": [
    {
     "data": {
      "text/plain": [
       "9"
      ]
     },
     "execution_count": 6,
     "metadata": {},
     "output_type": "execute_result"
    }
   ],
   "source": [
    "extended_gcd(3, 26, False)"
   ]
  },
  {
   "cell_type": "code",
   "execution_count": 31,
   "metadata": {},
   "outputs": [
    {
     "data": {
      "text/plain": [
       "'DAMZVXHXMAAXOVECBXZMNBEZXNMBEXDAMZVOXHXMZXOVEGXOSBUEHXCUXMCBXZMNBCUYXOVOEXYSUUEBZXOVEBEXQVMBYCUXMUXMBFGXKVCOAEXMAAXOVEXKTBAHXKTUHEBXHOSKUXKHDHD'"
      ]
     },
     "execution_count": 31,
     "metadata": {},
     "output_type": "execute_result"
    }
   ],
   "source": [
    "mono_encrypt(cipher, 5, 3, n=26)\n"
   ]
  },
  {
   "cell_type": "code",
   "execution_count": 25,
   "metadata": {},
   "outputs": [
    {
     "name": "stdout",
     "output_type": "stream",
     "text": [
      "3\n",
      "5\n",
      "7\n",
      "9\n",
      "11\n",
      "15\n",
      "17\n",
      "19\n",
      "21\n",
      "23\n",
      "25\n"
     ]
    }
   ],
   "source": [
    "def mono_encrypt(plain, a, b, n=26):\n",
    "    plain = plain.upper().replace(' ', '')\n",
    "    plain = [ord(x) - ord('A') for x in plain]\n",
    "    cipher = [((x * a) + b) % n for x in plain]\n",
    "    cipher = [chr(x + ord('A')) for x in cipher]\n",
    "    return ''.join(cipher)\n",
    "\n",
    "def mono_decrypt(cipher, a, b, n=26):\n",
    "    a_inv = extended_gcd(a, 26, False)\n",
    "    b_inv = (- a_inv * b) % n\n",
    "    return mono_encrypt(cipher, a_inv, b_inv)\n",
    "\n",
    "def score(proposal):\n",
    "    #characters = [chr(x) for x in range(ord('A'), ord('Z') + 1)]\n",
    "#     characters = ['E', 'T', 'A', 'O', 'I']\n",
    "#     return sum([proposal.count(c) for c in characters])\n",
    "    return proposal.count('THE')\n",
    "\n",
    "results = defaultdict(list)\n",
    "\n",
    "for a in [3, 5, 7, 9, 11, 15, 17, 19, 21, 23, 25]:\n",
    "    print(a)\n",
    "    for b in range(1, 26):\n",
    "        plain = mono_decrypt(cipher, a, b)\n",
    "        results[score(plain)].append((a, b, plain))\n"
   ]
  },
  {
   "cell_type": "code",
   "execution_count": 26,
   "metadata": {},
   "outputs": [
    {
     "data": {
      "text/plain": [
       "1"
      ]
     },
     "execution_count": 26,
     "metadata": {},
     "output_type": "execute_result"
    }
   ],
   "source": [
    "max(results.keys())"
   ]
  },
  {
   "cell_type": "code",
   "execution_count": 27,
   "metadata": {},
   "outputs": [
    {
     "data": {
      "text/plain": [
       "[(19,\n",
       "  13,\n",
       "  'NWMZLFBFMWWFGLKQTFZMJTKZFJMTKFNWMZLGFBFMZFGLKEFGUTOKBFQOFMQTFZMJTQOCFGLGKFCUOOKTZFGLKTKFALMTCQOFMOFMTHEFSLQGWKFMWWFGLKFSRTWBFSROBKTFBGUSOFSBNBN')]"
      ]
     },
     "execution_count": 27,
     "metadata": {},
     "output_type": "execute_result"
    }
   ],
   "source": [
    "results[1]"
   ]
  },
  {
   "cell_type": "code",
   "execution_count": 21,
   "metadata": {},
   "outputs": [
    {
     "data": {
      "text/plain": [
       "2"
      ]
     },
     "execution_count": 21,
     "metadata": {},
     "output_type": "execute_result"
    }
   ],
   "source": [
    "s = 'ABCTHEFKXTHE'\n",
    "s.count('THE')"
   ]
  },
  {
   "cell_type": "code",
   "execution_count": null,
   "metadata": {
    "collapsed": true
   },
   "outputs": [],
   "source": []
  }
 ],
 "metadata": {
  "kernelspec": {
   "display_name": "Python 3",
   "language": "python",
   "name": "python3"
  },
  "language_info": {
   "codemirror_mode": {
    "name": "ipython",
    "version": 3
   },
   "file_extension": ".py",
   "mimetype": "text/x-python",
   "name": "python",
   "nbconvert_exporter": "python",
   "pygments_lexer": "ipython3",
   "version": "3.6.3"
  }
 },
 "nbformat": 4,
 "nbformat_minor": 2
}
