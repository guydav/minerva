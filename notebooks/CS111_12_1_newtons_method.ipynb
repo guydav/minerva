{
 "cells": [
  {
   "cell_type": "code",
   "execution_count": 1,
   "metadata": {
    "collapsed": true
   },
   "outputs": [],
   "source": [
    "%matplotlib inline"
   ]
  },
  {
   "cell_type": "code",
   "execution_count": 2,
   "metadata": {
    "collapsed": true
   },
   "outputs": [],
   "source": [
    "import pandas\n",
    "import numpy as np\n",
    "import matplotlib\n",
    "import matplotlib.pyplot as plt"
   ]
  },
  {
   "cell_type": "code",
   "execution_count": 6,
   "metadata": {
    "collapsed": false
   },
   "outputs": [
    {
     "name": "stdout",
     "output_type": "stream",
     "text": [
      "(1.1461932587044987, 8.1735445078834346e-08, 2.1461933404399436)\n"
     ]
    }
   ],
   "source": [
    "DEFAULT_THRESHOLD = 10 ** -5\n",
    "DEFAULT_NUM_ITERATIONS = 1000\n",
    "\n",
    "def newtons_method(f, f_prime, x_0, threshold=DEFAULT_THRESHOLD, \n",
    "                   iterations=DEFAULT_NUM_ITERATIONS):\n",
    "    x = float(x_0)\n",
    "    i = 0\n",
    "    \n",
    "    while (abs(f(x)) > threshold) and (i < DEFAULT_NUM_ITERATIONS):\n",
    "        x -= (float(f(x)) / float(f_prime(x)))\n",
    "        i += 1\n",
    "    \n",
    "    if i == iterations:\n",
    "        print 'Reached max iterations'\n",
    "        \n",
    "    else:\n",
    "        return x, f(x), f_prime(x)\n",
    "\n",
    "\"\"\"\n",
    "print newtons_method(lambda x: x ** 3 - 7, lambda x: 3 * x ** 2, 2.0)\n",
    "print newtons_method(lambda x: x - np.cos(x), lambda x: 1 + np.sin(x), 0.7)\n",
    "print newtons_method(lambda x: (x <= 0.5) and (2 * x) or (2 - 2 * x),\n",
    "                     lambda x: (x <= 0.5) and (2) or (-2), 0.11)\n",
    "\"\"\"\n",
    "print newtons_method(lambda x: np.exp(x) - x - 2, lambda x: np.exp(x) - 1, 1.0)\n"
   ]
  },
  {
   "cell_type": "code",
   "execution_count": 6,
   "metadata": {
    "collapsed": false
   },
   "outputs": [
    {
     "data": {
      "text/plain": [
       "0.73884840415402631"
      ]
     },
     "execution_count": 6,
     "metadata": {},
     "output_type": "execute_result"
    }
   ],
   "source": [
    "np.cos(0.7394364978480582)"
   ]
  },
  {
   "cell_type": "code",
   "execution_count": null,
   "metadata": {
    "collapsed": true
   },
   "outputs": [],
   "source": [
    "np"
   ]
  }
 ],
 "metadata": {
  "kernelspec": {
   "display_name": "Python 2",
   "language": "python",
   "name": "python2"
  },
  "language_info": {
   "codemirror_mode": {
    "name": "ipython",
    "version": 2
   },
   "file_extension": ".py",
   "mimetype": "text/x-python",
   "name": "python",
   "nbconvert_exporter": "python",
   "pygments_lexer": "ipython2",
   "version": "2.7.10"
  }
 },
 "nbformat": 4,
 "nbformat_minor": 0
}
