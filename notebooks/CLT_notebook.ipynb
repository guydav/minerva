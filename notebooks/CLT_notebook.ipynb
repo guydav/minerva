{
 "cells": [
  {
   "cell_type": "code",
   "execution_count": 13,
   "metadata": {},
   "outputs": [
    {
     "name": "stdout",
     "output_type": "stream",
     "text": [
      "Creating a (pseudo)-random population distribution.\n",
      "Enter a population size (between 1 and 10^6): 10000\n",
      "\n",
      "The population mean is: 5.083\n",
      "The population standard deviation is: 1014.512\n",
      "Here's what the population distribution looks like.\n"
     ]
    },
    {
     "data": {
      "image/png": "[encoded data removed]"
     },
     "output_type": "display_data",
     "metadata": {}
    },
    {
     "name": "stdout",
     "output_type": "stream",
     "text": [
      "Enter the sample size (drawn with replacement from the population, between 1 and 10^6): 100\n",
      "Enter the requisite confidence interval alpha to evaluate as a decimal, between 0 and 0.999999: 0.8\n",
      "Enter the number of times to repeat the experiment (between 1 and 10^6): 100\n"
     ]
    },
    {
     "name": "stderr",
     "output_type": "stream",
     "text": [
      "                                       "
     ]
    },
    {
     "name": "stdout",
     "output_type": "stream",
     "text": [
      "The mean of the sample means is: 8.914\n",
      "Here's what the sample mean distribution looks like.\n"
     ]
    },
    {
     "name": "stderr",
     "output_type": "stream",
     "text": [
      "\r"
     ]
    },
    {
     "data": {
      "image/png": "[encoded data removed]"
     },
     "output_type": "display_data",
     "metadata": {}
    },
    {
     "name": "stdout",
     "output_type": "stream",
     "text": [
      "2.a/Challenge.1) After drawing 100 samples of size 100, the approx. standard error of the sampling distribution are:\n",
      "--------------------------------------------  -------\n",
      "Approximation from sample mean distribution   107.08\n",
      "Average of sample standard errors             103.266\n",
      "Population std deviation / sqrt(sample size)  101.451\n",
      "--------------------------------------------  -------\n",
      "\n",
      "2.b) In these samples, the 80.00% confidence interval captured the population mean 77 times, which is 77.00% of the procedures\n",
      "\n",
      "Challenge.3.i) The minimal interval (max lower, min upper) is (211.348, -76.807).\n",
      "It failed to capture the population mean (5.083), and it is empty.\n",
      "\n",
      "Chanllenge.3.ii) The maximal interval (min lower, max upper) is (-342.243, 486.948).\n",
      "It captured the population mean (5.083).\n",
      "Perform sampling procedure again? Note that if no, then the population distribution will be lost.\n",
      "y / n: n\n"
     ]
    }
   ],
   "source": [
    "# Code for the Sampling / RTTM / Confidence Intervals Assignment\n",
    "# Adapted from CLT.py provded for FA 2.03.1\n",
    "\n",
    "\n",
    "%matplotlib inline\n",
    "import numpy as np\n",
    "import random\n",
    "import matplotlib.pyplot as plt\n",
    "from scipy import stats\n",
    "import re\n",
    "from tqdm import tqdm\n",
    "from tabulate import tabulate\n",
    "\n",
    "\n",
    "DECIMAL_NUMBER_PATTERN = '^[\\d\\.]+$'\n",
    "\n",
    "\n",
    "def create_uniform_population(size, size_multiplier=1000):\n",
    "    return size_multiplier * np.random.random_sample((size, ))\n",
    "\n",
    "\n",
    "def create_beta_population(size, size_multiplier=1000, a=0.5, b=0.5):\n",
    "    return size_multiplier * np.random.beta(a, b, (size, ))\n",
    "\n",
    "\n",
    "def create_normal_population(size, mean=0, std_dev=1, size_multiplier=1000):\n",
    "    return size_multiplier * np.random.normal(mean, std_dev, size)\n",
    "    \n",
    "\n",
    "def graph_distribution(distribution, name):\n",
    "    plt.hist(distribution)\n",
    "    plt.title(name)\n",
    "    plt.show()\n",
    "\n",
    "    \n",
    "def sample_procedure(population, sample_size, alpha):\n",
    "    population_mean = np.mean(population)\n",
    "    \n",
    "    sample_repeats = read_number_from_user(\"Enter the number of times to repeat the experiment (between 1 and 10^6): \", int, 1, 10**6)\n",
    "    sample_means = []\n",
    "    sample_std_errors = []\n",
    "    ci_capture_count = 0\n",
    "    \n",
    "    min_lower_bound = None\n",
    "    max_lower_bound = None\n",
    "    min_upper_bound = None\n",
    "    max_upper_bound = None\n",
    "    \n",
    "    for _ in tqdm(xrange(sample_repeats)):\n",
    "        sample = np.random.choice(population, (sample_size, ))\n",
    "        sample_mean = np.mean(sample)\n",
    "        sample_means.append(sample_mean)\n",
    "        \n",
    "        sample_std_error = np.std(sample, ddof=1) / (sample_size ** 0.5) # ddof=1 applies Bessel's correction\n",
    "        sample_std_errors.append(sample_std_error)\n",
    "        \n",
    "        lower_bound, upper_bound = stats.t.interval(alpha, sample_size - 1, sample_mean, sample_std_error)\n",
    "        if lower_bound <= population_mean <= upper_bound:\n",
    "            ci_capture_count += 1\n",
    "            \n",
    "        if not min_lower_bound or lower_bound < min_lower_bound:\n",
    "            min_lower_bound = lower_bound\n",
    "        if not max_lower_bound or lower_bound > max_lower_bound:\n",
    "            max_lower_bound = lower_bound\n",
    "        \n",
    "        if not min_upper_bound or upper_bound < min_upper_bound:\n",
    "            min_upper_bound = upper_bound\n",
    "        if not max_upper_bound or upper_bound > max_upper_bound:\n",
    "            max_upper_bound = upper_bound\n",
    "    \n",
    "    print \"The mean of the sample means is: {mean:.3f}\".format(mean=np.mean(sample_means))\n",
    "    print \"Here's what the sample mean distribution looks like.\"\n",
    "    graph_distribution(sample_means, 'Sample Means')\n",
    "    \n",
    "    se_mean_output = \"2.a/Challenge.1) After drawing {repeats} samples of size {sample_size}, the approx. standard error of the sampling distribution are:\"\n",
    "    se_mean_approximations = [('Approximation from sample mean distribution', np.std(sample_means, ddof=1)), # correcting as we're approximating from a sample\n",
    "                              ('Average of sample standard errors', np.mean(sample_std_errors)),\n",
    "                              ('Population std deviation / sqrt(sample size)', np.std(population) / (sample_size ** 0.5))]\n",
    "    print se_mean_output.format(repeats=sample_repeats, sample_size=sample_size)\n",
    "    print tabulate(se_mean_approximations)\n",
    "    \n",
    "    ci_output = \"\\n2.b) In these samples, the {alpha_percent:.2f}% confidence interval captured \" +\\\n",
    "                \"the population mean {capture_count} times, which is {capture_percent:.2f}% of the procedures\"\n",
    "    print ci_output.format(alpha_percent=alpha*100, capture_count=ci_capture_count, capture_percent=float(ci_capture_count)*100/sample_repeats)\n",
    "    \n",
    "    challenge_output = '\\nChallenge.3.i) The minimal interval (max lower, min upper) is ({max_lower:.3f}, {min_upper:.3f}).\\n' +\\\n",
    "                    'It {capture} the population mean ({pop_mean:.3f}), and it is {empty}.'\n",
    "    capture = (max_lower_bound <= population_mean <= min_upper_bound) and 'captured' or 'failed to capture'\n",
    "    empty = (max_lower_bound < min_upper_bound) and 'not empty, and has a range of {range}'.format(range=min_upper_bound - max_lower_bound) or 'empty'\n",
    "    print challenge_output.format(max_lower=max_lower_bound, min_upper=min_upper_bound, capture=capture, empty=empty, pop_mean = population_mean)\n",
    "    \n",
    "    more_challenge = '\\nChanllenge.3.ii) The maximal interval (min lower, max upper) is ({min_lower:.3f}, {max_upper:.3f}).\\n' +\\\n",
    "                    'It {capture} the population mean ({pop_mean:.3f}).'\n",
    "    capture = (min_lower_bound <= population_mean <= max_upper_bound) and 'captured' or 'failed to capture'\n",
    "    print more_challenge.format(min_lower=min_lower_bound, max_upper=max_upper_bound, capture=capture, pop_mean=population_mean)\n",
    "    \n",
    "    \n",
    "#####################################\n",
    "\n",
    "\n",
    "def read_number_from_user(prompt, type_func, min_value, max_value):\n",
    "    value = min_value - 1\n",
    "    while not (min_value <= value <= max_value):\n",
    "        raw_value = raw_input(prompt)\n",
    "        if re.match(DECIMAL_NUMBER_PATTERN, raw_value):\n",
    "            value = type_func(raw_value)\n",
    "        \n",
    "    return value\n",
    "\n",
    "\n",
    "def read_letter_from_user(prompt, options):\n",
    "    letter = ''\n",
    "    while not letter in options:\n",
    "        letter = raw_input(prompt).strip().lower()\n",
    "        \n",
    "    return letter\n",
    "\n",
    "\n",
    "def main():\n",
    "    print \"Creating a (pseudo)-random population distribution.\"\n",
    "    population_size = read_number_from_user(\"Enter a population size (between 1 and 10^6): \", int, 1, 10**6)\n",
    "    population = create_normal_population(population_size)\n",
    "#     population = create_uniform_population(population_size)\n",
    "#     population = create_beta_population(population_size)\n",
    "\n",
    "    print\n",
    "    print \"The population mean is: {mean:.3f}\".format(mean=np.mean(population))\n",
    "    print \"The population standard deviation is: {stddev:.3f}\".format(stddev=np.std(population)) \n",
    "    print \"Here's what the population distribution looks like.\"\n",
    "    graph_distribution(population, 'Population Distribution')\n",
    "\n",
    "    sample_size = read_number_from_user(\"Enter the sample size (drawn with replacement from the population, between 1 and 10^6): \", int, 1, 10**6)\n",
    "    alpha = read_number_from_user(\"Enter the requisite confidence interval alpha to evaluate as a decimal, between 0 and 0.999999: \", float, 0, 0.999999)\n",
    "    continue_sampling = True\n",
    "\n",
    "    while continue_sampling:\n",
    "        sample_procedure(population, sample_size, alpha)\n",
    "        print \"Perform sampling procedure again? Note that if no, then the population distribution will be lost.\"\n",
    "        decision = read_letter_from_user(\"y / n: \", ('y', 'n'))\n",
    "        continue_sampling = (decision == 'y')\n",
    "        \n",
    "main()"
   ]
  },
  {
   "cell_type": "code",
   "execution_count": null,
   "metadata": {},
   "outputs": [],
   "source": [
    ""
   ]
  }
 ],
 "metadata": {
  "kernelspec": {
   "display_name": "Python 2",
   "language": "python",
   "name": "python2"
  }
 },
 "nbformat": 4,
 "nbformat_minor": 0
}