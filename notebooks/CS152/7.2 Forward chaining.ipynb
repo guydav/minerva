{
 "cells": [
  {
   "cell_type": "code",
   "execution_count": 1,
   "metadata": {
    "collapsed": true
   },
   "outputs": [],
   "source": [
    "%matplotlib inline"
   ]
  },
  {
   "cell_type": "code",
   "execution_count": 5,
   "metadata": {
    "collapsed": true
   },
   "outputs": [],
   "source": [
    "import numpy as np\n",
    "from collections import defaultdict"
   ]
  },
  {
   "cell_type": "code",
   "execution_count": 6,
   "metadata": {
    "collapsed": true
   },
   "outputs": [],
   "source": [
    "class Symbol:\n",
    "    def __init__(self, symbol, value=None):\n",
    "        self.symbol = symbol\n",
    "        self.value = value\n",
    "        \n",
    "    def __eq__(self, other):\n",
    "        return self.symbol == other.symbol\n",
    "        \n",
    "class DefiniteClause:\n",
    "    def __init__(self, premise, conclusion):\n",
    "        self.premise = premise\n",
    "        self.conclusion = conclusion\n",
    "        \n",
    "    def __hash__(self):\n",
    "        return hash(tuple(sorted(self.premise)))\n"
   ]
  },
  {
   "cell_type": "code",
   "execution_count": 7,
   "metadata": {
    "collapsed": true
   },
   "outputs": [],
   "source": [
    "def forward_chaining_entails(knowledge_base, query):\n",
    "    count = {clause: len(clause.premise) for clause in knowledge_base}\n",
    "    inferred = defaultdict(False)\n",
    "    \n",
    "    symbols_to_clauses = defaultdict(set)\n",
    "    for clause in knowledge_base:\n",
    "        for symbol in premise:\n",
    "            symbols_to_clauses[symbol].add(clause)\n",
    "    \n",
    "    agenda = []\n",
    "    for clause in knowledge_base:\n",
    "        if len(clause.premise) == 1:\n",
    "            agenda.append(clause.premise.copy().pop())\n",
    "            \n",
    "    while len(agenda):\n",
    "        current = agenda.pop()\n",
    "        # slightly changed form the pseudocode in Russel & Norwig\n",
    "        for clause in symbols_to_clauses[currnet]:\n",
    "            count[clause] -= 1\n",
    "            if 0 == count[clause] and not inferred[clause.conlusion]:\n",
    "                inferred[current] = True\n",
    "                if clause.conclusion == query:\n",
    "                    return True\n",
    "                    \n",
    "                agenda.append(clause.conclusion)\n",
    "        \n",
    "    return False"
   ]
  },
  {
   "cell_type": "code",
   "execution_count": null,
   "metadata": {
    "collapsed": true
   },
   "outputs": [],
   "source": []
  }
 ],
 "metadata": {
  "kernelspec": {
   "display_name": "Python 3",
   "language": "python",
   "name": "python3"
  },
  "language_info": {
   "codemirror_mode": {
    "name": "ipython",
    "version": 3
   },
   "file_extension": ".py",
   "mimetype": "text/x-python",
   "name": "python",
   "nbconvert_exporter": "python",
   "pygments_lexer": "ipython3",
   "version": "3.6.2"
  }
 },
 "nbformat": 4,
 "nbformat_minor": 2
}
