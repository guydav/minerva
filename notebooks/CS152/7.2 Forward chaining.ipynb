{
 "cells": [
  {
   "cell_type": "code",
   "execution_count": 1,
   "metadata": {
    "collapsed": true
   },
   "outputs": [],
   "source": [
    "%matplotlib inline"
   ]
  },
  {
   "cell_type": "code",
   "execution_count": 8,
   "metadata": {
    "collapsed": true
   },
   "outputs": [],
   "source": [
    "import numpy as np\n",
    "from collections import defaultdict\n",
    "from functools import total_ordering"
   ]
  },
  {
   "cell_type": "code",
   "execution_count": 13,
   "metadata": {
    "collapsed": true
   },
   "outputs": [],
   "source": [
    "@total_ordering\n",
    "class Symbol:\n",
    "    def __init__(self, symbol, value=None):\n",
    "        self.symbol = symbol\n",
    "        self.negated = value\n",
    "        \n",
    "    def __hash__(self):\n",
    "        return hash(self.symbol)\n",
    "        \n",
    "    def __eq__(self, other):\n",
    "        return self.symbol == other.symbol\n",
    "    \n",
    "    def __lt__(self, other):\n",
    "        return self.symbol < other.symbol\n",
    "        \n",
    "class DefiniteClause:\n",
    "    def __init__(self, conclusion, premise):\n",
    "        if type(conclusion) is not Symbol:\n",
    "            conclusion = Symbol(conclusion)\n",
    "\n",
    "        self.conclusion = conclusion\n",
    "        self.premise = set([p if type(p) == Symbol else Symbol(p) for p in premise])\n",
    "        \n",
    "    def __hash__(self):\n",
    "        return hash(tuple(sorted(self.premise)))\n"
   ]
  },
  {
   "cell_type": "code",
   "execution_count": 19,
   "metadata": {},
   "outputs": [],
   "source": [
    "def forward_chaining_entails(knowledge_base, query=None):\n",
    "    count = {clause: len(clause.premise) for clause in knowledge_base}\n",
    "    inferred = defaultdict(lambda: False)\n",
    "    \n",
    "    symbols_to_clauses = defaultdict(set)\n",
    "    for clause in knowledge_base:\n",
    "        for symbol in clause.premise:\n",
    "            symbols_to_clauses[symbol].add(clause)\n",
    "    \n",
    "    agenda = []\n",
    "    for clause in knowledge_base:\n",
    "        if 0 == len(clause.premise):\n",
    "            agenda.append(clause.conclusion)\n",
    "            \n",
    "    while len(agenda):\n",
    "        current = agenda.pop()\n",
    "        # slightly changed form the pseudocode in Russell & Norwig\n",
    "        for clause in symbols_to_clauses[currnet]:\n",
    "            count[clause] -= 1\n",
    "            if 0 == count[clause] and not inferred[clause.conlusion]:\n",
    "                inferred[current] = True\n",
    "                if query and clause.conclusion == query:\n",
    "                    return True\n",
    "                    \n",
    "                agenda.append(clause.conclusion)\n",
    "        \n",
    "    return inferred"
   ]
  },
  {
   "cell_type": "code",
   "execution_count": 20,
   "metadata": {},
   "outputs": [
    {
     "data": {
      "text/plain": [
       "defaultdict(<function __main__.forward_chaining_entails.<locals>.<lambda>>, {})"
      ]
     },
     "execution_count": 20,
     "metadata": {},
     "output_type": "execute_result"
    }
   ],
   "source": [
    "knowledge_base = [\n",
    "    DefiniteClause(\"A\", [\"B\", \"C\"]),\n",
    "    DefiniteClause(\"B\", [\"D\"]),\n",
    "    DefiniteClause(\"B\", [\"E\"]),\n",
    "    DefiniteClause(\"D\", [\"H\"]),\n",
    "    DefiniteClause(\"F\", [\"G\", \"B\"]),\n",
    "    DefiniteClause(\"G\", [\"C\", \"K\"]),\n",
    "    DefiniteClause(\"J\", [\"A\",\"B\"])\n",
    "]\n",
    "\n",
    "forward_chaining_entails(knowledge_base)"
   ]
  },
  {
   "cell_type": "code",
   "execution_count": null,
   "metadata": {
    "collapsed": true
   },
   "outputs": [],
   "source": []
  }
 ],
 "metadata": {
  "kernelspec": {
   "display_name": "Python 3",
   "language": "python",
   "name": "python3"
  },
  "language_info": {
   "codemirror_mode": {
    "name": "ipython",
    "version": 3
   },
   "file_extension": ".py",
   "mimetype": "text/x-python",
   "name": "python",
   "nbconvert_exporter": "python",
   "pygments_lexer": "ipython3",
   "version": "3.6.2"
  }
 },
 "nbformat": 4,
 "nbformat_minor": 2
}
