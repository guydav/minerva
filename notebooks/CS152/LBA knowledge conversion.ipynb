{
 "cells": [
  {
   "cell_type": "code",
   "execution_count": null,
   "metadata": {
    "collapsed": true
   },
   "outputs": [],
   "source": [
    "%matplotlib inline"
   ]
  },
  {
   "cell_type": "code",
   "execution_count": null,
   "metadata": {
    "collapsed": true
   },
   "outputs": [],
   "source": [
    "import pandas\n",
    "import numpy as np\n",
    "import matplotlib\n",
    "import matplotlib.pyplot as plt\n",
    "import matplotlib.gridspec as gridspec\n",
    "from mpl_toolkits.axes_grid1 import ImageGrid\n",
    "from mpl_toolkits.mplot3d import Axes3D\n",
    "import sklearn\n",
    "from datetime import datetime, date\n",
    "from sklearn_pandas import DataFrameMapper\n",
    "import warnings\n",
    "import timeit\n",
    "from collections import defaultdict, OrderedDict\n",
    "import tabulate\n",
    "import time\n",
    "import glob\n",
    "\n",
    "\n",
    "timeit.template = \"\"\"\n",
    "def inner(_it, _timer{init}):\n",
    "    {setup}\n",
    "    _t0 = _timer()\n",
    "    for _i in _it:\n",
    "        retval = {stmt}\n",
    "    _t1 = _timer()\n",
    "    return _t1 - _t0, retval\n",
    "\"\"\"\n",
    "\n",
    "matplotlib.style.use('ggplot')\n",
    "\n",
    "RANDOM_SEED = 33"
   ]
  },
  {
   "cell_type": "markdown",
   "metadata": {},
   "source": [
    "## Read the CSV, parse the 24/7 and late fields into a single field"
   ]
  },
  {
   "cell_type": "code",
   "execution_count": null,
   "metadata": {
    "collapsed": true
   },
   "outputs": [],
   "source": [
    "restaurants = pandas.read_csv('restaurant_database.csv')\n",
    "\n",
    "restaurants['open'] = ['24/7' if value == 'yes' else 'early' for value in restaurants['24/7?']]\n",
    "restaurants['open'] = ['late' if (current == 'early' and 'open_late' == 'yes') else 'current'\n",
    "                       for current, open_late \n",
    "                       in zip(restaurants['open'], restaurants['Open late (after 10pm)'])]"
   ]
  },
  {
   "cell_type": "code",
   "execution_count": null,
   "metadata": {
    "collapsed": true
   },
   "outputs": [],
   "source": [
    "def sanitze_to_atom(name):\n",
    "    return name.lower().replace(' ', '_').replace('-', '_').replace('?', '').replace(',', '')\n",
    "\n",
    "\n",
    "BOOLEAN_AFFIRMATIVE_NAME = {\n",
    "    'coffee': 'served',\n",
    "    'alcohol': 'served',\n",
    "    'vegeterian': 'friendly',\n",
    "    'pescaterian': 'friendly',\n",
    "    'take_away': 'offered'\n",
    "}\n",
    "\n",
    "\n",
    "COLUMNS_TO_IGNORE = (\n",
    "    'Name', 'Address', 'Open late (after 10pm)', '24/7?'\n",
    ")\n",
    "\n",
    "\n",
    "class BooleanTransformer:\n",
    "    def __init__(self, col_atom):\n",
    "        self.col_atom = col_atom\n",
    "        \n",
    "    def __call__(self, value):\n",
    "        transformed = '{name}({value})'.format(name=self.col_atom, \n",
    "                                               value=BOOLEAN_AFFIRMATIVE_NAME[self.col_atom])\n",
    "                \n",
    "        if value in ('yes', 'y', 'True', 'true', True):\n",
    "            return transformed \n",
    "\n",
    "        return 'not({t})'.format(t=transformed)\n",
    "\n",
    "    \n",
    "class MultivaluedTransformer:\n",
    "    def __init__(self, col_atom):\n",
    "        self.col_atom = col_atom\n",
    "        \n",
    "    def __call__(self, value):\n",
    "        return '{name}({value})'.format(name=self.col_atom, \n",
    "                                        value=sanitze_to_atom(value))\n",
    "\n",
    "    \n",
    "def build_transformers(knowledge_base):\n",
    "    transformers = {}\n",
    "    multivalued = []\n",
    "    \n",
    "    for column in knowledge_base.columns:\n",
    "        if column in COLUMNS_TO_IGNORE:\n",
    "            continue\n",
    "        \n",
    "        column_atom = sanitze_to_atom(column)\n",
    "        if column_atom in BOOLEAN_AFFIRMATIVE_NAME:\n",
    "            transformers[column] = BooleanTransformer(column_atom)\n",
    "            \n",
    "        else:\n",
    "            transformers[column] = MultivaluedTransformer(column_atom)\n",
    "            multivalued.append(column)\n",
    "            \n",
    "    return transformers, multivalued\n",
    "\n",
    "\n",
    "INFORMATIVE_FIELDS = ('Name', 'Address', 'Neighborhood')\n",
    "            \n",
    "    \n",
    "def transform_kb(knowledge_base):\n",
    "    transformers, multivalued = build_transformers(knowledge_base)\n",
    "    restaurants = {}\n",
    "    output = []\n",
    "    \n",
    "    for rest_id, rest_row in knowledge_base.iterrows():\n",
    "        transformed_values = [transformers[col](rest_row[col]) for col in transformers]\n",
    "        output.append('suggest(rest_{id}) :- {cond}.'.format(id=rest_id, \n",
    "                                                             cond=', '.join(transformed_values)))\n",
    "        \n",
    "        restaurants['rest_{id}'.format(id=rest_id)] = {field: rest_row[field] \n",
    "                                                       for field in INFORMATIVE_FIELDS}\n",
    "    \n",
    "    output.append('')\n",
    "    for col in transformers:\n",
    "        col_atom = sanitze_to_atom(col)\n",
    "        output.append('{col}(X) :- ask({col}, X).'.format(col=col_atom))\n",
    "    \n",
    "    output.append('')\n",
    "    output.extend(['multivalued({col}).'.format(col=sanitze_to_atom(col)) for col in multivalued])\n",
    "    \n",
    "    return output, restaurants\n",
    "    \n",
    "        "
   ]
  },
  {
   "cell_type": "code",
   "execution_count": null,
   "metadata": {
    "collapsed": true,
    "scrolled": true
   },
   "outputs": [],
   "source": [
    "output, rests = transform_kb(restaurants)"
   ]
  },
  {
   "cell_type": "code",
   "execution_count": null,
   "metadata": {
    "collapsed": true
   },
   "outputs": [],
   "source": [
    "print('\\n'.join(output))"
   ]
  },
  {
   "cell_type": "code",
   "execution_count": null,
   "metadata": {
    "collapsed": true
   },
   "outputs": [],
   "source": [
    "rests"
   ]
  },
  {
   "cell_type": "code",
   "execution_count": 2,
   "metadata": {
    "collapsed": true
   },
   "outputs": [],
   "source": [
    "KB = \"\"\"\n",
    "% Enter your KB below this line:\n",
    "\n",
    ":- dynamic(known/3). \n",
    "\n",
    "suggest(rest_0) :- neighborhood(gangnam), cuisine_type(japanese), not(coffee(served)), alcohol(served), price_range(7500_15000), not(vegeterian(friendly)), pescaterian(friendly), not(take_away(offered)), open(current).\n",
    "suggest(rest_1) :- neighborhood(gangnam), cuisine_type(korean), not(coffee(served)), not(alcohol(served)), price_range(5000_7500), vegeterian(friendly), pescaterian(friendly), take_away(offered), open(current).\n",
    "suggest(rest_2) :- neighborhood(gangnam), cuisine_type(taiwanese), not(coffee(served)), alcohol(served), price_range(15000_25000), not(vegeterian(friendly)), pescaterian(friendly), not(take_away(offered)), open(current).\n",
    "suggest(rest_3) :- neighborhood(gangnam), cuisine_type(korean), not(coffee(served)), not(alcohol(served)), price_range(5000_7500), not(vegeterian(friendly)), not(pescaterian(friendly)), take_away(offered), open(current).\n",
    "suggest(rest_4) :- neighborhood(gangnam), cuisine_type(korean), not(coffee(served)), alcohol(served), price_range(7500_15000), not(vegeterian(friendly)), not(pescaterian(friendly)), not(take_away(offered)), open(current).\n",
    "suggest(rest_5) :- neighborhood(gangnam), cuisine_type(italian), coffee(served), alcohol(served), price_range(15000_25000), vegeterian(friendly), pescaterian(friendly), not(take_away(offered)), open(current).\n",
    "suggest(rest_6) :- neighborhood(gangnam), cuisine_type(korean), coffee(served), not(alcohol(served)), price_range(7500_15000), vegeterian(friendly), not(pescaterian(friendly)), not(take_away(offered)), open(current).\n",
    "suggest(rest_7) :- neighborhood(gangnam), cuisine_type(breakfast), coffee(served), alcohol(served), price_range(7500_15000), vegeterian(friendly), pescaterian(friendly), not(take_away(offered)), open(current).\n",
    "suggest(rest_8) :- neighborhood(gangnam), cuisine_type(vietnamese), not(coffee(served)), alcohol(served), price_range(7500_15000), vegeterian(friendly), not(pescaterian(friendly)), not(take_away(offered)), open(current).\n",
    "suggest(rest_9) :- neighborhood(gangnam), cuisine_type(vietnamese), not(coffee(served)), alcohol(served), price_range(7500_15000), vegeterian(friendly), not(pescaterian(friendly)), not(take_away(offered)), open(current).\n",
    "suggest(rest_10) :- neighborhood(gangnam), cuisine_type(korean), not(coffee(served)), not(alcohol(served)), price_range(7500_15000), not(vegeterian(friendly)), not(pescaterian(friendly)), not(take_away(offered)), open(current).\n",
    "suggest(rest_11) :- neighborhood(gangnam), cuisine_type(japanese), not(coffee(served)), not(alcohol(served)), price_range(5000_7500), vegeterian(friendly), not(pescaterian(friendly)), take_away(offered), open(current).\n",
    "suggest(rest_12) :- neighborhood(gangnam), cuisine_type(vietnamese), not(coffee(served)), not(alcohol(served)), price_range(5000_7500), not(vegeterian(friendly)), not(pescaterian(friendly)), take_away(offered), open(current).\n",
    "suggest(rest_13) :- neighborhood(gangnam), cuisine_type(japanese), not(coffee(served)), alcohol(served), price_range(25000+), vegeterian(friendly), not(pescaterian(friendly)), not(take_away(offered)), open(current).\n",
    "suggest(rest_14) :- neighborhood(gangnam), cuisine_type(american), coffee(served), alcohol(served), price_range(7500_15000), not(vegeterian(friendly)), not(pescaterian(friendly)), take_away(offered), open(current).\n",
    "suggest(rest_15) :- neighborhood(gangnam), cuisine_type(japanese), not(coffee(served)), alcohol(served), price_range(7500_15000), vegeterian(friendly), pescaterian(friendly), take_away(offered), open(current).\n",
    "suggest(rest_16) :- neighborhood(gangnam), cuisine_type(japanese), not(coffee(served)), not(alcohol(served)), price_range(7500_15000), vegeterian(friendly), pescaterian(friendly), take_away(offered), open(current).\n",
    "suggest(rest_17) :- neighborhood(gangnam), cuisine_type(american), coffee(served), not(alcohol(served)), price_range(7500_15000), vegeterian(friendly), pescaterian(friendly), take_away(offered), open(current).\n",
    "suggest(rest_18) :- neighborhood(gangnam), cuisine_type(american), coffee(served), not(alcohol(served)), price_range(7500_15000), not(vegeterian(friendly)), pescaterian(friendly), take_away(offered), open(current).\n",
    "suggest(rest_19) :- neighborhood(gangnam), cuisine_type(korean), not(coffee(served)), alcohol(served), price_range(7500_15000), not(vegeterian(friendly)), not(pescaterian(friendly)), take_away(offered), open(current).\n",
    "suggest(rest_20) :- neighborhood(gangnam), cuisine_type(chinese), not(coffee(served)), alcohol(served), price_range(7500_15000), vegeterian(friendly), pescaterian(friendly), take_away(offered), open(current).\n",
    "suggest(rest_21) :- neighborhood(gangnam), cuisine_type(korean), not(coffee(served)), alcohol(served), price_range(7500_15000), not(vegeterian(friendly)), pescaterian(friendly), take_away(offered), open(current).\n",
    "suggest(rest_22) :- neighborhood(gangnam), cuisine_type(korean), not(coffee(served)), alcohol(served), price_range(7500_15000), not(vegeterian(friendly)), not(pescaterian(friendly)), not(take_away(offered)), open(current).\n",
    "suggest(rest_23) :- neighborhood(itaewon), cuisine_type(turkish), not(coffee(served)), not(alcohol(served)), price_range(5000_7500), not(vegeterian(friendly)), not(pescaterian(friendly)), take_away(offered), open(current).\n",
    "suggest(rest_24) :- neighborhood(gangnam), cuisine_type(american), coffee(served), not(alcohol(served)), price_range(15000_25000), vegeterian(friendly), pescaterian(friendly), take_away(offered), open(current).\n",
    "suggest(rest_25) :- neighborhood(gangnam), cuisine_type(korean), not(coffee(served)), alcohol(served), price_range(7500_15000), not(vegeterian(friendly)), not(pescaterian(friendly)), not(take_away(offered)), open(current).\n",
    "suggest(rest_26) :- neighborhood(gangnam), cuisine_type(korean), not(coffee(served)), alcohol(served), price_range(5000_7500), vegeterian(friendly), pescaterian(friendly), take_away(offered), open(current).\n",
    "suggest(rest_27) :- neighborhood(gangnam), cuisine_type(japanese), not(coffee(served)), not(alcohol(served)), price_range(7500_15000), vegeterian(friendly), pescaterian(friendly), take_away(offered), open(current).\n",
    "\n",
    "neighborhood(X) :- ask(neighborhood, X).\n",
    "cuisine_type(X) :- ask(cuisine_type, X).\n",
    "coffee(X) :- ask(coffee, X).\n",
    "alcohol(X) :- ask(alcohol, X).\n",
    "price_range(X) :- ask(price_range, X).\n",
    "vegeterian(X) :- ask(vegeterian, X).\n",
    "pescaterian(X) :- ask(pescaterian, X).\n",
    "take_away(X) :- ask(take_away, X).\n",
    "open(X) :- ask(open, X).\n",
    "\n",
    "multivalued(neighborhood).\n",
    "multivalued(cuisine_type).\n",
    "multivalued(price_range).\n",
    "multivalued(open).\n",
    "\n",
    "% The code below implements the prompting to ask the user:\n",
    "\n",
    "\n",
    "% Asking clauses\n",
    "\n",
    "multivalued(none).\n",
    "\n",
    "ask(A, V):-\n",
    "known(y, A, V), % succeed if true\n",
    "!.\t% stop looking\n",
    "\n",
    "ask(A, V):-\n",
    "known(_, A, V), % fail if false\n",
    "!, fail.\n",
    "\n",
    "ask(A, V):-\n",
    "not(multivalued(A)),\n",
    "write_py(A:not_multivalued),\n",
    "known(y, A, V2),\n",
    "V \\== V2,\n",
    "!, fail.\n",
    "\n",
    "ask(A, V):-\n",
    "read_py(A,V,Y), % get the answer\n",
    "asserta(known(Y, A, V)), % remember it\n",
    "Y == y. % succeed or fail\n",
    "\"\"\"\n",
    "\n",
    "with open(\"KB_A.pl\", \"w\") as text_file:\n",
    "    text_file.write(KB)"
   ]
  },
  {
   "cell_type": "code",
   "execution_count": 3,
   "metadata": {},
   "outputs": [
    {
     "name": "stdout",
     "output_type": "stream",
     "text": [
      "neighborhood is gangnam? yes\n"
     ]
    },
    {
     "ename": "KeyboardInterrupt",
     "evalue": "",
     "output_type": "error",
     "traceback": [
      "\u001b[0;31m---------------------------------------------------------------------------\u001b[0m",
      "\u001b[0;31mKeyboardInterrupt\u001b[0m                         Traceback (most recent call last)",
      "\u001b[0;32m~/anaconda/lib/python3.6/site-packages/ipykernel/kernelbase.py\u001b[0m in \u001b[0;36m_input_request\u001b[0;34m(self, prompt, ident, parent, password)\u001b[0m\n\u001b[1;32m    729\u001b[0m             \u001b[0;32mtry\u001b[0m\u001b[0;34m:\u001b[0m\u001b[0;34m\u001b[0m\u001b[0m\n\u001b[0;32m--> 730\u001b[0;31m                 \u001b[0mident\u001b[0m\u001b[0;34m,\u001b[0m \u001b[0mreply\u001b[0m \u001b[0;34m=\u001b[0m \u001b[0mself\u001b[0m\u001b[0;34m.\u001b[0m\u001b[0msession\u001b[0m\u001b[0;34m.\u001b[0m\u001b[0mrecv\u001b[0m\u001b[0;34m(\u001b[0m\u001b[0mself\u001b[0m\u001b[0;34m.\u001b[0m\u001b[0mstdin_socket\u001b[0m\u001b[0;34m,\u001b[0m \u001b[0;36m0\u001b[0m\u001b[0;34m)\u001b[0m\u001b[0;34m\u001b[0m\u001b[0m\n\u001b[0m\u001b[1;32m    731\u001b[0m             \u001b[0;32mexcept\u001b[0m \u001b[0mException\u001b[0m\u001b[0;34m:\u001b[0m\u001b[0;34m\u001b[0m\u001b[0m\n",
      "\u001b[0;32m~/anaconda/lib/python3.6/site-packages/jupyter_client/session.py\u001b[0m in \u001b[0;36mrecv\u001b[0;34m(self, socket, mode, content, copy)\u001b[0m\n\u001b[1;32m    795\u001b[0m         \u001b[0;32mtry\u001b[0m\u001b[0;34m:\u001b[0m\u001b[0;34m\u001b[0m\u001b[0m\n\u001b[0;32m--> 796\u001b[0;31m             \u001b[0mmsg_list\u001b[0m \u001b[0;34m=\u001b[0m \u001b[0msocket\u001b[0m\u001b[0;34m.\u001b[0m\u001b[0mrecv_multipart\u001b[0m\u001b[0;34m(\u001b[0m\u001b[0mmode\u001b[0m\u001b[0;34m,\u001b[0m \u001b[0mcopy\u001b[0m\u001b[0;34m=\u001b[0m\u001b[0mcopy\u001b[0m\u001b[0;34m)\u001b[0m\u001b[0;34m\u001b[0m\u001b[0m\n\u001b[0m\u001b[1;32m    797\u001b[0m         \u001b[0;32mexcept\u001b[0m \u001b[0mzmq\u001b[0m\u001b[0;34m.\u001b[0m\u001b[0mZMQError\u001b[0m \u001b[0;32mas\u001b[0m \u001b[0me\u001b[0m\u001b[0;34m:\u001b[0m\u001b[0;34m\u001b[0m\u001b[0m\n",
      "\u001b[0;32m~/anaconda/lib/python3.6/site-packages/zmq/sugar/socket.py\u001b[0m in \u001b[0;36mrecv_multipart\u001b[0;34m(self, flags, copy, track)\u001b[0m\n\u001b[1;32m    394\u001b[0m         \"\"\"\n\u001b[0;32m--> 395\u001b[0;31m         \u001b[0mparts\u001b[0m \u001b[0;34m=\u001b[0m \u001b[0;34m[\u001b[0m\u001b[0mself\u001b[0m\u001b[0;34m.\u001b[0m\u001b[0mrecv\u001b[0m\u001b[0;34m(\u001b[0m\u001b[0mflags\u001b[0m\u001b[0;34m,\u001b[0m \u001b[0mcopy\u001b[0m\u001b[0;34m=\u001b[0m\u001b[0mcopy\u001b[0m\u001b[0;34m,\u001b[0m \u001b[0mtrack\u001b[0m\u001b[0;34m=\u001b[0m\u001b[0mtrack\u001b[0m\u001b[0;34m)\u001b[0m\u001b[0;34m]\u001b[0m\u001b[0;34m\u001b[0m\u001b[0m\n\u001b[0m\u001b[1;32m    396\u001b[0m         \u001b[0;31m# have first part already, only loop while more to receive\u001b[0m\u001b[0;34m\u001b[0m\u001b[0;34m\u001b[0m\u001b[0m\n",
      "\u001b[0;32mzmq/backend/cython/socket.pyx\u001b[0m in \u001b[0;36mzmq.backend.cython.socket.Socket.recv (zmq/backend/cython/socket.c:7683)\u001b[0;34m()\u001b[0m\n",
      "\u001b[0;32mzmq/backend/cython/socket.pyx\u001b[0m in \u001b[0;36mzmq.backend.cython.socket.Socket.recv (zmq/backend/cython/socket.c:7460)\u001b[0;34m()\u001b[0m\n",
      "\u001b[0;32mzmq/backend/cython/socket.pyx\u001b[0m in \u001b[0;36mzmq.backend.cython.socket._recv_copy (zmq/backend/cython/socket.c:2344)\u001b[0;34m()\u001b[0m\n",
      "\u001b[0;32m~/anaconda/lib/python3.6/site-packages/zmq/backend/cython/checkrc.pxd\u001b[0m in \u001b[0;36mzmq.backend.cython.checkrc._check_rc (zmq/backend/cython/socket.c:9621)\u001b[0;34m()\u001b[0m\n",
      "\u001b[0;31mKeyboardInterrupt\u001b[0m: ",
      "\nDuring handling of the above exception, another exception occurred:\n",
      "\u001b[0;31mKeyboardInterrupt\u001b[0m                         Traceback (most recent call last)",
      "\u001b[0;32m_ctypes/callbacks.c\u001b[0m in \u001b[0;36m'calling callback function'\u001b[0;34m()\u001b[0m\n",
      "\u001b[0;32m~/projects/minerva/notebooks/CS152/pyswip/easy.py\u001b[0m in \u001b[0;36mwrapper\u001b[0;34m(*args)\u001b[0m\n\u001b[1;32m    463\u001b[0m         \u001b[0;32mdef\u001b[0m \u001b[0mwrapper\u001b[0m\u001b[0;34m(\u001b[0m\u001b[0;34m*\u001b[0m\u001b[0margs\u001b[0m\u001b[0;34m)\u001b[0m\u001b[0;34m:\u001b[0m\u001b[0;34m\u001b[0m\u001b[0m\n\u001b[1;32m    464\u001b[0m             \u001b[0margs\u001b[0m \u001b[0;34m=\u001b[0m \u001b[0;34m[\u001b[0m\u001b[0mgetTerm\u001b[0m\u001b[0;34m(\u001b[0m\u001b[0marg\u001b[0m\u001b[0;34m)\u001b[0m \u001b[0;32mfor\u001b[0m \u001b[0marg\u001b[0m \u001b[0;32min\u001b[0m \u001b[0margs\u001b[0m\u001b[0;34m]\u001b[0m\u001b[0;34m\u001b[0m\u001b[0m\n\u001b[0;32m--> 465\u001b[0;31m             \u001b[0mr\u001b[0m \u001b[0;34m=\u001b[0m \u001b[0mfun\u001b[0m\u001b[0;34m(\u001b[0m\u001b[0;34m*\u001b[0m\u001b[0margs\u001b[0m\u001b[0;34m)\u001b[0m\u001b[0;34m\u001b[0m\u001b[0m\n\u001b[0m\u001b[1;32m    466\u001b[0m             \u001b[0;32mreturn\u001b[0m \u001b[0;34m(\u001b[0m\u001b[0mr\u001b[0m \u001b[0;32mis\u001b[0m \u001b[0;32mNone\u001b[0m\u001b[0;34m)\u001b[0m \u001b[0;32mand\u001b[0m \u001b[0;32mTrue\u001b[0m \u001b[0;32mor\u001b[0m \u001b[0mr\u001b[0m\u001b[0;34m\u001b[0m\u001b[0m\n\u001b[1;32m    467\u001b[0m         \u001b[0mres\u001b[0m \u001b[0;34m=\u001b[0m \u001b[0mwrapper\u001b[0m\u001b[0;34m\u001b[0m\u001b[0m\n",
      "\u001b[0;32m<ipython-input-3-ad6ae8d5dd4b>\u001b[0m in \u001b[0;36mread_py\u001b[0;34m(A, V, Y)\u001b[0m\n\u001b[1;32m     17\u001b[0m \u001b[0;34m\u001b[0m\u001b[0m\n\u001b[1;32m     18\u001b[0m \u001b[0;32mdef\u001b[0m \u001b[0mread_py\u001b[0m\u001b[0;34m(\u001b[0m\u001b[0mA\u001b[0m\u001b[0;34m,\u001b[0m\u001b[0mV\u001b[0m\u001b[0;34m,\u001b[0m\u001b[0mY\u001b[0m\u001b[0;34m)\u001b[0m\u001b[0;34m:\u001b[0m\u001b[0;34m\u001b[0m\u001b[0m\n\u001b[0;32m---> 19\u001b[0;31m     \u001b[0mY\u001b[0m\u001b[0;34m.\u001b[0m\u001b[0munify\u001b[0m\u001b[0;34m(\u001b[0m\u001b[0minput\u001b[0m\u001b[0;34m(\u001b[0m\u001b[0mstr\u001b[0m\u001b[0;34m(\u001b[0m\u001b[0mA\u001b[0m\u001b[0;34m)\u001b[0m \u001b[0;34m+\u001b[0m \u001b[0;34m\" is \"\u001b[0m \u001b[0;34m+\u001b[0m \u001b[0mstr\u001b[0m\u001b[0;34m(\u001b[0m\u001b[0mV\u001b[0m\u001b[0;34m)\u001b[0m \u001b[0;34m+\u001b[0m \u001b[0;34m\"? \"\u001b[0m\u001b[0;34m)\u001b[0m\u001b[0;34m)\u001b[0m\u001b[0;34m\u001b[0m\u001b[0m\n\u001b[0m\u001b[1;32m     20\u001b[0m     \u001b[0;32mreturn\u001b[0m \u001b[0;32mTrue\u001b[0m\u001b[0;34m\u001b[0m\u001b[0m\n\u001b[1;32m     21\u001b[0m \u001b[0;34m\u001b[0m\u001b[0m\n",
      "\u001b[0;32m~/anaconda/lib/python3.6/site-packages/ipykernel/kernelbase.py\u001b[0m in \u001b[0;36mraw_input\u001b[0;34m(self, prompt)\u001b[0m\n\u001b[1;32m    703\u001b[0m             \u001b[0mself\u001b[0m\u001b[0;34m.\u001b[0m\u001b[0m_parent_ident\u001b[0m\u001b[0;34m,\u001b[0m\u001b[0;34m\u001b[0m\u001b[0m\n\u001b[1;32m    704\u001b[0m             \u001b[0mself\u001b[0m\u001b[0;34m.\u001b[0m\u001b[0m_parent_header\u001b[0m\u001b[0;34m,\u001b[0m\u001b[0;34m\u001b[0m\u001b[0m\n\u001b[0;32m--> 705\u001b[0;31m             \u001b[0mpassword\u001b[0m\u001b[0;34m=\u001b[0m\u001b[0;32mFalse\u001b[0m\u001b[0;34m,\u001b[0m\u001b[0;34m\u001b[0m\u001b[0m\n\u001b[0m\u001b[1;32m    706\u001b[0m         )\n\u001b[1;32m    707\u001b[0m \u001b[0;34m\u001b[0m\u001b[0m\n",
      "\u001b[0;32m~/anaconda/lib/python3.6/site-packages/ipykernel/kernelbase.py\u001b[0m in \u001b[0;36m_input_request\u001b[0;34m(self, prompt, ident, parent, password)\u001b[0m\n\u001b[1;32m    733\u001b[0m             \u001b[0;32mexcept\u001b[0m \u001b[0mKeyboardInterrupt\u001b[0m\u001b[0;34m:\u001b[0m\u001b[0;34m\u001b[0m\u001b[0m\n\u001b[1;32m    734\u001b[0m                 \u001b[0;31m# re-raise KeyboardInterrupt, to truncate traceback\u001b[0m\u001b[0;34m\u001b[0m\u001b[0;34m\u001b[0m\u001b[0m\n\u001b[0;32m--> 735\u001b[0;31m                 \u001b[0;32mraise\u001b[0m \u001b[0mKeyboardInterrupt\u001b[0m\u001b[0;34m\u001b[0m\u001b[0m\n\u001b[0m\u001b[1;32m    736\u001b[0m             \u001b[0;32melse\u001b[0m\u001b[0;34m:\u001b[0m\u001b[0;34m\u001b[0m\u001b[0m\n\u001b[1;32m    737\u001b[0m                 \u001b[0;32mbreak\u001b[0m\u001b[0;34m\u001b[0m\u001b[0m\n",
      "\u001b[0;31mKeyboardInterrupt\u001b[0m: "
     ]
    },
    {
     "ename": "PrologError",
     "evalue": "Caused by: 'suggest(X).'. Returned: 'error(domain_error(foreign_return_value, 140259608048808), context(/(read_py, 3), _2018))'.",
     "output_type": "error",
     "traceback": [
      "\u001b[0;31m---------------------------------------------------------------------------\u001b[0m",
      "\u001b[0;31mPrologError\u001b[0m                               Traceback (most recent call last)",
      "\u001b[0;32m<ipython-input-3-ad6ae8d5dd4b>\u001b[0m in \u001b[0;36m<module>\u001b[0;34m()\u001b[0m\n\u001b[1;32m     29\u001b[0m \u001b[0mprolog\u001b[0m\u001b[0;34m.\u001b[0m\u001b[0mconsult\u001b[0m\u001b[0;34m(\u001b[0m\u001b[0;34m\"KB_A.pl\"\u001b[0m\u001b[0;34m)\u001b[0m \u001b[0;31m# open the KB\u001b[0m\u001b[0;34m\u001b[0m\u001b[0m\n\u001b[1;32m     30\u001b[0m \u001b[0mcall\u001b[0m\u001b[0;34m(\u001b[0m\u001b[0mretractall\u001b[0m\u001b[0;34m(\u001b[0m\u001b[0mknown\u001b[0m\u001b[0;34m)\u001b[0m\u001b[0;34m)\u001b[0m\u001b[0;34m\u001b[0m\u001b[0m\n\u001b[0;32m---> 31\u001b[0;31m \u001b[0;32mfor\u001b[0m \u001b[0msoln\u001b[0m \u001b[0;32min\u001b[0m \u001b[0mprolog\u001b[0m\u001b[0;34m.\u001b[0m\u001b[0mquery\u001b[0m\u001b[0;34m(\u001b[0m\u001b[0;34m\"suggest(X).\"\u001b[0m\u001b[0;34m,\u001b[0m \u001b[0mmaxresult\u001b[0m\u001b[0;34m=\u001b[0m\u001b[0;36m1\u001b[0m\u001b[0;34m)\u001b[0m\u001b[0;34m:\u001b[0m\u001b[0;34m\u001b[0m\u001b[0m\n\u001b[0m\u001b[1;32m     32\u001b[0m     \u001b[0mprint\u001b[0m\u001b[0;34m(\u001b[0m\u001b[0;34m\"Your restaurant reccomendation is \"\u001b[0m \u001b[0;34m+\u001b[0m \u001b[0msoln\u001b[0m\u001b[0;34m[\u001b[0m\u001b[0;34m'X'\u001b[0m\u001b[0;34m]\u001b[0m\u001b[0;34m)\u001b[0m\u001b[0;34m\u001b[0m\u001b[0m\n",
      "\u001b[0;32m~/projects/minerva/notebooks/CS152/pyswip/prolog.py\u001b[0m in \u001b[0;36m__call__\u001b[0;34m(self, query, maxresult, catcherrors, normalize)\u001b[0m\n\u001b[1;32m    125\u001b[0m \u001b[0;34m\u001b[0m\u001b[0m\n\u001b[1;32m    126\u001b[0m                     raise PrologError(\"\".join([\"Caused by: '\", query, \"'. \",\n\u001b[0;32m--> 127\u001b[0;31m                                                \"Returned: '\", str(term), \"'.\"]))\n\u001b[0m\u001b[1;32m    128\u001b[0m \u001b[0;34m\u001b[0m\u001b[0m\n\u001b[1;32m    129\u001b[0m             \u001b[0;32mfinally\u001b[0m\u001b[0;34m:\u001b[0m \u001b[0;31m# This ensures that, whatever happens, we close the query\u001b[0m\u001b[0;34m\u001b[0m\u001b[0m\n",
      "\u001b[0;31mPrologError\u001b[0m: Caused by: 'suggest(X).'. Returned: 'error(domain_error(foreign_return_value, 140259608048808), context(/(read_py, 3), _2018))'."
     ]
    }
   ],
   "source": [
    "# The code here will ask the user for input based on the askables\n",
    "# It will check if the answer is known first\n",
    "\n",
    "from pyswip.prolog import Prolog\n",
    "from pyswip.easy import *\n",
    "\n",
    "prolog = Prolog() # Global handle to interpreter\n",
    "\n",
    "retractall = Functor(\"retractall\")\n",
    "known = Functor(\"known\",3)\n",
    "\n",
    "# Define foreign functions for getting user input and writing to the screen\n",
    "def write_py(X):\n",
    "    print(str(X))\n",
    "    sys.stdout.flush()\n",
    "    return True\n",
    "\n",
    "def read_py(A,V,Y):\n",
    "    Y.unify(input(str(A) + \" is \" + str(V) + \"? \"))\n",
    "    return True\n",
    "\n",
    "\n",
    "write_py.arity = 1\n",
    "read_py.arity = 3\n",
    "\n",
    "registerForeign(read_py)\n",
    "registerForeign(write_py)\n",
    "\n",
    "prolog.consult(\"KB_A.pl\") # open the KB\n",
    "call(retractall(known))\n",
    "for soln in prolog.query(\"suggest(X).\", maxresult=1):\n",
    "    print(\"Your restaurant reccomendation is \" + soln['X'])"
   ]
  },
  {
   "cell_type": "code",
   "execution_count": null,
   "metadata": {
    "collapsed": true
   },
   "outputs": [],
   "source": []
  },
  {
   "cell_type": "code",
   "execution_count": null,
   "metadata": {
    "collapsed": true
   },
   "outputs": [],
   "source": []
  },
  {
   "cell_type": "code",
   "execution_count": null,
   "metadata": {
    "collapsed": true
   },
   "outputs": [],
   "source": []
  }
 ],
 "metadata": {
  "kernelspec": {
   "display_name": "Python 2",
   "language": "python",
   "name": "python2"
  },
  "language_info": {
   "codemirror_mode": {
    "name": "ipython",
    "version": 2
   },
   "file_extension": ".py",
   "mimetype": "text/x-python",
   "name": "python",
   "nbconvert_exporter": "python",
   "pygments_lexer": "ipython2",
   "version": "2.7.13"
  }
 },
 "nbformat": 4,
 "nbformat_minor": 2
}
