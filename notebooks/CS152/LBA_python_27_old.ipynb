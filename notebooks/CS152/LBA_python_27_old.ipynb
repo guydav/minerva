{
 "cells": [
  {
   "cell_type": "code",
   "execution_count": 8,
   "metadata": {
    "collapsed": true
   },
   "outputs": [],
   "source": [
    "import pandas\n",
    "import numpy as np\n",
    "import matplotlib\n",
    "import matplotlib.pyplot as plt\n",
    "from datetime import datetime, date\n",
    "from collections import defaultdict, OrderedDict"
   ]
  },
  {
   "cell_type": "markdown",
   "metadata": {},
   "source": [
    "## Read the CSV, parse the 24/7 and late fields into a single field\n"
   ]
  },
  {
   "cell_type": "code",
   "execution_count": 13,
   "metadata": {
    "collapsed": true
   },
   "outputs": [],
   "source": [
    "restaurants = pandas.read_csv('restaurant_database.csv')\n",
    "\n",
    "restaurants['open'] = ['24/7' if value == 'yes' else 'early' for value in restaurants['24/7?']]\n",
    "restaurants['open'] = ['late' if (current == 'early' and open_late == 'yes') else current\n",
    "                       for current, open_late \n",
    "                       in zip(restaurants['open'], restaurants['Open late (after 10pm)'])]"
   ]
  },
  {
   "cell_type": "markdown",
   "metadata": {},
   "source": [
    "## Define translation functions\n",
    "\n",
    "We take the knowledge base, as defined in the CSV (downloaded from Google sheets), and define how to translate it to a Prolog KB. This includes what should be the names for conditions which are boolean (not multivalued), various measured of input sanitization, and other renamings."
   ]
  },
  {
   "cell_type": "code",
   "execution_count": 19,
   "metadata": {
    "collapsed": true
   },
   "outputs": [],
   "source": [
    "def sanitze_to_atom(name):\n",
    "    return name.lower().replace(' ', '_').replace('-', '_').replace('?', '').replace(',', '')\n",
    "\n",
    "\n",
    "BOOLEAN_AFFIRMATIVE_NAME = {\n",
    "    'coffee': 'served',\n",
    "    'alcohol': 'served',\n",
    "    'vegeterian': 'friendly',\n",
    "    'pescaterian': 'friendly',\n",
    "    'take_away': 'offered'\n",
    "}\n",
    "\n",
    "\n",
    "COLUMNS_TO_IGNORE = (\n",
    "    'Name', 'Address', 'Open late (after 10pm)', '24/7?'\n",
    ")\n",
    "\n",
    "\n",
    "class BooleanTransformer:\n",
    "    def __init__(self, col_atom):\n",
    "        self.col_atom = col_atom\n",
    "        \n",
    "    def __call__(self, value):\n",
    "        transformed = '{name}({value})'.format(name=self.col_atom, \n",
    "                                               value=BOOLEAN_AFFIRMATIVE_NAME[self.col_atom])\n",
    "                \n",
    "        if value in ('yes', 'y', 'True', 'true', True):\n",
    "            return transformed \n",
    "\n",
    "        return 'not({t})'.format(t=transformed)\n",
    "\n",
    "    \n",
    "class MultivaluedTransformer:\n",
    "    def __init__(self, col_atom):\n",
    "        self.col_atom = col_atom\n",
    "        \n",
    "    def __call__(self, value):\n",
    "        return '{name}({value})'.format(name=self.col_atom, \n",
    "                                        value=sanitze_to_atom(value))\n",
    "\n",
    "    \n",
    "def build_transformers(knowledge_base):\n",
    "    transformers = {}\n",
    "    multivalued = []\n",
    "    \n",
    "    for column in knowledge_base.columns:\n",
    "        if column in COLUMNS_TO_IGNORE:\n",
    "            continue\n",
    "        \n",
    "        column_atom = sanitze_to_atom(column)\n",
    "        if column_atom in BOOLEAN_AFFIRMATIVE_NAME:\n",
    "            transformers[column] = BooleanTransformer(column_atom)\n",
    "            \n",
    "        else:\n",
    "            transformers[column] = MultivaluedTransformer(column_atom)\n",
    "            multivalued.append(column)\n",
    "            \n",
    "    return transformers, multivalued\n",
    "\n",
    "\n",
    "INFORMATIVE_FIELDS = ('Name', 'Address', 'Neighborhood')\n",
    "            \n",
    "    \n",
    "def transform_kb(knowledge_base):\n",
    "    transformers, multivalued = build_transformers(knowledge_base)\n",
    "    restaurants = {}\n",
    "    output = []\n",
    "    \n",
    "    for rest_id, rest_row in knowledge_base.iterrows():\n",
    "        transformed_values = [transformers[col](rest_row[col]) for col in transformers]\n",
    "        output.append('suggest(rest_{id}) :- {cond}.'.format(id=rest_id, \n",
    "                                                             cond=', '.join(transformed_values)))\n",
    "        \n",
    "        restaurants['rest_{id}'.format(id=rest_id)] = {field: rest_row[field] \n",
    "                                                       for field in INFORMATIVE_FIELDS}\n",
    "    \n",
    "    output.append('')\n",
    "    for col in transformers:\n",
    "        col_atom = sanitze_to_atom(col)\n",
    "        output.append('{col}(X) :- ask({col}, X).'.format(col=col_atom))\n",
    "    \n",
    "    output.append('')\n",
    "    output.extend(['multivalued({col}).'.format(col=sanitze_to_atom(col)) for col in multivalued])\n",
    "    \n",
    "    return output, restaurants\n",
    "    \n",
    "        "
   ]
  },
  {
   "cell_type": "code",
   "execution_count": 15,
   "metadata": {
    "collapsed": true
   },
   "outputs": [],
   "source": [
    "output, rests = transform_kb(restaurants)"
   ]
  },
  {
   "cell_type": "code",
   "execution_count": 16,
   "metadata": {},
   "outputs": [
    {
     "name": "stdout",
     "output_type": "stream",
     "text": [
      "suggest(rest_0) :- neighborhood(gangnam), not(vegeterian(friendly)), cuisine_type(japanese), alcohol(served), not(take_away(offered)), not(coffee(served)), pescaterian(friendly), open(early), price_range(7500_15000).\n",
      "suggest(rest_1) :- neighborhood(gangnam), vegeterian(friendly), cuisine_type(korean), not(alcohol(served)), take_away(offered), not(coffee(served)), pescaterian(friendly), open(early), price_range(5000_7500).\n",
      "suggest(rest_2) :- neighborhood(gangnam), not(vegeterian(friendly)), cuisine_type(taiwanese), alcohol(served), not(take_away(offered)), not(coffee(served)), pescaterian(friendly), open(early), price_range(15000_25000).\n",
      "suggest(rest_3) :- neighborhood(gangnam), not(vegeterian(friendly)), cuisine_type(korean), not(alcohol(served)), take_away(offered), not(coffee(served)), not(pescaterian(friendly)), open(late), price_range(5000_7500).\n",
      "suggest(rest_4) :- neighborhood(gangnam), not(vegeterian(friendly)), cuisine_type(korean), alcohol(served), not(take_away(offered)), not(coffee(served)), not(pescaterian(friendly)), open(late), price_range(7500_15000).\n",
      "suggest(rest_5) :- neighborhood(gangnam), vegeterian(friendly), cuisine_type(italian), alcohol(served), not(take_away(offered)), coffee(served), pescaterian(friendly), open(late), price_range(15000_25000).\n",
      "suggest(rest_6) :- neighborhood(gangnam), vegeterian(friendly), cuisine_type(korean), not(alcohol(served)), not(take_away(offered)), coffee(served), not(pescaterian(friendly)), open(early), price_range(7500_15000).\n",
      "suggest(rest_7) :- neighborhood(gangnam), vegeterian(friendly), cuisine_type(breakfast), alcohol(served), not(take_away(offered)), coffee(served), pescaterian(friendly), open(late), price_range(7500_15000).\n",
      "suggest(rest_8) :- neighborhood(gangnam), vegeterian(friendly), cuisine_type(vietnamese), alcohol(served), not(take_away(offered)), not(coffee(served)), not(pescaterian(friendly)), open(24/7), price_range(7500_15000).\n",
      "suggest(rest_9) :- neighborhood(gangnam), vegeterian(friendly), cuisine_type(vietnamese), alcohol(served), not(take_away(offered)), not(coffee(served)), not(pescaterian(friendly)), open(late), price_range(7500_15000).\n",
      "suggest(rest_10) :- neighborhood(gangnam), not(vegeterian(friendly)), cuisine_type(korean), not(alcohol(served)), not(take_away(offered)), not(coffee(served)), not(pescaterian(friendly)), open(early), price_range(7500_15000).\n",
      "suggest(rest_11) :- neighborhood(gangnam), vegeterian(friendly), cuisine_type(japanese), not(alcohol(served)), take_away(offered), not(coffee(served)), not(pescaterian(friendly)), open(24/7), price_range(5000_7500).\n",
      "suggest(rest_12) :- neighborhood(gangnam), not(vegeterian(friendly)), cuisine_type(vietnamese), not(alcohol(served)), take_away(offered), not(coffee(served)), not(pescaterian(friendly)), open(early), price_range(5000_7500).\n",
      "suggest(rest_13) :- neighborhood(gangnam), vegeterian(friendly), cuisine_type(japanese), alcohol(served), not(take_away(offered)), not(coffee(served)), not(pescaterian(friendly)), open(late), price_range(25000+).\n",
      "suggest(rest_14) :- neighborhood(gangnam), not(vegeterian(friendly)), cuisine_type(american), alcohol(served), take_away(offered), coffee(served), not(pescaterian(friendly)), open(early), price_range(7500_15000).\n",
      "suggest(rest_15) :- neighborhood(gangnam), vegeterian(friendly), cuisine_type(japanese), alcohol(served), take_away(offered), not(coffee(served)), pescaterian(friendly), open(early), price_range(7500_15000).\n",
      "suggest(rest_16) :- neighborhood(gangnam), vegeterian(friendly), cuisine_type(japanese), not(alcohol(served)), take_away(offered), not(coffee(served)), pescaterian(friendly), open(early), price_range(7500_15000).\n",
      "suggest(rest_17) :- neighborhood(gangnam), vegeterian(friendly), cuisine_type(american), not(alcohol(served)), take_away(offered), coffee(served), pescaterian(friendly), open(24/7), price_range(7500_15000).\n",
      "suggest(rest_18) :- neighborhood(gangnam), not(vegeterian(friendly)), cuisine_type(american), not(alcohol(served)), take_away(offered), coffee(served), pescaterian(friendly), open(24/7), price_range(7500_15000).\n",
      "suggest(rest_19) :- neighborhood(gangnam), not(vegeterian(friendly)), cuisine_type(korean), alcohol(served), take_away(offered), not(coffee(served)), not(pescaterian(friendly)), open(early), price_range(7500_15000).\n",
      "suggest(rest_20) :- neighborhood(gangnam), vegeterian(friendly), cuisine_type(chinese), alcohol(served), take_away(offered), not(coffee(served)), pescaterian(friendly), open(early), price_range(7500_15000).\n",
      "suggest(rest_21) :- neighborhood(gangnam), not(vegeterian(friendly)), cuisine_type(korean), alcohol(served), take_away(offered), not(coffee(served)), pescaterian(friendly), open(late), price_range(7500_15000).\n",
      "suggest(rest_22) :- neighborhood(gangnam), not(vegeterian(friendly)), cuisine_type(korean), alcohol(served), not(take_away(offered)), not(coffee(served)), not(pescaterian(friendly)), open(24/7), price_range(7500_15000).\n",
      "suggest(rest_23) :- neighborhood(itaewon), not(vegeterian(friendly)), cuisine_type(turkish), not(alcohol(served)), take_away(offered), not(coffee(served)), not(pescaterian(friendly)), open(early), price_range(5000_7500).\n",
      "suggest(rest_24) :- neighborhood(gangnam), vegeterian(friendly), cuisine_type(american), not(alcohol(served)), take_away(offered), coffee(served), pescaterian(friendly), open(late), price_range(15000_25000).\n",
      "suggest(rest_25) :- neighborhood(gangnam), not(vegeterian(friendly)), cuisine_type(korean), alcohol(served), not(take_away(offered)), not(coffee(served)), not(pescaterian(friendly)), open(early), price_range(7500_15000).\n",
      "suggest(rest_26) :- neighborhood(gangnam), vegeterian(friendly), cuisine_type(korean), alcohol(served), take_away(offered), not(coffee(served)), pescaterian(friendly), open(24/7), price_range(5000_7500).\n",
      "suggest(rest_27) :- neighborhood(gangnam), vegeterian(friendly), cuisine_type(japanese), not(alcohol(served)), take_away(offered), not(coffee(served)), pescaterian(friendly), open(early), price_range(7500_15000).\n",
      "\n",
      "neighborhood(X) :- ask(neighborhood, X).\n",
      "vegeterian(X) :- ask(vegeterian, X).\n",
      "cuisine_type(X) :- ask(cuisine_type, X).\n",
      "alcohol(X) :- ask(alcohol, X).\n",
      "take_away(X) :- ask(take_away, X).\n",
      "coffee(X) :- ask(coffee, X).\n",
      "pescaterian(X) :- ask(pescaterian, X).\n",
      "open(X) :- ask(open, X).\n",
      "price_range(X) :- ask(price_range, X).\n",
      "\n",
      "multivalued(neighborhood).\n",
      "multivalued(cuisine_type).\n",
      "multivalued(price_range).\n",
      "multivalued(open).\n"
     ]
    }
   ],
   "source": [
    "print('\\n'.join(output))"
   ]
  },
  {
   "cell_type": "code",
   "execution_count": 23,
   "metadata": {
    "collapsed": true
   },
   "outputs": [],
   "source": [
    "KB = \"\"\"\n",
    "% Enter your KB below this line:\n",
    "\n",
    ":- dynamic(known/3). \n",
    "\n",
    "suggest(rest_0) :- neighborhood(gangnam), not(vegeterian(friendly)), cuisine_type(japanese), alcohol(served), not(take_away(offered)), not(coffee(served)), pescaterian(friendly), open(early), price_range(7500_15000).\n",
    "suggest(rest_1) :- neighborhood(gangnam), vegeterian(friendly), cuisine_type(korean), not(alcohol(served)), take_away(offered), not(coffee(served)), pescaterian(friendly), open(early), price_range(5000_7500).\n",
    "suggest(rest_2) :- neighborhood(gangnam), not(vegeterian(friendly)), cuisine_type(taiwanese), alcohol(served), not(take_away(offered)), not(coffee(served)), pescaterian(friendly), open(early), price_range(15000_25000).\n",
    "suggest(rest_3) :- neighborhood(gangnam), not(vegeterian(friendly)), cuisine_type(korean), not(alcohol(served)), take_away(offered), not(coffee(served)), not(pescaterian(friendly)), open(late), price_range(5000_7500).\n",
    "suggest(rest_4) :- neighborhood(gangnam), not(vegeterian(friendly)), cuisine_type(korean), alcohol(served), not(take_away(offered)), not(coffee(served)), not(pescaterian(friendly)), open(late), price_range(7500_15000).\n",
    "suggest(rest_5) :- neighborhood(gangnam), vegeterian(friendly), cuisine_type(italian), alcohol(served), not(take_away(offered)), coffee(served), pescaterian(friendly), open(late), price_range(15000_25000).\n",
    "suggest(rest_6) :- neighborhood(gangnam), vegeterian(friendly), cuisine_type(korean), not(alcohol(served)), not(take_away(offered)), coffee(served), not(pescaterian(friendly)), open(early), price_range(7500_15000).\n",
    "suggest(rest_7) :- neighborhood(gangnam), vegeterian(friendly), cuisine_type(breakfast), alcohol(served), not(take_away(offered)), coffee(served), pescaterian(friendly), open(late), price_range(7500_15000).\n",
    "suggest(rest_8) :- neighborhood(gangnam), vegeterian(friendly), cuisine_type(vietnamese), alcohol(served), not(take_away(offered)), not(coffee(served)), not(pescaterian(friendly)), open(24/7), price_range(7500_15000).\n",
    "suggest(rest_9) :- neighborhood(gangnam), vegeterian(friendly), cuisine_type(vietnamese), alcohol(served), not(take_away(offered)), not(coffee(served)), not(pescaterian(friendly)), open(late), price_range(7500_15000).\n",
    "suggest(rest_10) :- neighborhood(gangnam), not(vegeterian(friendly)), cuisine_type(korean), not(alcohol(served)), not(take_away(offered)), not(coffee(served)), not(pescaterian(friendly)), open(early), price_range(7500_15000).\n",
    "suggest(rest_11) :- neighborhood(gangnam), vegeterian(friendly), cuisine_type(japanese), not(alcohol(served)), take_away(offered), not(coffee(served)), not(pescaterian(friendly)), open(24/7), price_range(5000_7500).\n",
    "suggest(rest_12) :- neighborhood(gangnam), not(vegeterian(friendly)), cuisine_type(vietnamese), not(alcohol(served)), take_away(offered), not(coffee(served)), not(pescaterian(friendly)), open(early), price_range(5000_7500).\n",
    "suggest(rest_13) :- neighborhood(gangnam), vegeterian(friendly), cuisine_type(japanese), alcohol(served), not(take_away(offered)), not(coffee(served)), not(pescaterian(friendly)), open(late), price_range(25000+).\n",
    "suggest(rest_14) :- neighborhood(gangnam), not(vegeterian(friendly)), cuisine_type(american), alcohol(served), take_away(offered), coffee(served), not(pescaterian(friendly)), open(early), price_range(7500_15000).\n",
    "suggest(rest_15) :- neighborhood(gangnam), vegeterian(friendly), cuisine_type(japanese), alcohol(served), take_away(offered), not(coffee(served)), pescaterian(friendly), open(early), price_range(7500_15000).\n",
    "suggest(rest_16) :- neighborhood(gangnam), vegeterian(friendly), cuisine_type(japanese), not(alcohol(served)), take_away(offered), not(coffee(served)), pescaterian(friendly), open(early), price_range(7500_15000).\n",
    "suggest(rest_17) :- neighborhood(gangnam), vegeterian(friendly), cuisine_type(american), not(alcohol(served)), take_away(offered), coffee(served), pescaterian(friendly), open(24/7), price_range(7500_15000).\n",
    "suggest(rest_18) :- neighborhood(gangnam), not(vegeterian(friendly)), cuisine_type(american), not(alcohol(served)), take_away(offered), coffee(served), pescaterian(friendly), open(24/7), price_range(7500_15000).\n",
    "suggest(rest_19) :- neighborhood(gangnam), not(vegeterian(friendly)), cuisine_type(korean), alcohol(served), take_away(offered), not(coffee(served)), not(pescaterian(friendly)), open(early), price_range(7500_15000).\n",
    "suggest(rest_20) :- neighborhood(gangnam), vegeterian(friendly), cuisine_type(chinese), alcohol(served), take_away(offered), not(coffee(served)), pescaterian(friendly), open(early), price_range(7500_15000).\n",
    "suggest(rest_21) :- neighborhood(gangnam), not(vegeterian(friendly)), cuisine_type(korean), alcohol(served), take_away(offered), not(coffee(served)), pescaterian(friendly), open(late), price_range(7500_15000).\n",
    "suggest(rest_22) :- neighborhood(gangnam), not(vegeterian(friendly)), cuisine_type(korean), alcohol(served), not(take_away(offered)), not(coffee(served)), not(pescaterian(friendly)), open(24/7), price_range(7500_15000).\n",
    "suggest(rest_23) :- neighborhood(itaewon), not(vegeterian(friendly)), cuisine_type(turkish), not(alcohol(served)), take_away(offered), not(coffee(served)), not(pescaterian(friendly)), open(early), price_range(5000_7500).\n",
    "suggest(rest_24) :- neighborhood(gangnam), vegeterian(friendly), cuisine_type(american), not(alcohol(served)), take_away(offered), coffee(served), pescaterian(friendly), open(late), price_range(15000_25000).\n",
    "suggest(rest_25) :- neighborhood(gangnam), not(vegeterian(friendly)), cuisine_type(korean), alcohol(served), not(take_away(offered)), not(coffee(served)), not(pescaterian(friendly)), open(early), price_range(7500_15000).\n",
    "suggest(rest_26) :- neighborhood(gangnam), vegeterian(friendly), cuisine_type(korean), alcohol(served), take_away(offered), not(coffee(served)), pescaterian(friendly), open(24/7), price_range(5000_7500).\n",
    "suggest(rest_27) :- neighborhood(gangnam), vegeterian(friendly), cuisine_type(japanese), not(alcohol(served)), take_away(offered), not(coffee(served)), pescaterian(friendly), open(early), price_range(7500_15000).\n",
    "\n",
    "neighborhood(X) :- ask(neighborhood, X).\n",
    "cuisine_type(X) :- ask(cuisine_type, X).\n",
    "coffee(X) :- ask(coffee, X).\n",
    "alcohol(X) :- ask(alcohol, X).\n",
    "price_range(X) :- ask(price_range, X).\n",
    "vegeterian(X) :- ask(vegeterian, X).\n",
    "pescaterian(X) :- ask(pescaterian, X).\n",
    "take_away(X) :- ask(take_away, X).\n",
    "open(X) :- ask(open, X).\n",
    "\n",
    "multivalued(neighborhood).\n",
    "multivalued(cuisine_type).\n",
    "multivalued(price_range).\n",
    "multivalued(open).\n",
    "\n",
    "% The code below implements the prompting to ask the user:\n",
    "\n",
    "\n",
    "% Asking clauses\n",
    "\n",
    "multivalued(none).\n",
    "\n",
    "ask(A, V):-\n",
    "known(y, A, V), % succeed if true\n",
    "!. % stop looking\n",
    "\n",
    "ask(A, V):-\n",
    "known(_, A, V), % fail if false\n",
    "!, fail.\n",
    "\n",
    "ask(A, V):-\n",
    "not(multivalued(A)),\n",
    "% write_py(A:not_multivalued),\n",
    "known(y, A, V2),\n",
    "V \\== V2,\n",
    "!, fail.\n",
    "\n",
    "ask(A, V):-\n",
    "read_py(A,V,Y), % get the answer\n",
    "asserta(known(Y, A, V)), % remember it\n",
    "Y == y. % succeed or fail\n",
    "\"\"\"\n",
    "\n",
    "with open(\"KB_A.pl\", \"w\") as text_file:\n",
    "    text_file.write(KB)"
   ]
  },
  {
   "cell_type": "code",
   "execution_count": 24,
   "metadata": {},
   "outputs": [
    {
     "name": "stdout",
     "output_type": "stream",
     "text": [
      "neighborhood is gangnam? y\n",
      "vegeterian is friendly? n\n",
      "cuisine_type is japanese? n\n",
      "cuisine_type is taiwanese? n\n",
      "cuisine_type is korean? y\n",
      "alcohol is served? y\n",
      "take_away is offered? n\n",
      "coffee is served? n\n",
      "pescaterian is friendly? n\n",
      "open is late? y\n",
      "price_range is 750015000? y\n",
      "rest_4\n",
      "Your restaurant reccomendation is KBBQ at 810-1, Yeoksam-dong, Gangnam-gu, Seoul in Gangnam\n"
     ]
    }
   ],
   "source": [
    "# The code here will ask the user for input based on the askables\n",
    "# It will check if the answer is known first\n",
    "\n",
    "from pyswip.prolog import Prolog\n",
    "from pyswip.easy import *\n",
    "\n",
    "prolog = Prolog() # Global handle to interpreter\n",
    "\n",
    "retractall = Functor(\"retractall\")\n",
    "known = Functor(\"known\",3)\n",
    "\n",
    "# Define foreign functions for getting user input and writing to the screen\n",
    "def write_py(X):\n",
    "    print(str(X))\n",
    "    sys.stdout.flush()\n",
    "    return True\n",
    "\n",
    "def read_py(A,V,Y):\n",
    "    Y.unify(raw_input(str(A) + \" is \" + str(V) + \"? \"))\n",
    "    print(Y, Y.get_value(), Y.unified())\n",
    "    return True\n",
    "\n",
    "\n",
    "write_py.arity = 1\n",
    "read_py.arity = 3\n",
    "\n",
    "registerForeign(read_py)\n",
    "registerForeign(write_py)\n",
    "\n",
    "prolog.consult(\"KB_A.pl\") # open the KB\n",
    "call(retractall(known))\n",
    "for soln in prolog.query(\"suggest(X).\", maxresult=1):\n",
    "    rest = soln['X']\n",
    "    info = rests[rest]\n",
    "    print(\"Your restaurant reccomendation is {name} at {address} in {neighborhood}\".format(\n",
    "        name=info['Name'], address=info['Address'], neighborhood=info['Neighborhood']))"
   ]
  },
  {
   "cell_type": "code",
   "execution_count": 20,
   "metadata": {},
   "outputs": [
    {
     "data": {
      "text/plain": [
       "{'Address': '137 Yeoksam-ro',\n",
       " 'Name': 'Small Fish / Japanese restaurant',\n",
       " 'Neighborhood': 'Gangnam'}"
      ]
     },
     "execution_count": 20,
     "metadata": {},
     "output_type": "execute_result"
    }
   ],
   "source": [
    "rests['rest_0']"
   ]
  },
  {
   "cell_type": "code",
   "execution_count": null,
   "metadata": {
    "collapsed": true
   },
   "outputs": [],
   "source": []
  }
 ],
 "metadata": {
  "kernelspec": {
   "display_name": "Python 2",
   "language": "python",
   "name": "python2"
  },
  "language_info": {
   "codemirror_mode": {
    "name": "ipython",
    "version": 2
   },
   "file_extension": ".py",
   "mimetype": "text/x-python",
   "name": "python",
   "nbconvert_exporter": "python",
   "pygments_lexer": "ipython2",
   "version": "2.7.13"
  }
 },
 "nbformat": 4,
 "nbformat_minor": 2
}
