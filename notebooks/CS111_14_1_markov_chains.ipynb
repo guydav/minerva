{
 "cells": [
  {
   "cell_type": "code",
   "execution_count": 1,
   "metadata": {
    "collapsed": true
   },
   "outputs": [],
   "source": [
    "%matplotlib inline"
   ]
  },
  {
   "cell_type": "code",
   "execution_count": 2,
   "metadata": {
    "collapsed": true
   },
   "outputs": [],
   "source": [
    "import pandas\n",
    "import numpy as np\n",
    "import matplotlib\n",
    "import matplotlib.pyplot as plt"
   ]
  },
  {
   "cell_type": "code",
   "execution_count": 20,
   "metadata": {
    "collapsed": false
   },
   "outputs": [],
   "source": [
    "def markov_chain_equilibrium(markov, is_right=True):\n",
    "    if not is_right:\n",
    "        markov = markov.T\n",
    "        \n",
    "    eigenvalues, eigenvectors = np.linalg.eig(markov)\n",
    "    # we receive unit eigenvectors, but want the probability ones, so normalize sum to 1\n",
    "    unit_eigenvector = eigenvectors[:,np.argmax(eigenvalues)]\n",
    "    return unit_eigenvector / sum(unit_eigenvector)\n",
    "    \n",
    "    "
   ]
  },
  {
   "cell_type": "code",
   "execution_count": 28,
   "metadata": {
    "collapsed": false
   },
   "outputs": [
    {
     "data": {
      "text/plain": [
       "matrix([[  1.53846154e-01+0.j],\n",
       "        [  0.00000000e+00+0.j],\n",
       "        [  2.30769231e-01+0.j],\n",
       "        [  3.07692308e-01+0.j],\n",
       "        [  0.00000000e+00+0.j],\n",
       "        [  3.07692308e-01+0.j],\n",
       "        [  0.00000000e+00+0.j],\n",
       "        [  0.00000000e+00+0.j],\n",
       "        [  0.00000000e+00+0.j],\n",
       "        [ -2.12277762e-16+0.j],\n",
       "        [ -1.08757218e-16+0.j],\n",
       "        [ -1.08757220e-16+0.j],\n",
       "        [ -1.08757222e-16+0.j],\n",
       "        [ -1.08757222e-16+0.j]])"
      ]
     },
     "execution_count": 28,
     "metadata": {},
     "output_type": "execute_result"
    }
   ],
   "source": [
    "ex = np.matrix([[0,   0,   0,   0.5, 0,     0,   0,    0,   0,   0,   0,   0,   0,   0], \n",
    "                [0,   0,   0,   0,   1.0/3, 0,   0,    0,   1.0, 0,   0,   0,   0,   0], \n",
    "                [0.5, 1.0, 0,   0.5, 0,     0,   0,    0.5, 0,   0.5,   0,   0,   0,   0], \n",
    "                [0,   0,   0,   0,   1.0/3, 1.0, 0.25, 0,   0,   0,   0,   0,   0,   0], \n",
    "                [0,   0,   0,   0,   0,     0,   0,    0,   0,   0,   0,   0,   0,   0], \n",
    "                [0.5, 0,   1.0, 0,   0,     0,   0.25, 0,   0,   0,   0,   0,   0,   0], \n",
    "                [0,   0,   0,   0,   0,     0,   0,    0,   0,   0,   0,   0,   0,   0], \n",
    "                [0,   0,   0,   0,   0,     0,   0,    0,   0,   0,   0,   0,   0,   0], \n",
    "                [0,   0,   0,   0,   0.33,  0,   0.5,  0.5, 0,   0,   0,   0,   0,   0],\n",
    "                [0,   0,   0,   0,   0,     0,   0,    0,   0,   0,   0,   0,   0,   1.0], \n",
    "                [0,   0,   0,   0,   0,     0,   0,    0,   0,   0.5, 0,   0,   0,   0], \n",
    "                [0,   0,   0,   0,   0,     0,   0,    0,   0,   0,   1.0, 0,   0,   0], \n",
    "                [0,   0,   0,   0,   0,     0,   0,    0,   0,   0,   0,   1.0, 0,   0], \n",
    "                [0,   0,   0,   0,   0,     0,   0,    0,   0,   0,   0,   0,   1.0, 0], \n",
    "               ])\n",
    "markov_chain_equilibrium(ex)"
   ]
  },
  {
   "cell_type": "code",
   "execution_count": 55,
   "metadata": {
    "collapsed": false
   },
   "outputs": [
    {
     "data": {
      "text/plain": [
       "1.4648320052415016"
      ]
     },
     "execution_count": 55,
     "metadata": {},
     "output_type": "execute_result"
    }
   ],
   "source": [
    "DEFAULT_N = 10000\n",
    "\n",
    "\n",
    "def monte_carlo_integral(func, x_min, x_max, n=DEFAULT_N):\n",
    "    samples = np.random.sample(n) * (x_max - x_min) + x_min\n",
    "    return (x_max - x_min) / float(n) * sum(map(func, samples))\n",
    "\n",
    "\n",
    "monte_carlo_integral(lambda x: np.exp(x ** 2), 0, 1)"
   ]
  },
  {
   "cell_type": "code",
   "execution_count": 56,
   "metadata": {
    "collapsed": false
   },
   "outputs": [
    {
     "data": {
      "text/plain": [
       "1.4651582816068383"
      ]
     },
     "execution_count": 56,
     "metadata": {},
     "output_type": "execute_result"
    }
   ],
   "source": [
    "def multi_dimensional_monte_carlo_integral(func, dimensions, n=DEFAULT_N):\n",
    "    samples = [np.random.sample(n) * (d_max - d_min) + d_min for d_min, d_max in dimensions]\n",
    "    samples = zip(*samples)\n",
    "\n",
    "    return reduce(lambda x, y: x * y, [d[1] - d[0] for d in dimensions], 1) / float(n) * \\\n",
    "            sum(map(func, samples))\n",
    "    \n",
    "multi_dimensional_monte_carlo_integral(lambda x: np.exp(x[0] ** 2), ((0, 1),))"
   ]
  },
  {
   "cell_type": "code",
   "execution_count": 66,
   "metadata": {
    "collapsed": false
   },
   "outputs": [
    {
     "data": {
      "text/plain": [
       "3.15052"
      ]
     },
     "execution_count": 66,
     "metadata": {},
     "output_type": "execute_result"
    }
   ],
   "source": [
    "def simulate_pi(n=DEFAULT_N):\n",
    "    samples = np.random.sample((n, 2))\n",
    "    in_circle = sum([s[0] ** 2 + s[1] ** 2 <= 1 for s in samples])\n",
    "    return 4.0 * in_circle / n\n",
    "\n",
    "simulate_pi(10 ** 5)\n",
    "    "
   ]
  },
  {
   "cell_type": "code",
   "execution_count": 67,
   "metadata": {
    "collapsed": false
   },
   "outputs": [
    {
     "data": {
      "text/plain": [
       "array([[ 0.13883413,  0.95978705],\n",
       "       [ 0.15338761,  0.4750276 ],\n",
       "       [ 0.94339691,  0.49267157],\n",
       "       [ 0.86562722,  0.86474687],\n",
       "       [ 0.04010622,  0.0748202 ],\n",
       "       [ 0.53742128,  0.68002353],\n",
       "       [ 0.11758156,  0.56125289],\n",
       "       [ 0.69863644,  0.40904047],\n",
       "       [ 0.85291541,  0.81872376],\n",
       "       [ 0.34327749,  0.97009534]])"
      ]
     },
     "execution_count": 67,
     "metadata": {},
     "output_type": "execute_result"
    }
   ],
   "source": [
    "np.random.sample((10, 2))"
   ]
  },
  {
   "cell_type": "code",
   "execution_count": null,
   "metadata": {
    "collapsed": true
   },
   "outputs": [],
   "source": []
  }
 ],
 "metadata": {
  "kernelspec": {
   "display_name": "Python 2",
   "language": "python",
   "name": "python2"
  },
  "language_info": {
   "codemirror_mode": {
    "name": "ipython",
    "version": 2
   },
   "file_extension": ".py",
   "mimetype": "text/x-python",
   "name": "python",
   "nbconvert_exporter": "python",
   "pygments_lexer": "ipython2",
   "version": "2.7.10"
  }
 },
 "nbformat": 4,
 "nbformat_minor": 0
}
