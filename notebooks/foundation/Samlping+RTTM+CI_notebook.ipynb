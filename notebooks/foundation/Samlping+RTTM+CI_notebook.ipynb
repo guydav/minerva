{
 "cells": [
  {
   "cell_type": "code",
   "execution_count": 5,
   "metadata": {
    "collapsed": false
   },
   "outputs": [
    {
     "name": "stdout",
     "output_type": "stream",
     "text": [
      "Creating a (pseudo)-random population distribution.\n",
      "Enter a population size (between 1 and 10^6): 1000\n",
      "\n",
      "The population mean is: 38.035\n",
      "The population stddev is: 988.041\n",
      "This is the population distribution:\n"
     ]
    },
    {
     "data": {
      "image/png": "[encoded data removed]",
      "text/plain": [
       "<matplotlib.figure.Figure at 0x109fa0dd0>"
      ]
     },
     "metadata": {},
     "output_type": "display_data"
    },
    {
     "name": "stdout",
     "output_type": "stream",
     "text": [
      "Enter the sample size (to be drawn with replacement, between 1 and 10^6): 100\n",
      "Enter the confidence interval alpha as a decimal, between 0 and 0.999999: 0.9\n",
      "Enter the number of times to repeat the experiment (between 1 and 10^6): 100\n"
     ]
    },
    {
     "name": "stderr",
     "output_type": "stream",
     "text": [
      "                                       "
     ]
    },
    {
     "name": "stdout",
     "output_type": "stream",
     "text": [
      "The mean of the sample means is: 40.332\n",
      "This is the sample mean distribution:\n"
     ]
    },
    {
     "name": "stderr",
     "output_type": "stream",
     "text": [
      "\r"
     ]
    },
    {
     "data": {
      "image/png": "[encoded data removed]",
      "text/plain": [
       "<matplotlib.figure.Figure at 0x10d151ad0>"
      ]
     },
     "metadata": {},
     "output_type": "display_data"
    },
    {
     "name": "stdout",
     "output_type": "stream",
     "text": [
      "2.a/Challenge.1) After drawing 100 samples of size 100, the approx. standard error of the sampling distribution are:\n",
      "-------------------------------------------  -------\n",
      "Approximation from sample mean distribution  96.1123\n",
      "Average of sample std errors                 98.1404\n",
      "Population stddev / sqrt(sample size)        98.8041\n",
      "-------------------------------------------  -------\n",
      "\n",
      "2.b) In these samples, the 90.00% confidence interval captured the population mean 91 times, which is 91.00% of the procedures\n",
      "\n",
      "Challenge.3.i) The minimal interval (max lower, min upper) is (73.924, -122.680).\n",
      "It failed to capture the population mean (38.035), and it is empty.\n",
      "\n",
      "Chanllenge.3.ii) The maximal interval (min lower, max upper) is (-414.789, 433.786).\n",
      "It captured the population mean (38.035).\n"
     ]
    },
    {
     "ename": "KeyboardInterrupt",
     "evalue": "",
     "output_type": "error",
     "traceback": [
      "\u001b[0;31m---------------------------------------------------------------------------\u001b[0m",
      "\u001b[0;31mKeyboardInterrupt\u001b[0m                         Traceback (most recent call last)",
      "\u001b[0;32m<ipython-input-5-b1c6e70d13f0>\u001b[0m in \u001b[0;36m<module>\u001b[0;34m()\u001b[0m\n\u001b[1;32m    172\u001b[0m         \u001b[0mcontinue_sampling\u001b[0m \u001b[0;34m=\u001b[0m \u001b[0;34m(\u001b[0m\u001b[0mdecision\u001b[0m \u001b[0;34m==\u001b[0m \u001b[0;34m'y'\u001b[0m\u001b[0;34m)\u001b[0m\u001b[0;34m\u001b[0m\u001b[0m\n\u001b[1;32m    173\u001b[0m \u001b[0;34m\u001b[0m\u001b[0m\n\u001b[0;32m--> 174\u001b[0;31m \u001b[0mmain\u001b[0m\u001b[0;34m(\u001b[0m\u001b[0;34m)\u001b[0m\u001b[0;34m\u001b[0m\u001b[0m\n\u001b[0m",
      "\u001b[0;32m<ipython-input-5-b1c6e70d13f0>\u001b[0m in \u001b[0;36mmain\u001b[0;34m()\u001b[0m\n\u001b[1;32m    168\u001b[0m \u001b[0;34m\u001b[0m\u001b[0m\n\u001b[1;32m    169\u001b[0m         decision = read_letter_from_user(\n\u001b[0;32m--> 170\u001b[0;31m             'Repeat sampling procedure? y / n: ', ('y', 'n'))\n\u001b[0m\u001b[1;32m    171\u001b[0m \u001b[0;34m\u001b[0m\u001b[0m\n\u001b[1;32m    172\u001b[0m         \u001b[0mcontinue_sampling\u001b[0m \u001b[0;34m=\u001b[0m \u001b[0;34m(\u001b[0m\u001b[0mdecision\u001b[0m \u001b[0;34m==\u001b[0m \u001b[0;34m'y'\u001b[0m\u001b[0;34m)\u001b[0m\u001b[0;34m\u001b[0m\u001b[0m\n",
      "\u001b[0;32m<ipython-input-5-b1c6e70d13f0>\u001b[0m in \u001b[0;36mread_letter_from_user\u001b[0;34m(prompt, options)\u001b[0m\n\u001b[1;32m    133\u001b[0m     \u001b[0mletter\u001b[0m \u001b[0;34m=\u001b[0m \u001b[0;34m''\u001b[0m\u001b[0;34m\u001b[0m\u001b[0m\n\u001b[1;32m    134\u001b[0m     \u001b[0;32mwhile\u001b[0m \u001b[0;32mnot\u001b[0m \u001b[0mletter\u001b[0m \u001b[0;32min\u001b[0m \u001b[0moptions\u001b[0m\u001b[0;34m:\u001b[0m\u001b[0;34m\u001b[0m\u001b[0m\n\u001b[0;32m--> 135\u001b[0;31m         \u001b[0mletter\u001b[0m \u001b[0;34m=\u001b[0m \u001b[0mraw_input\u001b[0m\u001b[0;34m(\u001b[0m\u001b[0mprompt\u001b[0m\u001b[0;34m)\u001b[0m\u001b[0;34m.\u001b[0m\u001b[0mstrip\u001b[0m\u001b[0;34m(\u001b[0m\u001b[0;34m)\u001b[0m\u001b[0;34m.\u001b[0m\u001b[0mlower\u001b[0m\u001b[0;34m(\u001b[0m\u001b[0;34m)\u001b[0m\u001b[0;34m\u001b[0m\u001b[0m\n\u001b[0m\u001b[1;32m    136\u001b[0m \u001b[0;34m\u001b[0m\u001b[0m\n\u001b[1;32m    137\u001b[0m     \u001b[0;32mreturn\u001b[0m \u001b[0mletter\u001b[0m\u001b[0;34m\u001b[0m\u001b[0m\n",
      "\u001b[0;32m/Users/guydavidson/virtualenvs/dev/lib/python2.7/site-packages/ipykernel/kernelbase.pyc\u001b[0m in \u001b[0;36mraw_input\u001b[0;34m(self, prompt)\u001b[0m\n\u001b[1;32m    675\u001b[0m             \u001b[0mself\u001b[0m\u001b[0;34m.\u001b[0m\u001b[0m_parent_ident\u001b[0m\u001b[0;34m,\u001b[0m\u001b[0;34m\u001b[0m\u001b[0m\n\u001b[1;32m    676\u001b[0m             \u001b[0mself\u001b[0m\u001b[0;34m.\u001b[0m\u001b[0m_parent_header\u001b[0m\u001b[0;34m,\u001b[0m\u001b[0;34m\u001b[0m\u001b[0m\n\u001b[0;32m--> 677\u001b[0;31m             \u001b[0mpassword\u001b[0m\u001b[0;34m=\u001b[0m\u001b[0mFalse\u001b[0m\u001b[0;34m,\u001b[0m\u001b[0;34m\u001b[0m\u001b[0m\n\u001b[0m\u001b[1;32m    678\u001b[0m         )\n\u001b[1;32m    679\u001b[0m \u001b[0;34m\u001b[0m\u001b[0m\n",
      "\u001b[0;32m/Users/guydavidson/virtualenvs/dev/lib/python2.7/site-packages/ipykernel/kernelbase.pyc\u001b[0m in \u001b[0;36m_input_request\u001b[0;34m(self, prompt, ident, parent, password)\u001b[0m\n\u001b[1;32m    705\u001b[0m             \u001b[0;32mexcept\u001b[0m \u001b[0mKeyboardInterrupt\u001b[0m\u001b[0;34m:\u001b[0m\u001b[0;34m\u001b[0m\u001b[0m\n\u001b[1;32m    706\u001b[0m                 \u001b[0;31m# re-raise KeyboardInterrupt, to truncate traceback\u001b[0m\u001b[0;34m\u001b[0m\u001b[0;34m\u001b[0m\u001b[0m\n\u001b[0;32m--> 707\u001b[0;31m                 \u001b[0;32mraise\u001b[0m \u001b[0mKeyboardInterrupt\u001b[0m\u001b[0;34m\u001b[0m\u001b[0m\n\u001b[0m\u001b[1;32m    708\u001b[0m             \u001b[0;32melse\u001b[0m\u001b[0;34m:\u001b[0m\u001b[0;34m\u001b[0m\u001b[0m\n\u001b[1;32m    709\u001b[0m                 \u001b[0;32mbreak\u001b[0m\u001b[0;34m\u001b[0m\u001b[0m\n",
      "\u001b[0;31mKeyboardInterrupt\u001b[0m: "
     ]
    }
   ],
   "source": [
    "# Code for the Sampling / RTTM / Confidence Intervals Assignment\n",
    "# Adapted from CLT.py provded for FA 2.03.1\n",
    "# If some of the line formattings look weird / short\n",
    "# It is because I tried to format it to fit well in the text\n",
    "\n",
    "\n",
    "%matplotlib inline\n",
    "import numpy as np\n",
    "import random\n",
    "import matplotlib.pyplot as plt\n",
    "from scipy import stats\n",
    "import re\n",
    "from tqdm import tqdm\n",
    "from tabulate import tabulate\n",
    "\n",
    "\n",
    "DECIMAL_NUMBER_PATTERN = '^[\\d\\.]+$'\n",
    "\n",
    "\n",
    "def create_uniform_population(size, size_multiplier=1000):\n",
    "    return size_multiplier * np.random.random_sample((size, ))\n",
    "\n",
    "\n",
    "def create_beta_population(size, size_multiplier=1000, a=0.5, b=0.5):\n",
    "    return size_multiplier * np.random.beta(a, b, (size, ))\n",
    "\n",
    "\n",
    "def create_normal_population(size, mean=0, std_dev=1, size_multiplier=1000):\n",
    "    return size_multiplier * np.random.normal(mean, std_dev, size)\n",
    "    \n",
    "\n",
    "def graph_distribution(distribution, name):\n",
    "    plt.hist(distribution)\n",
    "    plt.title(name)\n",
    "    plt.show()\n",
    "\n",
    "    \n",
    "def sample_procedure(population, sample_size, alpha):\n",
    "    pop_mean = np.mean(population)\n",
    "    pop_stddev = np.std(population)\n",
    "    \n",
    "    sample_repeats = read_number_from_user(\n",
    "        \"Enter the number of times to repeat the experiment (between 1 and 10^6): \", \n",
    "        int, 1, 10**6)\n",
    "    sample_means = []\n",
    "    sample_std_errors = []\n",
    "    ci_capture_count = 0\n",
    "    \n",
    "    min_lower = None\n",
    "    max_lower = None\n",
    "    min_upper = None\n",
    "    max_upper = None\n",
    "    \n",
    "    # tqdm is used to print progress, useful for large repetitions\n",
    "    for _ in tqdm(xrange(sample_repeats)):\n",
    "        sample = np.random.choice(population, (sample_size, ))\n",
    "        sample_mean = np.mean(sample)\n",
    "        sample_means.append(sample_mean)\n",
    "        \n",
    "        # Challenge.a - calculation of individual sample standard errors\n",
    "         # ddof=1 applies Bessel's correction\n",
    "        sample_std_error = np.std(sample, ddof=1) / (sample_size ** 0.5)\n",
    "        sample_std_errors.append(sample_std_error)\n",
    "        \n",
    "        # 2.b - keeping track of CIs, and whether or not they capture the pop. mean\n",
    "        lower, upper = stats.t.interval(alpha, sample_size - 1, \n",
    "                                        sample_mean, sample_std_error)\n",
    "        if lower <= pop_mean <= upper:\n",
    "            ci_capture_count += 1\n",
    "            \n",
    "        # Challenge.c - tracking minimal and maximal lower and upper bounds\n",
    "        if not min_lower or lower < min_lower:\n",
    "            min_lower = lower\n",
    "        if not max_lower or lower > max_lower:\n",
    "            max_lower = lower\n",
    "        \n",
    "        if not min_upper or upper < min_upper:\n",
    "            min_upper = upper\n",
    "        if not max_upper or upper > max_upper:\n",
    "            max_upper = upper\n",
    "    \n",
    "    print 'The mean of the sample means is: {mean:.3f}'.format(\n",
    "        mean=np.mean(sample_means))\n",
    "    print 'This is the sample mean distribution:'\n",
    "    graph_distribution(sample_means, 'Sample Means')\n",
    "    \n",
    "    # 2.a, Challenge.a - output\n",
    "    se_mean_output = '2.a/Challenge.1) After drawing {k} samples of size {n}, '+\\\n",
    "            'the approx. standard error of the sampling distribution are:'\n",
    "    print se_mean_output.format(k=sample_repeats, n=sample_size)\n",
    "                                \n",
    "    se_mean_approximations = [\n",
    "        # Applying Bessel's correction the first as we're approximating from a sample\n",
    "        ('Approximation from sample mean distribution', np.std(sample_means, ddof=1)), \n",
    "        ('Average of sample std errors', np.mean(sample_std_errors)),\n",
    "        ('Population stddev / sqrt(sample size)', pop_stddev / (sample_size ** 0.5))]\n",
    "    print tabulate(se_mean_approximations)\n",
    "    \n",
    "    # 2.b - output\n",
    "    ci_output = '\\n2.b) In these samples, the {alpha:.2f}% confidence interval captured '+\\\n",
    "        'the population mean {capture_count} times, '+\\\n",
    "        'which is {capture_percent:.2f}% of the procedures'\n",
    "    print ci_output.format(alpha=alpha*100, capture_count=ci_capture_count, \n",
    "                           capture_percent=float(ci_capture_count)*100/sample_repeats)\n",
    "    \n",
    "    # Challenge.c - output\n",
    "    challenge_output = '\\nChallenge.3.i) The minimal interval '+\\\n",
    "        '(max lower, min upper) is ({max_lower:.3f}, {min_upper:.3f}).\\n'+\\\n",
    "        'It {capture} the population mean ({pop_mean:.3f}), and it is {empty}.'\n",
    "            \n",
    "    # the (expression) and ValueIfTrue or ValueIfFalse syntax behaves as a ternary:\n",
    "    # in other languages, if often looks like (expression) ? ValueIfTrue : ValueIfFalse\n",
    "    capture = (max_lower <= pop_mean <= min_upper) and 'captured' or 'failed to capture'\n",
    "    empty = (min_upper <= max_lower) and 'empty' or 'not empty'\n",
    "    print challenge_output.format(max_lower=max_lower, min_upper=min_upper, \n",
    "                                  capture=capture, empty=empty, pop_mean=pop_mean)\n",
    "    \n",
    "    more_challenge = '\\nChanllenge.3.ii) The maximal interval '+\\\n",
    "        '(min lower, max upper) is ({min_lower:.3f}, {max_upper:.3f}).\\n' +\\\n",
    "        'It {capture} the population mean ({pop_mean:.3f}).'\n",
    "    capture = (min_lower <= pop_mean <= max_upper) and 'captured' or 'failed to capture'\n",
    "    print more_challenge.format(min_lower=min_lower, max_upper=max_upper, \n",
    "                                capture=capture, pop_mean=pop_mean)\n",
    "    \n",
    "    \n",
    "#####################################\n",
    "\n",
    "\n",
    "def read_number_from_user(prompt, type_func, min_value, max_value):\n",
    "    value = min_value - 1\n",
    "    while not (min_value <= value <= max_value):\n",
    "        raw_value = raw_input(prompt)\n",
    "        if re.match(DECIMAL_NUMBER_PATTERN, raw_value):\n",
    "            value = type_func(raw_value)\n",
    "        \n",
    "    return value\n",
    "\n",
    "\n",
    "def read_letter_from_user(prompt, options):\n",
    "    letter = ''\n",
    "    while not letter in options:\n",
    "        letter = raw_input(prompt).strip().lower()\n",
    "        \n",
    "    return letter\n",
    "\n",
    "\n",
    "def main():\n",
    "    print 'Creating a (pseudo)-random population distribution.'\n",
    "    population_size = read_number_from_user(\n",
    "        'Enter a population size (between 1 and 10^6): ', int, 1, 10**6)\n",
    "    \n",
    "    # Challenge.b - support for different populations\n",
    "    population = create_normal_population(population_size)\n",
    "#     population = create_uniform_population(population_size)\n",
    "#     population = create_beta_population(population_size)\n",
    "\n",
    "    print\n",
    "    print 'The population mean is: {mean:.3f}'.format(mean=np.mean(population))\n",
    "    print 'The population stddev is: {stddev:.3f}'.format(stddev=np.std(population)) \n",
    "    print 'This is the population distribution:'\n",
    "    graph_distribution(population, 'Population Distribution')\n",
    "\n",
    "    sample_size = read_number_from_user(\n",
    "        'Enter the sample size (to be drawn with replacement, between 1 and 10^6): ', \n",
    "        int, 1, 10**6)\n",
    "    \n",
    "    alpha = read_number_from_user(\n",
    "        'Enter the confidence interval alpha as a decimal, between 0 and 0.999999: ', \n",
    "        float, 0, 0.999999)\n",
    "    \n",
    "    continue_sampling = True\n",
    "\n",
    "    while continue_sampling:\n",
    "        sample_procedure(population, sample_size, alpha)\n",
    "        \n",
    "        decision = read_letter_from_user(\n",
    "            'Repeat sampling procedure? y / n: ', ('y', 'n'))\n",
    "        \n",
    "        continue_sampling = (decision == 'y')\n",
    "        \n",
    "main()"
   ]
  },
  {
   "cell_type": "code",
   "execution_count": null,
   "metadata": {
    "collapsed": true
   },
   "outputs": [],
   "source": []
  }
 ],
 "metadata": {
  "kernelspec": {
   "display_name": "Python 2",
   "language": "python",
   "name": "python2"
  },
  "language_info": {
   "codemirror_mode": {
    "name": "ipython",
    "version": 2
   },
   "file_extension": ".py",
   "mimetype": "text/x-python",
   "name": "python",
   "nbconvert_exporter": "python",
   "pygments_lexer": "ipython2",
   "version": "2.7.10"
  }
 },
 "nbformat": 4,
 "nbformat_minor": 0
}
