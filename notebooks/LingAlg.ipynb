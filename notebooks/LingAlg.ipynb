{
 "cells": [
  {
   "cell_type": "code",
   "execution_count": 1,
   "metadata": {
    "collapsed": true
   },
   "outputs": [],
   "source": [
    "%matplotlib inline"
   ]
  },
  {
   "cell_type": "code",
   "execution_count": 2,
   "metadata": {
    "collapsed": false
   },
   "outputs": [
    {
     "data": {
      "text/plain": [
       "<matplotlib.collections.PathCollection at 0x105a4a590>"
      ]
     },
     "execution_count": 2,
     "metadata": {},
     "output_type": "execute_result"
    },
    {
     "data": {
      "image/png": "[encoded data removed]",
      "text/plain": [
       "<matplotlib.figure.Figure at 0x1045f6f10>"
      ]
     },
     "metadata": {},
     "output_type": "display_data"
    }
   ],
   "source": [
    "import matplotlib.pyplot as plot\n",
    "import numpy as np\n",
    "\n",
    "A = np.matrix([[0.8, 0.3], [0.2, 0.7]])\n",
    "u_0 = np.matrix([[1], [0]])\n",
    "v_0 = np.matrix([[0], [1]])\n",
    "\n",
    "x_values = range(1, 11)\n",
    "u_values = [A ** n * u_0 for n in x_values]\n",
    "v_values = [A ** n * v_0 for n in x_values]\n",
    "\n",
    "u_x, u_y = zip(*u_values)\n",
    "v_x, v_y = zip(*v_values)\n",
    "\n",
    "def clean(values):\n",
    "    return [x[0, 0] for x in values]\n",
    "\n",
    "plot.scatter(clean(u_x), clean(u_y), label='Starting from [1, 0]')\n",
    "plot.scatter(clean(v_x), clean(v_y), label='Starting from [0, 1]')"
   ]
  },
  {
   "cell_type": "code",
   "execution_count": 3,
   "metadata": {
    "collapsed": false
   },
   "outputs": [
    {
     "data": {
      "text/plain": [
       "matrix([[1, 0, 0, 0],\n",
       "        [0, 1, 0, 0],\n",
       "        [0, 1, 1, 0],\n",
       "        [0, 1, 2, 1]])"
      ]
     },
     "execution_count": 3,
     "metadata": {},
     "output_type": "execute_result"
    }
   ],
   "source": [
    "E = np.matrix([[1, 0, 0, 0], [-1, 1, 0, 0], [0, -1, 1, 0], [0, 0, -1, 1]])\n",
    "P = np.matrix([[1, 0, 0, 0], [1, 1, 0, 0], [1, 2, 1, 0], [1, 3, 3, 1]])\n",
    "E * P"
   ]
  },
  {
   "cell_type": "code",
   "execution_count": 23,
   "metadata": {
    "collapsed": false
   },
   "outputs": [
    {
     "data": {
      "text/plain": [
       "[<matplotlib.lines.Line2D at 0x106ea8090>]"
      ]
     },
     "execution_count": 23,
     "metadata": {},
     "output_type": "execute_result"
    },
    {
     "data": {
      "image/png": "[encoded data removed]",
      "text/plain": [
       "<matplotlib.figure.Figure at 0x105ab2b90>"
      ]
     },
     "metadata": {},
     "output_type": "display_data"
    }
   ],
   "source": [
    "K_fixed_fixed = np.zeros((100, 100))\n",
    "for i in xrange(100):\n",
    "    if i > 0:\n",
    "        K_fixed_fixed[i][i - 1] = -1\n",
    "    K_fixed_fixed[i][i] = 2\n",
    "    if i < 99:\n",
    "        K_fixed_fixed[i][i + 1] = -1\n",
    "        \n",
    "K_fixed_fixed_inv = np.linalg.inv(K_fixed_fixed)\n",
    "f = np.matrix([0.1 for _ in xrange(100)]).T\n",
    "u_fixed_fixed = K_fixed_fixed_inv * f\n",
    "\n",
    "plot.plot(range(1, 101), u_fixed_fixed)"
   ]
  },
  {
   "cell_type": "code",
   "execution_count": 24,
   "metadata": {
    "collapsed": false
   },
   "outputs": [
    {
     "data": {
      "text/plain": [
       "[<matplotlib.lines.Line2D at 0x10707f810>]"
      ]
     },
     "execution_count": 24,
     "metadata": {},
     "output_type": "execute_result"
    },
    {
     "data": {
      "image/png": "[encoded data removed]",
      "text/plain": [
       "<matplotlib.figure.Figure at 0x105c34210>"
      ]
     },
     "metadata": {},
     "output_type": "display_data"
    }
   ],
   "source": [
    "K_fixed_free = np.copy(K_fixed_fixed)\n",
    "K_fixed_free[99][99] = 1\n",
    "\n",
    "K_fixed_free_inv = np.linalg.inv(K_fixed_free)\n",
    "f = np.matrix([0.1 for _ in xrange(100)]).T\n",
    "u_fixed_free = K_fixed_free_inv * f\n",
    "\n",
    "plot.plot(range(1, 101), u_fixed_free)"
   ]
  },
  {
   "cell_type": "code",
   "execution_count": null,
   "metadata": {
    "collapsed": true
   },
   "outputs": [],
   "source": []
  }
 ],
 "metadata": {
  "kernelspec": {
   "display_name": "Python 2",
   "language": "python",
   "name": "python2"
  },
  "language_info": {
   "codemirror_mode": {
    "name": "ipython",
    "version": 2
   },
   "file_extension": ".py",
   "mimetype": "text/x-python",
   "name": "python",
   "nbconvert_exporter": "python",
   "pygments_lexer": "ipython2",
   "version": "2.7.10"
  }
 },
 "nbformat": 4,
 "nbformat_minor": 0
}
