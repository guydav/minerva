{
 "cells": [
  {
   "cell_type": "code",
   "execution_count": 1,
   "metadata": {
    "collapsed": true
   },
   "outputs": [],
   "source": [
    "%matplotlib inline"
   ]
  },
  {
   "cell_type": "code",
   "execution_count": 20,
   "metadata": {
    "collapsed": true
   },
   "outputs": [],
   "source": [
    "import pandas\n",
    "import numpy\n",
    "import matplotlib\n",
    "import matplotlib.pyplot as plt\n",
    "matplotlib.style.use('ggplot')\n",
    "\n",
    "data_df = pandas.read_csv('da_blast_data.csv')\n",
    "data_df['log(T)'] = numpy.log(data_df['#T'])\n",
    "data_df['log(R)'] = numpy.log(data_df['R'])"
   ]
  },
  {
   "cell_type": "code",
   "execution_count": 72,
   "metadata": {
    "collapsed": false
   },
   "outputs": [
    {
     "data": {
      "text/html": [
       "<div>\n",
       "<table border=\"1\" class=\"dataframe\">\n",
       "  <thead>\n",
       "    <tr style=\"text-align: right;\">\n",
       "      <th></th>\n",
       "      <th>#T</th>\n",
       "      <th>R</th>\n",
       "      <th>log(T)</th>\n",
       "      <th>log(R)</th>\n",
       "    </tr>\n",
       "  </thead>\n",
       "  <tbody>\n",
       "    <tr>\n",
       "      <th>0</th>\n",
       "      <td>0.10</td>\n",
       "      <td>11.1</td>\n",
       "      <td>-2.302585</td>\n",
       "      <td>2.406945</td>\n",
       "    </tr>\n",
       "    <tr>\n",
       "      <th>1</th>\n",
       "      <td>0.24</td>\n",
       "      <td>19.9</td>\n",
       "      <td>-1.427116</td>\n",
       "      <td>2.990720</td>\n",
       "    </tr>\n",
       "    <tr>\n",
       "      <th>2</th>\n",
       "      <td>0.38</td>\n",
       "      <td>25.4</td>\n",
       "      <td>-0.967584</td>\n",
       "      <td>3.234749</td>\n",
       "    </tr>\n",
       "    <tr>\n",
       "      <th>3</th>\n",
       "      <td>0.52</td>\n",
       "      <td>28.8</td>\n",
       "      <td>-0.653926</td>\n",
       "      <td>3.360375</td>\n",
       "    </tr>\n",
       "    <tr>\n",
       "      <th>4</th>\n",
       "      <td>0.66</td>\n",
       "      <td>31.9</td>\n",
       "      <td>-0.415515</td>\n",
       "      <td>3.462606</td>\n",
       "    </tr>\n",
       "    <tr>\n",
       "      <th>5</th>\n",
       "      <td>0.80</td>\n",
       "      <td>34.2</td>\n",
       "      <td>-0.223144</td>\n",
       "      <td>3.532226</td>\n",
       "    </tr>\n",
       "    <tr>\n",
       "      <th>6</th>\n",
       "      <td>0.94</td>\n",
       "      <td>36.3</td>\n",
       "      <td>-0.061875</td>\n",
       "      <td>3.591818</td>\n",
       "    </tr>\n",
       "    <tr>\n",
       "      <th>7</th>\n",
       "      <td>1.08</td>\n",
       "      <td>38.9</td>\n",
       "      <td>0.076961</td>\n",
       "      <td>3.660994</td>\n",
       "    </tr>\n",
       "    <tr>\n",
       "      <th>8</th>\n",
       "      <td>1.22</td>\n",
       "      <td>41.0</td>\n",
       "      <td>0.198851</td>\n",
       "      <td>3.713572</td>\n",
       "    </tr>\n",
       "    <tr>\n",
       "      <th>9</th>\n",
       "      <td>1.36</td>\n",
       "      <td>42.8</td>\n",
       "      <td>0.307485</td>\n",
       "      <td>3.756538</td>\n",
       "    </tr>\n",
       "    <tr>\n",
       "      <th>10</th>\n",
       "      <td>1.50</td>\n",
       "      <td>44.4</td>\n",
       "      <td>0.405465</td>\n",
       "      <td>3.793239</td>\n",
       "    </tr>\n",
       "    <tr>\n",
       "      <th>11</th>\n",
       "      <td>1.65</td>\n",
       "      <td>46.0</td>\n",
       "      <td>0.500775</td>\n",
       "      <td>3.828641</td>\n",
       "    </tr>\n",
       "    <tr>\n",
       "      <th>12</th>\n",
       "      <td>1.79</td>\n",
       "      <td>46.9</td>\n",
       "      <td>0.582216</td>\n",
       "      <td>3.848018</td>\n",
       "    </tr>\n",
       "    <tr>\n",
       "      <th>13</th>\n",
       "      <td>1.93</td>\n",
       "      <td>48.7</td>\n",
       "      <td>0.657520</td>\n",
       "      <td>3.885679</td>\n",
       "    </tr>\n",
       "    <tr>\n",
       "      <th>14</th>\n",
       "      <td>3.26</td>\n",
       "      <td>59.0</td>\n",
       "      <td>1.181727</td>\n",
       "      <td>4.077537</td>\n",
       "    </tr>\n",
       "    <tr>\n",
       "      <th>15</th>\n",
       "      <td>3.53</td>\n",
       "      <td>61.1</td>\n",
       "      <td>1.261298</td>\n",
       "      <td>4.112512</td>\n",
       "    </tr>\n",
       "    <tr>\n",
       "      <th>16</th>\n",
       "      <td>3.80</td>\n",
       "      <td>62.9</td>\n",
       "      <td>1.335001</td>\n",
       "      <td>4.141546</td>\n",
       "    </tr>\n",
       "    <tr>\n",
       "      <th>17</th>\n",
       "      <td>4.07</td>\n",
       "      <td>64.3</td>\n",
       "      <td>1.403643</td>\n",
       "      <td>4.163560</td>\n",
       "    </tr>\n",
       "    <tr>\n",
       "      <th>18</th>\n",
       "      <td>4.34</td>\n",
       "      <td>65.6</td>\n",
       "      <td>1.467874</td>\n",
       "      <td>4.183576</td>\n",
       "    </tr>\n",
       "    <tr>\n",
       "      <th>19</th>\n",
       "      <td>4.61</td>\n",
       "      <td>67.3</td>\n",
       "      <td>1.528228</td>\n",
       "      <td>4.209160</td>\n",
       "    </tr>\n",
       "    <tr>\n",
       "      <th>20</th>\n",
       "      <td>15.00</td>\n",
       "      <td>106.5</td>\n",
       "      <td>2.708050</td>\n",
       "      <td>4.668145</td>\n",
       "    </tr>\n",
       "    <tr>\n",
       "      <th>21</th>\n",
       "      <td>25.00</td>\n",
       "      <td>130.0</td>\n",
       "      <td>3.218876</td>\n",
       "      <td>4.867534</td>\n",
       "    </tr>\n",
       "    <tr>\n",
       "      <th>22</th>\n",
       "      <td>34.00</td>\n",
       "      <td>145.0</td>\n",
       "      <td>3.526361</td>\n",
       "      <td>4.976734</td>\n",
       "    </tr>\n",
       "    <tr>\n",
       "      <th>23</th>\n",
       "      <td>53.00</td>\n",
       "      <td>175.0</td>\n",
       "      <td>3.970292</td>\n",
       "      <td>5.164786</td>\n",
       "    </tr>\n",
       "    <tr>\n",
       "      <th>24</th>\n",
       "      <td>62.00</td>\n",
       "      <td>185.0</td>\n",
       "      <td>4.127134</td>\n",
       "      <td>5.220356</td>\n",
       "    </tr>\n",
       "  </tbody>\n",
       "</table>\n",
       "</div>"
      ],
      "text/plain": [
       "       #T      R    log(T)    log(R)\n",
       "0    0.10   11.1 -2.302585  2.406945\n",
       "1    0.24   19.9 -1.427116  2.990720\n",
       "2    0.38   25.4 -0.967584  3.234749\n",
       "3    0.52   28.8 -0.653926  3.360375\n",
       "4    0.66   31.9 -0.415515  3.462606\n",
       "5    0.80   34.2 -0.223144  3.532226\n",
       "6    0.94   36.3 -0.061875  3.591818\n",
       "7    1.08   38.9  0.076961  3.660994\n",
       "8    1.22   41.0  0.198851  3.713572\n",
       "9    1.36   42.8  0.307485  3.756538\n",
       "10   1.50   44.4  0.405465  3.793239\n",
       "11   1.65   46.0  0.500775  3.828641\n",
       "12   1.79   46.9  0.582216  3.848018\n",
       "13   1.93   48.7  0.657520  3.885679\n",
       "14   3.26   59.0  1.181727  4.077537\n",
       "15   3.53   61.1  1.261298  4.112512\n",
       "16   3.80   62.9  1.335001  4.141546\n",
       "17   4.07   64.3  1.403643  4.163560\n",
       "18   4.34   65.6  1.467874  4.183576\n",
       "19   4.61   67.3  1.528228  4.209160\n",
       "20  15.00  106.5  2.708050  4.668145\n",
       "21  25.00  130.0  3.218876  4.867534\n",
       "22  34.00  145.0  3.526361  4.976734\n",
       "23  53.00  175.0  3.970292  5.164786\n",
       "24  62.00  185.0  4.127134  5.220356"
      ]
     },
     "execution_count": 72,
     "metadata": {},
     "output_type": "execute_result"
    }
   ],
   "source": [
    "data_df"
   ]
  },
  {
   "cell_type": "code",
   "execution_count": 43,
   "metadata": {
    "collapsed": false
   },
   "outputs": [
    {
     "data": {
      "text/html": [
       "<table class=\"simpletable\">\n",
       "<caption>OLS Regression Results</caption>\n",
       "<tr>\n",
       "  <th>Dep. Variable:</th>         <td>log(R)</td>      <th>  R-squared:         </th> <td>   0.992</td>\n",
       "</tr>\n",
       "<tr>\n",
       "  <th>Model:</th>                   <td>OLS</td>       <th>  Adj. R-squared:    </th> <td>   0.992</td>\n",
       "</tr>\n",
       "<tr>\n",
       "  <th>Method:</th>             <td>Least Squares</td>  <th>  F-statistic:       </th> <td>   2886.</td>\n",
       "</tr>\n",
       "<tr>\n",
       "  <th>Date:</th>             <td>Sat, 21 Jan 2017</td> <th>  Prob (F-statistic):</th> <td>1.11e-25</td>\n",
       "</tr>\n",
       "<tr>\n",
       "  <th>Time:</th>                 <td>21:53:42</td>     <th>  Log-Likelihood:    </th> <td>  35.659</td>\n",
       "</tr>\n",
       "<tr>\n",
       "  <th>No. Observations:</th>      <td>    25</td>      <th>  AIC:               </th> <td>  -67.32</td>\n",
       "</tr>\n",
       "<tr>\n",
       "  <th>Df Residuals:</th>          <td>    23</td>      <th>  BIC:               </th> <td>  -64.88</td>\n",
       "</tr>\n",
       "<tr>\n",
       "  <th>Df Model:</th>              <td>     1</td>      <th>                     </th>     <td> </td>   \n",
       "</tr>\n",
       "<tr>\n",
       "  <th>Covariance Type:</th>      <td>nonrobust</td>    <th>                     </th>     <td> </td>   \n",
       "</tr>\n",
       "</table>\n",
       "<table class=\"simpletable\">\n",
       "<tr>\n",
       "     <td></td>       <th>coef</th>     <th>std err</th>      <th>t</th>      <th>P>|t|</th> <th>[95.0% Conf. Int.]</th> \n",
       "</tr>\n",
       "<tr>\n",
       "  <th>const</th>  <td>    3.5903</td> <td>    0.014</td> <td>  258.645</td> <td> 0.000</td> <td>    3.562     3.619</td>\n",
       "</tr>\n",
       "<tr>\n",
       "  <th>log(T)</th> <td>    0.4058</td> <td>    0.008</td> <td>   53.720</td> <td> 0.000</td> <td>    0.390     0.421</td>\n",
       "</tr>\n",
       "</table>\n",
       "<table class=\"simpletable\">\n",
       "<tr>\n",
       "  <th>Omnibus:</th>       <td>42.113</td> <th>  Durbin-Watson:     </th> <td>   0.680</td>\n",
       "</tr>\n",
       "<tr>\n",
       "  <th>Prob(Omnibus):</th> <td> 0.000</td> <th>  Jarque-Bera (JB):  </th> <td> 156.330</td>\n",
       "</tr>\n",
       "<tr>\n",
       "  <th>Skew:</th>          <td>-3.086</td> <th>  Prob(JB):          </th> <td>1.13e-34</td>\n",
       "</tr>\n",
       "<tr>\n",
       "  <th>Kurtosis:</th>      <td>13.583</td> <th>  Cond. No.          </th> <td>    2.29</td>\n",
       "</tr>\n",
       "</table>"
      ],
      "text/plain": [
       "<class 'statsmodels.iolib.summary.Summary'>\n",
       "\"\"\"\n",
       "                            OLS Regression Results                            \n",
       "==============================================================================\n",
       "Dep. Variable:                 log(R)   R-squared:                       0.992\n",
       "Model:                            OLS   Adj. R-squared:                  0.992\n",
       "Method:                 Least Squares   F-statistic:                     2886.\n",
       "Date:                Sat, 21 Jan 2017   Prob (F-statistic):           1.11e-25\n",
       "Time:                        21:53:42   Log-Likelihood:                 35.659\n",
       "No. Observations:                  25   AIC:                            -67.32\n",
       "Df Residuals:                      23   BIC:                            -64.88\n",
       "Df Model:                           1                                         \n",
       "Covariance Type:            nonrobust                                         \n",
       "==============================================================================\n",
       "                 coef    std err          t      P>|t|      [95.0% Conf. Int.]\n",
       "------------------------------------------------------------------------------\n",
       "const          3.5903      0.014    258.645      0.000         3.562     3.619\n",
       "log(T)         0.4058      0.008     53.720      0.000         0.390     0.421\n",
       "==============================================================================\n",
       "Omnibus:                       42.113   Durbin-Watson:                   0.680\n",
       "Prob(Omnibus):                  0.000   Jarque-Bera (JB):              156.330\n",
       "Skew:                          -3.086   Prob(JB):                     1.13e-34\n",
       "Kurtosis:                      13.583   Cond. No.                         2.29\n",
       "==============================================================================\n",
       "\n",
       "Warnings:\n",
       "[1] Standard Errors assume that the covariance matrix of the errors is correctly specified.\n",
       "\"\"\""
      ]
     },
     "execution_count": 43,
     "metadata": {},
     "output_type": "execute_result"
    }
   ],
   "source": [
    "import statsmodels.api as sm\n",
    "X = data_df['log(T)']\n",
    "X = sm.add_constant(X)\n",
    "y = data_df['log(R)']\n",
    "\n",
    "model = sm.OLS(y, X)\n",
    "results = model.fit()\n",
    "results.summary()"
   ]
  },
  {
   "cell_type": "code",
   "execution_count": 73,
   "metadata": {
    "collapsed": false
   },
   "outputs": [
    {
     "data": {
      "text/plain": [
       "const     3.590348\n",
       "log(T)    0.405823\n",
       "dtype: float64"
      ]
     },
     "execution_count": 73,
     "metadata": {},
     "output_type": "execute_result"
    }
   ],
   "source": [
    "results.params"
   ]
  },
  {
   "cell_type": "code",
   "execution_count": 71,
   "metadata": {
    "collapsed": false
   },
   "outputs": [
    {
     "data": {
      "text/plain": [
       "<matplotlib.legend.Legend at 0x110bc92d0>"
      ]
     },
     "execution_count": 71,
     "metadata": {},
     "output_type": "execute_result"
    },
    {
     "data": {
      "image/png": "[encoded data removed]",
      "text/plain": [
       "<matplotlib.figure.Figure at 0x110bc9790>"
      ]
     },
     "metadata": {},
     "output_type": "display_data"
    }
   ],
   "source": [
    "axes = data_df.plot.scatter(x='log(T)', y='log(R)', figsize=(12, 8), s=100)\n",
    "axes.add_line(plt.Line2D(data_df['log(T)'], results.predict(X), ls='--',\n",
    "             label='Regression line: log(R) = {m:.3f} * log(T) + {c:.3f}, R^2 = {r2:.3f}'\n",
    "            .format(m=results.params['log(T)'], c=results.params['const'], r2=results.rsquared)))\n",
    "axes.legend(loc=4)"
   ]
  },
  {
   "cell_type": "code",
   "execution_count": null,
   "metadata": {
    "collapsed": true
   },
   "outputs": [],
   "source": []
  }
 ],
 "metadata": {
  "kernelspec": {
   "display_name": "Python 2",
   "language": "python",
   "name": "python2"
  },
  "language_info": {
   "codemirror_mode": {
    "name": "ipython",
    "version": 2
   },
   "file_extension": ".py",
   "mimetype": "text/x-python",
   "name": "python",
   "nbconvert_exporter": "python",
   "pygments_lexer": "ipython2",
   "version": "2.7.10"
  }
 },
 "nbformat": 4,
 "nbformat_minor": 0
}
