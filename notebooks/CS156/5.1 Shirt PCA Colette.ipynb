{
 "cells": [
  {
   "cell_type": "code",
   "execution_count": 1,
   "metadata": {
    "collapsed": true
   },
   "outputs": [],
   "source": [
    "%matplotlib inline\n",
    "\n",
    "import numpy as np\n",
    "import matplotlib\n",
    "import matplotlib.pyplot as plt\n",
    "import sklearn\n",
    "from sklearn import linear_model, decomposition\n",
    "import skimage\n",
    "from skimage import io, transform\n",
    "\n",
    "matplotlib.style.use('ggplot')\n",
    "\n",
    "RANDOM_SEED = 123"
   ]
  },
  {
   "cell_type": "markdown",
   "metadata": {},
   "source": [
    "## Find the minimal dimensions"
   ]
  },
  {
   "cell_type": "code",
   "execution_count": 2,
   "metadata": {},
   "outputs": [
    {
     "name": "stdout",
     "output_type": "stream",
     "text": [
      "(70, 85, 3)\n",
      "(70, 52, 3)\n"
     ]
    }
   ],
   "source": [
    "from glob import glob\n",
    "\n",
    "min_x = (float('Inf'), float('Inf'))\n",
    "min_y = (float('Inf'), float('Inf'))\n",
    "\n",
    "for image in glob('./data/shirts/*/*'):\n",
    "    shape = io.imread(image).shape\n",
    "    if shape[0] < min_x[0]:\n",
    "        min_x = shape\n",
    "    if shape[1] < min_y[1]:\n",
    "        min_y = shape\n",
    "\n",
    "print(min_x)\n",
    "print(min_y)"
   ]
  },
  {
   "cell_type": "markdown",
   "metadata": {},
   "source": [
    "## Let's go with 100 x 100 images\n"
   ]
  },
  {
   "cell_type": "code",
   "execution_count": 3,
   "metadata": {
    "collapsed": true
   },
   "outputs": [],
   "source": [
    "NEW_SIZE = (100, 100, 3)\n",
    "all_shirts = io.imread_collection('./data/shirts/*/*')\n",
    "\n",
    "resized_images = []\n",
    "\n",
    "for image in all_shirts:\n",
    "#     io.imshow_collection([image, transform.resize(image, NEW_SIZE)])\n",
    "    resized_images.append(transform.resize(image, NEW_SIZE))\n",
    "    \n",
    "resized_array = np.array(resized_images)\n",
    "del(resized_images)"
   ]
  },
  {
   "cell_type": "markdown",
   "metadata": {},
   "source": [
    "## Center the images"
   ]
  },
  {
   "cell_type": "code",
   "execution_count": 4,
   "metadata": {},
   "outputs": [],
   "source": [
    "# TODO: compute the mean of all images, and subtract it from every image\n",
    "# making the new center of the array zero"
   ]
  },
  {
   "cell_type": "markdown",
   "metadata": {},
   "source": [
    "## Reshape for PCA"
   ]
  },
  {
   "cell_type": "code",
   "execution_count": 5,
   "metadata": {},
   "outputs": [],
   "source": [
    "# TODO: PCA doesn't want 100x100x3 images, it wants a single long vector for each image\n",
    "# keep the first dimension the same (each image is still an entry) but collape the other\n",
    "# the new shape of the array should be something like (number_of_images, 100 x 100 x 3)"
   ]
  },
  {
   "cell_type": "markdown",
   "metadata": {},
   "source": [
    "## PCA"
   ]
  },
  {
   "cell_type": "code",
   "execution_count": 6,
   "metadata": {
    "collapsed": true
   },
   "outputs": [],
   "source": [
    "# TODO: do some PCA using sklearn.docomposition.PCA\n",
    "# Use the explained_variance_ratio_ variable of the PCA to select how many components to use"
   ]
  },
  {
   "cell_type": "markdown",
   "metadata": {},
   "source": [
    "# Let's do some LDA instead\n",
    "\n",
    "## Start by reloading the images by class"
   ]
  },
  {
   "cell_type": "code",
   "execution_count": 7,
   "metadata": {
    "collapsed": true
   },
   "outputs": [],
   "source": [
    "NEW_SIZE = (100, 100, 3)\n",
    "formal_shirts = io.imread_collection('./shirts/formal_shirts/*')\n",
    "shirts_and_jerseys = io.imread_collection('./shirts/shirts_and_jerseys/*')\n",
    "\n",
    "resized_formal = []\n",
    "for image in formal_shirts:\n",
    "    resized_formal.append(transform.resize(image, NEW_SIZE))\n",
    "\n",
    "n_formal = len(resized_formal)\n",
    "    \n",
    "resized_shirts = []\n",
    "for image in shirts_and_jerseys:\n",
    "    resized_shirts.append(transform.resize(image, NEW_SIZE))\n",
    "\n",
    "n_jerseys = len(resized_shirts)\n",
    "\n",
    "resized_combined = np.concatenate((np.array(resized_formal), np.array(resized_shirts)))\n",
    "del(resized_formal)\n",
    "del(resized_shirts)"
   ]
  },
  {
   "cell_type": "markdown",
   "metadata": {},
   "source": [
    "## Center and reshape"
   ]
  },
  {
   "cell_type": "code",
   "execution_count": 10,
   "metadata": {
    "collapsed": true
   },
   "outputs": [],
   "source": [
    "# TODO: again, center and reshape, like we did before\n",
    "reshaped_combined = None "
   ]
  },
  {
   "cell_type": "markdown",
   "metadata": {},
   "source": [
    "## Split train-test to be able to assess classification accuracy (1)"
   ]
  },
  {
   "cell_type": "code",
   "execution_count": 9,
   "metadata": {},
   "outputs": [
    {
     "ename": "NameError",
     "evalue": "name 'reshaped_combined' is not defined",
     "output_type": "error",
     "traceback": [
      "\u001b[0;31m---------------------------------------------------------------------------\u001b[0m",
      "\u001b[0;31mNameError\u001b[0m                                 Traceback (most recent call last)",
      "\u001b[0;32m<ipython-input-9-111dfc7f58ad>\u001b[0m in \u001b[0;36m<module>\u001b[0;34m()\u001b[0m\n\u001b[1;32m      2\u001b[0m \u001b[0;34m\u001b[0m\u001b[0m\n\u001b[1;32m      3\u001b[0m \u001b[0mclasses\u001b[0m \u001b[0;34m=\u001b[0m \u001b[0;34m[\u001b[0m\u001b[0;36m1\u001b[0m\u001b[0;34m]\u001b[0m \u001b[0;34m*\u001b[0m \u001b[0mn_formal\u001b[0m \u001b[0;34m+\u001b[0m \u001b[0;34m[\u001b[0m\u001b[0;36m0\u001b[0m\u001b[0;34m]\u001b[0m \u001b[0;34m*\u001b[0m \u001b[0mn_jerseys\u001b[0m\u001b[0;34m\u001b[0m\u001b[0m\n\u001b[0;32m----> 4\u001b[0;31m X_train, X_test, y_train, y_test = train_test_split(reshaped_combined, classes, test_size=0.2, \n\u001b[0m\u001b[1;32m      5\u001b[0m                                                     stratify=classes, random_state=RANDOM_SEED) \n",
      "\u001b[0;31mNameError\u001b[0m: name 'reshaped_combined' is not defined"
     ]
    }
   ],
   "source": [
    "from sklearn.model_selection import train_test_split\n",
    "\n",
    "classes = [1] * n_formal + [0] * n_jerseys\n",
    "X_train, X_test, y_train, y_test = train_test_split(reshaped_combined, classes, test_size=0.2, \n",
    "                                                    stratify=classes, random_state=RANDOM_SEED) "
   ]
  },
  {
   "cell_type": "markdown",
   "metadata": {},
   "source": [
    "## Classify using the raw data (2)\n",
    "\n",
    "As computationally abhorrent as it might be - luckily the dataset is tiny"
   ]
  },
  {
   "cell_type": "code",
   "execution_count": null,
   "metadata": {},
   "outputs": [],
   "source": [
    "# TODO: classify using the raw pictures, X_train themselves"
   ]
  },
  {
   "cell_type": "markdown",
   "metadata": {},
   "source": [
    "## Classify using only PCA (3)"
   ]
  },
  {
   "cell_type": "code",
   "execution_count": null,
   "metadata": {},
   "outputs": [],
   "source": [
    "# TODO: classify using the PCA transformed images"
   ]
  },
  {
   "cell_type": "markdown",
   "metadata": {},
   "source": [
    "## Classify using LDA (4)"
   ]
  },
  {
   "cell_type": "code",
   "execution_count": null,
   "metadata": {},
   "outputs": [],
   "source": [
    "# TODO: classify using the LDA transformed images (even easier)"
   ]
  },
  {
   "cell_type": "code",
   "execution_count": null,
   "metadata": {
    "collapsed": true
   },
   "outputs": [],
   "source": []
  }
 ],
 "metadata": {
  "kernelspec": {
   "display_name": "Python 3",
   "language": "python",
   "name": "python3"
  },
  "language_info": {
   "codemirror_mode": {
    "name": "ipython",
    "version": 3
   },
   "file_extension": ".py",
   "mimetype": "text/x-python",
   "name": "python",
   "nbconvert_exporter": "python",
   "pygments_lexer": "ipython3",
   "version": "3.6.2"
  }
 },
 "nbformat": 4,
 "nbformat_minor": 2
}
