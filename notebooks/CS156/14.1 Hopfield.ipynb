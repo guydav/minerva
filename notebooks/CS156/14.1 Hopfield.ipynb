{
 "cells": [
  {
   "cell_type": "code",
   "execution_count": 1,
   "metadata": {
    "collapsed": true
   },
   "outputs": [],
   "source": [
    "%matplotlib inline"
   ]
  },
  {
   "cell_type": "code",
   "execution_count": 2,
   "metadata": {
    "collapsed": true
   },
   "outputs": [],
   "source": [
    "import pandas\n",
    "import numpy as np\n",
    "import matplotlib\n",
    "import matplotlib.pyplot as plt\n",
    "import matplotlib.gridspec as gridspec\n",
    "from mpl_toolkits.mplot3d import Axes3D\n",
    "import sklearn\n",
    "from datetime import datetime, date\n",
    "from sklearn_pandas import DataFrameMapper\n",
    "import warnings\n",
    "import timeit\n",
    "from collections import defaultdict, OrderedDict\n",
    "import tabulate\n",
    "import time\n",
    "\n",
    "timeit.template = \"\"\"\n",
    "def inner(_it, _timer{init}):\n",
    "    {setup}\n",
    "    _t0 = _timer()\n",
    "    for _i in _it:\n",
    "        retval = {stmt}\n",
    "    _t1 = _timer()\n",
    "    return _t1 - _t0, retval\n",
    "\"\"\"\n",
    "\n",
    "matplotlib.style.use('ggplot')\n",
    "\n",
    "RANDOM_SEED = 33"
   ]
  },
  {
   "cell_type": "markdown",
   "metadata": {},
   "source": [
    "## Hopfield network storing and recall rules"
   ]
  },
  {
   "cell_type": "code",
   "execution_count": 68,
   "metadata": {
    "collapsed": true
   },
   "outputs": [],
   "source": [
    "T_MAX = 1000\n",
    "\n",
    "\n",
    "def store(weights, memory, n):\n",
    "    if weights.shape[0] != memory.shape[0]:\n",
    "        raise ValueError('Weights and memory should have same first dimension')\n",
    "        \n",
    "    if 1 == len(memory.shape):\n",
    "        memory = memory[:, np.newaxis]\n",
    "        \n",
    "    weights = ((n - 1) * weights + memory.dot(memory.T)) / n\n",
    "    weights = weights - np.diag(np.diag(weights))  # clear out the diagonal\n",
    "    \n",
    "    return weights\n",
    "\n",
    "\n",
    "def binary_activation(x):\n",
    "    return np.where(x > 0, 1, -1)\n",
    "    \n",
    "    \n",
    "def synchronous_recall(weights, memory, \n",
    "                       activation_func=binary_activation, \n",
    "                       t_max=T_MAX,\n",
    "                       debug=False):\n",
    "    x_prev = memory\n",
    "    \n",
    "    for t in range(t_max):\n",
    "        a = weights.dot(x_prev)\n",
    "        x = activation_func(a)\n",
    "        if debug: print(x_prev, x)\n",
    "        if np.all(x_prev == x):\n",
    "            return x\n",
    "        \n",
    "        x_prev = x\n",
    "        \n",
    "    raise ValueError('Failed to converge in {t} iterations'.format(t=t_max))\n",
    "    \n",
    "\n",
    "def asynchronous_recall(weights, memory, \n",
    "                       activation_func=binary_activation, \n",
    "                       t_max=T_MAX,\n",
    "                       debug=False):\n",
    "    x_prev = memory\n",
    "    \n",
    "    for t in range(t_max):\n",
    "        x = x_prev.copy()\n",
    "        order = np.asarray(range(weights.shape[0]))\n",
    "        np.random.shuffle(order)\n",
    "        \n",
    "        for i in order:\n",
    "            a_i = weights[i,:].dot(x)\n",
    "            x[i] = activation_func(a_i)\n",
    "            \n",
    "            \n",
    "        if debug: print(x_prev, x)\n",
    "        if np.all(x_prev == x):\n",
    "            return x\n",
    "        \n",
    "        x_prev = x\n",
    "        \n",
    "    raise ValueError('Failed to converge in {t} iterations'.format(t=t_max))"
   ]
  },
  {
   "cell_type": "markdown",
   "metadata": {},
   "source": [
    "Quick test"
   ]
  },
  {
   "cell_type": "code",
   "execution_count": 69,
   "metadata": {},
   "outputs": [
    {
     "name": "stdout",
     "output_type": "stream",
     "text": [
      "[[ 0.  1.  1. -1. -1. -1.]\n",
      " [ 1.  0.  1. -1. -1. -1.]\n",
      " [ 1.  1.  0. -1. -1. -1.]\n",
      " [-1. -1. -1.  0.  1.  1.]\n",
      " [-1. -1. -1.  1.  0.  1.]\n",
      " [-1. -1. -1.  1.  1.  0.]]\n",
      "[ 1  1  1 -1 -1 -1]\n"
     ]
    }
   ],
   "source": [
    "memory = np.asarray([1, 1, 1, -1, -1, -1])\n",
    "weights = np.zeros((6, 6))\n",
    "\n",
    "weights = store(weights, memory, 1)\n",
    "print(weights)\n",
    "print(synchronous_recall(weights, np.asarray([1, 1, -1, -1, -1, -1]), t_max=10))"
   ]
  },
  {
   "cell_type": "markdown",
   "metadata": {},
   "source": [
    "## Capacity test and scaling behavior"
   ]
  },
  {
   "cell_type": "code",
   "execution_count": 83,
   "metadata": {},
   "outputs": [
    {
     "data": {
      "image/png": "[encoded data removed]",
      "text/plain": [
       "<matplotlib.figure.Figure at 0x10a4099b0>"
      ]
     },
     "metadata": {},
     "output_type": "display_data"
    }
   ],
   "source": [
    "FONT_SIZE = 12\n",
    "\n",
    "\n",
    "def capacity(n, recall_rule=synchronous_recall,\n",
    "             activation_func=binary_activation, \n",
    "             t_max=T_MAX):\n",
    "    weights = np.zeros((n, n))\n",
    "    recalls = 0\n",
    "    \n",
    "    while True:\n",
    "        memory = np.random.choice((1, -1), (n, 1))\n",
    "        weights = store(weights, memory, recalls + 1)\n",
    "        \n",
    "        corrupted_memory = memory.copy()\n",
    "        corrupted_memory[np.random.randint(0, n)] *= -1\n",
    "    \n",
    "        try:\n",
    "            result = recall_rule(weights, corrupted_memory, \n",
    "                                 activation_func, t_max)\n",
    "            \n",
    "            if not np.all(result == memory):\n",
    "                break\n",
    "                \n",
    "            recalls += 1\n",
    "            \n",
    "        except ValueError:\n",
    "            break\n",
    "            \n",
    "    return recalls\n",
    "\n",
    "\n",
    "def scaling_behavior(n_values, repeat=10, logx=False, logy=False,\n",
    "                    recall_rule=synchronous_recall,\n",
    "                    activation_func=binary_activation, \n",
    "                    t_max=T_MAX):\n",
    "    \n",
    "    results = [np.mean([capacity(n, recall_rule, activation_func, t_max)\n",
    "                       for _ in range(repeat)]) \n",
    "               for n in n_values]\n",
    "    \n",
    "    fig = plt.figure(figsize=(12, 9))\n",
    "    ax = fig.add_subplot(111) \n",
    "    ax.scatter(n_values, results, label='Average capacity over {r} trials'.format(r=repeat))\n",
    "    ax.plot(n_values, results)\n",
    "    \n",
    "    if logx:\n",
    "        ax.set_xscale(\"log\", nonposx='clip')\n",
    "\n",
    "    if logy:\n",
    "        ax.set_yscale(\"log\", nonposy='clip')\n",
    "        \n",
    "    ax.legend(loc=2, fontsize=FONT_SIZE)\n",
    "    ax.set_xlabel('Network size', size=FONT_SIZE)\n",
    "    ax.set_ylabel('Average capacity', size=FONT_SIZE)\n",
    "    ax.set_title('Hopfield network capacity scaling')\n",
    "    \n",
    "    plt.show()\n",
    "    \n",
    "    \n",
    "scaling_behavior([2 ** x for x in range(1, 11)])"
   ]
  },
  {
   "cell_type": "code",
   "execution_count": 78,
   "metadata": {},
   "outputs": [],
   "source": []
  },
  {
   "cell_type": "code",
   "execution_count": 17,
   "metadata": {},
   "outputs": [
    {
     "data": {
      "text/plain": [
       "array([ 1,  1, -1,  1, -1, -1])"
      ]
     },
     "execution_count": 17,
     "metadata": {},
     "output_type": "execute_result"
    }
   ],
   "source": []
  },
  {
   "cell_type": "code",
   "execution_count": null,
   "metadata": {
    "collapsed": true
   },
   "outputs": [],
   "source": []
  }
 ],
 "metadata": {
  "kernelspec": {
   "display_name": "Python 3",
   "language": "python",
   "name": "python3"
  },
  "language_info": {
   "codemirror_mode": {
    "name": "ipython",
    "version": 3
   },
   "file_extension": ".py",
   "mimetype": "text/x-python",
   "name": "python",
   "nbconvert_exporter": "python",
   "pygments_lexer": "ipython3",
   "version": "3.6.3"
  }
 },
 "nbformat": 4,
 "nbformat_minor": 2
}
