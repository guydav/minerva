{
 "cells": [
  {
   "cell_type": "code",
   "execution_count": 1,
   "metadata": {
    "collapsed": true
   },
   "outputs": [],
   "source": [
    "%matplotlib inline\n",
    "\n",
    "import pandas\n",
    "import numpy as np\n",
    "import matplotlib\n",
    "import matplotlib.pyplot as plt\n",
    "import sklearn\n",
    "import sklearn.linear_model\n",
    "from datetime import datetime\n",
    "import statsmodels.api as sm\n",
    "import statsmodels.formula.api as smf\n",
    "from sklearn_pandas import DataFrameMapper\n",
    "import warnings\n",
    "\n",
    "matplotlib.style.use('ggplot')"
   ]
  },
  {
   "cell_type": "code",
   "execution_count": 2,
   "metadata": {},
   "outputs": [
    {
     "data": {
      "text/html": [
       "<div>\n",
       "<table border=\"1\" class=\"dataframe\">\n",
       "  <thead>\n",
       "    <tr style=\"text-align: right;\">\n",
       "      <th></th>\n",
       "      <th>total_followers</th>\n",
       "      <th>type</th>\n",
       "      <th>category</th>\n",
       "      <th>month</th>\n",
       "      <th>weekday</th>\n",
       "      <th>hour</th>\n",
       "      <th>paid</th>\n",
       "      <th>comment</th>\n",
       "      <th>like</th>\n",
       "      <th>share</th>\n",
       "    </tr>\n",
       "  </thead>\n",
       "  <tbody>\n",
       "    <tr>\n",
       "      <th>0</th>\n",
       "      <td>124050</td>\n",
       "      <td>Photo</td>\n",
       "      <td>3</td>\n",
       "      <td>6</td>\n",
       "      <td>4</td>\n",
       "      <td>17</td>\n",
       "      <td>1</td>\n",
       "      <td>3</td>\n",
       "      <td>77</td>\n",
       "      <td>16</td>\n",
       "    </tr>\n",
       "    <tr>\n",
       "      <th>1</th>\n",
       "      <td>132556</td>\n",
       "      <td>Photo</td>\n",
       "      <td>2</td>\n",
       "      <td>8</td>\n",
       "      <td>3</td>\n",
       "      <td>24</td>\n",
       "      <td>0</td>\n",
       "      <td>11</td>\n",
       "      <td>313</td>\n",
       "      <td>50</td>\n",
       "    </tr>\n",
       "    <tr>\n",
       "      <th>2</th>\n",
       "      <td>92786</td>\n",
       "      <td>Photo</td>\n",
       "      <td>2</td>\n",
       "      <td>2</td>\n",
       "      <td>6</td>\n",
       "      <td>17</td>\n",
       "      <td>1</td>\n",
       "      <td>2</td>\n",
       "      <td>145</td>\n",
       "      <td>39</td>\n",
       "    </tr>\n",
       "    <tr>\n",
       "      <th>3</th>\n",
       "      <td>135632</td>\n",
       "      <td>Photo</td>\n",
       "      <td>1</td>\n",
       "      <td>9</td>\n",
       "      <td>2</td>\n",
       "      <td>1</td>\n",
       "      <td>0</td>\n",
       "      <td>2</td>\n",
       "      <td>299</td>\n",
       "      <td>49</td>\n",
       "    </tr>\n",
       "    <tr>\n",
       "      <th>4</th>\n",
       "      <td>139540</td>\n",
       "      <td>Link</td>\n",
       "      <td>1</td>\n",
       "      <td>12</td>\n",
       "      <td>3</td>\n",
       "      <td>17</td>\n",
       "      <td>1</td>\n",
       "      <td>7</td>\n",
       "      <td>229</td>\n",
       "      <td>21</td>\n",
       "    </tr>\n",
       "  </tbody>\n",
       "</table>\n",
       "</div>"
      ],
      "text/plain": [
       "   total_followers   type  category  month  weekday  hour  paid  comment  \\\n",
       "0           124050  Photo         3      6        4    17     1        3   \n",
       "1           132556  Photo         2      8        3    24     0       11   \n",
       "2            92786  Photo         2      2        6    17     1        2   \n",
       "3           135632  Photo         1      9        2     1     0        2   \n",
       "4           139540   Link         1     12        3    17     1        7   \n",
       "\n",
       "   like  share  \n",
       "0    77     16  \n",
       "1   313     50  \n",
       "2   145     39  \n",
       "3   299     49  \n",
       "4   229     21  "
      ]
     },
     "execution_count": 2,
     "metadata": {},
     "output_type": "execute_result"
    }
   ],
   "source": [
    "facebook_data = pandas.read_csv('./facebook_train.csv')\n",
    "facebook_data.head()"
   ]
  },
  {
   "cell_type": "code",
   "execution_count": 3,
   "metadata": {},
   "outputs": [
    {
     "data": {
      "text/plain": [
       "array([[<matplotlib.axes._subplots.AxesSubplot object at 0x11f3dce10>]], dtype=object)"
      ]
     },
     "execution_count": 3,
     "metadata": {},
     "output_type": "execute_result"
    },
    {
     "data": {
      "image/png": "[encoded data removed]",
      "text/plain": [
       "<matplotlib.figure.Figure at 0x11bf7b048>"
      ]
     },
     "metadata": {},
     "output_type": "display_data"
    },
    {
     "data": {
      "image/png": "[encoded data removed]",
      "text/plain": [
       "<matplotlib.figure.Figure at 0x11bf7b1d0>"
      ]
     },
     "metadata": {},
     "output_type": "display_data"
    },
    {
     "data": {
      "image/png": "[encoded data removed]",
      "text/plain": [
       "<matplotlib.figure.Figure at 0x11f2fe0b8>"
      ]
     },
     "metadata": {},
     "output_type": "display_data"
    }
   ],
   "source": [
    "facebook_data.hist('like')\n",
    "\n",
    "facebook_data['log_like'] = np.log(facebook_data.like + 1)\n",
    "facebook_data.hist(column='log_like')\n",
    "\n",
    "facebook_data['normalized_log_like'] = (facebook_data.log_like - np.average(facebook_data.log_like)) / np.std(facebook_data.log_like)\n",
    "# sklearn.preprocessing.normalize(facebook_data.log_like.as_matrix().reshape(1, -1))[0]\n",
    "facebook_data.hist(column='normalized_log_like')\n"
   ]
  },
  {
   "cell_type": "code",
   "execution_count": 4,
   "metadata": {},
   "outputs": [
    {
     "data": {
      "text/plain": [
       "((347, 12), (50, 12))"
      ]
     },
     "execution_count": 4,
     "metadata": {},
     "output_type": "execute_result"
    }
   ],
   "source": [
    "np.random.seed(33)\n",
    "\n",
    "test_indices = np.random.choice(range(len(facebook_data)), 50, replace=False)\n",
    "train_indices = np.setdiff1d(range(len(facebook_data)), test_indices)\n",
    "\n",
    "data_test = facebook_data.iloc[test_indices, :]\n",
    "data_train = facebook_data.iloc[np.setdiff1d(range(len(facebook_data)), test_indices), :]\n",
    "data_train.shape, data_test.shape"
   ]
  },
  {
   "cell_type": "code",
   "execution_count": 5,
   "metadata": {},
   "outputs": [
    {
     "name": "stderr",
     "output_type": "stream",
     "text": [
      "/Users/guydavidson/anaconda/lib/python3.6/site-packages/sklearn/utils/validation.py:429: DataConversionWarning: Data with input dtype int64 was converted to float64 by StandardScaler.\n",
      "  warnings.warn(msg, _DataConversionWarning)\n"
     ]
    },
    {
     "data": {
      "text/plain": [
       "(397, 31)"
      ]
     },
     "execution_count": 5,
     "metadata": {},
     "output_type": "execute_result"
    }
   ],
   "source": [
    "data_mapper = DataFrameMapper([\n",
    "    (['total_followers'], sklearn.preprocessing.StandardScaler()),\n",
    "    ('type', sklearn.preprocessing.LabelBinarizer()),\n",
    "    (['category'], sklearn.preprocessing.OneHotEncoder()),\n",
    "    (['month'], sklearn.preprocessing.OneHotEncoder()),\n",
    "    (['weekday'], sklearn.preprocessing.OneHotEncoder()),\n",
    "    ('hour', None),\n",
    "    ('paid', None),\n",
    "    (['comment'], sklearn.preprocessing.StandardScaler()),\n",
    "#    ('like', None),\n",
    "    (['share'], sklearn.preprocessing.StandardScaler())\n",
    "])\n",
    "\n",
    "transformed_data = data_mapper.fit_transform(facebook_data.copy())\n",
    "transformed_data.shape"
   ]
  },
  {
   "cell_type": "code",
   "execution_count": 6,
   "metadata": {
    "collapsed": true
   },
   "outputs": [],
   "source": [
    "# facebook_data.groupby('hour').mean()"
   ]
  },
  {
   "cell_type": "code",
   "execution_count": 16,
   "metadata": {},
   "outputs": [
    {
     "name": "stdout",
     "output_type": "stream",
     "text": [
      "3 0.623857142857 [ 0.402  0.849  0.296  0.738  0.674  0.693  0.715]\n",
      "4 0.696142857143 [ 0.79   0.723  0.466  0.766  0.607  0.761  0.76 ]\n",
      "5 0.518714285714 [ 0.862  0.464  0.694  0.801 -0.238  0.331  0.717]\n",
      "6 0.707 [ 0.733  0.704  0.796  0.807  0.591  0.617  0.701]\n",
      "7 0.631714285714 [ 0.881  0.774  0.178  0.503  0.725  0.688  0.673]\n",
      "8 0.684857142857 [ 0.817  0.611  0.667  0.571  0.779  0.747  0.602]\n",
      "9 0.649 [ 0.7    0.558  0.521  0.585  0.818  0.539  0.822]\n",
      "10 0.628 [ 0.787  0.706  0.717  0.611  0.369  0.685  0.521]\n",
      "11 0.648428571429 [ 0.301  0.549  0.888  0.605  0.696  0.768  0.732]\n",
      "12 0.651571428571 [ 0.633  0.848  0.659  0.642  0.784  0.342  0.653]\n",
      "13 0.618714285714 [ 0.483  0.616  0.658  0.645  0.765  0.811  0.353]\n",
      "14 0.605571428571 [ 0.72   0.755  0.658  0.658  0.752  0.552  0.144]\n",
      "15 0.705285714286 [ 0.925  0.635  0.76   0.693  0.625  0.604  0.695]\n"
     ]
    }
   ],
   "source": [
    "from sklearn.cross_validation import cross_val_score\n",
    "\n",
    "np.random.seed(33)\n",
    "\n",
    "pipe = sklearn.pipeline.Pipeline([\n",
    "    ('featurize', data_mapper),\n",
    "    ('select', sklearn.feature_selection.SelectKBest(sklearn.feature_selection.f_regression)),\n",
    "    ('lm', sklearn.linear_model.RidgeCV())])\n",
    "\n",
    "with warnings.catch_warnings():\n",
    "    warnings.simplefilter(\"ignore\")\n",
    "    \n",
    "    for k in range(3, 16):\n",
    "        pipe.set_params(select__k=k)\n",
    "        shuffled = data_train.sample(frac=1)\n",
    "        cv_scores = np.round(cross_val_score(pipe, X=shuffled, y=shuffled.like, scoring='r2', cv=7), 3)\n",
    "        print (k, np.average(cv_scores), cv_scores)"
   ]
  },
  {
   "cell_type": "code",
   "execution_count": 18,
   "metadata": {},
   "outputs": [
    {
     "name": "stdout",
     "output_type": "stream",
     "text": [
      "mean_squared_error 41876.1826152\n",
      "mean_absolute_error 76.6530416009\n",
      "median_absolute_error 37.1747873914\n",
      "r2_score 0.959872239691\n"
     ]
    },
    {
     "name": "stderr",
     "output_type": "stream",
     "text": [
      "/Users/guydavidson/anaconda/lib/python3.6/site-packages/sklearn/utils/validation.py:429: DataConversionWarning: Data with input dtype int64 was converted to float64 by StandardScaler.\n",
      "  warnings.warn(msg, _DataConversionWarning)\n"
     ]
    }
   ],
   "source": [
    "from sklearn.metrics import mean_squared_error\n",
    "from sklearn import metrics\n",
    "\n",
    "optimal_k = 6\n",
    "pipe.set_params(select__k=optimal_k)\n",
    "shuffled = data_train.sample(frac=1)\n",
    "pipe.fit(shuffled, shuffled.like)\n",
    "\n",
    "test_predictions = pipe.predict(data_test)\n",
    "\n",
    "for metric in (metrics.mean_squared_error, metrics.mean_absolute_error, \n",
    "               metrics.median_absolute_error, metrics.r2_score): \n",
    "    print(metric.__name__, metric(test_predictions, data_test.like))"
   ]
  },
  {
   "cell_type": "code",
   "execution_count": 14,
   "metadata": {},
   "outputs": [
    {
     "data": {
      "text/html": [
       "<div>\n",
       "<table border=\"1\" class=\"dataframe\">\n",
       "  <thead>\n",
       "    <tr style=\"text-align: right;\">\n",
       "      <th></th>\n",
       "      <th>total_followers</th>\n",
       "      <th>type</th>\n",
       "      <th>category</th>\n",
       "      <th>month</th>\n",
       "      <th>weekday</th>\n",
       "      <th>hour</th>\n",
       "      <th>paid</th>\n",
       "      <th>comment</th>\n",
       "      <th>like</th>\n",
       "      <th>share</th>\n",
       "      <th>log_like</th>\n",
       "      <th>normalized_log_like</th>\n",
       "    </tr>\n",
       "  </thead>\n",
       "  <tbody>\n",
       "    <tr>\n",
       "      <th>0</th>\n",
       "      <td>124050</td>\n",
       "      <td>Photo</td>\n",
       "      <td>3</td>\n",
       "      <td>6</td>\n",
       "      <td>4</td>\n",
       "      <td>17</td>\n",
       "      <td>1</td>\n",
       "      <td>3</td>\n",
       "      <td>77</td>\n",
       "      <td>16</td>\n",
       "      <td>4.356709</td>\n",
       "      <td>-0.329601</td>\n",
       "    </tr>\n",
       "    <tr>\n",
       "      <th>1</th>\n",
       "      <td>132556</td>\n",
       "      <td>Photo</td>\n",
       "      <td>2</td>\n",
       "      <td>8</td>\n",
       "      <td>3</td>\n",
       "      <td>24</td>\n",
       "      <td>0</td>\n",
       "      <td>11</td>\n",
       "      <td>313</td>\n",
       "      <td>50</td>\n",
       "      <td>5.749393</td>\n",
       "      <td>0.808590</td>\n",
       "    </tr>\n",
       "    <tr>\n",
       "      <th>2</th>\n",
       "      <td>92786</td>\n",
       "      <td>Photo</td>\n",
       "      <td>2</td>\n",
       "      <td>2</td>\n",
       "      <td>6</td>\n",
       "      <td>17</td>\n",
       "      <td>1</td>\n",
       "      <td>2</td>\n",
       "      <td>145</td>\n",
       "      <td>39</td>\n",
       "      <td>4.983607</td>\n",
       "      <td>0.182740</td>\n",
       "    </tr>\n",
       "    <tr>\n",
       "      <th>3</th>\n",
       "      <td>135632</td>\n",
       "      <td>Photo</td>\n",
       "      <td>1</td>\n",
       "      <td>9</td>\n",
       "      <td>2</td>\n",
       "      <td>1</td>\n",
       "      <td>0</td>\n",
       "      <td>2</td>\n",
       "      <td>299</td>\n",
       "      <td>49</td>\n",
       "      <td>5.703782</td>\n",
       "      <td>0.771314</td>\n",
       "    </tr>\n",
       "    <tr>\n",
       "      <th>4</th>\n",
       "      <td>139540</td>\n",
       "      <td>Link</td>\n",
       "      <td>1</td>\n",
       "      <td>12</td>\n",
       "      <td>3</td>\n",
       "      <td>17</td>\n",
       "      <td>1</td>\n",
       "      <td>7</td>\n",
       "      <td>229</td>\n",
       "      <td>21</td>\n",
       "      <td>5.438079</td>\n",
       "      <td>0.554164</td>\n",
       "    </tr>\n",
       "  </tbody>\n",
       "</table>\n",
       "</div>"
      ],
      "text/plain": [
       "   total_followers   type  category  month  weekday  hour  paid  comment  \\\n",
       "0           124050  Photo         3      6        4    17     1        3   \n",
       "1           132556  Photo         2      8        3    24     0       11   \n",
       "2            92786  Photo         2      2        6    17     1        2   \n",
       "3           135632  Photo         1      9        2     1     0        2   \n",
       "4           139540   Link         1     12        3    17     1        7   \n",
       "\n",
       "   like  share  log_like  normalized_log_like  \n",
       "0    77     16  4.356709            -0.329601  \n",
       "1   313     50  5.749393             0.808590  \n",
       "2   145     39  4.983607             0.182740  \n",
       "3   299     49  5.703782             0.771314  \n",
       "4   229     21  5.438079             0.554164  "
      ]
     },
     "execution_count": 14,
     "metadata": {},
     "output_type": "execute_result"
    }
   ],
   "source": [
    "facebook_test_data = pandas.read_csv('./facebook_train.csv')\n",
    "facebook_test_data['log_like'] = np.log(facebook_data.like + 1)\n",
    "facebook_test_data['normalized_log_like'] = (facebook_test_data.log_like - np.average(facebook_test_data.log_like)) / np.std(facebook_test_data.log_like)\n",
    "\n",
    "facebook_test_data.head()"
   ]
  },
  {
   "cell_type": "code",
   "execution_count": 20,
   "metadata": {},
   "outputs": [
    {
     "name": "stdout",
     "output_type": "stream",
     "text": [
      "mean_squared_error 27673.4956137\n",
      "mean_absolute_error 84.359067244\n",
      "median_absolute_error 39.9487021339\n",
      "r2_score 0.854382173293\n"
     ]
    },
    {
     "name": "stderr",
     "output_type": "stream",
     "text": [
      "/Users/guydavidson/anaconda/lib/python3.6/site-packages/sklearn/utils/validation.py:429: DataConversionWarning: Data with input dtype int64 was converted to float64 by StandardScaler.\n",
      "  warnings.warn(msg, _DataConversionWarning)\n"
     ]
    }
   ],
   "source": [
    "new_test_predictions = pipe.predict(facebook_test_data)\n",
    "\n",
    "for metric in (metrics.mean_squared_error, metrics.mean_absolute_error, \n",
    "               metrics.median_absolute_error, metrics.r2_score): \n",
    "    print(metric.__name__, metric(new_test_predictions, facebook_test_data.like))"
   ]
  },
  {
   "cell_type": "code",
   "execution_count": null,
   "metadata": {
    "collapsed": true
   },
   "outputs": [],
   "source": []
  }
 ],
 "metadata": {
  "kernelspec": {
   "display_name": "Python 3",
   "language": "python",
   "name": "python3"
  },
  "language_info": {
   "codemirror_mode": {
    "name": "ipython",
    "version": 3
   },
   "file_extension": ".py",
   "mimetype": "text/x-python",
   "name": "python",
   "nbconvert_exporter": "python",
   "pygments_lexer": "ipython3",
   "version": "3.6.2"
  }
 },
 "nbformat": 4,
 "nbformat_minor": 2
}
