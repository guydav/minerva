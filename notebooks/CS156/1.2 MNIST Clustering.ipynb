{
 "cells": [
  {
   "cell_type": "code",
   "execution_count": 2,
   "metadata": {
    "collapsed": true
   },
   "outputs": [],
   "source": [
    "%matplotlib inline\n",
    "\n",
    "import pandas\n",
    "import numpy as np\n",
    "import matplotlib\n",
    "import matplotlib.pyplot as plt\n",
    "import sklearn\n",
    "matplotlib.style.use('ggplot')"
   ]
  },
  {
   "cell_type": "markdown",
   "metadata": {},
   "source": [
    "## Load and plot sample data"
   ]
  },
  {
   "cell_type": "code",
   "execution_count": 3,
   "metadata": {
    "collapsed": true
   },
   "outputs": [],
   "source": [
    "from sklearn.datasets import load_digits\n",
    "digits = load_digits()\n",
    "digits.data.shape"
   ]
  },
  {
   "cell_type": "code",
   "execution_count": 10,
   "metadata": {},
   "outputs": [
    {
     "data": {
      "text/plain": [
       "<matplotlib.figure.Figure at 0x11c8506a0>"
      ]
     },
     "metadata": {},
     "output_type": "display_data"
    },
    {
     "data": {
      "image/png": "[encoded data removed]",
      "text/plain": [
       "<matplotlib.figure.Figure at 0x11c829400>"
      ]
     },
     "metadata": {},
     "output_type": "display_data"
    },
    {
     "data": {
      "text/plain": [
       "<matplotlib.figure.Figure at 0x11cac9518>"
      ]
     },
     "metadata": {},
     "output_type": "display_data"
    },
    {
     "data": {
      "image/png": "[encoded data removed]",
      "text/plain": [
       "<matplotlib.figure.Figure at 0x11cadba58>"
      ]
     },
     "metadata": {},
     "output_type": "display_data"
    },
    {
     "data": {
      "text/plain": [
       "<matplotlib.figure.Figure at 0x11c8297b8>"
      ]
     },
     "metadata": {},
     "output_type": "display_data"
    },
    {
     "data": {
      "image/png": "[encoded data removed]",
      "text/plain": [
       "<matplotlib.figure.Figure at 0x11c82fe48>"
      ]
     },
     "metadata": {},
     "output_type": "display_data"
    },
    {
     "data": {
      "text/plain": [
       "<matplotlib.figure.Figure at 0x11bf693c8>"
      ]
     },
     "metadata": {},
     "output_type": "display_data"
    },
    {
     "data": {
      "image/png": "[encoded data removed]",
      "text/plain": [
       "<matplotlib.figure.Figure at 0x11c44ccf8>"
      ]
     },
     "metadata": {},
     "output_type": "display_data"
    },
    {
     "data": {
      "text/plain": [
       "<matplotlib.figure.Figure at 0x11c44c320>"
      ]
     },
     "metadata": {},
     "output_type": "display_data"
    },
    {
     "data": {
      "image/png": "[encoded data removed]",
      "text/plain": [
       "<matplotlib.figure.Figure at 0x11c84d7f0>"
      ]
     },
     "metadata": {},
     "output_type": "display_data"
    }
   ],
   "source": [
    "for i in range(5):\n",
    "    plt.gray() \n",
    "    plt.matshow(digits.images[i]) \n",
    "    plt.show() "
   ]
  },
  {
   "cell_type": "markdown",
   "metadata": {},
   "source": [
    "## Two-class train and test split\n",
    "For each of the two classes I chose (7 and 8), read out the indices of the relevant class, pick 15 entries to serve a test set for that class, and use the rest as the training set. Then combine the two into training and test sets.\n",
    "\n",
    "Set seed to make sure it's repeatable, and display the shapes as a sanity check."
   ]
  },
  {
   "cell_type": "code",
   "execution_count": 69,
   "metadata": {},
   "outputs": [
    {
     "data": {
      "text/plain": [
       "((30,), (324,))"
      ]
     },
     "execution_count": 69,
     "metadata": {},
     "output_type": "execute_result"
    }
   ],
   "source": [
    "np.random.seed(33)\n",
    "\n",
    "data_indices_7 = np.where(digits.target == 7)[0]\n",
    "test_indices_7 = np.random.choice(data_indices_7, 15)\n",
    "train_indices_7 = np.setdiff1d(data_indices_7, test_indices_7)\n",
    "\n",
    "data_indices_8 = np.where(digits.target == 8)[0]\n",
    "test_indices_8 = np.random.choice(data_indices_8, 15)\n",
    "train_indices_8 = np.setdiff1d(data_indices_8, test_indices_8)\n",
    "\n",
    "test_indices = np.concatenate([test_indices_7, test_indices_8])\n",
    "train_indices = np.concatenate([train_indices_7, train_indices_8])\n",
    "test_indices.shape, train_indices.shape"
   ]
  },
  {
   "cell_type": "code",
   "execution_count": 70,
   "metadata": {},
   "outputs": [
    {
     "data": {
      "text/plain": [
       "((324, 64), (324,))"
      ]
     },
     "execution_count": 70,
     "metadata": {},
     "output_type": "execute_result"
    }
   ],
   "source": [
    "train_set_x = digits.data[train_indices]\n",
    "train_set_y = digits.target[train_indices]\n",
    "\n",
    "train_set_x.shape, train_set_y.shape"
   ]
  },
  {
   "cell_type": "markdown",
   "metadata": {},
   "source": [
    "## Cross-validate choice of K\n",
    "5-fold cross validation for the choice of $k$, keeping all other KNN parameters to their default (tree size, distance metric, and so on)"
   ]
  },
  {
   "cell_type": "code",
   "execution_count": 71,
   "metadata": {
    "collapsed": true
   },
   "outputs": [],
   "source": [
    "from sklearn.neighbors import KNeighborsClassifier as KNN\n",
    "from sklearn.model_selection import cross_val_score"
   ]
  },
  {
   "cell_type": "code",
   "execution_count": 72,
   "metadata": {},
   "outputs": [
    {
     "name": "stdout",
     "output_type": "stream",
     "text": [
      "1 0.996923076923 [ 1.          1.          1.          0.98461538  1.        ]\n",
      "3 1.0 [ 1.  1.  1.  1.  1.]\n",
      "5 0.996875 [ 1.        1.        1.        1.        0.984375]\n",
      "7 0.996875 [ 1.        1.        1.        1.        0.984375]\n",
      "9 0.996875 [ 1.        1.        1.        1.        0.984375]\n"
     ]
    }
   ],
   "source": [
    "# cross_valiate over values of K\n",
    "np.random.seed(33)\n",
    "for k in range(1, 10, 2):\n",
    "    knn = KNN(n_neighbors=k)\n",
    "    cv = cross_val_score(knn, train_set_x, train_set_y, cv=5)\n",
    "    print(k, np.mean(cv), cv)\n"
   ]
  },
  {
   "cell_type": "markdown",
   "metadata": {},
   "source": [
    "## Test k=3 on test set\n",
    "Create a new model with the optimal choice of $k=3$, fit the model on the entire training set, and test it on the *break glass to use* test set"
   ]
  },
  {
   "cell_type": "code",
   "execution_count": 73,
   "metadata": {},
   "outputs": [
    {
     "data": {
      "text/plain": [
       "1.0"
      ]
     },
     "execution_count": 73,
     "metadata": {},
     "output_type": "execute_result"
    }
   ],
   "source": [
    "test_set_x = digits.data[test_indices]\n",
    "test_set_y = digits.target[test_indices]\n",
    "\n",
    "optimal_k = 3\n",
    "knn = KNN(optimal_k)\n",
    "knn.fit(train_set_x, train_set_y)\n",
    "knn.score(test_set_x, test_set_y)"
   ]
  },
  {
   "cell_type": "markdown",
   "metadata": {},
   "source": [
    "## Running the same routine on all ten classes\n",
    "Using a test set of 150 random items, unbalanced from the data (or rather, balanced on expectation, not by drawing 15 entries from each class)"
   ]
  },
  {
   "cell_type": "code",
   "execution_count": 74,
   "metadata": {
    "collapsed": true
   },
   "outputs": [],
   "source": [
    "np.random.seed(33)\n",
    "all_indices = np.array(range(len(digits.target)))\n",
    "all_test_indices = np.random.choice(indices, 150)\n",
    "all_train_indices = np.setdiff1d(indices, test_indices)\n",
    "\n",
    "train_x = digits.data[all_train_indices]\n",
    "train_y = digits.target[all_train_indices]"
   ]
  },
  {
   "cell_type": "code",
   "execution_count": 76,
   "metadata": {},
   "outputs": [
    {
     "name": "stdout",
     "output_type": "stream",
     "text": [
      "1 0.96328531537 [ 0.96089385  0.94662921  0.96600567  0.98575499  0.95714286]\n",
      "3 0.963874279832 [ 0.95530726  0.9494382   0.96600567  0.98290598  0.96571429]\n",
      "5 0.961057073037 [ 0.94692737  0.9494382   0.96600567  0.98005698  0.96285714]\n",
      "7 0.957668320202 [ 0.93575419  0.95224719  0.96600567  0.98290598  0.95142857]\n",
      "9 0.957109489339 [ 0.9301676   0.95224719  0.97450425  0.98005698  0.94857143]\n"
     ]
    }
   ],
   "source": [
    "np.random.seed(33)\n",
    "for k in range(1, 10, 2):\n",
    "    knn = KNN(n_neighbors=k)\n",
    "    cv = cross_val_score(knn, train_x, train_y, cv=5)\n",
    "    print(k, np.mean(cv), cv)"
   ]
  },
  {
   "cell_type": "code",
   "execution_count": 77,
   "metadata": {},
   "outputs": [
    {
     "data": {
      "text/plain": [
       "0.99333333333333329"
      ]
     },
     "execution_count": 77,
     "metadata": {},
     "output_type": "execute_result"
    }
   ],
   "source": [
    "test_x = digits.data[all_test_indices]\n",
    "test_y = digits.target[all_test_indices]\n",
    "\n",
    "optimal_k = 3\n",
    "knn = KNN(optimal_k)\n",
    "knn.fit(train_x, train_y)\n",
    "knn.score(test_x, test_y)"
   ]
  },
  {
   "cell_type": "markdown",
   "metadata": {},
   "source": [
    "The results are surprisingly good on the entire dataset, so let's try real MNIST. \n",
    "\n",
    "## Real MNIST\n",
    "Rather than 8x8, the entries here are 28x28, and the data set is huge, to the extent it's prohibitice to use entire training set. I sampled $10^4$ random entries to use as my training set (again, balanced on expectation only, not by drawing from each class separately), cross-validated my choice of $k$, and after receiving $k=1$, tested on a test set of $10^3$ digits. "
   ]
  },
  {
   "cell_type": "code",
   "execution_count": 80,
   "metadata": {
    "collapsed": true
   },
   "outputs": [],
   "source": [
    "from sklearn.datasets import fetch_mldata\n",
    "mnist = fetch_mldata('MNIST original')"
   ]
  },
  {
   "cell_type": "code",
   "execution_count": 90,
   "metadata": {},
   "outputs": [
    {
     "data": {
      "text/plain": [
       "((10000, 784), (10000,))"
      ]
     },
     "execution_count": 90,
     "metadata": {},
     "output_type": "execute_result"
    }
   ],
   "source": [
    "np.random.seed(33)\n",
    "TRAINING_SET_SIZE = 10 ** 4\n",
    "\n",
    "mnist_train_indices = np.random.choice(range(mnist.data.shape[0]), TRAINING_SET_SIZE)\n",
    "mnist_train_x = mnist.data[mnist_train_indices]\n",
    "mnist_train_y = mnist.target[mnist_train_indices]\n",
    "mnist_train_x.shape, mnist_train_y.shape"
   ]
  },
  {
   "cell_type": "code",
   "execution_count": 91,
   "metadata": {},
   "outputs": [
    {
     "name": "stdout",
     "output_type": "stream",
     "text": [
      "1 0.95330122418 [ 0.95259481  0.95257114  0.952       0.95545546  0.95388471]\n",
      "3 0.949900011118 [ 0.9496008   0.94757863  0.9535      0.95095095  0.94786967]\n",
      "5 0.945896949422 [ 0.9496008   0.94358462  0.9475      0.94844845  0.94035088]\n",
      "7 0.94289829455 [ 0.9491018   0.93659511  0.944       0.94494494  0.93984962]\n",
      "9 0.93929758169 [ 0.94461078  0.9335996   0.9415      0.94294294  0.93383459]\n"
     ]
    }
   ],
   "source": [
    "np.random.seed(33)\n",
    "for k in range(1, 10, 2):\n",
    "    knn = KNN(n_neighbors=k)\n",
    "    cv = cross_val_score(knn, mnist_train_x, mnist_train_y, cv=5)\n",
    "    print(k, np.mean(cv), cv)"
   ]
  },
  {
   "cell_type": "code",
   "execution_count": 93,
   "metadata": {},
   "outputs": [
    {
     "data": {
      "text/plain": [
       "0.94099999999999995"
      ]
     },
     "execution_count": 93,
     "metadata": {},
     "output_type": "execute_result"
    }
   ],
   "source": [
    "np.random.seed(33)\n",
    "TEST_SET_SIZE = 10 ** 3\n",
    "\n",
    "indices_without_train = np.setdiff1d(range(mnist.data.shape[0]), mnist_train_indices)\n",
    "mnist_test_indices = np.random.choice(indices_without_train, TEST_SET_SIZE)\n",
    "mnist_test_x = mnist.data[mnist_test_indices]\n",
    "mnist_test_y = mnist.target[mnist_test_indices]\n",
    "\n",
    "optimal_k = 1\n",
    "knn = KNN(optimal_k)\n",
    "knn.fit(mnist_train_x, mnist_train_y)\n",
    "knn.score(mnist_test_x, mnist_test_y)"
   ]
  },
  {
   "cell_type": "markdown",
   "metadata": {
    "collapsed": true
   },
   "source": [
    "The results are astoundingly good again, with an accuracy of 94% on the test set. "
   ]
  },
  {
   "cell_type": "code",
   "execution_count": null,
   "metadata": {
    "collapsed": true
   },
   "outputs": [],
   "source": []
  }
 ],
 "metadata": {
  "kernelspec": {
   "display_name": "Python 3",
   "language": "python",
   "name": "python3"
  },
  "language_info": {
   "codemirror_mode": {
    "name": "ipython",
    "version": 3
   },
   "file_extension": ".py",
   "mimetype": "text/x-python",
   "name": "python",
   "nbconvert_exporter": "python",
   "pygments_lexer": "ipython3",
   "version": "3.6.2"
  }
 },
 "nbformat": 4,
 "nbformat_minor": 2
}
