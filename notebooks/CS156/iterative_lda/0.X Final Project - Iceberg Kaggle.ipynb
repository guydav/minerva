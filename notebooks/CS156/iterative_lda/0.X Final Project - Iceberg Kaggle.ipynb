{
 "cells": [
  {
   "cell_type": "code",
   "execution_count": 1,
   "metadata": {
    "collapsed": true
   },
   "outputs": [],
   "source": [
    "%matplotlib inline\n",
    "%load_ext autoreload\n",
    "%autoreload 2"
   ]
  },
  {
   "cell_type": "code",
   "execution_count": 2,
   "metadata": {
    "collapsed": true
   },
   "outputs": [],
   "source": [
    "import pandas\n",
    "import numpy as np\n",
    "import matplotlib\n",
    "import matplotlib.pyplot as plt\n",
    "import matplotlib.gridspec as gridspec\n",
    "from mpl_toolkits.mplot3d import Axes3D\n",
    "import sklearn\n",
    "from datetime import datetime, date\n",
    "import warnings\n",
    "import timeit\n",
    "from collections import defaultdict, OrderedDict\n",
    "import time\n",
    "from skimage import io, transform\n",
    "import glob\n",
    "\n",
    "\n",
    "timeit.template = \"\"\"\n",
    "def inner(_it, _timer{init}):\n",
    "    {setup}\n",
    "    _t0 = _timer()\n",
    "    for _i in _it:\n",
    "        retval = {stmt}\n",
    "    _t1 = _timer()\n",
    "    return _t1 - _t0, retval\n",
    "\"\"\"\n",
    "\n",
    "matplotlib.style.use('ggplot')\n",
    "\n",
    "RANDOM_SEED = 33"
   ]
  },
  {
   "cell_type": "code",
   "execution_count": 3,
   "metadata": {
    "collapsed": true
   },
   "outputs": [],
   "source": [
    "from iterative_lda import IterativeLDA\n",
    "from sklearn.discriminant_analysis import LinearDiscriminantAnalysis\n",
    "from sklearn.ensemble import RandomForestClassifier\n",
    "from sklearn.svm import SVC\n",
    "from sklearn.model_selection import train_test_split"
   ]
  },
  {
   "cell_type": "markdown",
   "metadata": {
    "collapsed": true
   },
   "source": [
    "## Load iceberg data"
   ]
  },
  {
   "cell_type": "code",
   "execution_count": 4,
   "metadata": {
    "collapsed": true
   },
   "outputs": [],
   "source": [
    "iceberg = pandas.read_json('../data/iterative_lda/iceberg/train.json')"
   ]
  },
  {
   "cell_type": "code",
   "execution_count": 5,
   "metadata": {},
   "outputs": [
    {
     "data": {
      "text/plain": [
       "(1604, 5)"
      ]
     },
     "execution_count": 5,
     "metadata": {},
     "output_type": "execute_result"
    }
   ],
   "source": [
    "iceberg.shape"
   ]
  },
  {
   "cell_type": "code",
   "execution_count": 6,
   "metadata": {},
   "outputs": [
    {
     "data": {
      "text/html": [
       "<div>\n",
       "<style scoped>\n",
       "    .dataframe tbody tr th:only-of-type {\n",
       "        vertical-align: middle;\n",
       "    }\n",
       "\n",
       "    .dataframe tbody tr th {\n",
       "        vertical-align: top;\n",
       "    }\n",
       "\n",
       "    .dataframe thead th {\n",
       "        text-align: right;\n",
       "    }\n",
       "</style>\n",
       "<table border=\"1\" class=\"dataframe\">\n",
       "  <thead>\n",
       "    <tr style=\"text-align: right;\">\n",
       "      <th></th>\n",
       "      <th>band_1</th>\n",
       "      <th>band_2</th>\n",
       "      <th>id</th>\n",
       "      <th>inc_angle</th>\n",
       "      <th>is_iceberg</th>\n",
       "    </tr>\n",
       "  </thead>\n",
       "  <tbody>\n",
       "    <tr>\n",
       "      <th>0</th>\n",
       "      <td>[-27.878360999999998, -27.15416, -28.668615, -...</td>\n",
       "      <td>[-27.154118, -29.537888, -31.0306, -32.190483,...</td>\n",
       "      <td>dfd5f913</td>\n",
       "      <td>43.9239</td>\n",
       "      <td>0</td>\n",
       "    </tr>\n",
       "    <tr>\n",
       "      <th>1</th>\n",
       "      <td>[-12.242375, -14.920304999999999, -14.920363, ...</td>\n",
       "      <td>[-31.506321, -27.984554, -26.645678, -23.76760...</td>\n",
       "      <td>e25388fd</td>\n",
       "      <td>38.1562</td>\n",
       "      <td>0</td>\n",
       "    </tr>\n",
       "    <tr>\n",
       "      <th>2</th>\n",
       "      <td>[-24.603676, -24.603714, -24.871029, -23.15277...</td>\n",
       "      <td>[-24.870956, -24.092632, -20.653963, -19.41104...</td>\n",
       "      <td>58b2aaa0</td>\n",
       "      <td>45.2859</td>\n",
       "      <td>1</td>\n",
       "    </tr>\n",
       "    <tr>\n",
       "      <th>3</th>\n",
       "      <td>[-22.454607, -23.082819, -23.998013, -23.99805...</td>\n",
       "      <td>[-27.889421, -27.519794, -27.165262, -29.10350...</td>\n",
       "      <td>4cfc3a18</td>\n",
       "      <td>43.8306</td>\n",
       "      <td>0</td>\n",
       "    </tr>\n",
       "    <tr>\n",
       "      <th>4</th>\n",
       "      <td>[-26.006956, -23.164886, -23.164886, -26.89116...</td>\n",
       "      <td>[-27.206915, -30.259186, -30.259186, -23.16495...</td>\n",
       "      <td>271f93f4</td>\n",
       "      <td>35.6256</td>\n",
       "      <td>0</td>\n",
       "    </tr>\n",
       "    <tr>\n",
       "      <th>5</th>\n",
       "      <td>[-20.769371, -20.769434, -25.906025, -25.90602...</td>\n",
       "      <td>[-29.288746, -29.712593, -28.884804, -28.88480...</td>\n",
       "      <td>b51d18b5</td>\n",
       "      <td>36.9034</td>\n",
       "      <td>1</td>\n",
       "    </tr>\n",
       "    <tr>\n",
       "      <th>6</th>\n",
       "      <td>[-26.673811, -23.666162, -27.622442, -28.31768...</td>\n",
       "      <td>[-24.557735, -26.97868, -27.622442, -29.073456...</td>\n",
       "      <td>31da1a04</td>\n",
       "      <td>34.4751</td>\n",
       "      <td>1</td>\n",
       "    </tr>\n",
       "    <tr>\n",
       "      <th>7</th>\n",
       "      <td>[-24.989119, -27.755224, -25.817074, -24.98927...</td>\n",
       "      <td>[-27.755173, -26.732174, -28.124943, -31.83772...</td>\n",
       "      <td>56929c16</td>\n",
       "      <td>41.1769</td>\n",
       "      <td>0</td>\n",
       "    </tr>\n",
       "    <tr>\n",
       "      <th>8</th>\n",
       "      <td>[-17.146641, -17.146572, -17.994583, -19.44553...</td>\n",
       "      <td>[-25.733608, -24.472507, -24.710424, -22.77215...</td>\n",
       "      <td>525ab75c</td>\n",
       "      <td>35.7829</td>\n",
       "      <td>0</td>\n",
       "    </tr>\n",
       "    <tr>\n",
       "      <th>9</th>\n",
       "      <td>[-24.020853, -23.551275, -27.18819, -29.126434...</td>\n",
       "      <td>[-28.702518, -33.563324, -29.571918, -29.12643...</td>\n",
       "      <td>192f56eb</td>\n",
       "      <td>43.3007</td>\n",
       "      <td>0</td>\n",
       "    </tr>\n",
       "    <tr>\n",
       "      <th>10</th>\n",
       "      <td>[-21.397552, -19.753859, -23.426783, -24.65221...</td>\n",
       "      <td>[-26.72291, -27.418192, -27.787899, -25.774536...</td>\n",
       "      <td>3aac67cd</td>\n",
       "      <td>44.624</td>\n",
       "      <td>1</td>\n",
       "    </tr>\n",
       "    <tr>\n",
       "      <th>11</th>\n",
       "      <td>[-22.020813, -22.020864, -20.345379, -18.07829...</td>\n",
       "      <td>[-29.018383, -26.519661, -26.214916, -27.16346...</td>\n",
       "      <td>161a6860</td>\n",
       "      <td>39.5067</td>\n",
       "      <td>0</td>\n",
       "    </tr>\n",
       "    <tr>\n",
       "      <th>12</th>\n",
       "      <td>[-21.112206, -21.638832, -25.436468, -23.22255...</td>\n",
       "      <td>[-27.30481, -28.415202999999998, -24.634125, -...</td>\n",
       "      <td>3c794f0c</td>\n",
       "      <td>41.8544</td>\n",
       "      <td>1</td>\n",
       "    </tr>\n",
       "    <tr>\n",
       "      <th>13</th>\n",
       "      <td>[-23.864258, -27.755791, -26.047226, -24.62014...</td>\n",
       "      <td>[-23.626272, -24.620068, -28.546, -26.363146, ...</td>\n",
       "      <td>86730f0d</td>\n",
       "      <td>45.2909</td>\n",
       "      <td>1</td>\n",
       "    </tr>\n",
       "    <tr>\n",
       "      <th>14</th>\n",
       "      <td>[-20.558899, -21.328135, -19.585205, -19.71788...</td>\n",
       "      <td>[-29.127485, -30.40094, -28.741528, -24.380484...</td>\n",
       "      <td>e356f7a3</td>\n",
       "      <td>34.7715</td>\n",
       "      <td>0</td>\n",
       "    </tr>\n",
       "    <tr>\n",
       "      <th>15</th>\n",
       "      <td>[-28.282215, -27.896156, -25.882795, -25.88279...</td>\n",
       "      <td>[-31.608845, -29.110111, -32.851887, -32.85188...</td>\n",
       "      <td>87592c38</td>\n",
       "      <td>43.782</td>\n",
       "      <td>0</td>\n",
       "    </tr>\n",
       "    <tr>\n",
       "      <th>16</th>\n",
       "      <td>[-21.345695, -21.345734, -21.166676, -20.65056...</td>\n",
       "      <td>[-26.343246, -25.143326, -23.374924, -22.92943...</td>\n",
       "      <td>1c18a39e</td>\n",
       "      <td>45.3568</td>\n",
       "      <td>0</td>\n",
       "    </tr>\n",
       "    <tr>\n",
       "      <th>17</th>\n",
       "      <td>[-19.261189, -19.812914, -23.263891, -25.41662...</td>\n",
       "      <td>[-25.149176, -26.271551, -27.560766, -27.91539...</td>\n",
       "      <td>a210f335</td>\n",
       "      <td>38.7812</td>\n",
       "      <td>0</td>\n",
       "    </tr>\n",
       "    <tr>\n",
       "      <th>18</th>\n",
       "      <td>[-25.950783, -26.571512, -22.943153, -21.94372...</td>\n",
       "      <td>[-29.623671, -30.093336, -27.594606, -29.17827...</td>\n",
       "      <td>958d155f</td>\n",
       "      <td>42.5145</td>\n",
       "      <td>0</td>\n",
       "    </tr>\n",
       "    <tr>\n",
       "      <th>19</th>\n",
       "      <td>[-21.557806, -22.084446, -19.187838, -16.91901...</td>\n",
       "      <td>[-22.084385, -24.583221, -30.13426, -26.461437...</td>\n",
       "      <td>6d81d201</td>\n",
       "      <td>37.2802</td>\n",
       "      <td>1</td>\n",
       "    </tr>\n",
       "  </tbody>\n",
       "</table>\n",
       "</div>"
      ],
      "text/plain": [
       "                                               band_1  \\\n",
       "0   [-27.878360999999998, -27.15416, -28.668615, -...   \n",
       "1   [-12.242375, -14.920304999999999, -14.920363, ...   \n",
       "2   [-24.603676, -24.603714, -24.871029, -23.15277...   \n",
       "3   [-22.454607, -23.082819, -23.998013, -23.99805...   \n",
       "4   [-26.006956, -23.164886, -23.164886, -26.89116...   \n",
       "5   [-20.769371, -20.769434, -25.906025, -25.90602...   \n",
       "6   [-26.673811, -23.666162, -27.622442, -28.31768...   \n",
       "7   [-24.989119, -27.755224, -25.817074, -24.98927...   \n",
       "8   [-17.146641, -17.146572, -17.994583, -19.44553...   \n",
       "9   [-24.020853, -23.551275, -27.18819, -29.126434...   \n",
       "10  [-21.397552, -19.753859, -23.426783, -24.65221...   \n",
       "11  [-22.020813, -22.020864, -20.345379, -18.07829...   \n",
       "12  [-21.112206, -21.638832, -25.436468, -23.22255...   \n",
       "13  [-23.864258, -27.755791, -26.047226, -24.62014...   \n",
       "14  [-20.558899, -21.328135, -19.585205, -19.71788...   \n",
       "15  [-28.282215, -27.896156, -25.882795, -25.88279...   \n",
       "16  [-21.345695, -21.345734, -21.166676, -20.65056...   \n",
       "17  [-19.261189, -19.812914, -23.263891, -25.41662...   \n",
       "18  [-25.950783, -26.571512, -22.943153, -21.94372...   \n",
       "19  [-21.557806, -22.084446, -19.187838, -16.91901...   \n",
       "\n",
       "                                               band_2        id inc_angle  \\\n",
       "0   [-27.154118, -29.537888, -31.0306, -32.190483,...  dfd5f913   43.9239   \n",
       "1   [-31.506321, -27.984554, -26.645678, -23.76760...  e25388fd   38.1562   \n",
       "2   [-24.870956, -24.092632, -20.653963, -19.41104...  58b2aaa0   45.2859   \n",
       "3   [-27.889421, -27.519794, -27.165262, -29.10350...  4cfc3a18   43.8306   \n",
       "4   [-27.206915, -30.259186, -30.259186, -23.16495...  271f93f4   35.6256   \n",
       "5   [-29.288746, -29.712593, -28.884804, -28.88480...  b51d18b5   36.9034   \n",
       "6   [-24.557735, -26.97868, -27.622442, -29.073456...  31da1a04   34.4751   \n",
       "7   [-27.755173, -26.732174, -28.124943, -31.83772...  56929c16   41.1769   \n",
       "8   [-25.733608, -24.472507, -24.710424, -22.77215...  525ab75c   35.7829   \n",
       "9   [-28.702518, -33.563324, -29.571918, -29.12643...  192f56eb   43.3007   \n",
       "10  [-26.72291, -27.418192, -27.787899, -25.774536...  3aac67cd    44.624   \n",
       "11  [-29.018383, -26.519661, -26.214916, -27.16346...  161a6860   39.5067   \n",
       "12  [-27.30481, -28.415202999999998, -24.634125, -...  3c794f0c   41.8544   \n",
       "13  [-23.626272, -24.620068, -28.546, -26.363146, ...  86730f0d   45.2909   \n",
       "14  [-29.127485, -30.40094, -28.741528, -24.380484...  e356f7a3   34.7715   \n",
       "15  [-31.608845, -29.110111, -32.851887, -32.85188...  87592c38    43.782   \n",
       "16  [-26.343246, -25.143326, -23.374924, -22.92943...  1c18a39e   45.3568   \n",
       "17  [-25.149176, -26.271551, -27.560766, -27.91539...  a210f335   38.7812   \n",
       "18  [-29.623671, -30.093336, -27.594606, -29.17827...  958d155f   42.5145   \n",
       "19  [-22.084385, -24.583221, -30.13426, -26.461437...  6d81d201   37.2802   \n",
       "\n",
       "    is_iceberg  \n",
       "0            0  \n",
       "1            0  \n",
       "2            1  \n",
       "3            0  \n",
       "4            0  \n",
       "5            1  \n",
       "6            1  \n",
       "7            0  \n",
       "8            0  \n",
       "9            0  \n",
       "10           1  \n",
       "11           0  \n",
       "12           1  \n",
       "13           1  \n",
       "14           0  \n",
       "15           0  \n",
       "16           0  \n",
       "17           0  \n",
       "18           0  \n",
       "19           1  "
      ]
     },
     "execution_count": 6,
     "metadata": {},
     "output_type": "execute_result"
    }
   ],
   "source": [
    "iceberg.head(n=20)"
   ]
  },
  {
   "cell_type": "code",
   "execution_count": 7,
   "metadata": {
    "collapsed": true
   },
   "outputs": [],
   "source": [
    "band1 = np.asarray([[float(x) for x in row] for row in iceberg['band_1']])\n",
    "for index, col in enumerate(band1.T):\n",
    "    iceberg['band_1_{i}'.format(i=index)] = col"
   ]
  },
  {
   "cell_type": "code",
   "execution_count": 8,
   "metadata": {
    "collapsed": true
   },
   "outputs": [],
   "source": [
    "band2 = np.asarray([[float(x) for x in row] for row in iceberg['band_2']])\n",
    "for index, col in enumerate(band2.T):\n",
    "    iceberg['band_2_{i}'.format(i=index)] = col"
   ]
  },
  {
   "cell_type": "code",
   "execution_count": 9,
   "metadata": {
    "collapsed": true
   },
   "outputs": [],
   "source": [
    "iceberg['inc_angle'] = iceberg['inc_angle'].replace('na', None)"
   ]
  },
  {
   "cell_type": "code",
   "execution_count": 10,
   "metadata": {
    "collapsed": true
   },
   "outputs": [],
   "source": [
    "del iceberg['band_1']\n",
    "del iceberg['band_2']\n",
    "del iceberg['id']"
   ]
  },
  {
   "cell_type": "code",
   "execution_count": 11,
   "metadata": {},
   "outputs": [
    {
     "data": {
      "text/html": [
       "<div>\n",
       "<style scoped>\n",
       "    .dataframe tbody tr th:only-of-type {\n",
       "        vertical-align: middle;\n",
       "    }\n",
       "\n",
       "    .dataframe tbody tr th {\n",
       "        vertical-align: top;\n",
       "    }\n",
       "\n",
       "    .dataframe thead th {\n",
       "        text-align: right;\n",
       "    }\n",
       "</style>\n",
       "<table border=\"1\" class=\"dataframe\">\n",
       "  <thead>\n",
       "    <tr style=\"text-align: right;\">\n",
       "      <th></th>\n",
       "      <th>inc_angle</th>\n",
       "      <th>is_iceberg</th>\n",
       "      <th>band_1_0</th>\n",
       "      <th>band_1_1</th>\n",
       "      <th>band_1_2</th>\n",
       "      <th>band_1_3</th>\n",
       "      <th>band_1_4</th>\n",
       "      <th>band_1_5</th>\n",
       "      <th>band_1_6</th>\n",
       "      <th>band_1_7</th>\n",
       "      <th>...</th>\n",
       "      <th>band_2_5615</th>\n",
       "      <th>band_2_5616</th>\n",
       "      <th>band_2_5617</th>\n",
       "      <th>band_2_5618</th>\n",
       "      <th>band_2_5619</th>\n",
       "      <th>band_2_5620</th>\n",
       "      <th>band_2_5621</th>\n",
       "      <th>band_2_5622</th>\n",
       "      <th>band_2_5623</th>\n",
       "      <th>band_2_5624</th>\n",
       "    </tr>\n",
       "  </thead>\n",
       "  <tbody>\n",
       "    <tr>\n",
       "      <th>0</th>\n",
       "      <td>43.9239</td>\n",
       "      <td>0</td>\n",
       "      <td>-27.878361</td>\n",
       "      <td>-27.154160</td>\n",
       "      <td>-28.668615</td>\n",
       "      <td>-29.537971</td>\n",
       "      <td>-29.092485</td>\n",
       "      <td>-32.834259</td>\n",
       "      <td>-32.190609</td>\n",
       "      <td>-29.538139</td>\n",
       "      <td>...</td>\n",
       "      <td>-31.594376</td>\n",
       "      <td>-32.837376</td>\n",
       "      <td>-30.010836</td>\n",
       "      <td>-33.532703</td>\n",
       "      <td>-34.288517</td>\n",
       "      <td>-30.010963</td>\n",
       "      <td>-29.095856</td>\n",
       "      <td>-30.507519</td>\n",
       "      <td>-28.672153</td>\n",
       "      <td>-29.095982</td>\n",
       "    </tr>\n",
       "    <tr>\n",
       "      <th>1</th>\n",
       "      <td>38.1562</td>\n",
       "      <td>0</td>\n",
       "      <td>-12.242375</td>\n",
       "      <td>-14.920305</td>\n",
       "      <td>-14.920363</td>\n",
       "      <td>-12.666336</td>\n",
       "      <td>-10.387527</td>\n",
       "      <td>-11.345262</td>\n",
       "      <td>-13.046976</td>\n",
       "      <td>-13.720695</td>\n",
       "      <td>...</td>\n",
       "      <td>-23.997662</td>\n",
       "      <td>-24.467342</td>\n",
       "      <td>-25.490454</td>\n",
       "      <td>-23.997839</td>\n",
       "      <td>-21.789646</td>\n",
       "      <td>-23.772335</td>\n",
       "      <td>-24.964108</td>\n",
       "      <td>-26.966469</td>\n",
       "      <td>-25.223524</td>\n",
       "      <td>-25.223581</td>\n",
       "    </tr>\n",
       "    <tr>\n",
       "      <th>2</th>\n",
       "      <td>45.2859</td>\n",
       "      <td>1</td>\n",
       "      <td>-24.603676</td>\n",
       "      <td>-24.603714</td>\n",
       "      <td>-24.871029</td>\n",
       "      <td>-23.152775</td>\n",
       "      <td>-21.532150</td>\n",
       "      <td>-21.349318</td>\n",
       "      <td>-19.411156</td>\n",
       "      <td>-22.304850</td>\n",
       "      <td>...</td>\n",
       "      <td>-30.367920</td>\n",
       "      <td>-28.956337</td>\n",
       "      <td>-25.729015</td>\n",
       "      <td>-25.149776</td>\n",
       "      <td>-25.149815</td>\n",
       "      <td>-27.018288</td>\n",
       "      <td>-25.729164</td>\n",
       "      <td>-24.095802</td>\n",
       "      <td>-25.729240</td>\n",
       "      <td>-25.729279</td>\n",
       "    </tr>\n",
       "    <tr>\n",
       "      <th>3</th>\n",
       "      <td>43.8306</td>\n",
       "      <td>0</td>\n",
       "      <td>-22.454607</td>\n",
       "      <td>-23.082819</td>\n",
       "      <td>-23.998013</td>\n",
       "      <td>-23.998053</td>\n",
       "      <td>-24.753868</td>\n",
       "      <td>-24.242828</td>\n",
       "      <td>-22.868555</td>\n",
       "      <td>-24.242914</td>\n",
       "      <td>...</td>\n",
       "      <td>-30.518187</td>\n",
       "      <td>-32.204647</td>\n",
       "      <td>-30.518272</td>\n",
       "      <td>-31.044893</td>\n",
       "      <td>-31.605511</td>\n",
       "      <td>-30.518400</td>\n",
       "      <td>-30.021971</td>\n",
       "      <td>-30.518484</td>\n",
       "      <td>-30.022057</td>\n",
       "      <td>-30.022099</td>\n",
       "    </tr>\n",
       "    <tr>\n",
       "      <th>4</th>\n",
       "      <td>35.6256</td>\n",
       "      <td>0</td>\n",
       "      <td>-26.006956</td>\n",
       "      <td>-23.164886</td>\n",
       "      <td>-23.164886</td>\n",
       "      <td>-26.891163</td>\n",
       "      <td>-25.731390</td>\n",
       "      <td>-23.793257</td>\n",
       "      <td>-22.770273</td>\n",
       "      <td>-23.578913</td>\n",
       "      <td>...</td>\n",
       "      <td>-27.540012</td>\n",
       "      <td>-27.880745</td>\n",
       "      <td>-30.264540</td>\n",
       "      <td>-26.896517</td>\n",
       "      <td>-24.244076</td>\n",
       "      <td>-24.018520</td>\n",
       "      <td>-23.798679</td>\n",
       "      <td>-25.210369</td>\n",
       "      <td>-24.958652</td>\n",
       "      <td>-25.210503</td>\n",
       "    </tr>\n",
       "  </tbody>\n",
       "</table>\n",
       "<p>5 rows × 11252 columns</p>\n",
       "</div>"
      ],
      "text/plain": [
       "  inc_angle  is_iceberg   band_1_0   band_1_1   band_1_2   band_1_3  \\\n",
       "0   43.9239           0 -27.878361 -27.154160 -28.668615 -29.537971   \n",
       "1   38.1562           0 -12.242375 -14.920305 -14.920363 -12.666336   \n",
       "2   45.2859           1 -24.603676 -24.603714 -24.871029 -23.152775   \n",
       "3   43.8306           0 -22.454607 -23.082819 -23.998013 -23.998053   \n",
       "4   35.6256           0 -26.006956 -23.164886 -23.164886 -26.891163   \n",
       "\n",
       "    band_1_4   band_1_5   band_1_6   band_1_7     ...       band_2_5615  \\\n",
       "0 -29.092485 -32.834259 -32.190609 -29.538139     ...        -31.594376   \n",
       "1 -10.387527 -11.345262 -13.046976 -13.720695     ...        -23.997662   \n",
       "2 -21.532150 -21.349318 -19.411156 -22.304850     ...        -30.367920   \n",
       "3 -24.753868 -24.242828 -22.868555 -24.242914     ...        -30.518187   \n",
       "4 -25.731390 -23.793257 -22.770273 -23.578913     ...        -27.540012   \n",
       "\n",
       "   band_2_5616  band_2_5617  band_2_5618  band_2_5619  band_2_5620  \\\n",
       "0   -32.837376   -30.010836   -33.532703   -34.288517   -30.010963   \n",
       "1   -24.467342   -25.490454   -23.997839   -21.789646   -23.772335   \n",
       "2   -28.956337   -25.729015   -25.149776   -25.149815   -27.018288   \n",
       "3   -32.204647   -30.518272   -31.044893   -31.605511   -30.518400   \n",
       "4   -27.880745   -30.264540   -26.896517   -24.244076   -24.018520   \n",
       "\n",
       "   band_2_5621  band_2_5622  band_2_5623  band_2_5624  \n",
       "0   -29.095856   -30.507519   -28.672153   -29.095982  \n",
       "1   -24.964108   -26.966469   -25.223524   -25.223581  \n",
       "2   -25.729164   -24.095802   -25.729240   -25.729279  \n",
       "3   -30.021971   -30.518484   -30.022057   -30.022099  \n",
       "4   -23.798679   -25.210369   -24.958652   -25.210503  \n",
       "\n",
       "[5 rows x 11252 columns]"
      ]
     },
     "execution_count": 11,
     "metadata": {},
     "output_type": "execute_result"
    }
   ],
   "source": [
    "iceberg.head()"
   ]
  },
  {
   "cell_type": "code",
   "execution_count": 12,
   "metadata": {
    "collapsed": true
   },
   "outputs": [],
   "source": [
    "cols = iceberg.columns.tolist()\n",
    "cols = cols[1:2] + cols[0:1] + cols[2:]\n",
    "iceberg = iceberg[cols]"
   ]
  },
  {
   "cell_type": "code",
   "execution_count": 13,
   "metadata": {},
   "outputs": [
    {
     "data": {
      "text/plain": [
       "((1604, 11251), (1604,))"
      ]
     },
     "execution_count": 13,
     "metadata": {},
     "output_type": "execute_result"
    }
   ],
   "source": [
    "X = iceberg.as_matrix().astype(np.float64)\n",
    "y = X[:,0].astype(int)\n",
    "X = X[:,1:]\n",
    "X.shape, y.shape"
   ]
  },
  {
   "cell_type": "markdown",
   "metadata": {},
   "source": [
    "## Fit an LDA model to the entire data-set"
   ]
  },
  {
   "cell_type": "code",
   "execution_count": 22,
   "metadata": {},
   "outputs": [
    {
     "data": {
      "text/plain": [
       "((1283, 11251), (1283,), (321, 11251), (321,))"
      ]
     },
     "execution_count": 22,
     "metadata": {},
     "output_type": "execute_result"
    }
   ],
   "source": [
    "X_train, X_test, y_train, y_test = train_test_split(X, y, test_size=0.2, \n",
    "                                                    random_state=42,\n",
    "                                                    stratify=y)\n",
    "\n",
    "X_train.shape, y_train.shape, X_test.shape, y_test.shape"
   ]
  },
  {
   "cell_type": "code",
   "execution_count": 23,
   "metadata": {},
   "outputs": [
    {
     "data": {
      "text/plain": [
       "((962, 11251), (321, 11251), (962,), (321,))"
      ]
     },
     "execution_count": 23,
     "metadata": {},
     "output_type": "execute_result"
    }
   ],
   "source": [
    "X_train_ilda, X_train_svm, y_train_ilda, y_train_svm = train_test_split(X_train, y_train, test_size=0.25, \n",
    "                                                    random_state=42,\n",
    "                                                    stratify=y_train)\n",
    "\n",
    "X_train_ilda.shape, X_train_svm.shape, y_train_ilda.shape, y_train_svm.shape"
   ]
  },
  {
   "cell_type": "code",
   "execution_count": 24,
   "metadata": {},
   "outputs": [
    {
     "name": "stderr",
     "output_type": "stream",
     "text": [
      "/Users/guydavidson/anaconda/lib/python3.6/site-packages/sklearn/discriminant_analysis.py:388: UserWarning: Variables are collinear.\n",
      "  warnings.warn(\"Variables are collinear.\")\n"
     ]
    },
    {
     "name": "stdout",
     "output_type": "stream",
     "text": [
      "0.823070927514\n",
      "0.688473520249\n"
     ]
    }
   ],
   "source": [
    "lda = LinearDiscriminantAnalysis()\n",
    "lda.fit(X_train, y_train)\n",
    "print(np.sum(lda.predict(X_train) == y_train) / y_train.shape[0])\n",
    "print(np.sum(lda.predict(X_test) == y_test) / y_test.shape[0])"
   ]
  },
  {
   "cell_type": "markdown",
   "metadata": {},
   "source": [
    "## And an Iterative LDA model"
   ]
  },
  {
   "cell_type": "code",
   "execution_count": 25,
   "metadata": {},
   "outputs": [
    {
     "name": "stdout",
     "output_type": "stream",
     "text": [
      "Fitting component 1\n"
     ]
    },
    {
     "name": "stderr",
     "output_type": "stream",
     "text": [
      "/Users/guydavidson/anaconda/lib/python3.6/site-packages/sklearn/discriminant_analysis.py:388: UserWarning: Variables are collinear.\n",
      "  warnings.warn(\"Variables are collinear.\")\n"
     ]
    },
    {
     "name": "stdout",
     "output_type": "stream",
     "text": [
      "Using scalings\n",
      "Computing nullspace\n",
      "Projecting onto nullspace\n",
      "Fitting component 2\n",
      "Using scalings\n",
      "Computing nullspace\n",
      "Projecting onto nullspace\n",
      "Fitting component 3\n",
      "Using scalings\n",
      "Computing nullspace\n",
      "Projecting onto nullspace\n",
      "Fitting component 4\n",
      "Using scalings\n",
      "Computing nullspace\n",
      "Projecting onto nullspace\n",
      "Fitting component 5\n",
      "Using scalings\n",
      "Computing nullspace\n",
      "Projecting onto nullspace\n",
      "Starting transform\n",
      "Computing nullspace\n",
      "Starting transform\n",
      "Computing nullspace\n",
      "Starting transform\n",
      "Computing nullspace\n",
      "Starting transform\n",
      "Computing nullspace\n",
      "Starting transform\n",
      "Computing nullspace\n",
      "Starting transform\n",
      "Computing nullspace\n",
      "Starting transform\n",
      "Computing nullspace\n",
      "Starting transform\n",
      "Computing nullspace\n",
      "Starting transform\n",
      "Computing nullspace\n",
      "Starting transform\n",
      "Computing nullspace\n"
     ]
    }
   ],
   "source": [
    "# raise ValueError('Dont run again')\n",
    "ilda = IterativeLDA(5, use_coef=False, verbose=True)\n",
    "transformed_X_train_ilda = ilda.fit_transform(X_train_ilda, y_train_ilda)\n",
    "transformed_X_train_svm = ilda.transform(X_train_svm)\n",
    "transformed_X_test = ilda.transform(X_test)"
   ]
  },
  {
   "cell_type": "code",
   "execution_count": 26,
   "metadata": {},
   "outputs": [
    {
     "name": "stdout",
     "output_type": "stream",
     "text": [
      "0.984423676012\n",
      "0.706860706861\n",
      "0.676012461059\n"
     ]
    },
    {
     "name": "stderr",
     "output_type": "stream",
     "text": [
      "[Parallel(n_jobs=1)]: Done  10 out of  10 | elapsed:    0.0s finished\n",
      "[Parallel(n_jobs=1)]: Done  10 out of  10 | elapsed:    0.0s finished\n",
      "[Parallel(n_jobs=1)]: Done  10 out of  10 | elapsed:    0.0s finished\n",
      "[Parallel(n_jobs=1)]: Done  10 out of  10 | elapsed:    0.0s finished\n"
     ]
    }
   ],
   "source": [
    "rfc = RandomForestClassifier(verbose=True)\n",
    "rfc.fit(transformed_X_train_svm, y_train_svm)\n",
    "\n",
    "print(np.sum(rfc.predict(transformed_X_train_svm) == y_train_svm) / y_train_svm.shape[0])\n",
    "print(np.sum(rfc.predict(transformed_X_train_ilda) == y_train_ilda) / y_train_ilda.shape[0])\n",
    "print(np.sum(rfc.predict(transformed_X_test) == y_test) / y_test.shape[0])"
   ]
  },
  {
   "cell_type": "code",
   "execution_count": 27,
   "metadata": {},
   "outputs": [
    {
     "name": "stdout",
     "output_type": "stream",
     "text": [
      "[LibSVM]0.91277258567\n",
      "0.585239085239\n",
      "0.663551401869\n"
     ]
    }
   ],
   "source": [
    "svm = SVC(verbose=True)\n",
    "svm.fit(transformed_X_train_svm, y_train_svm)\n",
    "\n",
    "print(np.sum(svm.predict(transformed_X_train_svm) == y_train_svm) / y_train_svm.shape[0])\n",
    "print(np.sum(svm.predict(transformed_X_train_ilda) == y_train_ilda) / y_train_ilda.shape[0])\n",
    "print(np.sum(svm.predict(transformed_X_test) == y_test) / y_test.shape[0])"
   ]
  },
  {
   "cell_type": "markdown",
   "metadata": {
    "collapsed": true
   },
   "source": [
    "## Plot the first 2d projections"
   ]
  },
  {
   "cell_type": "code",
   "execution_count": null,
   "metadata": {},
   "outputs": [],
   "source": [
    "train_0 = y_train == 0\n",
    "train_1 = y_train == 1\n",
    "test_0 = y_test == 0\n",
    "test_1 = y_test == 1\n",
    "\n",
    "fig = plt.figure(figsize=(12, 8))\n",
    "ax = fig.gca()\n",
    "\n",
    "ax.scatter(transformed_X_train[train_0][:,0], [1] * np.sum(train_0), \n",
    "           label='$c=0$', alpha=0.33)\n",
    "ax.scatter(transformed_X_train[train_1][:,0], [2] * np.sum(train_1), \n",
    "           label='$c=1$', alpha=0.33)\n",
    "\n",
    "ax.scatter(transformed_X_test[test_0][:,0], [0.5] * np.sum(test_0), \n",
    "           label='$c=0$', alpha=0.33)\n",
    "ax.scatter(transformed_X_test[test_1][:,0], [2.5] * np.sum(test_1), \n",
    "           label='$c=1$', alpha=0.33)\n",
    "\n",
    "ax.set_ylim(0, 3)\n",
    "ax.legend(loc='best', fontsize=12)\n",
    "ax.set_xlabel('X', size=12)\n",
    "\n",
    "plt.show()"
   ]
  },
  {
   "cell_type": "code",
   "execution_count": null,
   "metadata": {},
   "outputs": [],
   "source": [
    "fig = plt.figure(figsize=(12, 8))\n",
    "ax = fig.gca()\n",
    "\n",
    "ax.scatter(transformed_X_train[train_0][:,0], transformed_X_train[train_0][:,1], label='$c=0$')\n",
    "ax.scatter(transformed_X_train[train_1][:,0], transformed_X_train[train_1][:,1], label='$c=1$')\n",
    "\n",
    "ax.scatter(transformed_X_test[test_0][:,0], transformed_X_test[test_0][:,1], label='$c=0$ test')\n",
    "ax.scatter(transformed_X_test[test_1][:,0], transformed_X_test[test_1][:,1], label='$c=1$ test')\n",
    "\n",
    "ax.legend(loc=2, fontsize=12)\n",
    "ax.set_xlabel('First LDA projection', size=12)\n",
    "ax.set_ylabel('Second LDA projection', size=12)\n",
    "\n",
    "plt.show()"
   ]
  },
  {
   "cell_type": "code",
   "execution_count": null,
   "metadata": {},
   "outputs": [],
   "source": [
    "FONT_SIZE = 12\n",
    "\n",
    "fig = plt.figure(figsize=(12, 8))\n",
    "ax = fig.add_subplot(111, projection='3d')\n",
    "\n",
    "ax.scatter(transformed_X_train[train_0][:,0], transformed_X_train[train_0][:,1], \n",
    "           transformed_X_train[train_0][:,2], label='$c=0$')\n",
    "ax.scatter(transformed_X_train[train_1][:,0], transformed_X_train[train_1][:,1],\n",
    "           transformed_X_train[train_1][:,2], label='$c=1$')\n",
    "\n",
    "ax.scatter(transformed_X_test[test_0][:,0], transformed_X_test[test_0][:,1], \n",
    "           transformed_X_test[test_0][:,2], label='$c=0$ test')\n",
    "ax.scatter(transformed_X_test[test_1][:,0], transformed_X_test[test_1][:,1], \n",
    "           transformed_X_test[test_1][:,2], label='$c=1$ test')\n",
    "\n",
    "ax.legend(loc=2, fontsize=FONT_SIZE)\n",
    "ax.set_xlabel('X', size=FONT_SIZE)\n",
    "ax.set_ylabel('Y', size=FONT_SIZE)\n",
    "ax.set_zlabel('Z', size=FONT_SIZE)"
   ]
  },
  {
   "cell_type": "markdown",
   "metadata": {
    "collapsed": true
   },
   "source": [
    "## Let's try cross-validating an SVM model"
   ]
  },
  {
   "cell_type": "code",
   "execution_count": null,
   "metadata": {
    "collapsed": true
   },
   "outputs": [],
   "source": [
    "# report function from http://scikit-learn.org/stable/auto_examples/model_selection/plot_randomized_search.html#sphx-glr-auto-examples-model-selection-plot-randomized-search-py\n",
    "\n",
    "def report(results, n_top=3):\n",
    "    for i in range(1, n_top + 1):\n",
    "        candidates = np.flatnonzero(results['rank_test_score'] == i)\n",
    "        for candidate in candidates:\n",
    "            print(\"Model with rank: {0}\".format(i))\n",
    "            print(\"Mean validation score: {0:.3f} (std: {1:.3f})\".format(\n",
    "                  results['mean_test_score'][candidate],\n",
    "                  results['std_test_score'][candidate]))\n",
    "            print(\"Parameters: {0}\".format(results['params'][candidate]))\n",
    "            print(\"\")"
   ]
  },
  {
   "cell_type": "code",
   "execution_count": null,
   "metadata": {},
   "outputs": [],
   "source": [
    "from sklearn.model_selection import RandomizedSearchCV\n",
    "from scipy.stats import lognorm\n",
    "\n",
    "svm = SVC(verbose=True)\n",
    "search_cv = RandomizedSearchCV(svm, cv=5, n_iter=10, scoring='accuracy', n_jobs=4, \n",
    "                               verbose=1, random_state=RANDOM_SEED,\n",
    "                              param_distributions={'C': lognorm(s=4)})\n",
    "\n",
    "search_cv.fit(X=transformed_X_train, y=y_train)\n",
    "report(search_cv.cv_results_)\n",
    "\n",
    "# print(np.sum(svm.predict(transformed_X_train) == y_train) / y_train.shape[0])\n",
    "# print(np.sum(svm.predict(transformed_X_test) == y_test) / y_test.shape[0])\n"
   ]
  },
  {
   "cell_type": "markdown",
   "metadata": {
    "collapsed": true
   },
   "source": [
    "## Compare scalings and coefficients"
   ]
  },
  {
   "cell_type": "code",
   "execution_count": null,
   "metadata": {},
   "outputs": [],
   "source": [
    "ilda_coef = IterativeLDA(10, use_coef=True, verbose=True)\n",
    "transformed_X_train_coef = ilda_coef.fit_transform(X_train, y_train)\n",
    "transformed_X_test_coef = ilda_coef.transform(X_test)"
   ]
  },
  {
   "cell_type": "code",
   "execution_count": null,
   "metadata": {},
   "outputs": [],
   "source": [
    "for i in range(ilda.n_components):\n",
    "    print(i, np.allclose(ilda.nullspaces_[i], ilda_coef.nullspaces_[i]))\n",
    "    "
   ]
  },
  {
   "cell_type": "code",
   "execution_count": null,
   "metadata": {},
   "outputs": [],
   "source": [
    "for i in range(ilda.n_components):\n",
    "    print(i, np.allclose(transformed_X_train[:,i], transformed_X_train_coef[:,i]))\n"
   ]
  },
  {
   "cell_type": "code",
   "execution_count": null,
   "metadata": {},
   "outputs": [],
   "source": [
    "fig = plt.figure(figsize=(16, 6))\n",
    "gs = gridspec.GridSpec(1, 2, hspace=0.7)\n",
    "\n",
    "def plot_components(ax, X_train, X_test, y_train, y_test):\n",
    "    train_0 = y_train == 0\n",
    "    train_1 = y_train == 1\n",
    "    test_0 = y_test == 0\n",
    "    test_1 = y_test == 1\n",
    "    \n",
    "    ax.scatter(X_train[train_0][:,0], X_train[train_0][:,1], label='$c=0$')\n",
    "    ax.scatter(X_train[train_1][:,0], X_train[train_1][:,1], label='$c=1$')\n",
    "\n",
    "    ax.scatter(X_test[test_0][:,0], X_test[test_0][:,1], label='$c=0$ test')\n",
    "    ax.scatter(X_test[test_1][:,0], X_test[test_1][:,1], label='$c=1$ test')\n",
    "\n",
    "    ax.legend(loc=2, fontsize=12)\n",
    "    ax.set_xlabel('First LDA projection', size=12)\n",
    "    ax.set_ylabel('Second LDA projection', size=12)\n",
    "\n",
    "\n",
    "left_ax = plt.subplot(gs[0, 0])    \n",
    "plot_components(left_ax, transformed_X_train, transformed_X_test, y_train, y_test)\n",
    "left_ax.set_title('Using scalings')\n",
    "\n",
    "right_ax = plt.subplot(gs[0, 1])\n",
    "plot_components(right_ax, transformed_X_train_coef, transformed_X_test_coef, y_train, y_test)\n",
    "right_ax.set_title('Using coef')\n",
    "\n",
    "plt.show()"
   ]
  },
  {
   "cell_type": "code",
   "execution_count": null,
   "metadata": {
    "collapsed": true
   },
   "outputs": [],
   "source": [
    "del(ilda)\n",
    "del(ilda_coef)\n",
    "del(transformed_X_train)\n",
    "del(transformed_X_train_coef)\n",
    "del(transformed_X_test)\n",
    "del(transformed_X_test_coef)"
   ]
  },
  {
   "cell_type": "markdown",
   "metadata": {},
   "source": [
    "## Compare QR and SVD speeds"
   ]
  },
  {
   "cell_type": "code",
   "execution_count": null,
   "metadata": {},
   "outputs": [],
   "source": [
    "SOLVERS = ('qr', 'svd')\n",
    "fit_times = {}\n",
    "\n",
    "max_components = 10\n",
    "\n",
    "for solver in SOLVERS:\n",
    "    print(solver)\n",
    "    fit_times[solver] = []\n",
    "    for i in range(1, max_components + 1):\n",
    "        print(i)\n",
    "        def fit_function():\n",
    "            return IterativeLDA(i, nullspace_solver=solver).fit(X_train, y_train)\n",
    "\n",
    "        fit_time, train_result = timeit.timeit(fit_function, number=1)\n",
    "        fit_times[solver].append(fit_time)\n",
    "        del(train_result)"
   ]
  },
  {
   "cell_type": "code",
   "execution_count": null,
   "metadata": {},
   "outputs": [],
   "source": [
    "fig = plt.figure(figsize=(8, 6))\n",
    "ax = fig.gca()\n",
    "\n",
    "for solver in SOLVERS:\n",
    "    ax.scatter(range(1, max_components + 1), fit_times[solver], label=solver)\n",
    "\n",
    "ax.legend(loc=2, fontsize=16)\n",
    "ax.set_xlabel('Number of components', size=16)\n",
    "ax.set_ylabel('Fit time', size=16)\n",
    "\n",
    "plt.show()"
   ]
  },
  {
   "cell_type": "code",
   "execution_count": null,
   "metadata": {},
   "outputs": [],
   "source": [
    "print(fit_times)"
   ]
  },
  {
   "cell_type": "code",
   "execution_count": null,
   "metadata": {},
   "outputs": [],
   "source": [
    "transformed_X_train[0]"
   ]
  },
  {
   "cell_type": "code",
   "execution_count": null,
   "metadata": {
    "collapsed": true
   },
   "outputs": [],
   "source": []
  }
 ],
 "metadata": {
  "kernelspec": {
   "display_name": "Python 3",
   "language": "python",
   "name": "python3"
  },
  "language_info": {
   "codemirror_mode": {
    "name": "ipython",
    "version": 3
   },
   "file_extension": ".py",
   "mimetype": "text/x-python",
   "name": "python",
   "nbconvert_exporter": "python",
   "pygments_lexer": "ipython3",
   "version": "3.6.3"
  },
  "toc": {
   "colors": {
    "hover_highlight": "#DAA520",
    "running_highlight": "#FF0000",
    "selected_highlight": "#FFD700"
   },
   "moveMenuLeft": true,
   "nav_menu": {
    "height": "48px",
    "width": "252px"
   },
   "navigate_menu": true,
   "number_sections": true,
   "sideBar": true,
   "threshold": 4,
   "toc_cell": false,
   "toc_section_display": "block",
   "toc_window_display": false,
   "widenNotebook": false
  }
 },
 "nbformat": 4,
 "nbformat_minor": 2
}
