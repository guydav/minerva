{
 "cells": [
  {
   "cell_type": "code",
   "execution_count": null,
   "metadata": {
    "collapsed": true
   },
   "outputs": [],
   "source": [
    "%matplotlib inline"
   ]
  },
  {
   "cell_type": "code",
   "execution_count": 2,
   "metadata": {
    "collapsed": true
   },
   "outputs": [],
   "source": [
    "import pandas\n",
    "import numpy as np\n",
    "import matplotlib\n",
    "import matplotlib.pyplot as plt\n",
    "import sklearn\n",
    "import sklearn.linear_model\n",
    "from datetime import datetime\n",
    "from sklearn_pandas import DataFrameMapper\n",
    "import warnings\n",
    "import timeit\n",
    "from collections import defaultdict\n",
    "import tabulate\n",
    "\n",
    "timeit.template = \"\"\"\n",
    "def inner(_it, _timer{init}):\n",
    "    {setup}\n",
    "    _t0 = _timer()\n",
    "    for _i in _it:\n",
    "        retval = {stmt}\n",
    "    _t1 = _timer()\n",
    "    return _t1 - _t0, retval\n",
    "\"\"\"\n",
    "\n",
    "matplotlib.style.use('ggplot')\n",
    "\n",
    "RANDOM_SEED = 33"
   ]
  },
  {
   "cell_type": "markdown",
   "metadata": {},
   "source": [
    "## Load and plot sample data"
   ]
  },
  {
   "cell_type": "code",
   "execution_count": 3,
   "metadata": {},
   "outputs": [
    {
     "data": {
      "text/plain": [
       "(70000, 784)"
      ]
     },
     "execution_count": 3,
     "metadata": {},
     "output_type": "execute_result"
    }
   ],
   "source": [
    "from sklearn.datasets import fetch_mldata\n",
    "mnist = fetch_mldata('MNIST original')\n",
    "mnist.data.shape"
   ]
  },
  {
   "cell_type": "code",
   "execution_count": 4,
   "metadata": {},
   "outputs": [
    {
     "data": {
      "image/png": "[encoded data removed]",
      "text/plain": [
       "<matplotlib.figure.Figure at 0x113956ef0>"
      ]
     },
     "metadata": {},
     "output_type": "display_data"
    }
   ],
   "source": [
    "from mpl_toolkits.axes_grid1 import ImageGrid\n",
    "\n",
    "N_ROWS = 2\n",
    "N_COLS = 4\n",
    "\n",
    "fig = plt.figure(1, (12, 18))\n",
    "plt.gray()\n",
    "grid = ImageGrid(fig, 111,  # similar to subplot(111)\n",
    "                 nrows_ncols=(N_ROWS, N_COLS),  # creates 2x2 grid of axes\n",
    "                 axes_pad=0.1,  # pad between axes in inch.\n",
    "                 )    \n",
    "\n",
    "for i in range(N_ROWS * N_COLS):\n",
    "    index = np.random.randint(0, mnist.data.shape[0]) \n",
    "    digit = mnist.data[index]\n",
    "    digit = digit.reshape((28, 28))\n",
    "    grid[i].matshow(digit) \n",
    "    \n",
    "plt.show() "
   ]
  },
  {
   "cell_type": "code",
   "execution_count": 5,
   "metadata": {},
   "outputs": [
    {
     "data": {
      "text/plain": [
       "{'COL_NAMES': ['label', 'data'],\n",
       " 'DESCR': 'mldata.org dataset: mnist-original',\n",
       " 'data': array([[0, 0, 0, ..., 0, 0, 0],\n",
       "        [0, 0, 0, ..., 0, 0, 0],\n",
       "        [0, 0, 0, ..., 0, 0, 0],\n",
       "        ..., \n",
       "        [0, 0, 0, ..., 0, 0, 0],\n",
       "        [0, 0, 0, ..., 0, 0, 0],\n",
       "        [0, 0, 0, ..., 0, 0, 0]], dtype=uint8),\n",
       " 'target': array([ 0.,  0.,  0., ...,  9.,  9.,  9.])}"
      ]
     },
     "execution_count": 5,
     "metadata": {},
     "output_type": "execute_result"
    }
   ],
   "source": [
    "mnist"
   ]
  },
  {
   "cell_type": "markdown",
   "metadata": {},
   "source": [
    "## Two-class train and test split\n",
    "For each of the two classes I chose (7 and 8), read out the indices of the relevant class, pick 15 entries to serve a test set for that class, and use the rest as the training set. Then combine the two into training and test sets.\n",
    "\n",
    "Set seed to make sure it's repeatable, and display the shapes as a sanity check."
   ]
  },
  {
   "cell_type": "code",
   "execution_count": 6,
   "metadata": {},
   "outputs": [
    {
     "name": "stdout",
     "output_type": "stream",
     "text": [
      "(14118, 784) (14118,)\n"
     ]
    },
    {
     "data": {
      "text/plain": [
       "((12706, 784), (1412, 784), (12706,), (1412,))"
      ]
     },
     "execution_count": 6,
     "metadata": {},
     "output_type": "execute_result"
    }
   ],
   "source": [
    "from sklearn.model_selection import train_test_split\n",
    "\n",
    "data_indices = np.concatenate((np.where(mnist.target == 7)[0], np.where(mnist.target == 8)[0]))\n",
    "\n",
    "X = np.take(mnist.data, data_indices, axis=0)\n",
    "y = np.take(mnist.target, data_indices, axis=0)\n",
    "\n",
    "print(X.shape, y.shape)\n",
    "\n",
    "X_train, X_test, y_train, y_test = train_test_split(X, y, test_size=0.1, \n",
    "                                                    stratify=y, random_state=RANDOM_SEED)\n",
    "\n",
    "X_train_small, X_test_small, y_train_small, y_test_small = \\\n",
    "    train_test_split(X, y, train_size=0.2, test_size=0.05, stratify=y, random_state=RANDOM_SEED)\n",
    "\n",
    "X_train.shape, X_test.shape, y_train.shape, y_test.shape"
   ]
  },
  {
   "cell_type": "markdown",
   "metadata": {},
   "source": [
    "## Fit SVMs with different kernels\n",
    "\n",
    "Cross-validating over the choice of $C$, the penalty parameter, the degree of the polynomial kernel, and $\\gamma$, the reciprocal of the variance of the RBF and polynomial kernels.\n",
    "\n",
    "I will use X_small_train (~1400 examples per class) to cross-validate the choice of parameters, and then use the best values to compare the training times and error rates."
   ]
  },
  {
   "cell_type": "code",
   "execution_count": 7,
   "metadata": {
    "collapsed": true
   },
   "outputs": [],
   "source": [
    "# report function from: \n",
    "#http://scikit-learn.org/stable/auto_examples/model_selection/plot_randomized_search.html#sphx-glr-auto-examples-model-selection-plot-randomized-search-py\n",
    "\n",
    "def report(results, n_top=3):\n",
    "    for i in range(1, n_top + 1):\n",
    "        candidates = np.flatnonzero(results['rank_test_score'] == i)\n",
    "        for candidate in candidates:\n",
    "            print(\"Model with rank: {0}\".format(i))\n",
    "            print(\"Mean validation score: {0:.3f} (std: {1:.3f})\".format(\n",
    "                  results['mean_test_score'][candidate],\n",
    "                  results['std_test_score'][candidate]))\n",
    "            print(\"Parameters: {0}\".format(results['params'][candidate]))\n",
    "            print(\"\")"
   ]
  },
  {
   "cell_type": "code",
   "execution_count": 8,
   "metadata": {
    "scrolled": false
   },
   "outputs": [
    {
     "name": "stdout",
     "output_type": "stream",
     "text": [
      "linear\n",
      "Fitting 3 folds for each of 12 candidates, totalling 36 fits\n"
     ]
    },
    {
     "name": "stderr",
     "output_type": "stream",
     "text": [
      "[Parallel(n_jobs=4)]: Done  36 out of  36 | elapsed:    4.6s finished\n"
     ]
    },
    {
     "name": "stdout",
     "output_type": "stream",
     "text": [
      "[LibSVM]Model with rank: 1\n",
      "Mean validation score: 0.988 (std: 0.004)\n",
      "Parameters: {'C': 2.7021304292631889}\n",
      "\n",
      "Model with rank: 1\n",
      "Mean validation score: 0.988 (std: 0.004)\n",
      "Parameters: {'C': 6.0490527177389888}\n",
      "\n",
      "Model with rank: 1\n",
      "Mean validation score: 0.988 (std: 0.004)\n",
      "Parameters: {'C': 5.1746060569148051}\n",
      "\n",
      "Model with rank: 1\n",
      "Mean validation score: 0.988 (std: 0.004)\n",
      "Parameters: {'C': 2.8326106102297364}\n",
      "\n",
      "Model with rank: 1\n",
      "Mean validation score: 0.988 (std: 0.004)\n",
      "Parameters: {'C': 32.511138489964509}\n",
      "\n",
      "Model with rank: 1\n",
      "Mean validation score: 0.988 (std: 0.004)\n",
      "Parameters: {'C': 2.0962702802526647}\n",
      "\n",
      "Model with rank: 1\n",
      "Mean validation score: 0.988 (std: 0.004)\n",
      "Parameters: {'C': 1.0818209668556438}\n",
      "\n",
      "Model with rank: 1\n",
      "Mean validation score: 0.988 (std: 0.004)\n",
      "Parameters: {'C': 45.286461560185913}\n",
      "\n",
      "Model with rank: 1\n",
      "Mean validation score: 0.988 (std: 0.004)\n",
      "Parameters: {'C': 15.207720384298495}\n",
      "\n",
      "Model with rank: 1\n",
      "Mean validation score: 0.988 (std: 0.004)\n",
      "Parameters: {'C': 7.0030971850080439}\n",
      "\n",
      "Model with rank: 1\n",
      "Mean validation score: 0.988 (std: 0.004)\n",
      "Parameters: {'C': 47.470443699444594}\n",
      "\n",
      "Model with rank: 1\n",
      "Mean validation score: 0.988 (std: 0.004)\n",
      "Parameters: {'C': 4.8239589819997821}\n",
      "\n",
      "rbf\n",
      "Fitting 3 folds for each of 12 candidates, totalling 36 fits\n"
     ]
    },
    {
     "name": "stderr",
     "output_type": "stream",
     "text": [
      "[Parallel(n_jobs=4)]: Done  36 out of  36 | elapsed:   54.6s finished\n"
     ]
    },
    {
     "name": "stdout",
     "output_type": "stream",
     "text": [
      "[LibSVM]Model with rank: 1\n",
      "Mean validation score: 0.996 (std: 0.001)\n",
      "Parameters: {'C': 5.1746060569148051, 'gamma': 3.7587613265430368e-07}\n",
      "\n",
      "Model with rank: 2\n",
      "Mean validation score: 0.996 (std: 0.001)\n",
      "Parameters: {'C': 17.876864556899822, 'gamma': 2.9254881033213171e-07}\n",
      "\n",
      "Model with rank: 3\n",
      "Mean validation score: 0.994 (std: 0.000)\n",
      "Parameters: {'C': 12.074790018517243, 'gamma': 3.5596316174344359e-08}\n",
      "\n",
      "poly\n",
      "Fitting 3 folds for each of 12 candidates, totalling 36 fits\n"
     ]
    },
    {
     "name": "stderr",
     "output_type": "stream",
     "text": [
      "[Parallel(n_jobs=4)]: Done  36 out of  36 | elapsed:   16.2s finished\n"
     ]
    },
    {
     "name": "stdout",
     "output_type": "stream",
     "text": [
      "[LibSVM]Model with rank: 1\n",
      "Mean validation score: 0.995 (std: 0.001)\n",
      "Parameters: {'C': 2.7021304292631889, 'degree': 2, 'gamma': 0.0013409497607972584}\n",
      "\n",
      "Model with rank: 1\n",
      "Mean validation score: 0.995 (std: 0.001)\n",
      "Parameters: {'C': 2.0962702802526647, 'degree': 2, 'gamma': 0.050249177104249795}\n",
      "\n",
      "Model with rank: 1\n",
      "Mean validation score: 0.995 (std: 0.001)\n",
      "Parameters: {'C': 47.470443699444594, 'degree': 2, 'gamma': 0.47683104037266971}\n",
      "\n"
     ]
    }
   ],
   "source": [
    "from sklearn.svm import SVC\n",
    "from sklearn.model_selection import RandomizedSearchCV\n",
    "from scipy.stats import uniform, randint\n",
    "from collections import namedtuple\n",
    "\n",
    "def log_sample_C(loc=0, scale=1, size=1, random_state=None):\n",
    "    return np.exp(uniform.rvs(loc=0, scale=4, size=size, random_state=random_state))[0]\n",
    "\n",
    "CSampler = namedtuple('CSampler', 'rvs')\n",
    "c_sampler = CSampler(rvs=log_sample_C)\n",
    "\n",
    "\n",
    "def log_sample_gamma(loc=0, scale=1, size=1, random_state=None):\n",
    "    return np.exp(uniform.rvs(loc=-20, scale=20, size=size, random_state=random_state))[0]\n",
    "\n",
    "GammaSampler = namedtuple('GammaSampler', 'rvs')\n",
    "gamma_sampler = GammaSampler(rvs=log_sample_gamma)\n",
    "\n",
    "KERNELS_TO_PARAMETERS = dict(\n",
    "    linear=dict(C=c_sampler),\n",
    "    rbf=dict(C=c_sampler, gamma=gamma_sampler),\n",
    "    poly=dict(C=c_sampler, gamma=gamma_sampler, degree=randint(2, 6))\n",
    ")\n",
    "\n",
    "cross_validation_results = {}\n",
    "\n",
    "with warnings.catch_warnings():\n",
    "    warnings.simplefilter(\"ignore\")\n",
    "    \n",
    "    for kernel in KERNELS_TO_PARAMETERS:\n",
    "        print(kernel)\n",
    "        svm = SVC(kernel=kernel, verbose=True)\n",
    "        search_cv = RandomizedSearchCV(svm, n_iter=12, scoring='accuracy', n_jobs=4, \n",
    "                                       verbose=1, random_state=RANDOM_SEED,\n",
    "                                       param_distributions=KERNELS_TO_PARAMETERS[kernel])\n",
    "        search_cv.fit(X=X_train_small, y=y_train_small)\n",
    "        cross_validation_results[kernel] = search_cv\n",
    "        report(search_cv.cv_results_)\n",
    "    "
   ]
  },
  {
   "cell_type": "code",
   "execution_count": 9,
   "metadata": {},
   "outputs": [
    {
     "name": "stdout",
     "output_type": "stream",
     "text": [
      "linear\n",
      "[LibSVM]\n",
      "rbf\n",
      "[LibSVM]\n",
      "poly\n",
      "[LibSVM]\n"
     ]
    }
   ],
   "source": [
    "results = defaultdict(dict)\n",
    "\n",
    "for kernel in cross_validation_results:\n",
    "    print(kernel)\n",
    "    svm = cross_validation_results[kernel].best_estimator_\n",
    "        \n",
    "    def fit_function():\n",
    "        return svm.fit(X_train, y_train)\n",
    "        \n",
    "    train_time, train_result = timeit.timeit(fit_function, number=1)\n",
    "    results[kernel]['train_time'] = train_time\n",
    "    \n",
    "    def classify_function():\n",
    "        return svm.predict(X_test)\n",
    "        \n",
    "    classification_time, classification_result = timeit.timeit(classify_function, number=1)\n",
    "    results[kernel]['classification_time'] = classification_time\n",
    "    \n",
    "    prediction_accuracy = np.sum(y_test == classification_result) / y_test.shape[0]\n",
    "    results[kernel]['classification_accuracy'] = prediction_accuracy\n",
    "    print()"
   ]
  },
  {
   "cell_type": "code",
   "execution_count": 10,
   "metadata": {},
   "outputs": [
    {
     "name": "stdout",
     "output_type": "stream",
     "text": [
      "╒═══════════════╤══════════════╤═══════════════════════╤═══════════════════════════╕\n",
      "│ kernel_type   │   train_time │   classification_time │   classification_accuracy │\n",
      "╞═══════════════╪══════════════╪═══════════════════════╪═══════════════════════════╡\n",
      "│ linear        │      5.36562 │              0.330686 │                  0.98796  │\n",
      "├───────────────┼──────────────┼───────────────────────┼───────────────────────────┤\n",
      "│ rbf           │     10.9164  │              1.15145  │                  0.998584 │\n",
      "├───────────────┼──────────────┼───────────────────────┼───────────────────────────┤\n",
      "│ poly          │      5.42338 │              0.539599 │                  0.999292 │\n",
      "╘═══════════════╧══════════════╧═══════════════════════╧═══════════════════════════╛\n"
     ]
    }
   ],
   "source": [
    "headers = ('kernel_type', 'train_time', 'classification_time', 'classification_accuracy')\n",
    "table_data = [[kernel] + [results[kernel][header] for header in headers[1:]] for kernel in cross_validation_results]\n",
    "print(tabulate.tabulate(table_data, headers, tablefmt='fancy_grid'))"
   ]
  },
  {
   "cell_type": "markdown",
   "metadata": {},
   "source": [
    "## Try classifying all ten classes\n",
    "\n",
    "## Update - it turns out one does not simply train an SVM to classify MNIST on their laptop with the entire data set. It crashes. Oh well. Leaveing the code here for posterity."
   ]
  },
  {
   "cell_type": "code",
   "execution_count": null,
   "metadata": {},
   "outputs": [],
   "source": [
    "from sklearn.model_selection import train_test_split\n",
    "\n",
    "X_full = mnist.data\n",
    "y_full = mnist.target\n",
    "\n",
    "print(X_full.shape, y_full.shape)\n",
    "\n",
    "X_full_train, X_full_test, y_full_train, y_full_test = \\\n",
    "    train_test_split(X_full, y_full, test_size=0.1, stratify=y_full, random_state=RANDOM_SEED)\n",
    "\n",
    "X_full_train_small, X_full_test_small, y_full_train_small, y_full_test_small = \\\n",
    "    train_test_split(X_full, y_full, train_size=0.1, test_size=0.05, stratify=y_full, random_state=RANDOM_SEED)\n",
    "\n",
    "X_full_train.shape, X_full_train_small.shape, y_full_train.shape, y_full_train.shape"
   ]
  },
  {
   "cell_type": "code",
   "execution_count": null,
   "metadata": {},
   "outputs": [],
   "source": [
    "from sklearn.svm import SVC\n",
    "from sklearn.model_selection import RandomizedSearchCV\n",
    "from scipy.stats import uniform, randint\n",
    "from collections import namedtuple\n",
    "\n",
    "def log_sample_C(loc=0, scale=1, size=1, random_state=None):\n",
    "    return np.exp(uniform.rvs(loc=0, scale=4, size=size, random_state=random_state))[0]\n",
    "\n",
    "CSampler = namedtuple('CSampler', 'rvs')\n",
    "c_sampler = CSampler(rvs=log_sample_C)\n",
    "\n",
    "\n",
    "def log_sample_gamma(loc=0, scale=1, size=1, random_state=None):\n",
    "    return np.exp(uniform.rvs(loc=-20, scale=20, size=size, random_state=random_state))[0]\n",
    "\n",
    "GammaSampler = namedtuple('GammaSampler', 'rvs')\n",
    "gamma_sampler = GammaSampler(rvs=log_sample_gamma)\n",
    "\n",
    "KERNELS_TO_PARAMETERS = dict(\n",
    "    linear=dict(C=c_sampler),\n",
    "    rbf=dict(C=c_sampler, gamma=gamma_sampler),\n",
    "    poly=dict(C=c_sampler, gamma=gamma_sampler, degree=randint(2, 6))\n",
    ")\n",
    "\n",
    "full_cross_validation_results = {}\n",
    "\n",
    "with warnings.catch_warnings():\n",
    "    warnings.simplefilter(\"ignore\")\n",
    "    \n",
    "    for kernel in KERNELS_TO_PARAMETERS:\n",
    "        print(kernel)\n",
    "        svm = SVC(kernel=kernel, verbose=True)\n",
    "        search_cv = RandomizedSearchCV(svm, n_iter=8, scoring='accuracy', n_jobs=4, \n",
    "                                       verbose=1, random_state=RANDOM_SEED,\n",
    "                                       param_distributions=KERNELS_TO_PARAMETERS[kernel])\n",
    "        search_cv.fit(X=X_full_train_small, y=y_full_train_small)\n",
    "        full_cross_validation_results[kernel] = search_cv\n",
    "        report(search_cv.cv_results_)\n",
    "    "
   ]
  },
  {
   "cell_type": "code",
   "execution_count": null,
   "metadata": {},
   "outputs": [],
   "source": [
    "full_results = defaultdict(dict)\n",
    "\n",
    "for kernel in full_cross_validation_results:\n",
    "    print(kernel)\n",
    "    svm = full_cross_validation_results[kernel].best_estimator_\n",
    "        \n",
    "    def fit_function():\n",
    "        return svm.fit(X_full_train, y_full_train)\n",
    "        \n",
    "    train_time, train_result = timeit.timeit(fit_function, number=1)\n",
    "    full_results[kernel]['train_time'] = train_time\n",
    "    \n",
    "    def classify_function():\n",
    "        return svm.predict(X_full_test)\n",
    "        \n",
    "    classification_time, classification_result = timeit.timeit(classify_function, number=1)\n",
    "    full_results[kernel]['classification_time'] = classification_time\n",
    "    \n",
    "    prediction_accuracy = np.sum(y_full_test == classification_result) / y_full_test.shape[0]\n",
    "    full_results[kernel]['classification_accuracy'] = prediction_accuracy\n",
    "    print()"
   ]
  },
  {
   "cell_type": "code",
   "execution_count": null,
   "metadata": {
    "collapsed": true
   },
   "outputs": [],
   "source": [
    "headers = ('kernel_type', 'train_time', 'classification_time', 'classification_accuracy')\n",
    "table_data = [[kernel] + [full_results[kernel][header] for header in headers[1:]] \n",
    "              for kernel in full_cross_validation_results]\n",
    "print(tabulate.tabulate(table_data, headers, tablefmt='fancy_grid'))"
   ]
  },
  {
   "cell_type": "markdown",
   "metadata": {},
   "source": [
    "## Try to classify on LDA'd data\n",
    "\n",
    "First with the LDA's classifier, then with an SVM on LDA'd data\n",
    "\n",
    "Reloading the data in order to center it before splitting into train, small train, and test"
   ]
  },
  {
   "cell_type": "code",
   "execution_count": 11,
   "metadata": {},
   "outputs": [
    {
     "name": "stdout",
     "output_type": "stream",
     "text": [
      "(70000, 784) (70000,)\n"
     ]
    },
    {
     "data": {
      "text/plain": [
       "((63000, 784), (7000, 784), (63000,), (63000,))"
      ]
     },
     "execution_count": 11,
     "metadata": {},
     "output_type": "execute_result"
    }
   ],
   "source": [
    "from sklearn.model_selection import train_test_split\n",
    "\n",
    "X_full = mnist.data \n",
    "X_full -= np.mean(X_full, axis=0, dtype=np.dtype('uint8'))\n",
    "y_full = mnist.target\n",
    "\n",
    "print(X_full.shape, y_full.shape)\n",
    "\n",
    "X_full_train, X_full_test, y_full_train, y_full_test = \\\n",
    "    train_test_split(X_full, y_full, test_size=0.1, stratify=y_full, random_state=RANDOM_SEED)\n",
    "\n",
    "X_full_train_small, X_full_test_small, y_full_train_small, y_full_test_small = \\\n",
    "    train_test_split(X_full, y_full, train_size=0.1, test_size=0.05, stratify=y_full, random_state=RANDOM_SEED)\n",
    "\n",
    "X_full_train.shape, X_full_train_small.shape, y_full_train.shape, y_full_train.shape"
   ]
  },
  {
   "cell_type": "code",
   "execution_count": 12,
   "metadata": {},
   "outputs": [
    {
     "name": "stderr",
     "output_type": "stream",
     "text": [
      "/Users/guydavidson/anaconda/lib/python3.6/site-packages/sklearn/discriminant_analysis.py:388: UserWarning: Variables are collinear.\n",
      "  warnings.warn(\"Variables are collinear.\")\n"
     ]
    },
    {
     "name": "stdout",
     "output_type": "stream",
     "text": [
      "Train accuracy: 0.873650793651\n",
      "Test accuracy: 0.857285714286\n"
     ]
    }
   ],
   "source": [
    "from sklearn.discriminant_analysis import LinearDiscriminantAnalysis\n",
    "\n",
    "lda = LinearDiscriminantAnalysis(n_components=9)\n",
    "lda.fit(X_full_train, y_full_train)\n",
    "\n",
    "print('Train accuracy:', sum(lda.predict(X_full_train) == y_full_train) / X_full_train.shape[0])\n",
    "print('Test accuracy:', sum(lda.predict(X_full_test) == y_full_test) / X_full_test.shape[0])"
   ]
  },
  {
   "cell_type": "code",
   "execution_count": 13,
   "metadata": {
    "collapsed": true
   },
   "outputs": [],
   "source": [
    "X_full_train_LDA = lda.transform(X_full_train)\n",
    "X_full_train_small_LDA = lda.transform(X_full_train_small)\n",
    "X_full_test_LDA = lda.transform(X_full_test)"
   ]
  },
  {
   "cell_type": "code",
   "execution_count": 14,
   "metadata": {},
   "outputs": [
    {
     "name": "stdout",
     "output_type": "stream",
     "text": [
      "linear\n",
      "Fitting 3 folds for each of 12 candidates, totalling 36 fits\n"
     ]
    },
    {
     "name": "stderr",
     "output_type": "stream",
     "text": [
      "[Parallel(n_jobs=4)]: Done  36 out of  36 | elapsed:   12.1s finished\n"
     ]
    },
    {
     "name": "stdout",
     "output_type": "stream",
     "text": [
      "[LibSVM]Model with rank: 1\n",
      "Mean validation score: 0.894 (std: 0.004)\n",
      "Parameters: {'C': 2.7021304292631889}\n",
      "\n",
      "Model with rank: 1\n",
      "Mean validation score: 0.894 (std: 0.004)\n",
      "Parameters: {'C': 2.8326106102297364}\n",
      "\n",
      "Model with rank: 1\n",
      "Mean validation score: 0.894 (std: 0.003)\n",
      "Parameters: {'C': 32.511138489964509}\n",
      "\n",
      "Model with rank: 1\n",
      "Mean validation score: 0.894 (std: 0.003)\n",
      "Parameters: {'C': 1.0818209668556438}\n",
      "\n",
      "Model with rank: 1\n",
      "Mean validation score: 0.894 (std: 0.003)\n",
      "Parameters: {'C': 45.286461560185913}\n",
      "\n",
      "Model with rank: 1\n",
      "Mean validation score: 0.894 (std: 0.003)\n",
      "Parameters: {'C': 15.207720384298495}\n",
      "\n",
      "Model with rank: 1\n",
      "Mean validation score: 0.894 (std: 0.003)\n",
      "Parameters: {'C': 47.470443699444594}\n",
      "\n",
      "rbf\n",
      "Fitting 3 folds for each of 12 candidates, totalling 36 fits\n"
     ]
    },
    {
     "name": "stderr",
     "output_type": "stream",
     "text": [
      "[Parallel(n_jobs=4)]: Done  36 out of  36 | elapsed:   21.9s finished\n"
     ]
    },
    {
     "name": "stdout",
     "output_type": "stream",
     "text": [
      "[LibSVM]Model with rank: 1\n",
      "Mean validation score: 0.890 (std: 0.002)\n",
      "Parameters: {'C': 33.869426586813574, 'gamma': 4.0317270284562337e-05}\n",
      "\n",
      "Model with rank: 2\n",
      "Mean validation score: 0.887 (std: 0.009)\n",
      "Parameters: {'C': 1.0818209668556438, 'gamma': 0.39260181664842708}\n",
      "\n",
      "Model with rank: 3\n",
      "Mean validation score: 0.886 (std: 0.003)\n",
      "Parameters: {'C': 15.207720384298495, 'gamma': 3.4718513987424185e-05}\n",
      "\n",
      "poly\n",
      "Fitting 3 folds for each of 12 candidates, totalling 36 fits\n"
     ]
    },
    {
     "name": "stderr",
     "output_type": "stream",
     "text": [
      "[Parallel(n_jobs=4)]: Done  36 out of  36 | elapsed:   29.0s finished\n"
     ]
    },
    {
     "name": "stdout",
     "output_type": "stream",
     "text": [
      "[LibSVM]Model with rank: 1\n",
      "Mean validation score: 0.881 (std: 0.006)\n",
      "Parameters: {'C': 39.756175741180279, 'degree': 5, 'gamma': 0.074863693941416135}\n",
      "\n",
      "Model with rank: 2\n",
      "Mean validation score: 0.877 (std: 0.004)\n",
      "Parameters: {'C': 2.0962702802526647, 'degree': 2, 'gamma': 0.050249177104249795}\n",
      "\n",
      "Model with rank: 3\n",
      "Mean validation score: 0.862 (std: 0.005)\n",
      "Parameters: {'C': 47.470443699444594, 'degree': 2, 'gamma': 0.47683104037266971}\n",
      "\n"
     ]
    }
   ],
   "source": [
    "from sklearn.svm import SVC\n",
    "from sklearn.model_selection import RandomizedSearchCV\n",
    "from scipy.stats import uniform, randint\n",
    "from collections import namedtuple\n",
    "\n",
    "def log_sample_C(loc=0, scale=1, size=1, random_state=None):\n",
    "    return np.exp(uniform.rvs(loc=0, scale=4, size=size, random_state=random_state))[0]\n",
    "\n",
    "CSampler = namedtuple('CSampler', 'rvs')\n",
    "c_sampler = CSampler(rvs=log_sample_C)\n",
    "\n",
    "\n",
    "def log_sample_gamma(loc=0, scale=1, size=1, random_state=None):\n",
    "    return np.exp(uniform.rvs(loc=-20, scale=20, size=size, random_state=random_state))[0]\n",
    "\n",
    "GammaSampler = namedtuple('GammaSampler', 'rvs')\n",
    "gamma_sampler = GammaSampler(rvs=log_sample_gamma)\n",
    "\n",
    "KERNELS_TO_PARAMETERS = dict(\n",
    "    linear=dict(C=c_sampler),\n",
    "    rbf=dict(C=c_sampler, gamma=gamma_sampler),\n",
    "    poly=dict(C=c_sampler, gamma=gamma_sampler, degree=randint(2, 6))\n",
    ")\n",
    "\n",
    "LDA_cross_validation_results = {}\n",
    "\n",
    "with warnings.catch_warnings():\n",
    "    warnings.simplefilter(\"ignore\")\n",
    "    \n",
    "    for kernel in KERNELS_TO_PARAMETERS:\n",
    "        print(kernel)\n",
    "        svm = SVC(kernel=kernel, verbose=True)\n",
    "        search_cv = RandomizedSearchCV(svm, n_iter=12, scoring='accuracy', n_jobs=4, \n",
    "                                       verbose=1, random_state=RANDOM_SEED,\n",
    "                                       param_distributions=KERNELS_TO_PARAMETERS[kernel])\n",
    "        search_cv.fit(X=X_full_train_small_LDA, y=y_full_train_small)\n",
    "        LDA_cross_validation_results[kernel] = search_cv\n",
    "        report(search_cv.cv_results_)\n",
    "    "
   ]
  },
  {
   "cell_type": "code",
   "execution_count": 15,
   "metadata": {},
   "outputs": [
    {
     "name": "stdout",
     "output_type": "stream",
     "text": [
      "linear\n",
      "[LibSVM]\n",
      "rbf\n",
      "[LibSVM]\n",
      "poly\n",
      "[LibSVM]\n"
     ]
    }
   ],
   "source": [
    "LDA_results = defaultdict(dict)\n",
    "\n",
    "for kernel in LDA_cross_validation_results:\n",
    "    print(kernel)\n",
    "    svm = LDA_cross_validation_results[kernel].best_estimator_\n",
    "        \n",
    "    def fit_function():\n",
    "        return svm.fit(X_full_train_LDA, y_full_train)\n",
    "        \n",
    "    train_time, train_result = timeit.timeit(fit_function, number=1)\n",
    "    LDA_results[kernel]['train_time'] = train_time\n",
    "    \n",
    "    def classify_function():\n",
    "        return svm.predict(X_full_test_LDA)\n",
    "        \n",
    "    classification_time, classification_result = timeit.timeit(classify_function, number=1)\n",
    "    LDA_results[kernel]['classification_time'] = classification_time\n",
    "    \n",
    "    prediction_accuracy = np.sum(y_full_test == classification_result) / y_full_test.shape[0]\n",
    "    LDA_results[kernel]['classification_accuracy'] = prediction_accuracy\n",
    "    print()"
   ]
  },
  {
   "cell_type": "code",
   "execution_count": 16,
   "metadata": {},
   "outputs": [
    {
     "name": "stdout",
     "output_type": "stream",
     "text": [
      "╒═══════════════╤══════════════╤═══════════════════════╤═══════════════════════════╕\n",
      "│ kernel_type   │   train_time │   classification_time │   classification_accuracy │\n",
      "╞═══════════════╪══════════════╪═══════════════════════╪═══════════════════════════╡\n",
      "│ linear        │      40.0773 │               2.0254  │                  0.877286 │\n",
      "├───────────────┼──────────────┼───────────────────────┼───────────────────────────┤\n",
      "│ rbf           │      28.3614 │               4.08981 │                  0.876    │\n",
      "├───────────────┼──────────────┼───────────────────────┼───────────────────────────┤\n",
      "│ poly          │      48.4143 │               1.78968 │                  0.895571 │\n",
      "╘═══════════════╧══════════════╧═══════════════════════╧═══════════════════════════╛\n"
     ]
    }
   ],
   "source": [
    "headers = ('kernel_type', 'train_time', 'classification_time', 'classification_accuracy')\n",
    "table_data = [[kernel] + [LDA_results[kernel][header] for header in headers[1:]] \n",
    "              for kernel in LDA_cross_validation_results]\n",
    "print(tabulate.tabulate(table_data, headers, tablefmt='fancy_grid'))"
   ]
  },
  {
   "cell_type": "markdown",
   "metadata": {},
   "source": [
    "## Try to classify on PCA-reduced data"
   ]
  },
  {
   "cell_type": "code",
   "execution_count": 17,
   "metadata": {
    "collapsed": true
   },
   "outputs": [],
   "source": [
    "from sklearn.decomposition import PCA\n",
    "\n",
    "pca = PCA(whiten=True, copy=True)\n",
    "pca.fit(X_full_train)\n",
    "variance_diffs = np.ediff1d(pca.explained_variance_ratio_)"
   ]
  },
  {
   "cell_type": "code",
   "execution_count": 18,
   "metadata": {},
   "outputs": [
    {
     "data": {
      "image/png": "[encoded data removed]",
      "text/plain": [
       "<matplotlib.figure.Figure at 0x11af49400>"
      ]
     },
     "metadata": {},
     "output_type": "display_data"
    }
   ],
   "source": [
    "plt.figure(figsize=(12, 9))\n",
    "\n",
    "plt.scatter(list(range(pca.explained_variance_ratio_.shape[0])), pca.explained_variance_ratio_, \n",
    "    color='blue', label='Explained variance proportion by component')\n",
    "\n",
    "plt.scatter(list(range(variance_diffs.shape[0])), variance_diffs, \n",
    "    color='red', label='Consecutive differences')\n",
    "\n",
    "plt.legend(loc=1, fontsize=16)\n",
    "plt.xlabel(r'n', size=16)\n",
    "plt.ylabel(r'% variance explained', size=16)\n",
    "plt.show()"
   ]
  },
  {
   "cell_type": "markdown",
   "metadata": {},
   "source": [
    "## Let's focus on the first 25"
   ]
  },
  {
   "cell_type": "code",
   "execution_count": 19,
   "metadata": {},
   "outputs": [
    {
     "data": {
      "image/png": "[encoded data removed]",
      "text/plain": [
       "<matplotlib.figure.Figure at 0x11a852240>"
      ]
     },
     "metadata": {},
     "output_type": "display_data"
    }
   ],
   "source": [
    "plt.figure(figsize=(12, 9))\n",
    "\n",
    "NUM_ITEMS = 25\n",
    "\n",
    "plt.scatter(list(range(NUM_ITEMS)), pca.explained_variance_ratio_[:NUM_ITEMS], \n",
    "    color='blue', label='Explained variance proportion by component')\n",
    "\n",
    "plt.scatter(list(range(NUM_ITEMS)), variance_diffs[:NUM_ITEMS], \n",
    "    color='red', label='Consecutive differences')\n",
    "\n",
    "plt.legend(loc=1, fontsize=16)\n",
    "plt.xlabel(r'n', size=16)\n",
    "plt.ylabel(r'% variance explained', size=16)\n",
    "plt.show()"
   ]
  },
  {
   "cell_type": "markdown",
   "metadata": {},
   "source": [
    "## Looks like the first ~12 components are a reasonable stopping point"
   ]
  },
  {
   "cell_type": "code",
   "execution_count": 20,
   "metadata": {
    "collapsed": true
   },
   "outputs": [],
   "source": [
    "N_TOP_COMPONENTS = 12\n",
    "\n",
    "pca_top_components = PCA(n_components=N_TOP_COMPONENTS, whiten=True, copy=True)\n",
    "\n",
    "X_full_train_PCA = pca_top_components.fit_transform(X_full_train)\n",
    "X_full_train_small_PCA = pca_top_components.transform(X_full_train_small)\n",
    "X_full_test_PCA = pca_top_components.transform(X_full_test)"
   ]
  },
  {
   "cell_type": "code",
   "execution_count": 21,
   "metadata": {},
   "outputs": [
    {
     "name": "stdout",
     "output_type": "stream",
     "text": [
      "linear\n",
      "Fitting 3 folds for each of 12 candidates, totalling 36 fits\n"
     ]
    },
    {
     "name": "stderr",
     "output_type": "stream",
     "text": [
      "[Parallel(n_jobs=4)]: Done  36 out of  36 | elapsed:   13.7s finished\n"
     ]
    },
    {
     "name": "stdout",
     "output_type": "stream",
     "text": [
      "[LibSVM]Model with rank: 1\n",
      "Mean validation score: 0.863 (std: 0.004)\n",
      "Parameters: {'C': 1.0818209668556438}\n",
      "\n",
      "Model with rank: 2\n",
      "Mean validation score: 0.863 (std: 0.003)\n",
      "Parameters: {'C': 2.8326106102297364}\n",
      "\n",
      "Model with rank: 3\n",
      "Mean validation score: 0.863 (std: 0.004)\n",
      "Parameters: {'C': 5.1746060569148051}\n",
      "\n",
      "rbf\n",
      "Fitting 3 folds for each of 12 candidates, totalling 36 fits\n"
     ]
    },
    {
     "name": "stderr",
     "output_type": "stream",
     "text": [
      "[Parallel(n_jobs=4)]: Done  36 out of  36 | elapsed:   27.9s finished\n"
     ]
    },
    {
     "name": "stdout",
     "output_type": "stream",
     "text": [
      "[LibSVM]Model with rank: 1\n",
      "Mean validation score: 0.930 (std: 0.005)\n",
      "Parameters: {'C': 1.0818209668556438, 'gamma': 0.39260181664842708}\n",
      "\n",
      "Model with rank: 2\n",
      "Mean validation score: 0.905 (std: 0.008)\n",
      "Parameters: {'C': 1.9242584070436997, 'gamma': 0.7141490540028671}\n",
      "\n",
      "Model with rank: 3\n",
      "Mean validation score: 0.825 (std: 0.003)\n",
      "Parameters: {'C': 33.869426586813574, 'gamma': 4.0317270284562337e-05}\n",
      "\n",
      "poly\n",
      "Fitting 3 folds for each of 12 candidates, totalling 36 fits\n"
     ]
    },
    {
     "name": "stderr",
     "output_type": "stream",
     "text": [
      "[Parallel(n_jobs=4)]: Done  36 out of  36 | elapsed:   20.6s finished\n"
     ]
    },
    {
     "name": "stdout",
     "output_type": "stream",
     "text": [
      "[LibSVM]Model with rank: 1\n",
      "Mean validation score: 0.894 (std: 0.005)\n",
      "Parameters: {'C': 39.756175741180279, 'degree': 5, 'gamma': 0.074863693941416135}\n",
      "\n",
      "Model with rank: 2\n",
      "Mean validation score: 0.880 (std: 0.003)\n",
      "Parameters: {'C': 2.0962702802526647, 'degree': 2, 'gamma': 0.050249177104249795}\n",
      "\n",
      "Model with rank: 3\n",
      "Mean validation score: 0.864 (std: 0.011)\n",
      "Parameters: {'C': 47.470443699444594, 'degree': 2, 'gamma': 0.47683104037266971}\n",
      "\n"
     ]
    }
   ],
   "source": [
    "from sklearn.svm import SVC\n",
    "from sklearn.model_selection import RandomizedSearchCV\n",
    "from scipy.stats import uniform, randint\n",
    "from collections import namedtuple\n",
    "\n",
    "def log_sample_C(loc=0, scale=1, size=1, random_state=None):\n",
    "    return np.exp(uniform.rvs(loc=0, scale=4, size=size, random_state=random_state))[0]\n",
    "\n",
    "CSampler = namedtuple('CSampler', 'rvs')\n",
    "c_sampler = CSampler(rvs=log_sample_C)\n",
    "\n",
    "\n",
    "def log_sample_gamma(loc=0, scale=1, size=1, random_state=None):\n",
    "    return np.exp(uniform.rvs(loc=-20, scale=20, size=size, random_state=random_state))[0]\n",
    "\n",
    "GammaSampler = namedtuple('GammaSampler', 'rvs')\n",
    "gamma_sampler = GammaSampler(rvs=log_sample_gamma)\n",
    "\n",
    "KERNELS_TO_PARAMETERS = dict(\n",
    "    linear=dict(C=c_sampler),\n",
    "    rbf=dict(C=c_sampler, gamma=gamma_sampler),\n",
    "    poly=dict(C=c_sampler, gamma=gamma_sampler, degree=randint(2, 6))\n",
    ")\n",
    "\n",
    "PCA_cross_validation_results = {}\n",
    "\n",
    "with warnings.catch_warnings():\n",
    "    warnings.simplefilter(\"ignore\")\n",
    "    \n",
    "    for kernel in KERNELS_TO_PARAMETERS:\n",
    "        print(kernel)\n",
    "        svm = SVC(kernel=kernel, verbose=True)\n",
    "        search_cv = RandomizedSearchCV(svm, n_iter=12, scoring='accuracy', n_jobs=4, \n",
    "                                       verbose=1, random_state=RANDOM_SEED,\n",
    "                                       param_distributions=KERNELS_TO_PARAMETERS[kernel])\n",
    "        search_cv.fit(X=X_full_train_small_PCA, y=y_full_train_small)\n",
    "        PCA_cross_validation_results[kernel] = search_cv\n",
    "        report(search_cv.cv_results_)\n",
    "    "
   ]
  },
  {
   "cell_type": "code",
   "execution_count": 22,
   "metadata": {},
   "outputs": [
    {
     "name": "stdout",
     "output_type": "stream",
     "text": [
      "linear\n",
      "[LibSVM]\n",
      "rbf\n",
      "[LibSVM]\n",
      "poly\n",
      "[LibSVM]\n"
     ]
    }
   ],
   "source": [
    "PCA_results = defaultdict(dict)\n",
    "\n",
    "for kernel in PCA_cross_validation_results:\n",
    "    print(kernel)\n",
    "    svm = PCA_cross_validation_results[kernel].best_estimator_\n",
    "        \n",
    "    def fit_function():\n",
    "        return svm.fit(X_full_train_PCA, y_full_train)\n",
    "        \n",
    "    train_time, train_result = timeit.timeit(fit_function, number=1)\n",
    "    PCA_results[kernel]['train_time'] = train_time\n",
    "    \n",
    "    def classify_function():\n",
    "        return svm.predict(X_full_test_PCA)\n",
    "        \n",
    "    classification_time, classification_result = timeit.timeit(classify_function, number=1)\n",
    "    PCA_results[kernel]['classification_time'] = classification_time\n",
    "    \n",
    "    prediction_accuracy = np.sum(y_full_test == classification_result) / y_full_test.shape[0]\n",
    "    PCA_results[kernel]['classification_accuracy'] = prediction_accuracy\n",
    "    print()"
   ]
  },
  {
   "cell_type": "code",
   "execution_count": 23,
   "metadata": {},
   "outputs": [
    {
     "name": "stdout",
     "output_type": "stream",
     "text": [
      "╒═══════════════╤══════════════╤═══════════════════════╤═══════════════════════════╕\n",
      "│ kernel_type   │   train_time │   classification_time │   classification_accuracy │\n",
      "╞═══════════════╪══════════════╪═══════════════════════╪═══════════════════════════╡\n",
      "│ linear        │      37.6508 │               3.2631  │                  0.859429 │\n",
      "├───────────────┼──────────────┼───────────────────────┼───────────────────────────┤\n",
      "│ rbf           │      67.6765 │               4.8543  │                  0.958714 │\n",
      "├───────────────┼──────────────┼───────────────────────┼───────────────────────────┤\n",
      "│ poly          │      21.1726 │               1.93992 │                  0.941571 │\n",
      "╘═══════════════╧══════════════╧═══════════════════════╧═══════════════════════════╛\n"
     ]
    }
   ],
   "source": [
    "headers = ('kernel_type', 'train_time', 'classification_time', 'classification_accuracy')\n",
    "table_data = [[kernel] + [PCA_results[kernel][header] for header in headers[1:]] \n",
    "              for kernel in PCA_cross_validation_results]\n",
    "print(tabulate.tabulate(table_data, headers, tablefmt='fancy_grid'))"
   ]
  },
  {
   "cell_type": "markdown",
   "metadata": {
    "collapsed": true
   },
   "source": [
    "# Conclusion\n",
    "\n",
    "Turns out that SVMs do quite a nice job of classifying MNIST digits. In the two-class case, all three models trained achieve a test accuracy of over 98%, which is objectively fantastic. The RBF kernel requires about twice as much computation as the other two, while not delivering any improvement in performance.\n",
    "\n",
    "On the other hand, if we reduce the dimensionality of the data and train with the entire dataset, some things change. Fasinatingly, it appears that on the LDA reduced data, the RBF kernel actually downgrades performance, compared to the linear kernel. This might be explained by the fact that LDA already models the data as Gaussians, and tries to separate them in the reduced dimension expression, so could it be that the RBF kernel attempts to counteract that somehow? (_Note: do you think this would be interesting to investigate further?_) The polynomial kernels appear to deliver the best combination of accuracy _and_ train/classification time, including beating the linear kernel in train time, which I found surprising (particularly since the cross-validation chose polynomials of degree 5). \n",
    "\n",
    "On the PCA-reduced data, RBF finally manages to deliver an increase in accuracy, to almost 96% (on all 10 MNIST classes), albeit at more than double the training and classification time of the polynomial kerne (for an increase of 1.7%). "
   ]
  },
  {
   "cell_type": "markdown",
   "metadata": {},
   "source": [
    "## Code\n",
    "\n",
    "As always, the code is available on my GitHub here: https://github.com/guydav/minerva/blob/master/notebooks/CS156/8.X%20MNIST%20Clustering.ipynb"
   ]
  },
  {
   "cell_type": "code",
   "execution_count": null,
   "metadata": {
    "collapsed": true
   },
   "outputs": [],
   "source": []
  }
 ],
 "metadata": {
  "kernelspec": {
   "display_name": "Python 3",
   "language": "python",
   "name": "python3"
  },
  "language_info": {
   "codemirror_mode": {
    "name": "ipython",
    "version": 3
   },
   "file_extension": ".py",
   "mimetype": "text/x-python",
   "name": "python",
   "nbconvert_exporter": "python",
   "pygments_lexer": "ipython3",
   "version": "3.6.2"
  }
 },
 "nbformat": 4,
 "nbformat_minor": 2
}
