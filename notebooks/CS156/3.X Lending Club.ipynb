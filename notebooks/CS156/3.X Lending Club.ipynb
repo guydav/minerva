{
 "cells": [
  {
   "cell_type": "code",
   "execution_count": 1,
   "metadata": {
    "collapsed": true
   },
   "outputs": [],
   "source": [
    "%matplotlib inline\n",
    "\n",
    "import pandas\n",
    "import numpy as np\n",
    "import matplotlib\n",
    "import matplotlib.pyplot as plt\n",
    "import sklearn\n",
    "import sklearn.linear_model\n",
    "from datetime import datetime\n",
    "import statsmodels.api as sm\n",
    "import statsmodels.formula.api as smf\n",
    "from sklearn_pandas import DataFrameMapper\n",
    "import warnings\n",
    "\n",
    "matplotlib.style.use('ggplot')\n",
    "\n",
    "RANDOM_SEED = 33"
   ]
  },
  {
   "cell_type": "code",
   "execution_count": 2,
   "metadata": {},
   "outputs": [
    {
     "name": "stdout",
     "output_type": "stream",
     "text": [
      "['id', 'member_id', 'loan_amnt', 'funded_amnt', 'funded_amnt_inv', 'term', 'int_rate', 'installment', 'grade', 'sub_grade', 'emp_title', 'emp_length', 'home_ownership', 'annual_inc', 'verification_status', 'issue_d', 'loan_status', 'pymnt_plan', 'desc', 'purpose', 'title', 'zip_code', 'addr_state', 'dti', 'delinq_2yrs', 'earliest_cr_line', 'inq_last_6mths', 'mths_since_last_delinq', 'mths_since_last_record', 'open_acc', 'pub_rec', 'revol_bal', 'revol_util', 'total_acc', 'initial_list_status', 'out_prncp', 'out_prncp_inv', 'total_pymnt', 'total_pymnt_inv', 'total_rec_prncp', 'total_rec_int', 'total_rec_late_fee', 'recoveries', 'collection_recovery_fee', 'last_pymnt_d', 'last_pymnt_amnt', 'next_pymnt_d', 'last_credit_pull_d', 'collections_12_mths_ex_med', 'mths_since_last_major_derog', 'policy_code', 'application_type', 'annual_inc_joint', 'dti_joint', 'verification_status_joint', 'acc_now_delinq', 'tot_coll_amt', 'tot_cur_bal', 'open_acc_6m', 'open_il_6m', 'open_il_12m', 'open_il_24m', 'mths_since_rcnt_il', 'total_bal_il', 'il_util', 'open_rv_12m', 'open_rv_24m', 'max_bal_bc', 'all_util', 'total_rev_hi_lim', 'inq_fi', 'total_cu_tl', 'inq_last_12m', 'acc_open_past_24mths', 'avg_cur_bal', 'bc_open_to_buy', 'bc_util', 'chargeoff_within_12_mths', 'delinq_amnt', 'mo_sin_old_il_acct', 'mo_sin_old_rev_tl_op', 'mo_sin_rcnt_rev_tl_op', 'mo_sin_rcnt_tl', 'mort_acc', 'mths_since_recent_bc', 'mths_since_recent_bc_dlq', 'mths_since_recent_inq', 'mths_since_recent_revol_delinq', 'num_accts_ever_120_pd', 'num_actv_bc_tl', 'num_actv_rev_tl', 'num_bc_sats', 'num_bc_tl', 'num_il_tl', 'num_op_rev_tl', 'num_rev_accts', 'num_rev_tl_bal_gt_0', 'num_sats', 'num_tl_120dpd_2m', 'num_tl_30dpd', 'num_tl_90g_dpd_24m', 'num_tl_op_past_12m', 'pct_tl_nvr_dlq', 'percent_bc_gt_75', 'pub_rec_bankruptcies', 'tax_liens', 'tot_hi_cred_lim', 'total_bal_ex_mort', 'total_bc_limit', 'total_il_high_credit_limit', 'revol_bal_joint', 'sec_app_earliest_cr_line', 'sec_app_inq_last_6mths', 'sec_app_mort_acc', 'sec_app_open_acc', 'sec_app_revol_util', 'sec_app_open_il_6m', 'sec_app_num_rev_accts', 'sec_app_chargeoff_within_12_mths', 'sec_app_collections_12_mths_ex_med', 'sec_app_mths_since_last_major_derog', 'hardship_flag', 'hardship_type', 'hardship_reason', 'hardship_status', 'deferral_term', 'hardship_amount', 'hardship_start_date', 'hardship_end_date', 'payment_plan_start_date', 'hardship_length', 'hardship_dpd', 'hardship_loan_status', 'orig_projected_additional_accrued_interest', 'hardship_payoff_balance_amount', 'hardship_last_payment_amount']\n",
      "\n",
      "['Amount Requested', 'Application Date', 'Loan Title', 'Risk_Score', 'Debt-To-Income Ratio', 'Zip Code', 'State', 'Employment Length', 'Policy Code']\n"
     ]
    }
   ],
   "source": [
    "import csv\n",
    "\n",
    "with open('lending-club/accepted_2007_to_2017.csv') as loan_file:\n",
    "    reader = csv.reader(loan_file)\n",
    "    loan_header = reader.__next__()\n",
    "\n",
    "with open('lending-club/rejected_2007_to_2017.csv') as reject_file:\n",
    "    reader = csv.reader(reject_file)\n",
    "    reject_header = reader.__next__()\n",
    "    \n",
    "print(loan_header)\n",
    "print()\n",
    "print(reject_header)"
   ]
  },
  {
   "cell_type": "code",
   "execution_count": 3,
   "metadata": {
    "collapsed": true
   },
   "outputs": [],
   "source": [
    "with open('LoanStats_2017Q2.csv') as loan_file:\n",
    "    with open ('LoanStats_2017Q2_first_1000.csv', 'w') as out_file:\n",
    "        for _ in range(1000):\n",
    "            out_file.write(loan_file.readline())\n",
    "            \n",
    "with open('RejectStats_2017Q2.csv') as reject_file:\n",
    "    with open ('RejectStats_2017Q2_first_1000.csv', 'w') as out_file:\n",
    "        for _ in range(1000):\n",
    "            out_file.write(reject_file.readline())"
   ]
  },
  {
   "cell_type": "code",
   "execution_count": 4,
   "metadata": {
    "collapsed": true
   },
   "outputs": [],
   "source": [
    "HEADER_MAPPING = {'Amount Requested': 'loan_amnt',\n",
    "                  # funded_amnt = 0\n",
    "                 'Application Date': 'issue_d', # clean up date formats\n",
    "                  # Loan title needs to be cleaned up into purpose\n",
    "                  'Debt-To-Income Ratio': 'dti', # remove % in rejected\n",
    "                  'Employment Length': 'emp_length', # also requires cleanup\n",
    "                  'Zip Code': 'zip_code',\n",
    "                  'State': 'addr_state'\n",
    "                 }"
   ]
  },
  {
   "cell_type": "markdown",
   "metadata": {},
   "source": [
    "## Load the data, picking only the fields we need"
   ]
  },
  {
   "cell_type": "code",
   "execution_count": 5,
   "metadata": {
    "collapsed": true
   },
   "outputs": [],
   "source": [
    "ACCEPTED_FIELDS = ('loan_amnt', 'emp_length', 'issue_d', 'purpose', \n",
    "                    'zip_code', 'addr_state', 'dti', 'funded_amnt')\n",
    "REJECTED_FIELDS = ('Amount Requested', 'Employment Length', 'Application Date', \n",
    "                   'Loan Title', 'Zip Code', 'State', 'Debt-To-Income Ratio')\n",
    "\n",
    "ACCEPTED_FILE = 'LoanStats_2007_2011.csv'\n",
    "REJECTED_FILE = 'RejectStats_2007_2012.csv'\n",
    "\n",
    "accepted_data = pandas.read_csv(ACCEPTED_FILE, skiprows=0, header=1, usecols=ACCEPTED_FIELDS)\n",
    "rejected_data = pandas.read_csv(REJECTED_FILE, skiprows=0, header=1, usecols=REJECTED_FIELDS)\n"
   ]
  },
  {
   "cell_type": "markdown",
   "metadata": {},
   "source": [
    "## Transform rejected data to match accepted\n",
    "- Added funded amount column\n",
    "- Remove % in rejected debt-to-income\n",
    "- Clean up employment length"
   ]
  },
  {
   "cell_type": "code",
   "execution_count": 6,
   "metadata": {
    "collapsed": true
   },
   "outputs": [],
   "source": [
    "rejected_data['funded_amnt'] = 0\n",
    "rejected_data['accepted'] = 0\n",
    "accepted_data['accepted'] = 1\n",
    "\n",
    "rejected_data['Debt-To-Income Ratio'].replace('%', '', regex=True, inplace=True)\n",
    "rejected_data['Debt-To-Income Ratio'] = pandas.to_numeric(rejected_data['Debt-To-Income Ratio'])\n",
    "\n",
    "rejected_data['Employment Length'].replace('\\D', '', regex=True, inplace=True)\n",
    "rejected_data['Employment Length'] = pandas.to_numeric(rejected_data['Employment Length'])\n",
    "\n",
    "accepted_data['emp_length'].replace('\\D', '', regex=True, inplace=True)\n",
    "accepted_data['emp_length'] = pandas.to_numeric(accepted_data['emp_length'])\n",
    "\n",
    "rejected_data['Application Date'] = pandas.to_datetime(rejected_data['Application Date'])\n",
    "accepted_data['issue_d'] = pandas.to_datetime(accepted_data['issue_d'], format='%b-%Y')"
   ]
  },
  {
   "cell_type": "code",
   "execution_count": 7,
   "metadata": {},
   "outputs": [
    {
     "data": {
      "text/plain": [
       "0.842062976263119"
      ]
     },
     "execution_count": 7,
     "metadata": {},
     "output_type": "execute_result"
    }
   ],
   "source": [
    "existing_purposes = set(accepted_data.purpose)\n",
    "rejected_data['Loan Title'] = rejected_data['Loan Title'].str.lower().replace('\\s+', '_', regex=True) \n",
    "sum([title in existing_purposes for title in rejected_data['Loan Title']]) / len(rejected_data['Loan Title'])"
   ]
  },
  {
   "cell_type": "markdown",
   "metadata": {},
   "source": [
    "Since ~84% (in the 2007-2012 data) have a title that matches existing ones in the accepted data, I'll simply rename the other ones to 'other'"
   ]
  },
  {
   "cell_type": "code",
   "execution_count": 8,
   "metadata": {
    "collapsed": true
   },
   "outputs": [],
   "source": [
    "rejected_data.loc[[title not in existing_purposes for title in rejected_data['Loan Title']], 'Loan Title'] = 'other'"
   ]
  },
  {
   "cell_type": "code",
   "execution_count": 9,
   "metadata": {},
   "outputs": [
    {
     "name": "stdout",
     "output_type": "stream",
     "text": [
      "7.05251774884e-05\n",
      "2.91201351174e-05\n",
      "7.05251774884e-05\n",
      "2.77964926121e-05\n",
      "0.0262118576332\n",
      "0.0107612135684\n",
      "7.05251774884e-05\n",
      "7.94185503203e-06\n"
     ]
    }
   ],
   "source": [
    "print(accepted_data.zip_code.isnull().sum() / len(accepted_data))\n",
    "print(rejected_data['Zip Code'].isnull().sum() / len(rejected_data))\n",
    "\n",
    "print(accepted_data.addr_state.isnull().sum() / len(accepted_data))\n",
    "print(rejected_data['State'].isnull().sum() / len(rejected_data))\n",
    "\n",
    "print(accepted_data.emp_length.isnull().sum() / len(accepted_data))\n",
    "print(rejected_data['Employment Length'].isnull().sum() / len(rejected_data))\n",
    "\n",
    "print(accepted_data.purpose.isnull().sum() / len(accepted_data))\n",
    "print(rejected_data['Loan Title'].isnull().sum() / len(rejected_data))"
   ]
  },
  {
   "cell_type": "markdown",
   "metadata": {},
   "source": [
    "Since there are almost no nulls, we can safely omit them for zip code and state address, but for the employment length, we'll simply treat them as 0's (and for purpose, as 'other'):"
   ]
  },
  {
   "cell_type": "code",
   "execution_count": 10,
   "metadata": {
    "collapsed": true
   },
   "outputs": [],
   "source": [
    "accepted_data = accepted_data.dropna(axis=0, subset=('zip_code', 'addr_state'), how='any')\n",
    "rejected_data = rejected_data.dropna(axis=0, subset=('Zip Code', 'State'), how='any')\n",
    "\n",
    "accepted_data = accepted_data.fillna({'emp_length': 0, 'purpose': 'other'})\n",
    "rejected_data = rejected_data.fillna({'Employment Length': 0, 'Loan Title': 'other'})"
   ]
  },
  {
   "cell_type": "code",
   "execution_count": 11,
   "metadata": {
    "collapsed": true
   },
   "outputs": [],
   "source": [
    "acceted_cols_with_accepted = list(ACCEPTED_FIELDS) + ['accepted']\n",
    "\n",
    "accepted_data = accepted_data[acceted_cols_with_accepted]\n",
    "rejected_data = rejected_data[list(REJECTED_FIELDS) + ['funded_amnt', 'accepted']]\n",
    "rejected_data.columns = acceted_cols_with_accepted\n",
    "\n",
    "merged_data = pandas.concat((accepted_data, rejected_data), ignore_index=True)"
   ]
  },
  {
   "cell_type": "code",
   "execution_count": 12,
   "metadata": {},
   "outputs": [
    {
     "data": {
      "text/html": [
       "<div>\n",
       "<table border=\"1\" class=\"dataframe\">\n",
       "  <thead>\n",
       "    <tr style=\"text-align: right;\">\n",
       "      <th></th>\n",
       "      <th>loan_amnt</th>\n",
       "      <th>emp_length</th>\n",
       "      <th>issue_d</th>\n",
       "      <th>purpose</th>\n",
       "      <th>zip_code</th>\n",
       "      <th>addr_state</th>\n",
       "      <th>dti</th>\n",
       "      <th>funded_amnt</th>\n",
       "      <th>accepted</th>\n",
       "    </tr>\n",
       "  </thead>\n",
       "  <tbody>\n",
       "    <tr>\n",
       "      <th>0</th>\n",
       "      <td>5000.0</td>\n",
       "      <td>10.0</td>\n",
       "      <td>2011-12-01</td>\n",
       "      <td>credit_card</td>\n",
       "      <td>860xx</td>\n",
       "      <td>AZ</td>\n",
       "      <td>27.65</td>\n",
       "      <td>5000.0</td>\n",
       "      <td>1</td>\n",
       "    </tr>\n",
       "    <tr>\n",
       "      <th>1</th>\n",
       "      <td>2500.0</td>\n",
       "      <td>1.0</td>\n",
       "      <td>2011-12-01</td>\n",
       "      <td>car</td>\n",
       "      <td>309xx</td>\n",
       "      <td>GA</td>\n",
       "      <td>1.00</td>\n",
       "      <td>2500.0</td>\n",
       "      <td>1</td>\n",
       "    </tr>\n",
       "    <tr>\n",
       "      <th>2</th>\n",
       "      <td>2400.0</td>\n",
       "      <td>10.0</td>\n",
       "      <td>2011-12-01</td>\n",
       "      <td>small_business</td>\n",
       "      <td>606xx</td>\n",
       "      <td>IL</td>\n",
       "      <td>8.72</td>\n",
       "      <td>2400.0</td>\n",
       "      <td>1</td>\n",
       "    </tr>\n",
       "    <tr>\n",
       "      <th>3</th>\n",
       "      <td>10000.0</td>\n",
       "      <td>10.0</td>\n",
       "      <td>2011-12-01</td>\n",
       "      <td>other</td>\n",
       "      <td>917xx</td>\n",
       "      <td>CA</td>\n",
       "      <td>20.00</td>\n",
       "      <td>10000.0</td>\n",
       "      <td>1</td>\n",
       "    </tr>\n",
       "    <tr>\n",
       "      <th>4</th>\n",
       "      <td>3000.0</td>\n",
       "      <td>1.0</td>\n",
       "      <td>2011-12-01</td>\n",
       "      <td>other</td>\n",
       "      <td>972xx</td>\n",
       "      <td>OR</td>\n",
       "      <td>17.94</td>\n",
       "      <td>3000.0</td>\n",
       "      <td>1</td>\n",
       "    </tr>\n",
       "  </tbody>\n",
       "</table>\n",
       "</div>"
      ],
      "text/plain": [
       "   loan_amnt  emp_length    issue_d         purpose zip_code addr_state  \\\n",
       "0     5000.0        10.0 2011-12-01     credit_card    860xx         AZ   \n",
       "1     2500.0         1.0 2011-12-01             car    309xx         GA   \n",
       "2     2400.0        10.0 2011-12-01  small_business    606xx         IL   \n",
       "3    10000.0        10.0 2011-12-01           other    917xx         CA   \n",
       "4     3000.0         1.0 2011-12-01           other    972xx         OR   \n",
       "\n",
       "     dti  funded_amnt  accepted  \n",
       "0  27.65       5000.0         1  \n",
       "1   1.00       2500.0         1  \n",
       "2   8.72       2400.0         1  \n",
       "3  20.00      10000.0         1  \n",
       "4  17.94       3000.0         1  "
      ]
     },
     "execution_count": 12,
     "metadata": {},
     "output_type": "execute_result"
    }
   ],
   "source": [
    "merged_data.head()"
   ]
  },
  {
   "cell_type": "code",
   "execution_count": 13,
   "metadata": {},
   "outputs": [
    {
     "data": {
      "text/html": [
       "<div>\n",
       "<table border=\"1\" class=\"dataframe\">\n",
       "  <thead>\n",
       "    <tr style=\"text-align: right;\">\n",
       "      <th></th>\n",
       "      <th>loan_amnt</th>\n",
       "      <th>emp_length</th>\n",
       "      <th>issue_d</th>\n",
       "      <th>purpose</th>\n",
       "      <th>zip_code</th>\n",
       "      <th>addr_state</th>\n",
       "      <th>dti</th>\n",
       "      <th>funded_amnt</th>\n",
       "      <th>accepted</th>\n",
       "    </tr>\n",
       "  </thead>\n",
       "  <tbody>\n",
       "    <tr>\n",
       "      <th>797999</th>\n",
       "      <td>35000.0</td>\n",
       "      <td>1.0</td>\n",
       "      <td>2012-12-31</td>\n",
       "      <td>other</td>\n",
       "      <td>342xx</td>\n",
       "      <td>FL</td>\n",
       "      <td>20.29</td>\n",
       "      <td>0.0</td>\n",
       "      <td>0</td>\n",
       "    </tr>\n",
       "    <tr>\n",
       "      <th>798000</th>\n",
       "      <td>3000.0</td>\n",
       "      <td>1.0</td>\n",
       "      <td>2012-12-31</td>\n",
       "      <td>other</td>\n",
       "      <td>021xx</td>\n",
       "      <td>MA</td>\n",
       "      <td>6.75</td>\n",
       "      <td>0.0</td>\n",
       "      <td>0</td>\n",
       "    </tr>\n",
       "    <tr>\n",
       "      <th>798001</th>\n",
       "      <td>10000.0</td>\n",
       "      <td>1.0</td>\n",
       "      <td>2012-12-31</td>\n",
       "      <td>debt_consolidation</td>\n",
       "      <td>828xx</td>\n",
       "      <td>WY</td>\n",
       "      <td>20.03</td>\n",
       "      <td>0.0</td>\n",
       "      <td>0</td>\n",
       "    </tr>\n",
       "    <tr>\n",
       "      <th>798002</th>\n",
       "      <td>25000.0</td>\n",
       "      <td>1.0</td>\n",
       "      <td>2012-12-31</td>\n",
       "      <td>debt_consolidation</td>\n",
       "      <td>336xx</td>\n",
       "      <td>FL</td>\n",
       "      <td>44.59</td>\n",
       "      <td>0.0</td>\n",
       "      <td>0</td>\n",
       "    </tr>\n",
       "    <tr>\n",
       "      <th>798003</th>\n",
       "      <td>35000.0</td>\n",
       "      <td>1.0</td>\n",
       "      <td>2012-12-31</td>\n",
       "      <td>other</td>\n",
       "      <td>211xx</td>\n",
       "      <td>MD</td>\n",
       "      <td>4.13</td>\n",
       "      <td>0.0</td>\n",
       "      <td>0</td>\n",
       "    </tr>\n",
       "  </tbody>\n",
       "</table>\n",
       "</div>"
      ],
      "text/plain": [
       "        loan_amnt  emp_length    issue_d             purpose zip_code  \\\n",
       "797999    35000.0         1.0 2012-12-31               other    342xx   \n",
       "798000     3000.0         1.0 2012-12-31               other    021xx   \n",
       "798001    10000.0         1.0 2012-12-31  debt_consolidation    828xx   \n",
       "798002    25000.0         1.0 2012-12-31  debt_consolidation    336xx   \n",
       "798003    35000.0         1.0 2012-12-31               other    211xx   \n",
       "\n",
       "       addr_state    dti  funded_amnt  accepted  \n",
       "797999         FL  20.29          0.0         0  \n",
       "798000         MA   6.75          0.0         0  \n",
       "798001         WY  20.03          0.0         0  \n",
       "798002         FL  44.59          0.0         0  \n",
       "798003         MD   4.13          0.0         0  "
      ]
     },
     "execution_count": 13,
     "metadata": {},
     "output_type": "execute_result"
    }
   ],
   "source": [
    "merged_data.tail()"
   ]
  },
  {
   "cell_type": "code",
   "execution_count": 14,
   "metadata": {},
   "outputs": [
    {
     "data": {
      "text/plain": [
       "array([[<matplotlib.axes._subplots.AxesSubplot object at 0x11a571a90>]], dtype=object)"
      ]
     },
     "execution_count": 14,
     "metadata": {},
     "output_type": "execute_result"
    },
    {
     "data": {
      "image/png": "[encoded data removed]",
      "text/plain": [
       "<matplotlib.figure.Figure at 0x11beffba8>"
      ]
     },
     "metadata": {},
     "output_type": "display_data"
    },
    {
     "data": {
      "image/png": "[encoded data removed]",
      "text/plain": [
       "<matplotlib.figure.Figure at 0x11b1c2ac8>"
      ]
     },
     "metadata": {},
     "output_type": "display_data"
    },
    {
     "data": {
      "image/png": "[encoded data removed]",
      "text/plain": [
       "<matplotlib.figure.Figure at 0x11b143940>"
      ]
     },
     "metadata": {},
     "output_type": "display_data"
    },
    {
     "data": {
      "image/png": "[encoded data removed]",
      "text/plain": [
       "<matplotlib.figure.Figure at 0x118ca7f98>"
      ]
     },
     "metadata": {},
     "output_type": "display_data"
    }
   ],
   "source": [
    "merged_data.hist('loan_amnt')\n",
    "merged_data['log_loan_amnt'] = np.log(merged_data.loan_amnt + 1)\n",
    "merged_data.hist(column='log_loan_amnt')\n",
    "\n",
    "merged_data.hist('funded_amnt')\n",
    "merged_data['log_funded_amnt'] = np.log(merged_data.funded_amnt + 1)\n",
    "merged_data.hist(column='log_funded_amnt')"
   ]
  },
  {
   "cell_type": "markdown",
   "metadata": {},
   "source": [
    "## Split data into train and test, balancing on accepted or not"
   ]
  },
  {
   "cell_type": "code",
   "execution_count": 15,
   "metadata": {},
   "outputs": [
    {
     "data": {
      "text/plain": [
       "((159600, 11), (39901, 11))"
      ]
     },
     "execution_count": 15,
     "metadata": {},
     "output_type": "execute_result"
    }
   ],
   "source": [
    "from sklearn.model_selection import train_test_split\n",
    "\n",
    "train, test = train_test_split(merged_data, train_size=0.2, test_size=0.05, random_state=RANDOM_SEED,\n",
    "                               stratify=merged_data.accepted) \n",
    "train.shape, test.shape"
   ]
  },
  {
   "cell_type": "markdown",
   "metadata": {},
   "source": [
    "## Define the mapper from pandas to something sklearn-friendly"
   ]
  },
  {
   "cell_type": "code",
   "execution_count": 16,
   "metadata": {},
   "outputs": [
    {
     "name": "stderr",
     "output_type": "stream",
     "text": [
      "/Users/guydavidson/anaconda/lib/python3.6/site-packages/sklearn/utils/validation.py:429: DataConversionWarning: Data with input dtype int64 was converted to float64 by StandardScaler.\n",
      "  warnings.warn(msg, _DataConversionWarning)\n"
     ]
    },
    {
     "name": "stdout",
     "output_type": "stream",
     "text": [
      "(159600, 996)\n"
     ]
    }
   ],
   "source": [
    "from datetime import date, datetime\n",
    "from sklearn.base import TransformerMixin\n",
    "\n",
    "class DateToOrdinal(TransformerMixin):\n",
    "    def fit(self, X, y=None):\n",
    "        return self\n",
    "    \n",
    "    def transform(self, X):\n",
    "        out = np.array([datetime.strptime(str(x.astype('M8[D]')), '%Y-%m-%d').date().toordinal() for x in X])\n",
    "        return out.reshape((-1, 1))\n",
    "\n",
    "data_mapper = DataFrameMapper([\n",
    "    (['log_loan_amnt'], sklearn.preprocessing.StandardScaler()),\n",
    "    (['emp_length'], sklearn.preprocessing.StandardScaler()),\n",
    "    ('issue_d', [DateToOrdinal(), sklearn.preprocessing.StandardScaler()]),\n",
    "    ('purpose', sklearn.preprocessing.LabelBinarizer()),\n",
    "    ('zip_code', sklearn.preprocessing.LabelBinarizer()),\n",
    "    ('addr_state', sklearn.preprocessing.LabelBinarizer()),\n",
    "    (['dti'], sklearn.preprocessing.StandardScaler()),\n",
    "])\n",
    "\n",
    "transformed_data = data_mapper.fit_transform(train.copy())\n",
    "print(transformed_data.shape)\n",
    "# print(data_mapper.transformed_names_)\n",
    "# transformed_data[:5]"
   ]
  },
  {
   "cell_type": "markdown",
   "metadata": {},
   "source": [
    "***\n",
    "# First approach: regress funded_amnt\n",
    "***"
   ]
  },
  {
   "cell_type": "markdown",
   "metadata": {},
   "source": [
    "## Trying a ridge regression model, without feature selection"
   ]
  },
  {
   "cell_type": "code",
   "execution_count": 17,
   "metadata": {},
   "outputs": [
    {
     "name": "stderr",
     "output_type": "stream",
     "text": [
      "/Users/guydavidson/anaconda/lib/python3.6/site-packages/sklearn/cross_validation.py:44: DeprecationWarning: This module was deprecated in version 0.18 in favor of the model_selection module into which all the refactored classes and functions are moved. Also note that the interface of the new CV iterators are different from that of this module. This module will be removed in 0.20.\n",
      "  \"This module will be removed in 0.20.\", DeprecationWarning)\n"
     ]
    },
    {
     "name": "stdout",
     "output_type": "stream",
     "text": [
      "0.0926666666667 [ 0.025  0.123  0.13 ]\n"
     ]
    }
   ],
   "source": [
    "from sklearn.cross_validation import cross_val_score\n",
    "\n",
    "np.random.seed(RANDOM_SEED)\n",
    "\n",
    "pipe = sklearn.pipeline.Pipeline([\n",
    "    ('featurize', data_mapper),\n",
    "    ('ridge_reg', sklearn.linear_model.RidgeCV())])\n",
    "\n",
    "with warnings.catch_warnings():\n",
    "    warnings.simplefilter(\"ignore\")\n",
    "    shuffled = train.sample(frac=1)\n",
    "    cv_scores = np.round(cross_val_score(pipe, X=shuffled, y=shuffled.log_funded_amnt, \n",
    "                                         scoring='r2', cv=3), 3)\n",
    "    print(np.average(cv_scores), cv_scores)"
   ]
  },
  {
   "cell_type": "markdown",
   "metadata": {},
   "source": [
    "## Trying a ridge regression model with feature selection"
   ]
  },
  {
   "cell_type": "code",
   "execution_count": 18,
   "metadata": {},
   "outputs": [
    {
     "name": "stdout",
     "output_type": "stream",
     "text": [
      "10 -3.6466 [-3.578 -3.727 -3.591 -3.612 -3.725]\n",
      "11 -3.643 [-3.742 -3.604 -3.718 -3.546 -3.605]\n",
      "12 -3.6426 [-3.62  -3.691 -3.764 -3.536 -3.602]\n",
      "13 -3.6408 [-3.62  -3.631 -3.713 -3.664 -3.576]\n",
      "14 -3.7862 [-3.693 -3.592 -3.601 -3.683 -4.362]\n",
      "15 -3.8008 [-4.507 -3.69  -3.654 -3.527 -3.626]\n",
      "16 -3.7782 [-3.681 -3.641 -3.594 -4.405 -3.57 ]\n"
     ]
    }
   ],
   "source": [
    "from sklearn.cross_validation import cross_val_score\n",
    "\n",
    "np.random.seed(RANDOM_SEED)\n",
    "\n",
    "pipe = sklearn.pipeline.Pipeline([\n",
    "    ('featurize', data_mapper),\n",
    "    ('select', sklearn.feature_selection.SelectKBest(sklearn.feature_selection.f_regression)),\n",
    "    ('ridge_reg', sklearn.linear_model.RidgeCV())])\n",
    "\n",
    "with warnings.catch_warnings():\n",
    "    warnings.simplefilter(\"ignore\")\n",
    "    \n",
    "    for k in range(10, 17):\n",
    "        pipe.set_params(select__k=k)\n",
    "        shuffled = train.sample(frac=1)\n",
    "        cv_scores = np.round(cross_val_score(pipe, X=shuffled, y=shuffled.log_funded_amnt, \n",
    "                                             scoring='mean_squared_error', cv=5), 3)\n",
    "        print (k, np.average(cv_scores), cv_scores)"
   ]
  },
  {
   "cell_type": "code",
   "execution_count": 19,
   "metadata": {},
   "outputs": [
    {
     "name": "stderr",
     "output_type": "stream",
     "text": [
      "/Users/guydavidson/anaconda/lib/python3.6/site-packages/sklearn/utils/validation.py:429: DataConversionWarning: Data with input dtype int64 was converted to float64 by StandardScaler.\n",
      "  warnings.warn(msg, _DataConversionWarning)\n"
     ]
    },
    {
     "data": {
      "text/plain": [
       "Pipeline(steps=[('featurize', DataFrameMapper(default=False, df_out=False,\n",
       "        features=[(['log_loan_amnt'], StandardScaler(copy=True, with_mean=True, with_std=True)), (['emp_length'], StandardScaler(copy=True, with_mean=True, with_std=True)), ('issue_d', [<__main__.DateToOrdinal object at 0x1181dea20>, ...None, fit_intercept=True, gcv_mode=None,\n",
       "    normalize=False, scoring=None, store_cv_values=False))])"
      ]
     },
     "execution_count": 19,
     "metadata": {},
     "output_type": "execute_result"
    }
   ],
   "source": [
    "from sklearn import metrics\n",
    "\n",
    "optimal_k = 13\n",
    "pipe.set_params(select__k=optimal_k)\n",
    "shuffled = train.sample(frac=1)\n",
    "pipe.fit(shuffled, shuffled.log_funded_amnt)\n",
    "\n",
    "# test_predictions = pipe.predict(test)\n",
    "\n",
    "# for metric in (metrics.mean_squared_error, metrics.mean_absolute_error, \n",
    "#                metrics.median_absolute_error, metrics.r2_score): \n",
    "#     print(metric.__name__, metric(test_predictions, test.log_funded_amnt))"
   ]
  },
  {
   "cell_type": "code",
   "execution_count": 20,
   "metadata": {},
   "outputs": [
    {
     "name": "stdout",
     "output_type": "stream",
     "text": [
      "log_loan_amnt : -0.0645944387594\n",
      "emp_length : 0.579012401664\n",
      "issue_d : -0.319433146202\n",
      "purpose_car : -0.410736127185\n",
      "purpose_credit_card : 0.422289855688\n",
      "purpose_debt_consolidation : 0.189603374946\n",
      "purpose_educational : 0.128187107254\n",
      "purpose_home_improvement : 0.108579117727\n",
      "purpose_moving : -0.167197688694\n",
      "purpose_other : -0.923961751828\n",
      "zip_code_100xx : 0.588752714128\n",
      "zip_code_941xx : 0.649136267633\n",
      "addr_state_CA : 0.129910729003\n"
     ]
    }
   ],
   "source": [
    "k_best = pipe.steps[1][1]\n",
    "names = np.ma.array(data_mapper.transformed_names_, mask=np.logical_not(k_best.get_support()))\n",
    "# print(names.compressed())\n",
    "# print(pipe.steps[2][1].coef_)\n",
    "\n",
    "for column, coef in zip(names.compressed(), pipe.steps[2][1].coef_):\n",
    "    print(column, ':', coef)"
   ]
  },
  {
   "cell_type": "markdown",
   "metadata": {},
   "source": [
    "The above is something of a post-hoc justification for ignoring the geographical fields - out of 1000 potential zipcodes and 50 potential states, only two zipcodes and one state were chosen to be used in the model."
   ]
  },
  {
   "cell_type": "markdown",
   "metadata": {},
   "source": [
    "## Treating the location data (state and zipcode) as noise\n",
    "Since it generates a ~1000 feature matrix we cannot feasibly do anything interesting with. \n",
    "Instead, let's try to generate interaction terms between some of the potentially more meaningful features."
   ]
  },
  {
   "cell_type": "code",
   "execution_count": 21,
   "metadata": {},
   "outputs": [
    {
     "name": "stdout",
     "output_type": "stream",
     "text": [
      "['log_loan_amnt', 'emp_length', 'issue_d', 'purpose_car', 'purpose_credit_card', 'purpose_debt_consolidation', 'purpose_educational', 'purpose_home_improvement', 'purpose_house', 'purpose_major_purchase', 'purpose_medical', 'purpose_moving', 'purpose_other', 'purpose_renewable_energy', 'purpose_small_business', 'purpose_vacation', 'purpose_wedding', 'dti']\n",
      "(159600, 18)\n"
     ]
    }
   ],
   "source": [
    "data_mapper_no_location = DataFrameMapper([\n",
    "    (['log_loan_amnt'], sklearn.preprocessing.StandardScaler()),\n",
    "    (['emp_length'], sklearn.preprocessing.StandardScaler()),\n",
    "    ('issue_d', DateToOrdinal()),\n",
    "    ('purpose', sklearn.preprocessing.LabelBinarizer()),\n",
    "    (['dti'], sklearn.preprocessing.StandardScaler()),\n",
    "])\n",
    "\n",
    "transformed_data = data_mapper_no_location.fit_transform(train.copy())\n",
    "print(data_mapper_no_location.transformed_names_)\n",
    "print(transformed_data.shape)"
   ]
  },
  {
   "cell_type": "code",
   "execution_count": 22,
   "metadata": {},
   "outputs": [
    {
     "name": "stdout",
     "output_type": "stream",
     "text": [
      "0.202333333333 [ 0.183  0.202  0.222]\n"
     ]
    }
   ],
   "source": [
    "from sklearn.model_selection import RandomizedSearchCV\n",
    "from sklearn.preprocessing import PolynomialFeatures\n",
    "from scipy.stats import uniform\n",
    "\n",
    "np.random.seed(RANDOM_SEED)\n",
    "\n",
    "ridge_search_pipe = sklearn.pipeline.Pipeline([\n",
    "    ('featurize', data_mapper_no_location),\n",
    "    ('interactions', PolynomialFeatures(interaction_only=True)),\n",
    "    ('ridge_reg', sklearn.linear_model.Ridge())\n",
    "])\n",
    "\n",
    "with warnings.catch_warnings():\n",
    "    warnings.simplefilter(\"ignore\")\n",
    "    shuffled = train.sample(frac=1)\n",
    "    cv_scores = np.round(cross_val_score(ridge_search_pipe, X=shuffled, y=shuffled.log_funded_amnt, \n",
    "                                         scoring='r2', cv=3), 3)\n",
    "    print(np.average(cv_scores), cv_scores)\n",
    "    \n"
   ]
  },
  {
   "cell_type": "code",
   "execution_count": 23,
   "metadata": {
    "scrolled": false
   },
   "outputs": [
    {
     "name": "stdout",
     "output_type": "stream",
     "text": [
      "20 -3.314 [-3.26  -3.401 -3.263 -3.275 -3.371]\n",
      "21 -3.3082 [-3.397 -3.281 -3.394 -3.165 -3.304]\n",
      "22 -3.3068 [-3.261 -3.351 -3.406 -3.231 -3.285]\n",
      "23 -3.304 [-3.285 -3.308 -3.346 -3.318 -3.263]\n",
      "24 -3.302 [-3.321 -3.229 -3.291 -3.334 -3.335]\n",
      "25 -3.3016 [-3.369 -3.347 -3.296 -3.206 -3.29 ]\n",
      "26 -3.2942 [-3.329 -3.297 -3.23  -3.355 -3.26 ]\n",
      "27 -3.2942 [-3.318 -3.182 -3.278 -3.359 -3.334]\n",
      "28 -3.2936 [-3.254 -3.36  -3.337 -3.35  -3.167]\n",
      "29 -3.2928 [-3.384 -3.245 -3.284 -3.333 -3.218]\n",
      "30 -3.2912 [-3.298 -3.262 -3.296 -3.262 -3.338]\n",
      "31 -3.2928 [-3.201 -3.276 -3.379 -3.321 -3.287]\n",
      "32 -3.2926 [-3.441 -3.256 -3.286 -3.268 -3.212]\n",
      "33 -3.2916 [-3.362 -3.254 -3.307 -3.171 -3.364]\n",
      "34 -3.348 [-3.326 -3.238 -3.296 -3.327 -3.553]\n",
      "35 -3.2894 [-3.347 -3.247 -3.164 -3.348 -3.341]\n",
      "36 -3.3476 [-3.256 -3.233 -3.557 -3.341 -3.351]\n",
      "37 -3.3356 [-3.235 -3.237 -3.291 -3.555 -3.36 ]\n",
      "38 -3.3396 [-3.676 -3.204 -3.291 -3.218 -3.309]\n",
      "39 -3.3362 [-3.283 -3.248 -3.575 -3.353 -3.222]\n"
     ]
    }
   ],
   "source": [
    "from sklearn.model_selection import RandomizedSearchCV\n",
    "from sklearn.preprocessing import PolynomialFeatures\n",
    "from scipy.stats import uniform\n",
    "\n",
    "np.random.seed(RANDOM_SEED)\n",
    "\n",
    "ridge_search_pipe = sklearn.pipeline.Pipeline([\n",
    "    ('featurize', data_mapper_no_location),\n",
    "    ('interactions', PolynomialFeatures(interaction_only=True)),\n",
    "    ('select', sklearn.feature_selection.SelectKBest(sklearn.feature_selection.f_regression)),\n",
    "    ('ridge_reg', sklearn.linear_model.Ridge())\n",
    "])\n",
    "\n",
    "with warnings.catch_warnings():\n",
    "    warnings.simplefilter(\"ignore\")\n",
    "    \n",
    "    for k in range(20, 40):\n",
    "        ridge_search_pipe.set_params(select__k=k)\n",
    "        shuffled = train.sample(frac=1)\n",
    "        cv_scores = np.round(cross_val_score(ridge_search_pipe, X=shuffled, y=shuffled.log_funded_amnt, \n",
    "                                             scoring='mean_squared_error', cv=5), 3)\n",
    "        print (k, np.average(cv_scores), cv_scores)\n",
    "    \n"
   ]
  },
  {
   "cell_type": "markdown",
   "metadata": {},
   "source": [
    "## Fit a model on the entire training set with k = 33, evaluate on test"
   ]
  },
  {
   "cell_type": "code",
   "execution_count": 24,
   "metadata": {},
   "outputs": [
    {
     "name": "stderr",
     "output_type": "stream",
     "text": [
      "/Users/guydavidson/anaconda/lib/python3.6/site-packages/sklearn/feature_selection/univariate_selection.py:279: RuntimeWarning: invalid value encountered in true_divide\n",
      "  corr /= row_norms(X.T)\n",
      "/Users/guydavidson/anaconda/lib/python3.6/site-packages/scipy/stats/_distn_infrastructure.py:875: RuntimeWarning: invalid value encountered in greater\n",
      "  return (self.a < x) & (x < self.b)\n",
      "/Users/guydavidson/anaconda/lib/python3.6/site-packages/scipy/stats/_distn_infrastructure.py:875: RuntimeWarning: invalid value encountered in less\n",
      "  return (self.a < x) & (x < self.b)\n",
      "/Users/guydavidson/anaconda/lib/python3.6/site-packages/scipy/stats/_distn_infrastructure.py:1814: RuntimeWarning: invalid value encountered in less_equal\n",
      "  cond2 = cond0 & (x <= self.a)\n"
     ]
    },
    {
     "name": "stdout",
     "output_type": "stream",
     "text": [
      "mean_squared_error 3.29083284041\n",
      "mean_absolute_error 0.77018932702\n",
      "median_absolute_error 0.290925040961\n",
      "r2_score -2.84796257301\n"
     ]
    }
   ],
   "source": [
    "from sklearn import metrics\n",
    "\n",
    "optimal_k = 33\n",
    "ridge_search_pipe.set_params(select__k=optimal_k)\n",
    "shuffled = train.sample(frac=1)\n",
    "ridge_search_pipe.fit(shuffled, shuffled.log_funded_amnt)\n",
    "\n",
    "test_predictions = ridge_search_pipe.predict(test)\n",
    "\n",
    "for metric in (metrics.mean_squared_error, metrics.mean_absolute_error, \n",
    "               metrics.median_absolute_error, metrics.r2_score): \n",
    "    print(metric.__name__, metric(test_predictions, test.log_funded_amnt))"
   ]
  },
  {
   "cell_type": "code",
   "execution_count": 25,
   "metadata": {},
   "outputs": [
    {
     "name": "stdout",
     "output_type": "stream",
     "text": [
      "log_loan_amnt : 3.97459613447\n",
      "emp_length : -6.0908203264\n",
      "issue_d : -0.000621822098793\n",
      "purpose_car : 0.501664317345\n",
      "purpose_credit_card : 1.34638333532\n",
      "purpose_debt_consolidation : 6.39079049789\n",
      "purpose_educational : 0.200367374703\n",
      "purpose_home_improvement : 1.10385908914\n",
      "purpose_other : -10.6716651213\n",
      "log_loan_amnt XXX emp_length : -0.103826921142\n",
      "log_loan_amnt XXX issue_d : -5.51609766583e-06\n",
      "log_loan_amnt XXX purpose_other : 0.108607421343\n",
      "emp_length XXX issue_d : 8.31832353827e-06\n",
      "emp_length XXX purpose_car : 0.22955261631\n",
      "emp_length XXX purpose_credit_card : 2.04634036056\n",
      "emp_length XXX purpose_debt_consolidation : 1.10487222599\n",
      "emp_length XXX purpose_educational : 0.735924153844\n",
      "emp_length XXX purpose_home_improvement : 1.11460902129\n",
      "emp_length XXX purpose_house : 1.59223957655\n",
      "emp_length XXX purpose_major_purchase : 0.953282891593\n",
      "emp_length XXX purpose_medical : 1.37901530367\n",
      "emp_length XXX purpose_moving : 1.2873896443\n",
      "emp_length XXX purpose_renewable_energy : 2.00206625327\n",
      "emp_length XXX purpose_small_business : 1.65676749974\n",
      "emp_length XXX purpose_vacation : 1.59754319375\n",
      "emp_length XXX purpose_wedding : 1.62467751695\n",
      "issue_d XXX purpose_car : -1.49127799086e-06\n",
      "issue_d XXX purpose_credit_card : -1.1510201119e-06\n",
      "issue_d XXX purpose_debt_consolidation : -8.69195473386e-06\n",
      "issue_d XXX purpose_educational : -3.2931587855e-07\n",
      "issue_d XXX purpose_home_improvement : -1.620026335e-06\n",
      "issue_d XXX purpose_moving : -1.57323285449e-07\n",
      "issue_d XXX purpose_other : 1.33554423939e-05\n"
     ]
    }
   ],
   "source": [
    "k_best = ridge_search_pipe.steps[2][1]\n",
    "interactions = ridge_search_pipe.steps[1][1]\n",
    "\n",
    "names = np.ma.array(interactions.get_feature_names(), mask=np.logical_not(k_best.get_support()))\n",
    "# print(names.compressed())\n",
    "# print(pipe.steps[2][1].coef_)\n",
    "\n",
    "# Ugly, but it will work\n",
    "name_mapping = {'x{i}'.format(i=i) : data_mapper_no_location.transformed_names_[i] \n",
    "                for i in range(len(data_mapper_no_location.transformed_names_))}\n",
    "\n",
    "compressed_names = [str(x) for x in names.compressed()]\n",
    "\n",
    "for i in range(len(data_mapper_no_location.transformed_names_), 0, -1):\n",
    "    name = 'x{i}'.format(i=i - 1) \n",
    "    compressed_names = [x.replace(name, name_mapping[name]) for x in compressed_names]\n",
    "    \n",
    "compressed_names = [x.replace(' ', ' XXX ') for x in compressed_names]\n",
    "\n",
    "for column, coef in zip(compressed_names, ridge_search_pipe.steps[3][1].coef_):\n",
    "    print(column, ':', coef)"
   ]
  },
  {
   "cell_type": "markdown",
   "metadata": {},
   "source": [
    "***\n",
    "# Second approach: classify and examine\n",
    "***"
   ]
  },
  {
   "cell_type": "markdown",
   "metadata": {},
   "source": [
    "## Idea: attempt to classify whether or not a loan will be provided, then holding all else constant, play with loan amount and see what it means for the classifier\n",
    "This is quite similar to (if not exactly the same as) what Skye suggested on the slack channel"
   ]
  },
  {
   "cell_type": "code",
   "execution_count": 26,
   "metadata": {},
   "outputs": [
    {
     "name": "stdout",
     "output_type": "stream",
     "text": [
      "20 0.118333333333 [ 0.042  0.042  0.271]\n",
      "21 0.194 [ 0.271  0.042  0.269]\n",
      "22 0.118666666667 [ 0.042  0.271  0.043]\n",
      "23 0.115333333333 [ 0.041  0.041  0.264]\n",
      "24 0.117 [ 0.042  0.039  0.27 ]\n",
      "25 0.117666666667 [ 0.269  0.041  0.043]\n",
      "26 0.118 [ 0.043  0.042  0.269]\n",
      "27 0.042 [ 0.042  0.044  0.04 ]\n",
      "28 0.116333333333 [ 0.266  0.042  0.041]\n",
      "29 0.269666666667 [ 0.268  0.27   0.271]\n",
      "30 0.116666666667 [ 0.041  0.267  0.042]\n",
      "31 0.194333333333 [ 0.274  0.042  0.267]\n",
      "32 0.0423333333333 [ 0.043  0.042  0.042]\n",
      "33 0.192666666667 [ 0.271  0.041  0.266]\n",
      "34 0.117 [ 0.042  0.268  0.041]\n",
      "35 0.119 [ 0.043  0.272  0.042]\n",
      "36 0.27 [ 0.269  0.273  0.268]\n",
      "37 0.116666666667 [ 0.041  0.042  0.267]\n",
      "38 0.196 [ 0.044  0.274  0.27 ]\n",
      "39 0.193333333333 [ 0.267  0.042  0.271]\n"
     ]
    }
   ],
   "source": [
    "from sklearn.model_selection import RandomizedSearchCV, cross_val_score\n",
    "from sklearn.preprocessing import PolynomialFeatures\n",
    "from scipy.stats import uniform\n",
    "\n",
    "\n",
    "np.random.seed(RANDOM_SEED)\n",
    "\n",
    "ridge_classify_pipe = sklearn.pipeline.Pipeline([\n",
    "    ('featurize', data_mapper_no_location),\n",
    "    ('interactions', PolynomialFeatures(interaction_only=True)),\n",
    "    ('select', sklearn.feature_selection.SelectKBest(sklearn.feature_selection.f_regression)),\n",
    "    ('ridge', sklearn.linear_model.RidgeClassifierCV())\n",
    "])\n",
    "\n",
    "with warnings.catch_warnings():\n",
    "    warnings.simplefilter(\"ignore\")\n",
    "    \n",
    "    for k in range(20, 40):\n",
    "        ridge_classify_pipe.set_params(select__k=k)\n",
    "        shuffled = train.sample(frac=1)\n",
    "        cv_scores = np.round(cross_val_score(ridge_classify_pipe, X=shuffled, y=shuffled.accepted, \n",
    "                                             scoring='f1', cv=3), 3)\n",
    "        print (k, np.average(cv_scores), cv_scores)\n",
    "    "
   ]
  },
  {
   "cell_type": "markdown",
   "metadata": {},
   "source": [
    "## Predicting on train to get scores for a few different metrics"
   ]
  },
  {
   "cell_type": "code",
   "execution_count": 27,
   "metadata": {},
   "outputs": [
    {
     "name": "stderr",
     "output_type": "stream",
     "text": [
      "/Users/guydavidson/anaconda/lib/python3.6/site-packages/sklearn/feature_selection/univariate_selection.py:279: RuntimeWarning: invalid value encountered in true_divide\n",
      "  corr /= row_norms(X.T)\n",
      "/Users/guydavidson/anaconda/lib/python3.6/site-packages/scipy/stats/_distn_infrastructure.py:875: RuntimeWarning: invalid value encountered in greater\n",
      "  return (self.a < x) & (x < self.b)\n",
      "/Users/guydavidson/anaconda/lib/python3.6/site-packages/scipy/stats/_distn_infrastructure.py:875: RuntimeWarning: invalid value encountered in less\n",
      "  return (self.a < x) & (x < self.b)\n",
      "/Users/guydavidson/anaconda/lib/python3.6/site-packages/scipy/stats/_distn_infrastructure.py:1814: RuntimeWarning: invalid value encountered in less_equal\n",
      "  cond2 = cond0 & (x <= self.a)\n"
     ]
    },
    {
     "name": "stdout",
     "output_type": "stream",
     "text": [
      "classification_report\n",
      "             precision    recall  f1-score   support\n",
      "\n",
      "          0       0.18      0.83      0.30     33587\n",
      "          1       0.33      0.02      0.04    126013\n",
      "\n",
      "avg / total       0.30      0.19      0.10    159600\n",
      "\n",
      "accuracy_score\n",
      "0.192593984962\n",
      "roc_auc_score\n",
      "0.426698280916\n",
      "mutual_info_score\n",
      "0.0276834197016\n"
     ]
    }
   ],
   "source": [
    "from sklearn.metrics import classification_report, accuracy_score, roc_auc_score, mutual_info_score\n",
    "\n",
    "optimal_k = 39\n",
    "ridge_classify_pipe.set_params(select__k=optimal_k)\n",
    "shuffled = train.sample(frac=1)\n",
    "ridge_classify_pipe.fit(shuffled, shuffled.accepted)\n",
    "\n",
    "train_predictions = ridge_classify_pipe.predict(train)\n",
    "\n",
    "for metric in (classification_report, accuracy_score, roc_auc_score, mutual_info_score):\n",
    "    print(metric.__name__)\n",
    "    print(metric(train_predictions, train.accepted))"
   ]
  },
  {
   "cell_type": "markdown",
   "metadata": {},
   "source": [
    "## As in previous problems, predicting the positive class appears much harder\n",
    "let's try overweighing or oversampling it"
   ]
  },
  {
   "cell_type": "code",
   "execution_count": null,
   "metadata": {
    "collapsed": true
   },
   "outputs": [],
   "source": [
    "from sklearn.model_selection import RandomizedSearchCV, cross_val_score\n",
    "from sklearn.preprocessing import PolynomialFeatures\n",
    "from scipy.stats import uniform\n",
    "\n",
    "np.random.seed(RANDOM_SEED)\n",
    "\n",
    "ridge_classify_pipe = sklearn.pipeline.Pipeline([\n",
    "    ('featurize', data_mapper_no_location),\n",
    "    ('interactions', PolynomialFeatures(interaction_only=True)),\n",
    "    ('select', sklearn.feature_selection.SelectKBest(sklearn.feature_selection.f_regression)),\n",
    "    ('ridge', sklearn.linear_model.RidgeClassifierCV(class_weight={0: 1, 1: 10}))\n",
    "])\n",
    "\n",
    "with warnings.catch_warnings():\n",
    "    warnings.simplefilter(\"ignore\")\n",
    "    \n",
    "    for k in range(20, 30):\n",
    "        ridge_classify_pipe.set_params(select__k=k)\n",
    "        shuffled = train.sample(frac=1)\n",
    "        cv_scores = np.round(cross_val_score(ridge_classify_pipe, X=shuffled, y=shuffled.accepted, \n",
    "                                             scoring='f1', cv=3), 3)\n",
    "        print (k, np.average(cv_scores), cv_scores)\n",
    "    "
   ]
  },
  {
   "cell_type": "markdown",
   "metadata": {},
   "source": [
    "## Tragically, the following cell never actually runs on my computer - increasing the weights for some reason vastly increases the computational cost, to a point this won't actually converge.\n",
    "Perhaps it might without the interaction features?"
   ]
  },
  {
   "cell_type": "code",
   "execution_count": null,
   "metadata": {
    "scrolled": false
   },
   "outputs": [],
   "source": [
    "from sklearn.model_selection import RandomizedSearchCV, cross_val_score\n",
    "from sklearn.preprocessing import PolynomialFeatures\n",
    "from scipy.stats import uniform\n",
    "\n",
    "np.random.seed(RANDOM_SEED)\n",
    "\n",
    "ridge_classify_pipe = sklearn.pipeline.Pipeline([\n",
    "    ('featurize', data_mapper_no_location),\n",
    "#     ('interactions', PolynomialFeatures(interaction_only=True)),\n",
    "    ('select', sklearn.feature_selection.SelectKBest(sklearn.feature_selection.f_regression)),\n",
    "    ('ridge', sklearn.linear_model.RidgeClassifierCV(class_weight='balanced'))\n",
    "])\n",
    "\n",
    "with warnings.catch_warnings():\n",
    "    warnings.simplefilter(\"ignore\")\n",
    "    \n",
    "    for k in range(3, 6):\n",
    "        ridge_classify_pipe.set_params(select__k=k)\n",
    "        shuffled = train.sample(frac=1)\n",
    "        cv_scores = np.round(cross_val_score(ridge_classify_pipe, X=shuffled, y=shuffled.accepted, \n",
    "                                             scoring='f1', cv=3), 3)\n",
    "        print (k, np.average(cv_scores), cv_scores)\n",
    "    "
   ]
  },
  {
   "cell_type": "markdown",
   "metadata": {},
   "source": [
    "## Nope, the above also crashes. Oh well, I'll write about it."
   ]
  },
  {
   "cell_type": "code",
   "execution_count": null,
   "metadata": {
    "collapsed": true
   },
   "outputs": [],
   "source": [
    "from sklearn.model_selection import RandomizedSearchCV\n",
    "from sklearn.preprocessing import PolynomialFeatures\n",
    "from scipy.stats import uniform\n",
    "\n",
    "np.random.seed(RANDOM_SEED)\n",
    "\n",
    "ridge_search_classify_pipe = sklearn.pipeline.Pipeline([\n",
    "    ('featurize', data_mapper_no_location),\n",
    "    ('interactions', PolynomialFeatures(interaction_only=True)),\n",
    "    ('select', sklearn.feature_selection.SelectKBest(sklearn.feature_selection.f_regression)),\n",
    "    ('ridge', sklearn.linear_model.RidgeClassifierCV())\n",
    "])\n",
    "\n",
    "from collections import namedtuple\n",
    "ClassWeightSampler = namedtuple('ClassWeightSampler', 'rvs')\n",
    "\n",
    "def sample_class_weights(loc=0, scale=1, size=1, random_state=None):\n",
    "    return {0: 1, 1: uniform.rvs(loc=1, scale=20, size=size, random_state=random_state)}\n",
    "\n",
    "sampler = ClassWeightSampler(rvs=sample_class_weights)\n",
    "\n",
    "# report function from http://scikit-learn.org/stable/auto_examples/model_selection/plot_randomized_search.html#sphx-glr-auto-examples-model-selection-plot-randomized-search-py\n",
    "\n",
    "def report(results, n_top=3):\n",
    "    for i in range(1, n_top + 1):\n",
    "        candidates = np.flatnonzero(results['rank_test_score'] == i)\n",
    "        for candidate in candidates:\n",
    "            print(\"Model with rank: {0}\".format(i))\n",
    "            print(\"Mean validation score: {0:.3f} (std: {1:.3f})\".format(\n",
    "                  results['mean_test_score'][candidate],\n",
    "                  results['std_test_score'][candidate]))\n",
    "            print(\"Parameters: {0}\".format(results['params'][candidate]))\n",
    "            print(\"\")\n",
    "\n",
    "with warnings.catch_warnings():\n",
    "    warnings.simplefilter(\"ignore\")\n",
    "\n",
    "    search_cv = RandomizedSearchCV(ridge_search_classify_pipe, n_iter=10, scoring='recall', n_jobs=1, \n",
    "                                   verbose=1, random_state=RANDOM_SEED,\n",
    "                                   param_distributions={'ridge__class_weight': sampler,\n",
    "                                                       })\n",
    "    search_cv.fit(X=train, y=train.accepted)\n",
    "    report(search_cv.cv_results_)"
   ]
  }
 ],
 "metadata": {
  "kernelspec": {
   "display_name": "Python 3",
   "language": "python",
   "name": "python3"
  },
  "language_info": {
   "codemirror_mode": {
    "name": "ipython",
    "version": 3
   },
   "file_extension": ".py",
   "mimetype": "text/x-python",
   "name": "python",
   "nbconvert_exporter": "python",
   "pygments_lexer": "ipython3",
   "version": "3.6.2"
  }
 },
 "nbformat": 4,
 "nbformat_minor": 2
}
