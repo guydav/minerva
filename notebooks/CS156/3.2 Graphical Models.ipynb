{
 "cells": [
  {
   "cell_type": "code",
   "execution_count": 23,
   "metadata": {
    "collapsed": true
   },
   "outputs": [],
   "source": [
    "import numpy as np\n",
    "import itertools"
   ]
  },
  {
   "cell_type": "code",
   "execution_count": 16,
   "metadata": {
    "collapsed": true
   },
   "outputs": [],
   "source": [
    "class hashabledict(dict):\n",
    "    def __hash__(self):\n",
    "        return hash(tuple(sorted(self.items())))\n",
    "\n",
    "p_table = {hashabledict(a=0, b=0, c=0): 0.192,\n",
    "          hashabledict(a=0, b=0, c=1): 0.144,\n",
    "          hashabledict(a=0, b=1, c=0): 0.048,\n",
    "          hashabledict(a=0, b=1, c=1): 0.216,\n",
    "          hashabledict(a=1, b=0, c=0): 0.192,\n",
    "          hashabledict(a=1, b=0, c=1): 0.064,\n",
    "          hashabledict(a=1, b=1, c=0): 0.048,\n",
    "          hashabledict(a=1, b=1, c=1): 0.096}\n",
    "\n",
    "p_c = {0: sum([p_table[key] for key in p_table if key['c'] == 0]),\n",
    "       1: sum([p_table[key] for key in p_table if key['c'] == 1])}"
   ]
  },
  {
   "cell_type": "code",
   "execution_count": 27,
   "metadata": {
    "collapsed": true
   },
   "outputs": [],
   "source": [
    "# Bishop's 8.3\n",
    "\n",
    "for a, b, c in itertools.product((0, 1), repeat=3):\n",
    "    table_value = p_table[hashabledict(a=a, b=b, c=c)]\n",
    "    a_on_c = sum([p_table[key] for key in p_table if (key['a'] == a and key['c'] == c)])\n",
    "    b_on_c = sum([p_table[key] for key in p_table if (key['b'] == b and key['c'] == c)])\n",
    "    np.testing.assert_approx_equal(p_c[c] * table_value, a_on_c * b_on_c, err_msg=str((a, b, c)))"
   ]
  },
  {
   "cell_type": "code",
   "execution_count": 33,
   "metadata": {
    "collapsed": true
   },
   "outputs": [],
   "source": [
    "# Bishop's 8.4\n",
    "\n",
    "p_a = {0: sum([p_table[key] for key in p_table if key['a'] == 0]),\n",
    "       1: sum([p_table[key] for key in p_table if key['a'] == 1])}\n",
    "\n",
    "p_b_on_c = {0: {}, 1: {}}\n",
    "for c in (0, 1):\n",
    "    current_p_c = p_c[c]\n",
    "    for b in (0, 1):\n",
    "        p_b_on_c[c][b] = sum([p_table[key] for key in p_table if (key['b'] == b and key['c'] == c)]) / current_p_c\n",
    "        \n",
    "p_c_on_a = {0: {}, 1: {}}\n",
    "for a in (0, 1):\n",
    "    current_p_a = p_a[a]\n",
    "    for c in (0, 1):\n",
    "        p_c_on_a[a][c] = sum([p_table[key] for key in p_table if (key['a'] == a and key['c'] == c)]) / current_p_a\n",
    "\n",
    "for a, b, c in itertools.product((0, 1), repeat=3):\n",
    "    table_value = p_table[hashabledict(a=a, b=b, c=c)]    \n",
    "    np.testing.assert_approx_equal(table_value, p_a[a] * p_c_on_a[a][c] * p_b_on_c[c][b], err_msg=str((a, b, c)))"
   ]
  },
  {
   "cell_type": "code",
   "execution_count": null,
   "metadata": {
    "collapsed": true
   },
   "outputs": [],
   "source": []
  },
  {
   "cell_type": "code",
   "execution_count": 48,
   "metadata": {
    "scrolled": true
   },
   "outputs": [
    {
     "name": "stdout",
     "output_type": "stream",
     "text": [
      "11 6\n",
      "37 15\n"
     ]
    }
   ],
   "source": [
    "for i in range(10, 1000):\n",
    "    for j in range(2, i):\n",
    "        if abs((i ** 3) - (j ** 4)) < 200 and i % j != 0:\n",
    "            print(i, j)"
   ]
  },
  {
   "cell_type": "code",
   "execution_count": 44,
   "metadata": {},
   "outputs": [
    {
     "data": {
      "text/plain": [
       "35"
      ]
     },
     "execution_count": 44,
     "metadata": {},
     "output_type": "execute_result"
    }
   ],
   "source": [
    "11 ** 3 - 6 ** 4"
   ]
  },
  {
   "cell_type": "code",
   "execution_count": 50,
   "metadata": {},
   "outputs": [
    {
     "data": {
      "text/plain": [
       "2020.0"
      ]
     },
     "execution_count": 50,
     "metadata": {},
     "output_type": "execute_result"
    }
   ],
   "source": [
    "50500 / 25"
   ]
  },
  {
   "cell_type": "code",
   "execution_count": 51,
   "metadata": {},
   "outputs": [
    {
     "data": {
      "text/plain": [
       "80.8"
      ]
     },
     "execution_count": 51,
     "metadata": {},
     "output_type": "execute_result"
    }
   ],
   "source": [
    "2020 / 25"
   ]
  },
  {
   "cell_type": "code",
   "execution_count": 52,
   "metadata": {},
   "outputs": [
    {
     "data": {
      "text/plain": [
       "3.2319999999999998"
      ]
     },
     "execution_count": 52,
     "metadata": {},
     "output_type": "execute_result"
    }
   ],
   "source": [
    "80.8 / 25"
   ]
  },
  {
   "cell_type": "code",
   "execution_count": null,
   "metadata": {
    "collapsed": true
   },
   "outputs": [],
   "source": []
  }
 ],
 "metadata": {
  "kernelspec": {
   "display_name": "Python 3",
   "language": "python",
   "name": "python3"
  },
  "language_info": {
   "codemirror_mode": {
    "name": "ipython",
    "version": 3
   },
   "file_extension": ".py",
   "mimetype": "text/x-python",
   "name": "python",
   "nbconvert_exporter": "python",
   "pygments_lexer": "ipython3",
   "version": "3.6.2"
  }
 },
 "nbformat": 4,
 "nbformat_minor": 2
}
