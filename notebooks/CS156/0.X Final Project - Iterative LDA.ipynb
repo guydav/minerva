{
 "cells": [
  {
   "cell_type": "code",
   "execution_count": 1,
   "metadata": {
    "collapsed": true
   },
   "outputs": [],
   "source": [
    "%matplotlib inline"
   ]
  },
  {
   "cell_type": "code",
   "execution_count": 16,
   "metadata": {
    "collapsed": true
   },
   "outputs": [],
   "source": [
    "import pandas\n",
    "import numpy as np\n",
    "import matplotlib\n",
    "import matplotlib.pyplot as plt\n",
    "import matplotlib.gridspec as gridspec\n",
    "from mpl_toolkits.mplot3d import Axes3D\n",
    "import sklearn\n",
    "from datetime import datetime, date\n",
    "from sklearn_pandas import DataFrameMapper\n",
    "import warnings\n",
    "import timeit\n",
    "from collections import defaultdict, OrderedDict\n",
    "import tabulate\n",
    "import time\n",
    "from skimage import io, transform\n",
    "import glob\n",
    "\n",
    "\n",
    "timeit.template = \"\"\"\n",
    "def inner(_it, _timer{init}):\n",
    "    {setup}\n",
    "    _t0 = _timer()\n",
    "    for _i in _it:\n",
    "        retval = {stmt}\n",
    "    _t1 = _timer()\n",
    "    return _t1 - _t0, retval\n",
    "\"\"\"\n",
    "\n",
    "matplotlib.style.use('ggplot')\n",
    "\n",
    "RANDOM_SEED = 33"
   ]
  },
  {
   "cell_type": "markdown",
   "metadata": {},
   "source": [
    "## 2017-11-21, 2017-11-25\n",
    "\n",
    "First experiments, followed by more experiments and code cleanup"
   ]
  },
  {
   "cell_type": "code",
   "execution_count": 22,
   "metadata": {
    "collapsed": true
   },
   "outputs": [],
   "source": [
    "from sklearn.discriminant_analysis import LinearDiscriminantAnalysis\n",
    "from sklearn.linear_model import LogisticRegression\n",
    "from sklearn.svm import SVC\n",
    "\n",
    "FONT_SIZE = 12\n",
    "\n",
    "\n",
    "def plot_data_in_R3(first_class, second_class, first_test, second_test, ax):\n",
    "#     fig = plt.figure(figsize=(12, 9))\n",
    "#     ax = fig.add_subplot(111, projection='3d')\n",
    "\n",
    "    ax.scatter(first_class[:, 0], first_class[:, 1], first_class[:, 2], label='$c=1$')\n",
    "    ax.scatter(second_class[:, 0], second_class[:, 1], second_class[:, 2], label='$c=2$')\n",
    "\n",
    "    ax.scatter(first_test[:, 0], first_test[:, 1], first_test[:, 2], label='$c=1$ test set')\n",
    "    ax.scatter(second_test[:, 0], second_test[:, 1], second_test[:, 2], label='$c=2$ test set')\n",
    "\n",
    "    ax.legend(loc=2, fontsize=FONT_SIZE)\n",
    "    ax.set_xlabel('X', size=FONT_SIZE)\n",
    "    ax.set_ylabel('Y', size=FONT_SIZE)\n",
    "    ax.set_zlabel('Z', size=FONT_SIZE)\n",
    "#     plt.show()\n",
    "    \n",
    "    \n",
    "def plot_lda_projection(transformed_X, transformed_X_test, n_1, n_test_1, title, ax):\n",
    "#     fig = plt.figure(figsize=(12, 9))\n",
    "#     ax = fig.add_subplot(111) \n",
    "    \n",
    "    ax.scatter(transformed_X[:n_1], [1] * n_1, \n",
    "               label='$c=1$', alpha=0.33)\n",
    "    ax.scatter(transformed_X[n_1:], [2] * (transformed_X.shape[0] - n_1), \n",
    "               label='$c=2$', alpha=0.33)\n",
    "    \n",
    "    ax.scatter(transformed_X_test[:n_test_1], [0.5] * n_test_1, \n",
    "               label='$c=1$ test set', alpha=0.33)\n",
    "    ax.scatter(transformed_X_test[n_test_1:], [2.5] * (transformed_X_test.shape[0] - n_test_1), \n",
    "               label='$c=2$ test set', alpha=0.33)\n",
    "    \n",
    "    ax.set_ylim(0, 3)\n",
    "    ax.legend(loc='best', fontsize=FONT_SIZE)\n",
    "    ax.set_xlabel('X', size=FONT_SIZE)\n",
    "    ax.set_ylabel('Y', size=FONT_SIZE)\n",
    "    ax.set_title(title)\n",
    "#     plt.show()\n",
    "    \n",
    "\n",
    "def nullspace_using_svd(A, eps=1e-15):\n",
    "    u, s, v = np.linalg.svd(A)\n",
    "    null_space = v[s.shape[0]:]\n",
    "    return null_space.T\n",
    "    \n",
    "    \n",
    "def plot_classifier(reg, transformed_X, transformed_ns_X,\n",
    "                             transformed_X_test, transformed_ns_X_test,\n",
    "                             n_1, n_test_1, ax):\n",
    "#     fig = plt.figure(figsize=(12, 9))\n",
    "#     ax = fig.add_subplot(111) \n",
    "    ax.scatter(transformed_X[:n_1], transformed_ns_X[:n_1], label='$c=1$')\n",
    "    ax.scatter(transformed_X[n_1:], transformed_ns_X[n_1:], label='$c=2$')\n",
    "    \n",
    "    ax.scatter(transformed_X_test[:n_test_1], transformed_ns_X_test[:n_test_1], label='$c=1$ test set')\n",
    "    ax.scatter(transformed_X_test[n_test_1:], transformed_ns_X_test[n_test_1:], label='$c=2$ test set')\n",
    "    \n",
    "#     xmin, xmax = ax.get_xlim()\n",
    "#     orig_ylim = ax.get_ylim()\n",
    "#     ax.plot([xmin, xmax], [line(xmin), line(xmax)], ls='--', color='black', label='Decision boundry')\n",
    "#     ax.set_ylim(orig_ylim)\n",
    "\n",
    "    ax.legend(loc=2, fontsize=FONT_SIZE)\n",
    "    ax.set_xlabel('First LDA projection', size=FONT_SIZE)\n",
    "    ax.set_ylabel('Second LDA projection', size=FONT_SIZE)\n",
    "    ax.set_title('Classifier results')\n",
    "#     plt.show()\n",
    "    \n",
    "    \n",
    "def lda_projection_experiment(first_class, second_class, first_test, second_test,\n",
    "                             classifier_constructor, **kwargs): # kwargs passed to classifer\n",
    "    n_1, d = first_class.shape\n",
    "    n_test_1, _ = first_test.shape\n",
    "    n_2, _ = second_class.shape\n",
    "    n_test_2, _ = second_test.shape\n",
    "    \n",
    "    \n",
    "    plt.figure(figsize=(16, 12))\n",
    "    gs = gridspec.GridSpec(2, 2, hspace=0.3)\n",
    "\n",
    "    if 3 == d:\n",
    "        plot_data_in_R3(first_class, second_class, first_test, second_test, \n",
    "                        plt.subplot(gs[0, 0], projection='3d'))\n",
    "    \n",
    "    # Train and test set cleanup\n",
    "    X = np.vstack([first_class, second_class])\n",
    "    y = np.asarray([1] * n_1 + [2] * n_2)\n",
    "    X_test = np.vstack([first_test, second_test])\n",
    "    y_test = np.asarray([1] *  n_test_1 + [2] * n_test_2)\n",
    "    \n",
    "#     # Attempt to classify on the raw data\n",
    "#     raw_data_classifier = classifier_constructor(**kwargs)\n",
    "#     raw_data_classifier.fit(X, y)\n",
    "    \n",
    "#     print('Raw classifier:')\n",
    "#     raw_classifier_train_acc = np.sum(raw_data_classifier.predict(X) == y) / y.shape[0]\n",
    "#     raw_classifier_test_acc = np.sum(raw_data_classifier.predict(X_test) == y_test) / y_test.shape[0]\n",
    "#     print('Train rediction accuracy:', raw_classifier_train_acc)\n",
    "#     print('Test Prediction accuracy:', raw_classifier_test_acc)\n",
    "    raw_classifier_train_acc = ''\n",
    "    raw_classifier_test_acc = ''\n",
    "    \n",
    "    # First LDA projection\n",
    "    first_lda = LinearDiscriminantAnalysis(n_components=1)\n",
    "    transformed_X = first_lda.fit_transform(X, y)\n",
    "    transformed_X_test = first_lda.transform(X_test)\n",
    "    plot_lda_projection(transformed_X, transformed_X_test, n_1, n_test_1, \n",
    "                        'First LDA Projection', plt.subplot(gs[0, 1]))\n",
    "    \n",
    "    print('First LDA projection:')\n",
    "    first_train_acc = np.sum(first_lda.predict(X) == y) / y.shape[0]\n",
    "    first_test_acc = np.sum(first_lda.predict(X_test) == y_test) / y_test.shape[0]\n",
    "    print('Train prediction accuracy:', first_train_acc)\n",
    "    print('Test prediction accuracy:', first_test_acc)\n",
    "    \n",
    "    # Project onto nullspace\n",
    "    ns = nullspace_using_svd(first_lda.coef_)\n",
    "    X_ns = X.dot(ns)\n",
    "    X_ns_test = X_test.dot(ns)\n",
    "    \n",
    "    # Second LDA projection\n",
    "    second_lda = LinearDiscriminantAnalysis(n_components=1)\n",
    "    transformed_ns_X = second_lda.fit_transform(X_ns, y)\n",
    "    transformed_ns_X_test = second_lda.transform(X_ns_test)\n",
    "    plot_lda_projection(transformed_ns_X, transformed_ns_X_test, n_1, n_test_1, \n",
    "                        'Second LDA Projection', plt.subplot(gs[1, 0]))\n",
    "    \n",
    "    print('Second LDA projection:')\n",
    "    second_train_acc = np.sum(second_lda.predict(X_ns) == y) / y.shape[0]\n",
    "    second_test_acc = np.sum(second_lda.predict(X_ns_test) == y_test) / y_test.shape[0]\n",
    "    print('Train rediction accuracy:', second_train_acc)\n",
    "    print('Test Prediction accuracy:', second_test_acc)\n",
    "    \n",
    "    # Run a custom classifier on both LDA'd dimensions\n",
    "    both_transformed_X = np.hstack([transformed_X, transformed_ns_X])\n",
    "    both_transformed_X_test = np.hstack([first_lda.transform(X_test), \n",
    "                                         second_lda.transform(X_ns_test)])\n",
    "\n",
    "    classifier = classifier_constructor(**kwargs)\n",
    "    classifier.fit(both_transformed_X, y)\n",
    "    plot_classifier(classifier, transformed_X, transformed_ns_X,\n",
    "                    transformed_X_test, transformed_ns_X_test,\n",
    "                    n_1, n_test_1, plt.subplot(gs[1, 1]))\n",
    "    \n",
    "    print('Combined classifier:')\n",
    "    classifier_train_acc = np.sum(classifier.predict(both_transformed_X) == y) / y.shape[0]\n",
    "    classifier_test_acc = np.sum(classifier.predict(both_transformed_X_test) == y_test) / y_test.shape[0]\n",
    "    print('Train rediction accuracy:', classifier_train_acc)\n",
    "    print('Test Prediction accuracy:', classifier_test_acc)\n",
    "    \n",
    "    plt.show()\n",
    "    \n",
    "    headers = ('Dataset', 'Raw Classifier', 'First LDA', 'Second LDA', 'I-LDA Classifier')\n",
    "    \n",
    "    rows = [\n",
    "        ('Train', raw_classifier_train_acc, first_train_acc, second_train_acc, classifier_train_acc),\n",
    "        ('Test', raw_classifier_test_acc, first_test_acc, second_test_acc, classifier_test_acc)\n",
    "    ]\n",
    "    \n",
    "    print(tabulate.tabulate(rows, headers, tablefmt='fancy_grid'))\n"
   ]
  },
  {
   "cell_type": "markdown",
   "metadata": {},
   "source": [
    "## Data in $\\mathbb{R}^3$, diagonal covariance"
   ]
  },
  {
   "cell_type": "code",
   "execution_count": null,
   "metadata": {},
   "outputs": [],
   "source": [
    "np.random.seed(RANDOM_SEED)\n",
    "\n",
    "D = 3\n",
    "\n",
    "FIRST_MEAN = np.random.uniform(0, 1, D) # np.asarray([1, 0, 1])\n",
    "FIRST_COV = np.eye(D) * np.random.uniform(2, 4, D)\n",
    "\n",
    "SECOND_MEAN = np.random.uniform(1, 2, D) # np.asarray([0, 2, 2])\n",
    "SECOND_COV = np.eye(D) * np.random.uniform(2, 4, D)\n",
    "\n",
    "N = 1000\n",
    "TEST_N = 100\n",
    "\n",
    "first_class = np.random.multivariate_normal(FIRST_MEAN, FIRST_COV, N)\n",
    "second_class = np.random.multivariate_normal(SECOND_MEAN, SECOND_COV, N)\n",
    "\n",
    "first_test = np.random.multivariate_normal(FIRST_MEAN, FIRST_COV, TEST_N)\n",
    "second_test = np.random.multivariate_normal(SECOND_MEAN, SECOND_COV, TEST_N)\n",
    "\n",
    "lda_projection_experiment(first_class, second_class, first_test, second_test,\n",
    "                         SVC)"
   ]
  },
  {
   "cell_type": "markdown",
   "metadata": {},
   "source": [
    "## Data in $\\mathbb{R}^3$, full covariance"
   ]
  },
  {
   "cell_type": "code",
   "execution_count": null,
   "metadata": {},
   "outputs": [],
   "source": [
    "np.random.seed(RANDOM_SEED)\n",
    "\n",
    "D = 3\n",
    "\n",
    "FIRST_MEAN = np.random.uniform(0, 1, D) # np.asarray([1, 0, 1])\n",
    "# FIRST_COV = np.eye(D) * np.random.uniform(2, 4, D)\n",
    "FIRST_COV = np.ones((D, D)) * np.random.uniform(0.5, 2.5, (D, D))\n",
    "FIRST_COV = FIRST_COV.T.dot(FIRST_COV) / 10 + np.eye(D)\n",
    "\n",
    "SECOND_MEAN = np.random.uniform(1, 2, D) # np.asarray([0, 2, 2])\n",
    "# SECOND_COV = np.eye(D) * np.random.uniform(2, 4, D)\n",
    "SECOND_COV = np.ones((D, D)) * np.random.uniform(0.5, 2.5, (D, D))\n",
    "SECOND_COV = SECOND_COV.T.dot(SECOND_COV) / 10 + np.eye(D)\n",
    "\n",
    "N = 1000\n",
    "TEST_N = 100\n",
    "\n",
    "first_class = np.random.multivariate_normal(FIRST_MEAN, FIRST_COV, N)\n",
    "second_class = np.random.multivariate_normal(SECOND_MEAN, SECOND_COV, N)\n",
    "\n",
    "first_test = np.random.multivariate_normal(FIRST_MEAN, FIRST_COV, TEST_N)\n",
    "second_test = np.random.multivariate_normal(SECOND_MEAN, SECOND_COV, TEST_N)\n",
    "\n",
    "lda_projection_experiment(first_class, second_class, first_test, second_test,\n",
    "                         SVC)"
   ]
  },
  {
   "cell_type": "markdown",
   "metadata": {},
   "source": [
    "## Data in $\\mathbb{R}^{10}$, full covariance"
   ]
  },
  {
   "cell_type": "code",
   "execution_count": null,
   "metadata": {},
   "outputs": [],
   "source": [
    "np.random.seed(RANDOM_SEED)\n",
    "\n",
    "D = 10\n",
    "\n",
    "FIRST_MEAN = np.random.uniform(0, 1, D) # np.asarray([1, 0, 1])\n",
    "FIRST_COV = np.eye(D) * np.random.uniform(2, 4, D)\n",
    "\n",
    "SECOND_MEAN = np.random.uniform(1, 2, D) # np.asarray([0, 2, 2])\n",
    "SECOND_COV = np.eye(D) * np.random.uniform(2, 4, D)\n",
    "\n",
    "N = 1000\n",
    "TEST_N = 100\n",
    "\n",
    "first_class = np.random.multivariate_normal(FIRST_MEAN, FIRST_COV, N)\n",
    "second_class = np.random.multivariate_normal(SECOND_MEAN, SECOND_COV, N)\n",
    "\n",
    "first_test = np.random.multivariate_normal(FIRST_MEAN, FIRST_COV, TEST_N)\n",
    "second_test = np.random.multivariate_normal(SECOND_MEAN, SECOND_COV, TEST_N)\n",
    "\n",
    "lda_projection_experiment(first_class, second_class, first_test, second_test,\n",
    "                         SVC)"
   ]
  },
  {
   "cell_type": "markdown",
   "metadata": {},
   "source": [
    "## Data in $\\mathbb{R}^{10}$, full covariance"
   ]
  },
  {
   "cell_type": "code",
   "execution_count": null,
   "metadata": {
    "collapsed": true
   },
   "outputs": [],
   "source": [
    "np.random.seed(RANDOM_SEED)\n",
    "\n",
    "D = 10\n",
    "\n",
    "FIRST_MEAN = np.random.uniform(0, 1, D) # np.asarray([1, 0, 1])\n",
    "# FIRST_COV = np.eye(D) * np.random.uniform(2, 4, D)\n",
    "FIRST_COV = np.ones((D, D)) * np.random.uniform(0.5, 2.5, (D, D))\n",
    "FIRST_COV = FIRST_COV.T.dot(FIRST_COV) / 10 + np.eye(D)\n",
    "\n",
    "SECOND_MEAN = np.random.uniform(1, 2, D) # np.asarray([0, 2, 2])\n",
    "# SECOND_COV = np.eye(D) * np.random.uniform(2, 4, D)\n",
    "SECOND_COV = np.ones((D, D)) * np.random.uniform(0.5, 2.5, (D, D))\n",
    "SECOND_COV = SECOND_COV.T.dot(SECOND_COV) / 10 + np.eye(D)\n",
    "\n",
    "N = 1000\n",
    "TEST_N = 100\n",
    "\n",
    "first_class = np.random.multivariate_normal(FIRST_MEAN, FIRST_COV, N)\n",
    "second_class = np.random.multivariate_normal(SECOND_MEAN, SECOND_COV, N)\n",
    "\n",
    "first_test = np.random.multivariate_normal(FIRST_MEAN, FIRST_COV, TEST_N)\n",
    "second_test = np.random.multivariate_normal(SECOND_MEAN, SECOND_COV, TEST_N)\n",
    "\n",
    "lda_projection_experiment(first_class, second_class, first_test, second_test)"
   ]
  },
  {
   "cell_type": "code",
   "execution_count": 23,
   "metadata": {},
   "outputs": [
    {
     "name": "stdout",
     "output_type": "stream",
     "text": [
      "First LDA projection:\n",
      "Train prediction accuracy: 0.86525\n",
      "Test prediction accuracy: 0.863\n",
      "Second LDA projection:\n",
      "Train rediction accuracy: 0.675\n",
      "Test Prediction accuracy: 0.686\n",
      "Combined classifier:\n",
      "Train rediction accuracy: 0.8648\n",
      "Test Prediction accuracy: 0.8635\n"
     ]
    },
    {
     "data": {
      "image/png": "[encoded data removed]",
      "text/plain": [
       "<matplotlib.figure.Figure at 0x1c24ce9a58>"
      ]
     },
     "metadata": {},
     "output_type": "display_data"
    },
    {
     "name": "stdout",
     "output_type": "stream",
     "text": [
      "╒═══════════╤══════════════════╤═════════════╤══════════════╤════════════════════╕\n",
      "│ Dataset   │ Raw Classifier   │   First LDA │   Second LDA │   I-LDA Classifier │\n",
      "╞═══════════╪══════════════════╪═════════════╪══════════════╪════════════════════╡\n",
      "│ Train     │                  │     0.86525 │        0.675 │             0.8648 │\n",
      "├───────────┼──────────────────┼─────────────┼──────────────┼────────────────────┤\n",
      "│ Test      │                  │     0.863   │        0.686 │             0.8635 │\n",
      "╘═══════════╧══════════════════╧═════════════╧══════════════╧════════════════════╛\n"
     ]
    }
   ],
   "source": [
    "np.random.seed(RANDOM_SEED)\n",
    "\n",
    "D = 100\n",
    "\n",
    "FIRST_MEAN = np.random.uniform(0, 1, D) # np.asarray([1, 0, 1])\n",
    "# FIRST_COV = np.eye(D) * np.random.uniform(2, 4, D)\n",
    "FIRST_COV = np.ones((D, D)) * np.random.uniform(0.5, 4.5, (D, D))\n",
    "FIRST_COV = FIRST_COV.T.dot(FIRST_COV) / 5 + np.eye(D)\n",
    "\n",
    "SECOND_MEAN = np.random.uniform(1, 2, D) # np.asarray([0, 2, 2])\n",
    "# SECOND_COV = np.eye(D) * np.random.uniform(2, 4, D)\n",
    "SECOND_COV = np.ones((D, D)) * np.random.uniform(0.5, 4.5, (D, D))\n",
    "SECOND_COV = SECOND_COV.T.dot(SECOND_COV) / 5 + np.eye(D)\n",
    "\n",
    "N = 10000\n",
    "TEST_N = 1000\n",
    "\n",
    "first_class = np.random.multivariate_normal(FIRST_MEAN, FIRST_COV, N)\n",
    "second_class = np.random.multivariate_normal(SECOND_MEAN, SECOND_COV, N)\n",
    "\n",
    "first_test = np.random.multivariate_normal(FIRST_MEAN, FIRST_COV, TEST_N)\n",
    "second_test = np.random.multivariate_normal(SECOND_MEAN, SECOND_COV, TEST_N)\n",
    "\n",
    "lda_projection_experiment(first_class, second_class, first_test, second_test,\n",
    "                         SVC)"
   ]
  },
  {
   "cell_type": "markdown",
   "metadata": {
    "collapsed": true
   },
   "source": [
    "## Try the Wisconsin breast cancer dataset"
   ]
  },
  {
   "cell_type": "code",
   "execution_count": null,
   "metadata": {},
   "outputs": [],
   "source": [
    "from sklearn import datasets \n",
    "from sklearn.model_selection import train_test_split\n",
    "\n",
    "wisconsin = datasets.load_breast_cancer()\n",
    "X_train, X_test, y_train, y_test = train_test_split(wisconsin.data, wisconsin.target,\n",
    "                                                    stratify=wisconsin.target, test_size=0.1)\n",
    "                                                   # random_state=RANDOM_SEED)\n",
    "\n",
    "first_train = X_train[y_train == 0]\n",
    "second_train = X_train[y_train == 1]\n",
    "first_test = X_test[y_test == 0]\n",
    "second_test = X_test[y_test == 1]\n",
    "\n",
    "\n",
    "lda_projection_experiment(first_train, second_train, first_test, second_test,\n",
    "                         SVC)"
   ]
  },
  {
   "cell_type": "markdown",
   "metadata": {},
   "source": [
    "## Implementing an `sklearn`-style `IterativeLDA` class\n",
    "\n",
    "As per http://scikit-learn.org/stable/developers/contributing.html#coding-guidelines"
   ]
  },
  {
   "cell_type": "code",
   "execution_count": 11,
   "metadata": {
    "collapsed": true
   },
   "outputs": [],
   "source": [
    "class IterativeLDA:\n",
    "    def __init__(self, n_components=1):\n",
    "        self.n_components = n_components\n",
    "        \n",
    "        self.ldas_ = []\n",
    "        self.nullspaces_ = []\n",
    "        \n",
    "    def _ns_using_svd(self, A, eps=1e-15):\n",
    "        u, s, v = np.linalg.svd(A)\n",
    "        null_space = v[s.shape[0]:]\n",
    "        return null_space.T\n",
    "    \n",
    "    def _do_fit(self, X, y, n=None, new=True):\n",
    "        if X.shape[0] != y.shape[0]:\n",
    "            raise ValueError('X and y should match on first dimension')\n",
    "            \n",
    "        if n is None:\n",
    "            n = self.n_components\n",
    "            \n",
    "        if new:\n",
    "            self.ldas_ = []\n",
    "            self.nullspaces_ = []\n",
    "        \n",
    "        current_X = X\n",
    "        transformed = []\n",
    "        \n",
    "        for i in range(n):\n",
    "            lda = LinearDiscriminantAnalysis(n_components=1)\n",
    "            transformed_X = lda.fit_transform(current_X, y)\n",
    "            transformed.append(transformed_X)\n",
    "            self.ldas_.append(lda)\n",
    "            \n",
    "            ns = self._ns_using_svd(lda.coef_)\n",
    "            self.nullspaces_.append(ns)\n",
    "            current_X = current_X.dot(ns)\n",
    "        \n",
    "        return transformed\n",
    "        \n",
    "    def fit(self, X, y):\n",
    "        self._do_fit(X, y)\n",
    "        return self\n",
    "    \n",
    "    def fit_transform(self, X, y):\n",
    "        return np.hstack(self._do_fit(X, y))\n",
    "        \n",
    "    def transform(self, X, y=None):\n",
    "        if 0 == len(self.ldas_) or 0 == len(self.nullspaces_):\n",
    "            raise ValueError('Must call fit or fit_transform before calling transform')\n",
    "        \n",
    "        transformed = []\n",
    "        current_X = X\n",
    "        \n",
    "        for lda, ns in zip(self.ldas_, self.nullspaces_):\n",
    "            transformed.append(lda.transform(current_X))\n",
    "            current_X = current_X.dot(ns)\n",
    "            \n",
    "        return np.hstack(transformed)    \n",
    "    \n",
    "    def add_components(self, n, X, y):\n",
    "        current_X = X\n",
    "        for ns in self.nullspaces_:\n",
    "            current_X = current_X.dot(ns)\n",
    "            \n",
    "        self._do_fit(current_X, y, n, False)\n",
    "        return self\n",
    "        \n",
    "    "
   ]
  },
  {
   "cell_type": "markdown",
   "metadata": {
    "collapsed": true
   },
   "source": [
    "## Experimenting with the cats and dogs dataset"
   ]
  },
  {
   "cell_type": "code",
   "execution_count": null,
   "metadata": {},
   "outputs": [],
   "source": [
    "from glob import glob\n",
    "\n",
    "min_x = (float('Inf'), float('Inf'))\n",
    "min_y = (float('Inf'), float('Inf'))\n",
    "\n",
    "for image in glob('./data/iterative_lda/dogs_cats/train/*'):\n",
    "    shape = io.imread(image).shape\n",
    "    if shape[0] < min_x[0]:\n",
    "        min_x = shape\n",
    "    if shape[1] < min_y[1]:\n",
    "        min_y = shape\n",
    "\n",
    "print(min_x)\n",
    "print(min_y)"
   ]
  },
  {
   "cell_type": "code",
   "execution_count": 18,
   "metadata": {},
   "outputs": [
    {
     "name": "stderr",
     "output_type": "stream",
     "text": [
      "/Users/guydavidson/anaconda/lib/python3.6/site-packages/skimage/transform/_warps.py:84: UserWarning: The default mode, 'constant', will be changed to 'reflect' in skimage 0.15.\n",
      "  warn(\"The default mode, 'constant', will be changed to 'reflect' in \"\n"
     ]
    }
   ],
   "source": [
    "NEW_IMAGE_SIZE = (64, 64, 3)\n",
    "TRAIN_SIZE = 1000\n",
    "TEST_SIZE = 100\n",
    "\n",
    "dog_image_paths = glob.glob('./data/iterative_lda/dogs_cats/train/dog.*')\n",
    "cat_image_paths = glob.glob('./data/iterative_lda/dogs_cats/train/dog.*')\n",
    "\n",
    "\n",
    "def prepare_dataset(paths, train_size=TRAIN_SIZE, test_size=TEST_SIZE, \n",
    "                    image_size=NEW_IMAGE_SIZE):\n",
    "    both_paths = np.random.choice(dog_image_paths, TRAIN_SIZE + TEST_SIZE, False)\n",
    "    train_paths = both_paths[:train_size]\n",
    "    test_paths = both_paths[train_size:]\n",
    "    \n",
    "    train_images = io.imread_collection(train_paths)\n",
    "    test_images = io.imread_collection(test_paths)\n",
    "\n",
    "    resized_train = [transform.resize(image, image_size) for image in train_images]\n",
    "    resized_test = [transform.resize(image, image_size) for image in test_images]\n",
    "    \n",
    "    train_mean = np.mean(resized_train, axis=0)\n",
    "    centered_train = resized_train - train_mean\n",
    "    centered_test = resized_test - train_mean\n",
    "    \n",
    "    reshaped_train = centered_train.reshape(centered_train.shape[0], -1) \n",
    "    reshaped_test = centered_test.reshape(centered_test.shape[0], -1) \n",
    "\n",
    "    return reshaped_train, reshaped_test\n",
    "\n",
    "\n",
    "dog_train, dog_test = prepare_dataset(dog_image_paths)\n",
    "cat_train, cat_test = prepare_dataset(cat_image_paths)"
   ]
  },
  {
   "cell_type": "code",
   "execution_count": 19,
   "metadata": {},
   "outputs": [
    {
     "name": "stdout",
     "output_type": "stream",
     "text": [
      "1\n"
     ]
    },
    {
     "name": "stderr",
     "output_type": "stream",
     "text": [
      "/Users/guydavidson/anaconda/lib/python3.6/site-packages/sklearn/discriminant_analysis.py:388: UserWarning: Variables are collinear.\n",
      "  warnings.warn(\"Variables are collinear.\")\n"
     ]
    },
    {
     "name": "stdout",
     "output_type": "stream",
     "text": [
      "2\n"
     ]
    },
    {
     "data": {
      "text/plain": [
       "array([[-0.19227536,  0.26467614],\n",
       "       [-0.91884578,  0.06585161],\n",
       "       [ 1.15049699,  0.4654555 ],\n",
       "       ..., \n",
       "       [-0.83305794, -0.15892119],\n",
       "       [ 0.54260454, -0.18931949],\n",
       "       [ 0.84931923,  0.21795009]])"
      ]
     },
     "execution_count": 19,
     "metadata": {},
     "output_type": "execute_result"
    }
   ],
   "source": [
    "X = np.vstack([dog_train, cat_train])\n",
    "y = np.asarray([1] * TRAIN_SIZE + [2] * TRAIN_SIZE)\n",
    "\n",
    "ilda = IterativeLDA(2)\n",
    "ilda.fit(X, y)\n",
    "ilda.transform(X)"
   ]
  },
  {
   "cell_type": "code",
   "execution_count": 20,
   "metadata": {
    "collapsed": true
   },
   "outputs": [],
   "source": [
    "X_test = np.vstack([dog_test, cat_test])\n",
    "y_test = np.asarray([1] *  TEST_SIZE + [2] * TEST_SIZE)"
   ]
  },
  {
   "cell_type": "code",
   "execution_count": null,
   "metadata": {
    "collapsed": true
   },
   "outputs": [],
   "source": []
  },
  {
   "cell_type": "code",
   "execution_count": null,
   "metadata": {
    "collapsed": true
   },
   "outputs": [],
   "source": []
  },
  {
   "cell_type": "code",
   "execution_count": null,
   "metadata": {
    "collapsed": true
   },
   "outputs": [],
   "source": []
  },
  {
   "cell_type": "code",
   "execution_count": null,
   "metadata": {},
   "outputs": [],
   "source": [
    "lda = LinearDiscriminantAnalysis()\n",
    "lda.fit(X, y)"
   ]
  },
  {
   "cell_type": "code",
   "execution_count": null,
   "metadata": {},
   "outputs": [],
   "source": [
    "lda.coef_ \n",
    "lda.scalings_"
   ]
  },
  {
   "cell_type": "code",
   "execution_count": null,
   "metadata": {},
   "outputs": [],
   "source": []
  },
  {
   "cell_type": "code",
   "execution_count": null,
   "metadata": {
    "collapsed": true
   },
   "outputs": [],
   "source": []
  },
  {
   "cell_type": "code",
   "execution_count": null,
   "metadata": {
    "collapsed": true
   },
   "outputs": [],
   "source": []
  },
  {
   "cell_type": "code",
   "execution_count": null,
   "metadata": {
    "collapsed": true
   },
   "outputs": [],
   "source": []
  }
 ],
 "metadata": {
  "kernelspec": {
   "display_name": "Python 3",
   "language": "python",
   "name": "python3"
  },
  "language_info": {
   "codemirror_mode": {
    "name": "ipython",
    "version": 3
   },
   "file_extension": ".py",
   "mimetype": "text/x-python",
   "name": "python",
   "nbconvert_exporter": "python",
   "pygments_lexer": "ipython3",
   "version": "3.6.3"
  }
 },
 "nbformat": 4,
 "nbformat_minor": 2
}
