{
 "cells": [
  {
   "cell_type": "code",
   "execution_count": 1,
   "metadata": {
    "collapsed": true
   },
   "outputs": [],
   "source": [
    "%matplotlib inline\n",
    "\n",
    "import pandas\n",
    "import numpy as np\n",
    "import matplotlib\n",
    "import matplotlib.pyplot as plt\n",
    "import sklearn\n",
    "import sklearn.linear_model\n",
    "from datetime import datetime\n",
    "from sklearn_pandas import DataFrameMapper\n",
    "import warnings\n",
    "\n",
    "matplotlib.style.use('ggplot')\n",
    "\n",
    "RANDOM_SEED = 33"
   ]
  },
  {
   "cell_type": "code",
   "execution_count": 2,
   "metadata": {},
   "outputs": [
    {
     "data": {
      "text/html": [
       "<div>\n",
       "<table border=\"1\" class=\"dataframe\">\n",
       "  <thead>\n",
       "    <tr style=\"text-align: right;\">\n",
       "      <th></th>\n",
       "      <th>WBAN_number</th>\n",
       "      <th>UTC_date</th>\n",
       "      <th>UTC_time</th>\n",
       "      <th>LST_date</th>\n",
       "      <th>LST_time</th>\n",
       "      <th>CRX_version</th>\n",
       "      <th>longitude</th>\n",
       "      <th>latitude</th>\n",
       "      <th>air_temperature</th>\n",
       "      <th>precepitation</th>\n",
       "      <th>...</th>\n",
       "      <th>ST_type</th>\n",
       "      <th>ST_flag</th>\n",
       "      <th>relative_humidity</th>\n",
       "      <th>RH_flag</th>\n",
       "      <th>soil_moisture</th>\n",
       "      <th>soil_temperature</th>\n",
       "      <th>wetness</th>\n",
       "      <th>wet_flag</th>\n",
       "      <th>wind</th>\n",
       "      <th>wind_flag</th>\n",
       "    </tr>\n",
       "  </thead>\n",
       "  <tbody>\n",
       "    <tr>\n",
       "      <th>0</th>\n",
       "      <td>53150</td>\n",
       "      <td>20110101</td>\n",
       "      <td>5</td>\n",
       "      <td>20101231</td>\n",
       "      <td>1605</td>\n",
       "      <td>2</td>\n",
       "      <td>-119.82</td>\n",
       "      <td>37.76</td>\n",
       "      <td>-6.4</td>\n",
       "      <td>0.0</td>\n",
       "      <td>...</td>\n",
       "      <td>U</td>\n",
       "      <td>0</td>\n",
       "      <td>-9999</td>\n",
       "      <td>0</td>\n",
       "      <td>-99.0</td>\n",
       "      <td>-9999.0</td>\n",
       "      <td>1218</td>\n",
       "      <td>0</td>\n",
       "      <td>-99.0</td>\n",
       "      <td>0</td>\n",
       "    </tr>\n",
       "    <tr>\n",
       "      <th>1</th>\n",
       "      <td>53150</td>\n",
       "      <td>20110101</td>\n",
       "      <td>10</td>\n",
       "      <td>20101231</td>\n",
       "      <td>1610</td>\n",
       "      <td>2</td>\n",
       "      <td>-119.82</td>\n",
       "      <td>37.76</td>\n",
       "      <td>-6.5</td>\n",
       "      <td>0.0</td>\n",
       "      <td>...</td>\n",
       "      <td>U</td>\n",
       "      <td>0</td>\n",
       "      <td>-9999</td>\n",
       "      <td>0</td>\n",
       "      <td>-99.0</td>\n",
       "      <td>-9999.0</td>\n",
       "      <td>1223</td>\n",
       "      <td>0</td>\n",
       "      <td>-99.0</td>\n",
       "      <td>0</td>\n",
       "    </tr>\n",
       "    <tr>\n",
       "      <th>2</th>\n",
       "      <td>53150</td>\n",
       "      <td>20110101</td>\n",
       "      <td>15</td>\n",
       "      <td>20101231</td>\n",
       "      <td>1615</td>\n",
       "      <td>2</td>\n",
       "      <td>-119.82</td>\n",
       "      <td>37.76</td>\n",
       "      <td>-6.5</td>\n",
       "      <td>0.0</td>\n",
       "      <td>...</td>\n",
       "      <td>U</td>\n",
       "      <td>0</td>\n",
       "      <td>-9999</td>\n",
       "      <td>0</td>\n",
       "      <td>-99.0</td>\n",
       "      <td>-9999.0</td>\n",
       "      <td>1223</td>\n",
       "      <td>0</td>\n",
       "      <td>-99.0</td>\n",
       "      <td>0</td>\n",
       "    </tr>\n",
       "    <tr>\n",
       "      <th>3</th>\n",
       "      <td>53150</td>\n",
       "      <td>20110101</td>\n",
       "      <td>20</td>\n",
       "      <td>20101231</td>\n",
       "      <td>1620</td>\n",
       "      <td>2</td>\n",
       "      <td>-119.82</td>\n",
       "      <td>37.76</td>\n",
       "      <td>-6.5</td>\n",
       "      <td>0.0</td>\n",
       "      <td>...</td>\n",
       "      <td>U</td>\n",
       "      <td>0</td>\n",
       "      <td>-9999</td>\n",
       "      <td>0</td>\n",
       "      <td>-99.0</td>\n",
       "      <td>-9999.0</td>\n",
       "      <td>1224</td>\n",
       "      <td>0</td>\n",
       "      <td>-99.0</td>\n",
       "      <td>0</td>\n",
       "    </tr>\n",
       "    <tr>\n",
       "      <th>4</th>\n",
       "      <td>53150</td>\n",
       "      <td>20110101</td>\n",
       "      <td>25</td>\n",
       "      <td>20101231</td>\n",
       "      <td>1625</td>\n",
       "      <td>2</td>\n",
       "      <td>-119.82</td>\n",
       "      <td>37.76</td>\n",
       "      <td>-6.7</td>\n",
       "      <td>0.0</td>\n",
       "      <td>...</td>\n",
       "      <td>U</td>\n",
       "      <td>0</td>\n",
       "      <td>-9999</td>\n",
       "      <td>0</td>\n",
       "      <td>-99.0</td>\n",
       "      <td>-9999.0</td>\n",
       "      <td>1210</td>\n",
       "      <td>0</td>\n",
       "      <td>-99.0</td>\n",
       "      <td>0</td>\n",
       "    </tr>\n",
       "  </tbody>\n",
       "</table>\n",
       "<p>5 rows × 23 columns</p>\n",
       "</div>"
      ],
      "text/plain": [
       "   WBAN_number  UTC_date  UTC_time  LST_date  LST_time  CRX_version  \\\n",
       "0        53150  20110101         5  20101231      1605            2   \n",
       "1        53150  20110101        10  20101231      1610            2   \n",
       "2        53150  20110101        15  20101231      1615            2   \n",
       "3        53150  20110101        20  20101231      1620            2   \n",
       "4        53150  20110101        25  20101231      1625            2   \n",
       "\n",
       "   longitude  latitude  air_temperature  precepitation    ...      ST_type  \\\n",
       "0    -119.82     37.76             -6.4            0.0    ...            U   \n",
       "1    -119.82     37.76             -6.5            0.0    ...            U   \n",
       "2    -119.82     37.76             -6.5            0.0    ...            U   \n",
       "3    -119.82     37.76             -6.5            0.0    ...            U   \n",
       "4    -119.82     37.76             -6.7            0.0    ...            U   \n",
       "\n",
       "   ST_flag  relative_humidity RH_flag  soil_moisture  soil_temperature  \\\n",
       "0        0              -9999       0          -99.0           -9999.0   \n",
       "1        0              -9999       0          -99.0           -9999.0   \n",
       "2        0              -9999       0          -99.0           -9999.0   \n",
       "3        0              -9999       0          -99.0           -9999.0   \n",
       "4        0              -9999       0          -99.0           -9999.0   \n",
       "\n",
       "   wetness  wet_flag  wind  wind_flag  \n",
       "0     1218         0 -99.0          0  \n",
       "1     1223         0 -99.0          0  \n",
       "2     1223         0 -99.0          0  \n",
       "3     1224         0 -99.0          0  \n",
       "4     1210         0 -99.0          0  \n",
       "\n",
       "[5 rows x 23 columns]"
      ]
     },
     "execution_count": 2,
     "metadata": {},
     "output_type": "execute_result"
    }
   ],
   "source": [
    "NAMES = ('WBAN_number', 'UTC_date', 'UTC_time', 'LST_date', 'LST_time', 'CRX_version',\n",
    "        'longitude', 'latitude', 'air_temperature', 'precepitation', 'solar_radiation',\n",
    "        'SR_flag', 'surface_temperature', 'ST_type', 'ST_flag', 'relative_humidity', 'RH_flag',\n",
    "        'soil_moisture', 'soil_temperature', 'wetness', 'wet_flag', 'wind', 'wind_flag')\n",
    "temperature_data = pandas.read_table('./data/yosemite_village/CRNS0101-05-2011-CA_Yosemite_Village_12_W.txt',\n",
    "                                    sep=r'\\s+', header=None, names=NAMES)\n",
    "temperature_data.head()"
   ]
  },
  {
   "cell_type": "code",
   "execution_count": 3,
   "metadata": {},
   "outputs": [
    {
     "name": "stdout",
     "output_type": "stream",
     "text": [
      "105120\n",
      "104968\n"
     ]
    },
    {
     "data": {
      "text/html": [
       "<div>\n",
       "<table border=\"1\" class=\"dataframe\">\n",
       "  <thead>\n",
       "    <tr style=\"text-align: right;\">\n",
       "      <th></th>\n",
       "      <th>LST_date</th>\n",
       "      <th>LST_time</th>\n",
       "      <th>air_temperature</th>\n",
       "    </tr>\n",
       "  </thead>\n",
       "  <tbody>\n",
       "    <tr>\n",
       "      <th>0</th>\n",
       "      <td>20101231</td>\n",
       "      <td>1605</td>\n",
       "      <td>-6.4</td>\n",
       "    </tr>\n",
       "    <tr>\n",
       "      <th>1</th>\n",
       "      <td>20101231</td>\n",
       "      <td>1610</td>\n",
       "      <td>-6.5</td>\n",
       "    </tr>\n",
       "    <tr>\n",
       "      <th>2</th>\n",
       "      <td>20101231</td>\n",
       "      <td>1615</td>\n",
       "      <td>-6.5</td>\n",
       "    </tr>\n",
       "    <tr>\n",
       "      <th>3</th>\n",
       "      <td>20101231</td>\n",
       "      <td>1620</td>\n",
       "      <td>-6.5</td>\n",
       "    </tr>\n",
       "    <tr>\n",
       "      <th>4</th>\n",
       "      <td>20101231</td>\n",
       "      <td>1625</td>\n",
       "      <td>-6.7</td>\n",
       "    </tr>\n",
       "  </tbody>\n",
       "</table>\n",
       "</div>"
      ],
      "text/plain": [
       "   LST_date  LST_time  air_temperature\n",
       "0  20101231      1605             -6.4\n",
       "1  20101231      1610             -6.5\n",
       "2  20101231      1615             -6.5\n",
       "3  20101231      1620             -6.5\n",
       "4  20101231      1625             -6.7"
      ]
     },
     "execution_count": 3,
     "metadata": {},
     "output_type": "execute_result"
    }
   ],
   "source": [
    "limited_data = temperature_data.loc[:,('LST_date', 'LST_time', 'air_temperature')]\n",
    "print(len(limited_data))\n",
    "limited_data = limited_data.replace({-9999.0: None}).dropna()\n",
    "print(len(limited_data))\n",
    "limited_data.head()"
   ]
  },
  {
   "cell_type": "code",
   "execution_count": 4,
   "metadata": {},
   "outputs": [
    {
     "data": {
      "text/plain": [
       "array([[<matplotlib.axes._subplots.AxesSubplot object at 0x10f36c9e8>]], dtype=object)"
      ]
     },
     "execution_count": 4,
     "metadata": {},
     "output_type": "execute_result"
    },
    {
     "data": {
      "image/png": "[encoded data removed]",
      "text/plain": [
       "<matplotlib.figure.Figure at 0x1055dce80>"
      ]
     },
     "metadata": {},
     "output_type": "display_data"
    }
   ],
   "source": [
    "limited_data.hist('air_temperature')"
   ]
  },
  {
   "cell_type": "markdown",
   "metadata": {},
   "source": [
    "## Seasonal variation\n",
    "From https://www.nps.gov/yose/planyourvisit/weather.htm\n",
    "\n",
    "The temperature peak appears to be in July/August, and the trough in December/January, so we can start by computing features as distance within the year from each (day 0, day 212, day 365). We can do something similar with the time of day later.\n",
    "\n",
    "The hottest time of the day appears to be around 1500 or so."
   ]
  },
  {
   "cell_type": "code",
   "execution_count": 5,
   "metadata": {},
   "outputs": [
    {
     "data": {
      "text/html": [
       "<div>\n",
       "<table border=\"1\" class=\"dataframe\">\n",
       "  <thead>\n",
       "    <tr style=\"text-align: right;\">\n",
       "      <th></th>\n",
       "      <th>LST_date</th>\n",
       "      <th>LST_time</th>\n",
       "      <th>air_temperature</th>\n",
       "      <th>LST_day_of_year</th>\n",
       "    </tr>\n",
       "  </thead>\n",
       "  <tbody>\n",
       "    <tr>\n",
       "      <th>0</th>\n",
       "      <td>20101231</td>\n",
       "      <td>1605</td>\n",
       "      <td>-6.4</td>\n",
       "      <td>365</td>\n",
       "    </tr>\n",
       "    <tr>\n",
       "      <th>1</th>\n",
       "      <td>20101231</td>\n",
       "      <td>1610</td>\n",
       "      <td>-6.5</td>\n",
       "      <td>365</td>\n",
       "    </tr>\n",
       "    <tr>\n",
       "      <th>2</th>\n",
       "      <td>20101231</td>\n",
       "      <td>1615</td>\n",
       "      <td>-6.5</td>\n",
       "      <td>365</td>\n",
       "    </tr>\n",
       "    <tr>\n",
       "      <th>3</th>\n",
       "      <td>20101231</td>\n",
       "      <td>1620</td>\n",
       "      <td>-6.5</td>\n",
       "      <td>365</td>\n",
       "    </tr>\n",
       "    <tr>\n",
       "      <th>4</th>\n",
       "      <td>20101231</td>\n",
       "      <td>1625</td>\n",
       "      <td>-6.7</td>\n",
       "      <td>365</td>\n",
       "    </tr>\n",
       "  </tbody>\n",
       "</table>\n",
       "</div>"
      ],
      "text/plain": [
       "   LST_date  LST_time  air_temperature  LST_day_of_year\n",
       "0  20101231      1605             -6.4              365\n",
       "1  20101231      1610             -6.5              365\n",
       "2  20101231      1615             -6.5              365\n",
       "3  20101231      1620             -6.5              365\n",
       "4  20101231      1625             -6.7              365"
      ]
     },
     "execution_count": 5,
     "metadata": {},
     "output_type": "execute_result"
    }
   ],
   "source": [
    "DATE_FORMAT = '%Y%m%d'\n",
    "limited_data['LST_day_of_year'] = [datetime.strptime(str(lst_date), DATE_FORMAT).timetuple().tm_yday\n",
    "                                                     for lst_date in limited_data.LST_date]\n",
    "\n",
    "limited_data.head()"
   ]
  },
  {
   "cell_type": "markdown",
   "metadata": {},
   "source": [
    "## Split test and train"
   ]
  },
  {
   "cell_type": "code",
   "execution_count": 6,
   "metadata": {},
   "outputs": [
    {
     "name": "stdout",
     "output_type": "stream",
     "text": [
      "(94471, 4) (10497, 4)\n"
     ]
    },
    {
     "data": {
      "text/html": [
       "<div>\n",
       "<table border=\"1\" class=\"dataframe\">\n",
       "  <thead>\n",
       "    <tr style=\"text-align: right;\">\n",
       "      <th></th>\n",
       "      <th>LST_date</th>\n",
       "      <th>LST_time</th>\n",
       "      <th>air_temperature</th>\n",
       "      <th>LST_day_of_year</th>\n",
       "    </tr>\n",
       "  </thead>\n",
       "  <tbody>\n",
       "    <tr>\n",
       "      <th>25469</th>\n",
       "      <td>20110330</td>\n",
       "      <td>230</td>\n",
       "      <td>7.3</td>\n",
       "      <td>89</td>\n",
       "    </tr>\n",
       "    <tr>\n",
       "      <th>47683</th>\n",
       "      <td>20110615</td>\n",
       "      <td>540</td>\n",
       "      <td>16.7</td>\n",
       "      <td>166</td>\n",
       "    </tr>\n",
       "    <tr>\n",
       "      <th>1843</th>\n",
       "      <td>20110107</td>\n",
       "      <td>140</td>\n",
       "      <td>6.3</td>\n",
       "      <td>7</td>\n",
       "    </tr>\n",
       "    <tr>\n",
       "      <th>71314</th>\n",
       "      <td>20110905</td>\n",
       "      <td>655</td>\n",
       "      <td>17.9</td>\n",
       "      <td>248</td>\n",
       "    </tr>\n",
       "    <tr>\n",
       "      <th>65489</th>\n",
       "      <td>20110816</td>\n",
       "      <td>130</td>\n",
       "      <td>14.4</td>\n",
       "      <td>228</td>\n",
       "    </tr>\n",
       "  </tbody>\n",
       "</table>\n",
       "</div>"
      ],
      "text/plain": [
       "       LST_date  LST_time  air_temperature  LST_day_of_year\n",
       "25469  20110330       230              7.3               89\n",
       "47683  20110615       540             16.7              166\n",
       "1843   20110107       140              6.3                7\n",
       "71314  20110905       655             17.9              248\n",
       "65489  20110816       130             14.4              228"
      ]
     },
     "execution_count": 6,
     "metadata": {},
     "output_type": "execute_result"
    }
   ],
   "source": [
    "from sklearn.model_selection import train_test_split\n",
    "\n",
    "train, test = train_test_split(limited_data, test_size=0.1, random_state=RANDOM_SEED) # train_size=0.25,\n",
    "print(train.shape, test.shape)\n",
    "train.head()"
   ]
  },
  {
   "cell_type": "markdown",
   "metadata": {},
   "source": [
    "## Defining a transformed to apply a pre-provided RBF"
   ]
  },
  {
   "cell_type": "code",
   "execution_count": 26,
   "metadata": {
    "collapsed": true
   },
   "outputs": [],
   "source": [
    "from sklearn.base import TransformerMixin\n",
    "from sklearn.metrics.pairwise import rbf_kernel\n",
    "\n",
    "class RBFEncoder(TransformerMixin):\n",
    "    def __init__(self, means, alpha):\n",
    "        self.means = np.array(means).reshape((-1, 1))\n",
    "        self.alpha = alpha\n",
    "    \n",
    "    def fit(self, X, y=None):\n",
    "        return self\n",
    "    \n",
    "    def transform(self, X):\n",
    "        # np.exp(- 1 / (2 * self.alpha ** 2) * (X - self.m) ** 2)\n",
    "        X = X.reshape(-1, 1)\n",
    "        return rbf_kernel(X, self.means, gamma=1 / (2 * self.alpha ** 2))"
   ]
  },
  {
   "cell_type": "code",
   "execution_count": 28,
   "metadata": {},
   "outputs": [
    {
     "name": "stdout",
     "output_type": "stream",
     "text": [
      "(94471, 6)\n"
     ]
    },
    {
     "data": {
      "text/plain": [
       "array([[  4.45630428e-01,   2.13573229e-01,   4.20922754e-04,\n",
       "          8.99604551e-01,   3.97239897e-02,   8.12646049e-05],\n",
       "       [  6.00945133e-02,   8.05801079e-01,   1.75813189e-02,\n",
       "          5.58109555e-01,   1.58310023e-01,   9.88620521e-04],\n",
       "       [  9.95012479e-01,   1.37287198e-02,   2.09080963e-06,\n",
       "          9.61558378e-01,   2.47433132e-02,   3.66096021e-05],\n",
       "       [  1.88106275e-03,   8.76126407e-01,   2.47378251e-01,\n",
       "          4.23988053e-01,   2.39776030e-01,   2.26529565e-03],\n",
       "       [  4.96923290e-03,   9.74215791e-01,   1.47311766e-01,\n",
       "          9.66764838e-01,   2.34285480e-02,   3.34385879e-05]])"
      ]
     },
     "execution_count": 28,
     "metadata": {},
     "output_type": "execute_result"
    }
   ],
   "source": [
    "DAY_MEANS = (0, 212, 365)\n",
    "DAY_ALPHA = 70\n",
    "TIME_MEANS = (0, 1500, 2400)\n",
    "TIME_ALPHA = 500\n",
    "\n",
    "\n",
    "data_mapper = DataFrameMapper([\n",
    "    ('LST_day_of_year', RBFEncoder(DAY_MEANS, DAY_ALPHA)),\n",
    "    ('LST_time', RBFEncoder(TIME_MEANS, TIME_ALPHA)),\n",
    "])\n",
    "\n",
    "transformed_train = data_mapper.fit_transform(train.copy())\n",
    "print(transformed_train.shape)\n",
    "transformed_train[:5]"
   ]
  },
  {
   "cell_type": "code",
   "execution_count": 29,
   "metadata": {},
   "outputs": [
    {
     "name": "stderr",
     "output_type": "stream",
     "text": [
      "/Users/guydavidson/anaconda/lib/python3.6/site-packages/sklearn/cross_validation.py:44: DeprecationWarning: This module was deprecated in version 0.18 in favor of the model_selection module into which all the refactored classes and functions are moved. Also note that the interface of the new CV iterators are different from that of this module. This module will be removed in 0.20.\n",
      "  \"This module will be removed in 0.20.\", DeprecationWarning)\n"
     ]
    },
    {
     "name": "stdout",
     "output_type": "stream",
     "text": [
      "-23.849 [-23.963 -24.054 -23.651 -23.641 -23.936]\n"
     ]
    }
   ],
   "source": [
    "from sklearn.cross_validation import cross_val_score\n",
    "from sklearn.linear_model import Ridge, RidgeCV\n",
    "\n",
    "np.random.seed(33)\n",
    "\n",
    "\n",
    "pipe = sklearn.pipeline.Pipeline([\n",
    "    ('featurize', data_mapper),\n",
    "    ('ridge', RidgeCV()),\n",
    "])\n",
    "\n",
    "with warnings.catch_warnings():\n",
    "    warnings.simplefilter(\"ignore\")\n",
    "    \n",
    "    shuffled = train.sample(frac=1)\n",
    "    cv_scores = np.round(cross_val_score(pipe, X=shuffled, y=shuffled.air_temperature, \n",
    "                                         scoring='mean_squared_error', cv=5), 3)\n",
    "    print(np.average(cv_scores), cv_scores)\n",
    "    \n",
    "#     for k in range(3, 16):\n",
    "#         pipe.set_params(select__k=k)\n",
    "#         shuffled = data_train.sample(frac=1)\n",
    "#         cv_scores = np.round(cross_val_score(pipe, X=shuffled, y=shuffled.like, scoring='r2', cv=7), 3)\n",
    "#         print(k, np.average(cv_scores), cv_scores)"
   ]
  },
  {
   "cell_type": "code",
   "execution_count": 30,
   "metadata": {},
   "outputs": [
    {
     "name": "stdout",
     "output_type": "stream",
     "text": [
      "mean_squared_error 23.4078255456\n",
      "mean_absolute_error 3.89227342294\n",
      "median_absolute_error 3.35972695985\n",
      "r2_score 0.379167605902\n"
     ]
    }
   ],
   "source": [
    "from sklearn.metrics import mean_squared_error\n",
    "from sklearn import metrics\n",
    "\n",
    "shuffled = train.sample(frac=1)\n",
    "pipe.fit(shuffled, shuffled.air_temperature)\n",
    "\n",
    "test_predictions = pipe.predict(test)\n",
    "\n",
    "for metric in (metrics.mean_squared_error, metrics.mean_absolute_error, \n",
    "               metrics.median_absolute_error, metrics.r2_score): \n",
    "    print(metric.__name__, metric(test_predictions, test.air_temperature))"
   ]
  },
  {
   "cell_type": "code",
   "execution_count": null,
   "metadata": {},
   "outputs": [],
   "source": [
    "\n"
   ]
  },
  {
   "cell_type": "code",
   "execution_count": 11,
   "metadata": {},
   "outputs": [
    {
     "data": {
      "text/plain": [
       "(94471, 1)"
      ]
     },
     "execution_count": 11,
     "metadata": {},
     "output_type": "execute_result"
    }
   ],
   "source": [
    "a = np.array(train.LST_day_of_year).reshape((-1, 1))\n",
    "a.shape"
   ]
  },
  {
   "cell_type": "code",
   "execution_count": 24,
   "metadata": {},
   "outputs": [
    {
     "data": {
      "text/plain": [
       "array([[  3.63039106e-04,   2.68880176e-07,   8.26387133e-34],\n",
       "       [  1.07790691e-12,   1.20512717e-01,   6.33146517e-18],\n",
       "       [  9.52181130e-01,   5.60756605e-19,   2.18314218e-56],\n",
       "       [  1.94604189e-27,   2.73624103e-01,   1.13486143e-06],\n",
       "       [  2.65237944e-23,   7.74141969e-01,   7.05873486e-09],\n",
       "       [  1.94604189e-27,   2.73624103e-01,   1.13486143e-06],\n",
       "       [  5.96680983e-26,   4.31279029e-01,   2.10033247e-07],\n",
       "       [  1.18388039e-27,   2.54361194e-01,   1.43262805e-06],\n",
       "       [  1.69189792e-10,   2.14077987e-02,   8.40886875e-21],\n",
       "       [  9.52181130e-01,   5.60756605e-19,   2.18314218e-56],\n",
       "       [  2.64598192e-24,   6.43392707e-01,   2.70927411e-08],\n",
       "       [  9.80688278e-48,   1.13486143e-06,   2.73624103e-01],\n",
       "       [  7.39534634e-10,   1.12318701e-02,   9.55316054e-22],\n",
       "       [  9.98586094e-02,   2.08552603e-12,   2.28129689e-44],\n",
       "       [  1.68887622e-36,   3.60656314e-03,   2.27904223e-03],\n",
       "       [  2.54214936e-53,   9.27447346e-09,   7.49012205e-01],\n",
       "       [  7.63833857e-55,   2.32162144e-09,   8.65887748e-01],\n",
       "       [  5.01501305e-11,   3.45965954e-02,   4.62141927e-20],\n",
       "       [  9.55316054e-22,   9.38005000e-01,   7.39534634e-10],\n",
       "       [  2.63368131e-28,   2.01896518e-01,   2.84769689e-06],\n",
       "       [  1.23152674e-50,   9.89154888e-08,   5.08647519e-01],\n",
       "       [  1.60517620e-38,   1.01893226e-03,   7.44658307e-03],\n",
       "       [  1.26618688e-53,   7.05873486e-09,   7.74141969e-01],\n",
       "       [  8.26387133e-34,   1.66390989e-02,   3.63039106e-04],\n",
       "       [  2.45813694e-40,   3.03539138e-04,   1.88923160e-02],\n",
       "       [  3.17446109e-31,   6.02652275e-02,   4.53999298e-05],\n",
       "       [  2.29397691e-21,   9.64640293e-01,   4.12411285e-10],\n",
       "       [  5.30188993e-36,   4.84891651e-03,   1.66155727e-03],\n",
       "       [  1.86187695e-01,   1.99891835e-13,   2.56745280e-46],\n",
       "       [  5.09372774e-53,   1.21613858e-08,   7.23250242e-01],\n",
       "       [  9.65245626e-26,   4.56576050e-01,   1.63737713e-07],\n",
       "       [  2.61976459e-48,   7.07873805e-07,   3.14742637e-01],\n",
       "       [  3.37477679e-45,   8.59783612e-06,   1.31993843e-01],\n",
       "       [  1.88923160e-02,   2.28154063e-10,   2.45813694e-40],\n",
       "       [  6.70320046e-01,   9.77615816e-17,   2.03282172e-52],\n",
       "       [  6.13702669e-04,   1.27391604e-07,   1.56344725e-34],\n",
       "       [  1.59150601e-08,   2.27904223e-03,   6.69286633e-24],\n",
       "       [  3.94562042e-13,   1.57394482e-01,   2.07082397e-17],\n",
       "       [  6.65219304e-17,   6.96978998e-01,   1.41850884e-13],\n",
       "       [  1.62893343e-05,   1.06601294e-05,   4.38220836e-30],\n",
       "       [  9.91040379e-01,   1.07049030e-19,   1.22550169e-57],\n",
       "       [  4.46987967e-16,   5.62142445e-01,   2.47735461e-14],\n",
       "       [  6.41553874e-32,   4.34562758e-02,   8.19828893e-05],\n",
       "       [  4.12411285e-10,   1.46253347e-02,   2.29397691e-21],\n",
       "       [  1.94790664e-03,   2.07857122e-08,   2.99535677e-36],\n",
       "       [  3.76662779e-55,   1.74938769e-09,   8.86033960e-01],\n",
       "       [  7.74141969e-01,   2.07082397e-17,   1.26618688e-53],\n",
       "       [  8.26387133e-34,   1.66390989e-02,   3.63039106e-04],\n",
       "       [  6.24536596e-51,   7.66512442e-08,   5.35261429e-01],\n",
       "       [  1.65871338e-24,   6.16313202e-01,   3.52429615e-08],\n",
       "       [  9.24826552e-11,   2.73237224e-02,   1.97921808e-20],\n",
       "       [  5.08647519e-01,   9.44382877e-16,   1.23152674e-50],\n",
       "       [  1.29136766e-20,   9.96007989e-01,   1.25213605e-10],\n",
       "       [  1.01859562e-52,   1.59150601e-08,   6.96978998e-01],\n",
       "       [  2.54361194e-01,   5.00877464e-14,   1.89174441e-47],\n",
       "       [  2.84491069e-18,   8.86033960e-01,   2.08552603e-12],\n",
       "       [  9.04837418e-01,   1.90128823e-18,   1.85369346e-55],\n",
       "       [  7.18778174e-28,   2.35981941e-01,   1.80490969e-06],\n",
       "       [  1.20894018e-44,   1.31906805e-05,   1.09810404e-01],\n",
       "       [  3.14742637e-01,   1.73705526e-14,   2.61976459e-48],\n",
       "       [  1.57394482e-01,   3.94562042e-13,   9.34568068e-46],\n",
       "       [  9.91040379e-01,   1.07049030e-19,   1.22550169e-57],\n",
       "       [  4.18604042e-03,   5.36161822e-09,   1.67305022e-37],\n",
       "       [  2.18493284e-01,   1.00461683e-13,   6.99712514e-47],\n",
       "       [  4.03750661e-25,   5.35261429e-01,   7.66512442e-08],\n",
       "       [  7.62186519e-12,   6.69372276e-02,   5.60756605e-19],\n",
       "       [  2.63368131e-28,   2.01896518e-01,   2.84769689e-06],\n",
       "       [  1.50083424e-12,   1.09810404e-01,   4.24835426e-18],\n",
       "       [  4.29625663e-44,   2.00757086e-05,   9.06272807e-02],\n",
       "       [  5.93540576e-58,   1.25213605e-10,   9.96007989e-01],\n",
       "       [  9.81346359e-03,   9.87346573e-10,   4.91267513e-39],\n",
       "       [  1.90128823e-18,   9.04837418e-01,   2.89221058e-12],\n",
       "       [  6.24536596e-51,   7.66512442e-08,   5.35261429e-01],\n",
       "       [  1.65116030e-35,   6.46727781e-03,   1.20172170e-03],\n",
       "       [  1.25213605e-10,   2.42097460e-02,   1.29136766e-20],\n",
       "       [  2.28129689e-44,   1.62893343e-05,   9.98586094e-02],\n",
       "       [  4.24835426e-18,   8.65887748e-01,   1.50083424e-12],\n",
       "       [  4.62141927e-20,   9.99000500e-01,   5.01501305e-11],\n",
       "       [  4.34562758e-02,   2.69779837e-11,   3.41293937e-42],\n",
       "       [  9.44382877e-16,   5.08647519e-01,   1.21554350e-14],\n",
       "       [  6.92065597e-06,   2.46927717e-05,   3.45204806e-29],\n",
       "       [  3.74987676e-32,   3.88130014e-02,   9.94356357e-05],\n",
       "       [  9.98586094e-02,   2.08552603e-12,   2.28129689e-44],\n",
       "       [  4.06439881e-09,   4.84891651e-03,   6.57620045e-23],\n",
       "       [  6.57620045e-23,   8.22012235e-01,   4.06439881e-09],\n",
       "       [  3.82510184e-01,   5.91668541e-15,   3.56323755e-49],\n",
       "       [  4.82391140e-01,   1.36858368e-15,   2.42360148e-50],\n",
       "       [  1.46253347e-02,   4.12411285e-10,   8.19401262e-40],\n",
       "       [  8.59783612e-06,   2.00757086e-05,   2.06673010e-29],\n",
       "       [  1.67943452e-23,   7.49012205e-01,   9.27447346e-09],\n",
       "       [  8.20849986e-02,   4.00290808e-12,   8.07476763e-44],\n",
       "       [  4.06569660e-01,   4.11556610e-15,   1.82516347e-49],\n",
       "       [  4.11556610e-15,   4.06569660e-01,   2.85701220e-15],\n",
       "       [  3.19247830e-27,   2.93757700e-01,   8.97188367e-07],\n",
       "       [  1.04857911e-11,   6.02652275e-02,   3.71774301e-19],\n",
       "       [  2.69779837e-11,   4.34562758e-02,   1.07049030e-19],\n",
       "       [  5.60553935e-03,   3.07487988e-09,   5.20299038e-38],\n",
       "       [  2.54361194e-01,   5.00877464e-14,   1.89174441e-47],\n",
       "       [  6.14643381e-22,   9.22193691e-01,   9.87346573e-10],\n",
       "       [  1.43970182e-11,   5.41498541e-02,   2.45989033e-19]])"
      ]
     },
     "execution_count": 24,
     "metadata": {},
     "output_type": "execute_result"
    }
   ],
   "source": [
    "means = np.array((0, 212, 365)).reshape((-1, 1))\n",
    "\n",
    "rbf_kernel(a[:100], means, gamma=0.001)"
   ]
  },
  {
   "cell_type": "code",
   "execution_count": null,
   "metadata": {
    "collapsed": true
   },
   "outputs": [],
   "source": []
  }
 ],
 "metadata": {
  "kernelspec": {
   "display_name": "Python 3",
   "language": "python",
   "name": "python3"
  },
  "language_info": {
   "codemirror_mode": {
    "name": "ipython",
    "version": 3
   },
   "file_extension": ".py",
   "mimetype": "text/x-python",
   "name": "python",
   "nbconvert_exporter": "python",
   "pygments_lexer": "ipython3",
   "version": "3.6.2"
  }
 },
 "nbformat": 4,
 "nbformat_minor": 2
}
