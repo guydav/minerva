{
 "cells": [
  {
   "cell_type": "code",
   "execution_count": 14,
   "metadata": {
    "collapsed": false
   },
   "outputs": [
    {
     "name": "stdout",
     "output_type": "stream",
     "text": [
      "Creating a (pseudo)-random population distribution.\n",
      "Enter a population size (between 1 and 10^6): 10000\n",
      "\n",
      "The normal pop. mean is: -52.064\n",
      "The normal pop. stddev is: 10113.397\n",
      "This is the normal population distribution:\n"
     ]
    },
    {
     "data": {
      "image/png": "[encoded data removed]",
      "text/plain": [
       "<matplotlib.figure.Figure at 0x10cf70bd0>"
      ]
     },
     "metadata": {},
     "output_type": "display_data"
    },
    {
     "name": "stdout",
     "output_type": "stream",
     "text": [
      "\n",
      "The uniform pop. mean is: 499.291\n",
      "The uniform pop. stddev is: 287.727\n",
      "This is the uniform population distribution:\n"
     ]
    },
    {
     "data": {
      "image/png": "[encoded data removed]",
      "text/plain": [
       "<matplotlib.figure.Figure at 0x10ce08710>"
      ]
     },
     "metadata": {},
     "output_type": "display_data"
    },
    {
     "name": "stdout",
     "output_type": "stream",
     "text": [
      "Enter the sample size (to be drawn with replacement, between 1 and 10^6): 100\n",
      "Enter the number of times to repeat the experiment (between 1 and 10^6): 100\n",
      "Enter the significance test alpha as a decimal, between 0 and 0.999999: 0.05\n"
     ]
    },
    {
     "name": "stderr",
     "output_type": "stream",
     "text": [
      "                                       "
     ]
    },
    {
     "name": "stdout",
     "output_type": "stream",
     "text": [
      "Before applying the Bonferroni correction, at the alpha=0.05 level, the p-value needs to be smaller than 0.025, as the test is two-sided.\n",
      "At this significance level, 3 samples were statistically significant, which are 0.03% of the samples sampled:\n",
      "0.0115, 0.0034, 0.0151\n",
      "The lowest p_value ovserved was 0.003438\n",
      "\n",
      "After applying the Bonferroni correction, at the alpha=0.05 level, for 100 independent hypothesis tests, the p-value needs to be smaller than 0.00025, as the test is two-sided.\n",
      "At this significance level, 0 samples were statistically significant, which are 0.00% of the samples sampled.\n",
      "\n",
      "Before applying the Bonferroni correction, at the alpha=0.05 level, the p-value needs to be smaller than 0.025, as the test is two-sided.\n",
      "At this significance level, 3 samples were statistically significant, which are 0.03% of the samples sampled:\n",
      "0.0170, 0.0244, 0.0051\n",
      "The lowest p_value ovserved was 0.005121\n",
      "\n",
      "After applying the Bonferroni correction, at the alpha=0.05 level, for 100 independent hypothesis tests, the p-value needs to be smaller than 0.00025, as the test is two-sided.\n",
      "At this significance level, 0 samples were statistically significant, which are 0.00% of the samples sampled.\n",
      "\n"
     ]
    },
    {
     "name": "stderr",
     "output_type": "stream",
     "text": [
      "\r"
     ]
    }
   ],
   "source": [
    "# Code for the Signifiance + Effect Size\n",
    "# Adapted from CLT.py provded for FA 2.03.1\n",
    "# If some of the line formattings look weird / short\n",
    "# It is because I tried to format it to fit well in the text\n",
    "\n",
    "\n",
    "%matplotlib inline\n",
    "import numpy as np\n",
    "import random\n",
    "import matplotlib.pyplot as plt\n",
    "from scipy import stats\n",
    "import re\n",
    "from tqdm import tqdm\n",
    "from tabulate import tabulate\n",
    "\n",
    "\n",
    "DECIMAL_NUMBER_PATTERN = '^[\\d\\.]+$'\n",
    "\n",
    "\n",
    "def create_uniform_population(size, size_multiplier=1000):\n",
    "    return size_multiplier * np.random.random_sample((size, ))\n",
    "\n",
    "\n",
    "def create_beta_population(size, size_multiplier=1000, a=0.5, b=0.5):\n",
    "    return size_multiplier * np.random.beta(a, b, (size, ))\n",
    "\n",
    "\n",
    "def create_normal_population(size, mean=0, stddev=1, size_multiplier=1000):\n",
    "    return size_multiplier * np.random.normal(mean, stddev, size)\n",
    "    \n",
    "\n",
    "def graph_distribution(distribution, name):\n",
    "    plt.hist(distribution)\n",
    "    plt.title(name)\n",
    "    plt.show()\n",
    "\n",
    "    \n",
    "def bonferroni_simulation(population, sample_size, sample_repeats, alpha, normal=True):\n",
    "    pop_mean = np.mean(population)\n",
    "    pop_stddev = np.std(population)\n",
    "    standard_error = pop_stddev / (sample_size ** 0.5)\n",
    "\n",
    "    sample_p_values = []\n",
    "    \n",
    "    # 2.d - repeatedly drawing samples\n",
    "    for _ in tqdm(xrange(sample_repeats)):\n",
    "        sample = np.random.choice(population, (sample_size, ))\n",
    "        sample_mean = np.mean(sample)\n",
    "\n",
    "        # 2.c - Our null hypothesis is that the sample mean is equal to the pop. mean\n",
    "        # 2.c - our alternative hypothesis is that they're different (two-sided)\n",
    "        # 2.c - we can use the population standard deviation (as we know it)\n",
    "        # 2.c - if the population is normally, we can use the normal distribution\n",
    "        # 2.c - otherwise the CLT guarantees near-normality, and we use Student's t \n",
    "        if normal:\n",
    "            if sample_mean < pop_mean:\n",
    "                p_value = stats.norm.cdf(sample_mean, pop_mean, standard_error)\n",
    "            else:\n",
    "                p_value = stats.norm.sf(sample_mean, pop_mean, standard_error)\n",
    "            \n",
    "        else: # population not normal\n",
    "            df = sample_size - 1\n",
    "            if sample_mean < pop_mean:\n",
    "                p_value = stats.t.cdf(sample_mean, df, pop_mean, standard_error)\n",
    "            else:\n",
    "                p_value = stats.t.sf(sample_mean, df, pop_mean, standard_error)\n",
    "            \n",
    "        # 2.d - recording computed sample p-values\n",
    "        sample_p_values.append(p_value)\n",
    "        \n",
    "    before_output = 'Before applying the Bonferroni correction, at the alpha={alpha} '+\\\n",
    "        'level, the p-value needs to be smaller than {half_alpha}, as the test is '+\\\n",
    "        'two-sided.\\nAt this significance level, {count} samples were statistically '+\\\n",
    "        'significant, which are {percent:2.2f}% of the samples sampled:'\n",
    "    half_alpha = alpha / 2\n",
    "    sig_count = sum([p_value <= half_alpha for p_value in sample_p_values])\n",
    "    print before_output.format(alpha=alpha, half_alpha=half_alpha, count=sig_count, \n",
    "                              percent=float(sig_count)/sample_repeats)\n",
    "    significant_p_values = ['{p:.4f}'.format(p=p_value) \n",
    "                            for p_value in sample_p_values \n",
    "                            if p_value <= half_alpha]\n",
    "    print ', '.join(significant_p_values)\n",
    "    print 'The lowest p_value ovserved was {min_p:.6f}'.format(\n",
    "        min_p=min(sample_p_values))\n",
    "    \n",
    "    print\n",
    "    after_output = 'After applying the Bonferroni correction, at the alpha={alpha} '+\\\n",
    "        'level, for {n} independent hypothesis tests, the p-value needs to be '+\\\n",
    "        'smaller than {bonferroni}, as the test is two-sided.\\nAt this '+\\\n",
    "        'significance level, {count} samples were statistically significant, '+\\\n",
    "        'which are {percent:2.2f}% of the samples sampled.'\n",
    "    bonferroni = alpha / (2 * sample_size)\n",
    "    sig_count = sum([p_value <= bonferroni for p_value in sample_p_values])\n",
    "    print after_output.format(alpha=alpha, bonferroni=bonferroni, n=sample_repeats, \n",
    "                              count=sig_count, percent=float(sig_count)/sample_repeats)\n",
    "    significant_p_values = ['{p:.4f}'.format(p=p_value) \n",
    "                            for p_value in sample_p_values \n",
    "                            if p_value <= bonferroni]\n",
    "    print ', '.join(significant_p_values)\n",
    "    \n",
    "    \n",
    "#####################################\n",
    "\n",
    "\n",
    "def read_number_from_user(prompt, type_func, min_value, max_value):\n",
    "    value = min_value - 1\n",
    "    while not (min_value <= value <= max_value):\n",
    "        raw_value = raw_input(prompt)\n",
    "        if re.match(DECIMAL_NUMBER_PATTERN, raw_value):\n",
    "            value = type_func(raw_value)\n",
    "        \n",
    "    return value\n",
    "\n",
    "\n",
    "def read_letter_from_user(prompt, options):\n",
    "    letter = ''\n",
    "    while not letter in options:\n",
    "        letter = raw_input(prompt).strip().lower()\n",
    "        \n",
    "    return letter\n",
    "\n",
    "\n",
    "def main():\n",
    "    print 'Creating a (pseudo)-random population distribution.'\n",
    "    population_size = read_number_from_user(\n",
    "        'Enter a population size (between 1 and 10^6): ', int, 1, 10**6)\n",
    "    \n",
    "    # 2.a - create two different populations\n",
    "    normal_pop = create_normal_population(population_size, stddev=10)\n",
    "    uniform_pop = create_uniform_population(population_size)\n",
    "\n",
    "    # 2.a - printing means, standard deviations, and population graphs\n",
    "    print\n",
    "    print 'The normal pop. mean is: {mean:.3f}'.format(mean=np.mean(normal_pop))\n",
    "    print 'The normal pop. stddev is: {stddev:.3f}'.format(stddev=np.std(normal_pop)) \n",
    "    print 'This is the normal population distribution:'\n",
    "    graph_distribution(normal_pop, 'Normal Population Distribution')\n",
    "    \n",
    "    print\n",
    "    print 'The uniform pop. mean is: {mean:.3f}'.format(mean=np.mean(uniform_pop))\n",
    "    print 'The uniform pop. stddev is: {stddev:.3f}'.format(stddev=np.std(uniform_pop)) \n",
    "    print 'This is the uniform population distribution:'\n",
    "    graph_distribution(uniform_pop, 'Uniform Population Distribution')\n",
    "\n",
    "    # 2.b - specifying sample sizes\n",
    "    sample_size = read_number_from_user(\n",
    "        'Enter the sample size (to be drawn with replacement, between 1 and 10^6): ', \n",
    "        int, 1, 10**6)\n",
    "    \n",
    "    # 2.b - specifying how many times to repeat the hypothesis testing procedure\n",
    "    sample_repeats = read_number_from_user(\n",
    "        \"Enter the number of times to repeat the experiment (between 1 and 10^6): \", \n",
    "        int, 1, 10**6)\n",
    "    \n",
    "    # 2.b - specifying alpha\n",
    "    alpha = read_number_from_user(\n",
    "        'Enter the significance test alpha as a decimal, between 0 and 0.999999: ', \n",
    "        float, 0, 0.999999)\n",
    "    \n",
    "    bonferroni_simulation(normal_pop, sample_size, sample_repeats, alpha)\n",
    "    bonferroni_simulation(uniform_pop, sample_size, sample_repeats, alpha, False)\n",
    "    \n",
    "        \n",
    "main()"
   ]
  },
  {
   "cell_type": "code",
   "execution_count": null,
   "metadata": {
    "collapsed": true
   },
   "outputs": [],
   "source": []
  }
 ],
 "metadata": {
  "kernelspec": {
   "display_name": "Python 2",
   "language": "python",
   "name": "python2"
  }
 },
 "nbformat": 4,
 "nbformat_minor": 0
}
