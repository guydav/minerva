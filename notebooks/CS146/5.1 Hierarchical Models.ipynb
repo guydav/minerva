{
 "cells": [
  {
   "cell_type": "code",
   "execution_count": 1,
   "metadata": {},
   "outputs": [],
   "source": [
    "library(ggplot2)"
   ]
  },
  {
   "cell_type": "code",
   "execution_count": 2,
   "metadata": {
    "collapsed": true
   },
   "outputs": [],
   "source": [
    "intervention.df = data.frame(y=c(20, 10, 13, 35, 22, 7), \n",
    "                             n=c(23, 16, 16, 45, 31, 10))\n",
    "\n",
    "control.df = data.frame(y=c(9, 11, 4, 21, 12, 0),\n",
    "                        n=c(15, 18, 10, 39, 29, 10))\n",
    "\n",
    "n_c = sum(control.df$n)\n",
    "theta_c = sum(control.df$y) / n_c"
   ]
  },
  {
   "cell_type": "markdown",
   "metadata": {},
   "source": [
    "Using the control data to set the prior:\n",
    "\\begin{align*}\n",
    "\\alpha + \\beta &= n_c & \\frac{\\alpha}{\\alpha + \\beta} &= \\theta_c \\\\\n",
    "\\alpha + \\beta &= n_c & \\alpha &= \\theta_c(\\alpha + \\beta) \\\\\n",
    "\\alpha + \\beta &= n_c & (1 - \\theta_c) \\alpha &= \\theta_c \\beta \\\\\n",
    "\\alpha + \\beta &= n_c & \\beta &= \\frac{(1 - \\theta_c)}{\\theta_c} \\alpha \\\\\n",
    "\\alpha + \\frac{(1 - \\theta_c)}{\\theta_c}\\alpha &= n_c & \\beta &= \\frac{(1 - \\theta_c)}{\\theta_c} \\alpha \\\\\n",
    "\\frac{\\theta_c + (1 - \\theta_c)}{\\theta_c}\\alpha &= n_c & \\beta &= \\frac{(1 - \\theta_c)}{\\theta_c} \\alpha \\\\\n",
    "\\alpha &= n_c \\theta_c & \\beta &= \\frac{(1 - \\theta_c)}{\\theta_c} (n_c \\theta_c) = (1 - \\theta_c)n_c \n",
    "\\end{align*}"
   ]
  },
  {
   "cell_type": "code",
   "execution_count": 4,
   "metadata": {},
   "outputs": [
    {
     "data": {
      "text/html": [
       "<ol class=list-inline>\n",
       "\t<li>0.383110328200741</li>\n",
       "\t<li>0.559944497038099</li>\n",
       "</ol>\n"
      ],
      "text/latex": [
       "\\begin{enumerate*}\n",
       "\\item 0.383110328200741\n",
       "\\item 0.559944497038099\n",
       "\\end{enumerate*}\n"
      ],
      "text/markdown": [
       "1. 0.383110328200741\n",
       "2. 0.559944497038099\n",
       "\n",
       "\n"
      ],
      "text/plain": [
       "[1] 0.3831103 0.5599445"
      ]
     },
     "metadata": {},
     "output_type": "display_data"
    },
    {
     "data": {
      "text/html": [
       "<ol class=list-inline>\n",
       "\t<li>0.566616500858841</li>\n",
       "\t<li>0.683470305860427</li>\n",
       "</ol>\n"
      ],
      "text/latex": [
       "\\begin{enumerate*}\n",
       "\\item 0.566616500858841\n",
       "\\item 0.683470305860427\n",
       "\\end{enumerate*}\n"
      ],
      "text/markdown": [
       "1. 0.566616500858841\n",
       "2. 0.683470305860427\n",
       "\n",
       "\n"
      ],
      "text/plain": [
       "[1] 0.5666165 0.6834703"
      ]
     },
     "metadata": {},
     "output_type": "display_data"
    }
   ],
   "source": [
    "alpha_0 = as.integer(n_c * theta_c)\n",
    "beta_0 = as.integer(n_c * (1 - theta_c))\n",
    "\n",
    "alpha_n = alpha_0 + sum(intervention.df$y)\n",
    "beta_n = beta_0 + sum(intervention.df$n) - sum(intervention.df$y)\n",
    "\n",
    "qbeta(c(0.025, 0.975), shape1 = alpha_0, shape2 = beta_0)\n",
    "qbeta(c(0.025, 0.975), shape1 = alpha_n, shape2 = beta_n)"
   ]
  },
  {
   "cell_type": "code",
   "execution_count": null,
   "metadata": {},
   "outputs": [],
   "source": [
    "x <- seq(0, 1, length.out = 1000)\n",
    "plot_data <- data.frame(x=x, \n",
    "                     y_0=dbeta(x, shape1=alpha_0, shape2=beta_0), \n",
    "                     y_n=dbeta(x, shape1=alpha_n, shape2=beta_n))\n",
    "\n",
    "# plot(plot_data$x, plot_data$y_0, type=\"l\", lwd=1, col = 'blue')\n",
    "\n",
    "# ggplot(x_data, aes(x=x)) + # xlim(0, 1) + \n",
    "#     geom_line(aes(y=y_0), color=2) + \n",
    "#     geom_line(aes(y=y_n), color=3)"
   ]
  },
  {
   "cell_type": "code",
   "execution_count": null,
   "metadata": {},
   "outputs": [],
   "source": [
    "x_data"
   ]
  },
  {
   "cell_type": "code",
   "execution_count": null,
   "metadata": {
    "collapsed": true
   },
   "outputs": [],
   "source": []
  }
 ],
 "metadata": {
  "kernelspec": {
   "display_name": "R",
   "language": "R",
   "name": "ir"
  },
  "language_info": {
   "codemirror_mode": "r",
   "file_extension": ".r",
   "mimetype": "text/x-r-source",
   "name": "R",
   "pygments_lexer": "r",
   "version": "3.3.2"
  }
 },
 "nbformat": 4,
 "nbformat_minor": 2
}
