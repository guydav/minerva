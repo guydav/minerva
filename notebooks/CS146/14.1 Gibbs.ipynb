{
 "cells": [
  {
   "cell_type": "code",
   "execution_count": 1,
   "metadata": {
    "collapsed": true
   },
   "outputs": [],
   "source": [
    "%matplotlib inline"
   ]
  },
  {
   "cell_type": "code",
   "execution_count": 2,
   "metadata": {
    "collapsed": true
   },
   "outputs": [],
   "source": [
    "import pandas\n",
    "import numpy as np\n",
    "import matplotlib\n",
    "import matplotlib.pyplot as plt\n",
    "import matplotlib.gridspec as gridspec\n",
    "import sklearn\n",
    "import sklearn.linear_model\n",
    "from datetime import datetime, date\n",
    "from sklearn_pandas import DataFrameMapper\n",
    "import warnings\n",
    "import timeit\n",
    "from collections import defaultdict, OrderedDict\n",
    "import tabulate\n",
    "import time\n",
    "import GPy\n",
    "from IPython.display import display\n",
    "import scipy\n",
    "from scipy import stats\n",
    "\n",
    "timeit.template = \"\"\"\n",
    "def inner(_it, _timer{init}):\n",
    "    {setup}\n",
    "    _t0 = _timer()\n",
    "    for _i in _it:\n",
    "        retval = {stmt}\n",
    "    _t1 = _timer()\n",
    "    return _t1 - _t0, retval\n",
    "\"\"\"\n",
    "\n",
    "matplotlib.style.use('ggplot')\n",
    "\n",
    "RANDOM_SEED = 33"
   ]
  },
  {
   "cell_type": "code",
   "execution_count": 29,
   "metadata": {
    "collapsed": true
   },
   "outputs": [],
   "source": [
    "def conditional_coef_matrix(covariance):\n",
    "    inv_cov = np.linalg.inv(covariance)\n",
    "    C = np.linalg.inv(np.diag(np.diag(inv_cov))).dot(inv_cov) \n",
    "    return np.eye(covariance.shape[0]) - C, inv_cov\n",
    "\n",
    "\n",
    "def conditional_distributions(mean, covariance):\n",
    "    C, inv_cov = conditional_coef_matrix(covariance)\n",
    "    results = []\n",
    "    \n",
    "    for i, mu_i in enumerate(mean):\n",
    "        components = []\n",
    "        components.append(r'x_%d | \\{x_j\\}_{j \\neq %d}' % (i + 1, i + 1))\n",
    "        components.append(r'\\sim \\mathcal{N}(')\n",
    "        components.append('{mu}'.format(mu=mu_i))\n",
    "        for j, mu_j in enumerate(mean):\n",
    "            c_ij = C[i, j]\n",
    "            if i == j or 0 == c_ij:\n",
    "                continue\n",
    "            \n",
    "            components.append('+')\n",
    "            \n",
    "            if 1 != c_ij:\n",
    "                components.append('{c_ij:.3f}('.format(c_ij=c_ij))    \n",
    "                \n",
    "            components.append(r'x_{%d} - %d' % (j + 1, mu_j))\n",
    "            \n",
    "            if 1 != c_ij:\n",
    "                components.append(')')\n",
    "        \n",
    "        components.append(r',\\ {stddev:.3f}'.format(stddev=1.0 / (inv_cov[i, i])))\n",
    "        components.append(')')\n",
    "        \n",
    "        results.append(' '.join(components))\n",
    "        \n",
    "    [print(x) for x in results]"
   ]
  },
  {
   "cell_type": "code",
   "execution_count": 30,
   "metadata": {},
   "outputs": [
    {
     "name": "stdout",
     "output_type": "stream",
     "text": [
      "x_1 | \\{x_j\\}_{j \\neq 1} \\sim \\mathcal{N}( 1 + 0.500( x_{2} - 1 ) ,\\ 1.500 )\n",
      "x_2 | \\{x_j\\}_{j \\neq 2} \\sim \\mathcal{N}( 1 + 0.500( x_{1} - 1 ) ,\\ 1.500 )\n"
     ]
    }
   ],
   "source": [
    "conditional_distributions(np.asarray([1, 1]), np.asarray([[2, 1], [1, 2]]))"
   ]
  },
  {
   "cell_type": "markdown",
   "metadata": {},
   "source": [
    "$$ x_1 | \\{ x_j \\}_{j \\neq 1} \\sim \\mathcal{N}( 1 + 0.5( x_{2} - 1 ) ,\\ 1.500 )  $$\n",
    "$$ x_2 | \\{x_j\\}_{j \\neq 2} \\sim \\mathcal{N}( 1 + 0.5( x_{1} - 1 ) ,\\ 1.500 ) $$\n",
    "\n"
   ]
  },
  {
   "cell_type": "code",
   "execution_count": 31,
   "metadata": {},
   "outputs": [
    {
     "name": "stdout",
     "output_type": "stream",
     "text": [
      "x_1 | \\{x_j\\}_{j \\neq 1} \\sim \\mathcal{N}( 1 ,\\ 3.000 )\n",
      "x_2 | \\{x_j\\}_{j \\neq 2} \\sim \\mathcal{N}( 1 ,\\ 0.500 )\n"
     ]
    }
   ],
   "source": [
    "conditional_distributions(np.asarray([1, 1]), np.asarray([[3, 0], [0, 0.5]]))"
   ]
  },
  {
   "cell_type": "markdown",
   "metadata": {},
   "source": [
    "$$ x_1 | \\{x_j\\}_{j \\neq 1} \\sim \\mathcal{N}( 1 ,\\ 3.000 ) $$\n",
    "$$ x_2 | \\{x_j\\}_{j \\neq 2} \\sim \\mathcal{N}( 1 ,\\ 0.500 ) $$"
   ]
  },
  {
   "cell_type": "code",
   "execution_count": 32,
   "metadata": {},
   "outputs": [
    {
     "name": "stdout",
     "output_type": "stream",
     "text": [
      "x_1 | \\{x_j\\}_{j \\neq 1} \\sim \\mathcal{N}( 1 + 0.950( x_{2} - 1 ) ,\\ 0.195 )\n",
      "x_2 | \\{x_j\\}_{j \\neq 2} \\sim \\mathcal{N}( 1 + 0.950( x_{1} - 1 ) ,\\ 0.195 )\n"
     ]
    }
   ],
   "source": [
    "conditional_distributions(np.asarray([1, 1]), np.asarray([[2, 1.9], [1.9, 2]]))"
   ]
  },
  {
   "cell_type": "markdown",
   "metadata": {},
   "source": [
    "$$ x_1 | \\{x_j\\}_{j \\neq 1} \\sim \\mathcal{N}( 1 + 0.950( x_{2} - 1 ) ,\\ 0.195 ) $$\n",
    "$$ x_2 | \\{x_j\\}_{j \\neq 2} \\sim \\mathcal{N}( 1 + 0.950( x_{1} - 1 ) ,\\ 0.195 ) $$"
   ]
  },
  {
   "cell_type": "code",
   "execution_count": null,
   "metadata": {
    "collapsed": true
   },
   "outputs": [],
   "source": []
  }
 ],
 "metadata": {
  "kernelspec": {
   "display_name": "Python 3",
   "language": "python",
   "name": "python3"
  },
  "language_info": {
   "codemirror_mode": {
    "name": "ipython",
    "version": 3
   },
   "file_extension": ".py",
   "mimetype": "text/x-python",
   "name": "python",
   "nbconvert_exporter": "python",
   "pygments_lexer": "ipython3",
   "version": "3.6.3"
  }
 },
 "nbformat": 4,
 "nbformat_minor": 2
}
