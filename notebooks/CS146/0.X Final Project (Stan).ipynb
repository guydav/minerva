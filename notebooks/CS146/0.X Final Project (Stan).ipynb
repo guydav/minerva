{
 "cells": [
  {
   "cell_type": "code",
   "execution_count": null,
   "metadata": {
    "collapsed": true
   },
   "outputs": [],
   "source": [
    "%matplotlib inline"
   ]
  },
  {
   "cell_type": "code",
   "execution_count": null,
   "metadata": {
    "collapsed": true
   },
   "outputs": [],
   "source": [
    "import pandas\n",
    "import numpy as np\n",
    "import matplotlib\n",
    "import matplotlib.pyplot as plt\n",
    "import matplotlib.gridspec as gridspec\n",
    "import sklearn\n",
    "import sklearn.linear_model\n",
    "from datetime import datetime, date\n",
    "import warnings\n",
    "import timeit\n",
    "from collections import defaultdict, OrderedDict\n",
    "import time\n",
    "from IPython.display import display\n",
    "import scipy\n",
    "from scipy import stats\n",
    "import pystan\n",
    "\n",
    "timeit.template = \"\"\"\n",
    "def inner(_it, _timer{init}):\n",
    "    {setup}\n",
    "    _t0 = _timer()\n",
    "    for _i in _it:\n",
    "        retval = {stmt}\n",
    "    _t1 = _timer()\n",
    "    return _t1 - _t0, retval\n",
    "\"\"\"\n",
    "\n",
    "matplotlib.style.use('ggplot')\n",
    "\n",
    "RANDOM_SEED = 33"
   ]
  },
  {
   "cell_type": "markdown",
   "metadata": {},
   "source": [
    "## Load and clean the data"
   ]
  },
  {
   "cell_type": "code",
   "execution_count": null,
   "metadata": {},
   "outputs": [],
   "source": [
    "DATE_FORMAT = r'%d/%m/%Y'\n",
    "\n",
    "mauna_loa = pandas.read_csv(r'./weekly_in_situ_co2_mlo_data_only.csv')\n",
    "first_day = datetime.strptime(mauna_loa['ds'][0], r'%d/%m/%Y')\n",
    "mauna_loa['day'] = [(datetime.strptime(date_string, DATE_FORMAT) - first_day).days\n",
    "                    for date_string in mauna_loa['ds']]\n",
    "\n",
    "day_range = max(mauna_loa['day']) - min(mauna_loa['day'])\n",
    "mauna_loa['norm_day'] = mauna_loa['day'] / day_range\n",
    "\n",
    "y_min = min(mauna_loa['y'])\n",
    "y_range = max(mauna_loa['y']) - y_min\n",
    "mauna_loa['norm_y'] = (mauna_loa['y'] - y_min)/ y_range\n",
    "\n",
    "mauna_loa.head()"
   ]
  },
  {
   "cell_type": "code",
   "execution_count": null,
   "metadata": {},
   "outputs": [],
   "source": [
    "2 * np.pi / (365.25 / day_range)"
   ]
  },
  {
   "cell_type": "code",
   "execution_count": null,
   "metadata": {
    "collapsed": true
   },
   "outputs": [],
   "source": [
    "mauna_loa.to_csv('./cleaned_mauna_loa_data.csv')"
   ]
  },
  {
   "cell_type": "code",
   "execution_count": null,
   "metadata": {},
   "outputs": [],
   "source": [
    "mauna_loa.plot(x='norm_day', y='norm_y', figsize=(12, 8))"
   ]
  },
  {
   "cell_type": "code",
   "execution_count": null,
   "metadata": {},
   "outputs": [],
   "source": [
    "from pandas.plotting import autocorrelation_plot, lag_plot\n",
    "\n",
    "fig = plt.figure(figsize=(12, 8))\n",
    "ax = fig.gca()\n",
    "autocorrelation_plot(mauna_loa['norm_y'], ax)"
   ]
  },
  {
   "cell_type": "code",
   "execution_count": null,
   "metadata": {},
   "outputs": [],
   "source": [
    "y_diffs = [y - x for x, y in zip(mauna_loa['norm_y'], mauna_loa['norm_y'][1:])] \n",
    "fig = plt.figure(figsize=(12, 8))\n",
    "ax = fig.gca()\n",
    "autocorrelation_plot(y_diffs, ax)"
   ]
  },
  {
   "cell_type": "code",
   "execution_count": null,
   "metadata": {},
   "outputs": [],
   "source": [
    "second_diffs = [y - x for x, y in zip(y_diffs, y_diffs[1:])] \n",
    "fig = plt.figure(figsize=(12, 8))\n",
    "ax = fig.gca()\n",
    "autocorrelation_plot(second_diffs, ax)"
   ]
  },
  {
   "cell_type": "code",
   "execution_count": null,
   "metadata": {},
   "outputs": [],
   "source": [
    "t_diffs = [y - x for x, y in zip(y_diffs, y_diffs[52:])] \n",
    "fig = plt.figure(figsize=(12, 8))\n",
    "ax = fig.gca()\n",
    "autocorrelation_plot(t_diffs, ax)"
   ]
  },
  {
   "cell_type": "code",
   "execution_count": null,
   "metadata": {},
   "outputs": [],
   "source": [
    "t2_diffs = [y - x for x, y in zip(t_diffs, t_diffs[52:])] \n",
    "fig = plt.figure(figsize=(12, 8))\n",
    "ax = fig.gca()\n",
    "autocorrelation_plot(t2_diffs, ax)"
   ]
  },
  {
   "cell_type": "code",
   "execution_count": null,
   "metadata": {},
   "outputs": [],
   "source": [
    "corr = np.correlate(t_diffs, t_diffs, 'same')\n",
    "half_corr = corr[corr.shape[0] // 2:]\n",
    "fig = plt.figure(figsize=(12, 8))\n",
    "plt.plot(half_corr)"
   ]
  },
  {
   "cell_type": "code",
   "execution_count": 13,
   "metadata": {},
   "outputs": [
    {
     "data": {
      "text/plain": [
       "52"
      ]
     },
     "execution_count": 13,
     "metadata": {},
     "output_type": "execute_result"
    }
   ],
   "source": [
    "np.argmax(half_corr[1:])"
   ]
  },
  {
   "cell_type": "code",
   "execution_count": null,
   "metadata": {},
   "outputs": [],
   "source": [
    "import statsmodels.api as sm\n",
    "\n",
    "dta = sm.datasets.co2.load_pandas().data\n",
    "# deal with missing values. see issue\n",
    "dta.co2.interpolate(inplace=True)\n",
    "\n",
    "res = sm.tsa.seasonal_decompose(dta.co2)\n",
    "\n",
    "fig = plt.figure(figsize=(12, 8))\n",
    "resplot = res.plot()"
   ]
  },
  {
   "cell_type": "code",
   "execution_count": null,
   "metadata": {
    "collapsed": true
   },
   "outputs": [],
   "source": [
    "fig = plt.figure(figsize=(12, 8))\n",
    "plt.plot(res.trend)"
   ]
  },
  {
   "cell_type": "code",
   "execution_count": null,
   "metadata": {
    "collapsed": true
   },
   "outputs": [],
   "source": [
    "fig = plt.figure(figsize=(12, 8))\n",
    "plt.plot(res.seasonal[:200])"
   ]
  },
  {
   "cell_type": "code",
   "execution_count": null,
   "metadata": {
    "collapsed": true
   },
   "outputs": [],
   "source": []
  },
  {
   "cell_type": "code",
   "execution_count": null,
   "metadata": {
    "collapsed": true
   },
   "outputs": [],
   "source": []
  },
  {
   "cell_type": "code",
   "execution_count": null,
   "metadata": {
    "collapsed": true
   },
   "outputs": [],
   "source": []
  },
  {
   "cell_type": "markdown",
   "metadata": {
    "collapsed": true
   },
   "source": [
    "## Start with a very naive Stan model "
   ]
  },
  {
   "cell_type": "code",
   "execution_count": null,
   "metadata": {
    "collapsed": true
   },
   "outputs": [],
   "source": [
    "local_linear_model = \"\"\"\n",
    "data {\n",
    "    int<lower=0> N; // number of data points\n",
    "    int<lower=0> N_future; // number of 'future' test set data points\n",
    "    vector[N] y;      // observed CO2 values\n",
    "    vector[N] t;      // the days \n",
    "}\n",
    "\n",
    "parameters {\n",
    "    real alpha;    // linear regression intercept\n",
    "    real beta;     // linear regression slope\n",
    "    real<lower=0> sigma_lr; // linear regression slope\n",
    "    real<lower=0, upper=1> rho;      // local trend learning rate\n",
    "\n",
    "    real delta[N];               // slope at time t    \n",
    "    real<lower=0> sigma_mu;      // standard deviation of the observation noise \n",
    "    real<lower=0> sigma_delta;   // standard deviation of the observation noise \n",
    "    \n",
    "    // real mu;\n",
    "    // real<lower=0> tau;\n",
    "    \n",
    "}\n",
    "/*\n",
    "transformed parameters {\n",
    "    \n",
    "    \n",
    "    for (j in 1:J)\n",
    "    theta[j] = mu + tau * eta[j];\n",
    "}\n",
    "*/\n",
    "\n",
    "model {\n",
    "    alpha ~ normal(0, 0.1);\n",
    "    beta ~ normal(0, 0.1);\n",
    "    sigma_lr ~ gamma(1, 0.1);\n",
    "    rho ~ normal(0.1, 0.03);\n",
    "    \n",
    "    y ~ normal(alpha + t * beta, sigma_lr);\n",
    "\n",
    "    sigma_delta ~ gamma(1, 0.1);\n",
    "    sigma_mu ~ gamma(1, 0.1);\n",
    "\n",
    "    delta[1] ~ normal(y[1], sigma_delta);\n",
    "    y[1] ~ normal(delta[1], sigma_mu);\n",
    "    \n",
    "    for (i in 2:N) {\n",
    "        delta[i] ~ normal(beta + rho * (delta[i - 1] - beta), sigma_delta);\n",
    "        y[i] ~ normal(y[i - 1] + delta[i], sigma_mu);\n",
    "    }\n",
    "}\n",
    "\n",
    "generated quantities {\n",
    "  real delta_future[N_future];\n",
    "  real y_future[N_future];\n",
    "  \n",
    "  delta_future[1] = normal_rng(delta[N], sigma_delta);\n",
    "  y_future[1] = normal_rng(delta_future[1], sigma_mu);\n",
    "  \n",
    "  for(i in 2:N_future) {\n",
    "    delta_future[i] = normal_rng(beta + rho * (delta_future[i - 1] - beta), sigma_delta);\n",
    "    y_future[i] = normal_rng(y_future[i - 1] + delta_future[i], sigma_mu);\n",
    "  }\n",
    "}\n",
    "\"\"\"\n",
    "\n",
    "llm = pystan.StanModel(model_code=local_linear_model, model_name='local_linear', verbose=True)"
   ]
  },
  {
   "cell_type": "code",
   "execution_count": null,
   "metadata": {
    "collapsed": true
   },
   "outputs": [],
   "source": [
    "local_linear_data = {\n",
    "    'N': len(train),\n",
    "    'N_future': len(test),\n",
    "    'y': train['norm_y'],\n",
    "    't': train['norm_day'],\n",
    "}\n",
    "\n",
    "fit = llm.sampling(data=local_linear_data, iter=1000, chains=2, n_jobs=2, \n",
    "                  init=lambda: {'sigma_delta': 0.05, 'sigma_mu': 0.05, 'sigma_lr': 0.05, 'rho': 0.1,\n",
    "                               'alpha': 0, 'beta': 0.1}\n",
    "                  )\n",
    "\n",
    "fit"
   ]
  },
  {
   "cell_type": "code",
   "execution_count": null,
   "metadata": {
    "collapsed": true
   },
   "outputs": [],
   "source": [
    "samples = fit.extract()"
   ]
  },
  {
   "cell_type": "code",
   "execution_count": null,
   "metadata": {
    "collapsed": true
   },
   "outputs": [],
   "source": [
    "def plot_samples(samples, future=100):\n",
    "    delta_means = np.mean(samples['delta'], axis=0)\n",
    "    delta_stds = np.std(samples['delta'], axis=0)\n",
    "    noise = delta_stds + np.mean(samples['sigma_delta']) + np.mean(samples['sigma_mu'])\n",
    "    y = [delta_means[0]]\n",
    "    for d in delta_means[1:]:\n",
    "        y.append(y[-1] + d)\n",
    "        \n",
    "    y = np.asarray(y)\n",
    "        \n",
    "    ax = mauna_loa.plot(x='norm_day', y='norm_y', figsize=(12, 8), color='black')\n",
    "    ax.plot(train['norm_day'], y, color='red')\n",
    "    ax.fill_between(train['norm_day'], y - 2 * noise, y + 2 * noise, alpha=0.4, \n",
    "                          facecolor='red')\n",
    "    \n",
    "    y_future_means = np.mean(samples['y_future'], axis=0)\n",
    "    y_future_stds = np.std(samples['y_future'], axis=0)\n",
    "    \n",
    "    ax.plot(test['norm_day'][:future], y_future_means[:future], color='blue')\n",
    "    ax.fill_between(test['norm_day'][:future], y_future_means[:future] - 2 * y_future_stds[:future], \n",
    "                    y_future_means[:future] + 2 * y_future_stds[:future], alpha=0.4, facecolor='blue')\n",
    "    \n",
    "    plt.show()\n",
    "\n",
    "plot_samples(samples)"
   ]
  },
  {
   "cell_type": "markdown",
   "metadata": {
    "collapsed": true
   },
   "source": [
    "## This does not look promising. In the mean time, let's go for a different model\n",
    "\n",
    "**TODO:**\n",
    "* Compare different polynomial degrees\n",
    "* Convert regression to feature vector\n",
    "* Consider setting local slope as an MA rather than linear regression\n",
    "* Importance sampling for model comparison?\n",
    "* Triangular wave with steeper downwards slope?"
   ]
  },
  {
   "cell_type": "code",
   "execution_count": 14,
   "metadata": {},
   "outputs": [
    {
     "data": {
      "text/plain": [
       "(3040, 2520, 520)"
      ]
     },
     "execution_count": 14,
     "metadata": {},
     "output_type": "execute_result"
    }
   ],
   "source": [
    "# TRAIN_SIZE = 1040\n",
    "# TEST_SIZE = 1040\n",
    "# train = mauna_loa[:TRAIN_SIZE]\n",
    "# test = mauna_loa[TRAIN_SIZE:TRAIN_SIZE + TEST_SIZE]\n",
    "\n",
    "TEST_SIZE = 52 * 10\n",
    "train = mauna_loa[:-TEST_SIZE]\n",
    "test = mauna_loa[-TEST_SIZE:]\n",
    "len(mauna_loa), len(train), len(test)"
   ]
  },
  {
   "cell_type": "code",
   "execution_count": 16,
   "metadata": {},
   "outputs": [
    {
     "data": {
      "text/plain": [
       "<matplotlib.legend.Legend at 0x1a14a73940>"
      ]
     },
     "execution_count": 16,
     "metadata": {},
     "output_type": "execute_result"
    },
    {
     "data": {
      "image/png": "[encoded data removed]",
      "text/plain": [
       "<matplotlib.figure.Figure at 0x1a14a28b70>"
      ]
     },
     "metadata": {},
     "output_type": "display_data"
    }
   ],
   "source": [
    "# adapted from http://scikit-learn.org/stable/auto_examples/linear_model/plot_polynomial_interpolation.html\n",
    "\n",
    "from sklearn.linear_model import Ridge, LassoLarsIC, LinearRegression\n",
    "from sklearn.preprocessing import PolynomialFeatures\n",
    "from sklearn.pipeline import make_pipeline\n",
    "\n",
    "X = np.asarray(train['norm_day']).reshape(-1, 1)\n",
    "y = np.asarray(train['norm_y'])\n",
    "\n",
    "X_train = X[:-200]\n",
    "y_train = y[:-200]\n",
    "X_test = X[-200:]\n",
    "y_test = y[-200:]\n",
    "\n",
    "fig = plt.figure(figsize=(12, 8))\n",
    "plt.plot(X_train, y_train, color='black')\n",
    "plt.plot(X_test, y_test, color='red')\n",
    "\n",
    "for count, degree in enumerate(range(1, 8)):\n",
    "    model = make_pipeline(PolynomialFeatures(degree), LinearRegression()) # LassoLarsIC(criterion='bic'))\n",
    "    model.fit(X_train, y_train)\n",
    "#     ic = np.sum(model.steps[1][1].criterion_)\n",
    "    y_plot = model.predict(X)\n",
    "    plt.plot(X, y_plot, lw=4, alpha=0.75,\n",
    "             label='{d} degree, $R^2 = {r2:.4f}$'.format(d=degree, r2=model.score(X_test, y_test)))\n",
    "#             label='{d} degree, $R^2 = {r2:.4f}$, ic = {ic:.3e}'.format(\n",
    "#                 d=degree, r2=model.score(X_test, y_test), ic=ic))\n",
    "\n",
    "plt.legend(loc=2, fontsize=12)"
   ]
  },
  {
   "cell_type": "code",
   "execution_count": null,
   "metadata": {
    "collapsed": true
   },
   "outputs": [],
   "source": []
  },
  {
   "cell_type": "code",
   "execution_count": null,
   "metadata": {
    "collapsed": true
   },
   "outputs": [],
   "source": [
    "sinuosdial_model = \"\"\"\n",
    "functions {\n",
    "    vector poly_features(real t, int poly_deg) {\n",
    "        vector[poly_deg] features;\n",
    "        for (i in 1:poly_deg){\n",
    "            features[i] = t ^ (i - 1);\n",
    "        }\n",
    "        return features;\n",
    "    }\n",
    "\n",
    "    /*\n",
    "    real model_mean(real t_i) {\n",
    "        return b_0 + b_1 * t_i + b_2 * (t_i ^ 2) + b_3 * (t_i ^ 3) + alpha * cos(unbound_omega * t_i + phi);\n",
    "    }\n",
    "    */\n",
    "}\n",
    "\n",
    "\n",
    "data {\n",
    "    int<lower=0> N; // number of data points\n",
    "    int<lower=0> N_future; // number of 'future' test set data points\n",
    "    vector[N] y;      // observed CO2 values\n",
    "    vector[N] t;      // the days\n",
    "    vector[N_future] t_future;      // the days\n",
    "    real unbound_omega_zero;  // the initial omega\n",
    "    real unbound_alpha_zero;  // the initial alpha\n",
    "    int<lower=1> poly_degree;\n",
    "}\n",
    "\n",
    "parameters {\n",
    "    /*\n",
    "    real b_0;    // linear regression intercept\n",
    "    real b_1;     // linear regression slope\n",
    "    real b_2;\n",
    "    real b_3; \n",
    "    */\n",
    "    vector[poly_degree] b;\n",
    "\n",
    "    real unbound_omega; // the frequency parameter, in its unbound form\n",
    "    // real phi;   // the phase shift parameter, in its unbound form\n",
    "    real phi_x;\n",
    "    real phi_y;\n",
    "    real unbound_alpha; // the amplitude frequency in its unbound form\n",
    "    real<lower=0> sigma_y; // overall prediction residual rror\n",
    "}\n",
    "\n",
    "transformed parameters {\n",
    "    // real<lower=0> omega;\n",
    "    // real<lower=0, upper=2 * pi()> phi;\n",
    "    real phi;\n",
    "    real<lower=0> alpha;\n",
    "    \n",
    "    // omega = exp(unbound_omega);\n",
    "    // phi = 2 * pi() * inv_logit(unbound_phi);\n",
    "    phi = atan2(phi_x, phi_y);\n",
    "    alpha = exp(unbound_alpha);\n",
    "}\n",
    "\n",
    "model {\n",
    "    // Priors\n",
    "    /*\n",
    "    b_0 ~ normal(0, 0.1);\n",
    "    b_1 ~ normal(1, 0.25);\n",
    "    b_2 ~ normal(1, 0.25);\n",
    "    b_3 ~ normal(1, 0.25);\n",
    "    */\n",
    "    b[1] ~ normal(0, 0.1);\n",
    "    for (i in 2:poly_degree) {\n",
    "        b[i] ~ normal(1, 0.25);\n",
    "    }\n",
    "    \n",
    "    phi_x ~ normal(0, 1);\n",
    "    phi_y ~ normal(0, 1);\n",
    "    \n",
    "    unbound_omega ~ normal(unbound_omega_zero, 50);\n",
    "    unbound_alpha ~ normal(unbound_alpha_zero, 1);\n",
    "    sigma_y ~ gamma(1, 0.1);\n",
    "    \n",
    "    for (i in 1:N) {\n",
    "        y[i] ~ normal(dot_product(b, poly_features(t[i], poly_degree)) + alpha * cos(unbound_omega * t[i] + phi), sigma_y);\n",
    "    }\n",
    "}\n",
    "\n",
    "generated quantities {\n",
    "  real y_future[N_future];\n",
    "  \n",
    "  for(i in 1:N_future) {\n",
    "    y_future[i] = normal_rng(dot_product(b, poly_features(t_future[i], poly_degree)) + alpha * cos(unbound_omega * t_future[i] + phi), sigma_y);\n",
    "  }\n",
    "}\n",
    "\"\"\"\n",
    "\n",
    "sm = pystan.StanModel(model_code=sinuosdial_model, model_name='sinusodial_model', verbose=True)"
   ]
  },
  {
   "cell_type": "code",
   "execution_count": null,
   "metadata": {
    "collapsed": true
   },
   "outputs": [],
   "source": [
    "unbound_omega_zero = 2 * np.pi / (365.25 / day_range)\n",
    "unbound_alpha_zero = -3\n",
    "\n",
    "sinusodial_data = {\n",
    "    'N': len(train),\n",
    "    'N_future': len(test),\n",
    "    'y': train['norm_y'],\n",
    "    't': train['norm_day'],\n",
    "    't_future': test['norm_day'],\n",
    "    'unbound_omega_zero': unbound_omega_zero,\n",
    "    'unbound_alpha_zero': unbound_alpha_zero,\n",
    "    'poly_degree': 4\n",
    "}\n",
    "\n",
    "fit = sm.sampling(data=sinusodial_data, iter=1000, chains=8, n_jobs=8, \n",
    "                  init=lambda: {'b': [0, 1, 1, 1], # 'b_0': 0, 'b_1': 1, 'b_2': 1, 'b_3': 1,\n",
    "                                'unbound_omega': unbound_omega_zero, 'unbound_phi': 0, \n",
    "                                'unbound_alpha': unbound_alpha_zero, 'sigma_y': 0.05, \n",
    "                               }\n",
    "                  )\n",
    "\n",
    "samples = fit.extract()\n",
    "fit"
   ]
  },
  {
   "cell_type": "code",
   "execution_count": null,
   "metadata": {
    "collapsed": true
   },
   "outputs": [],
   "source": [
    "def plot_samples(samples, future=None):\n",
    "    if future is None:\n",
    "        future = len(test)\n",
    "        \n",
    "    fig = plt.figure(figsize=(16, 6))\n",
    "    gs = gridspec.GridSpec(1, 2, hspace=0.7)\n",
    "\n",
    "    y_future_means = np.mean(samples['y_future'], axis=0)\n",
    "    y_future_stds = np.std(samples['y_future'], axis=0)\n",
    "\n",
    "    left_ax = plt.subplot(gs[0, 0])\n",
    "    mauna_loa.plot(x='norm_day', y='norm_y', color='black', ax=left_ax)\n",
    "    left_ax.fill_between(test['norm_day'][:future], y_future_means[:future] - 2 * y_future_stds[:future], \n",
    "                    y_future_means[:future] + 2 * y_future_stds[:future], alpha=0.35, facecolor='blue')\n",
    "\n",
    "    right_ax = plt.subplot(gs[0, 1])\n",
    "    right_ax.plot(test['norm_day'][:future], test['norm_y'][:future], color='black')\n",
    "    right_ax.fill_between(test['norm_day'][:future], y_future_means[:future] - 2 * y_future_stds[:future], \n",
    "                    y_future_means[:future] + 2 * y_future_stds[:future], alpha=0.35, facecolor='blue')\n",
    "    \n",
    "    plt.show()\n",
    "\n",
    "\n",
    "plot_samples(samples)"
   ]
  },
  {
   "cell_type": "code",
   "execution_count": null,
   "metadata": {
    "collapsed": true
   },
   "outputs": [],
   "source": []
  },
  {
   "cell_type": "code",
   "execution_count": null,
   "metadata": {
    "collapsed": true
   },
   "outputs": [],
   "source": []
  },
  {
   "cell_type": "code",
   "execution_count": null,
   "metadata": {
    "collapsed": true
   },
   "outputs": [],
   "source": [
    "plt.figure(figsize=(12, 8))\n",
    "plt.scatter(range(samples['unbound_omega'].shape[0]), samples['unbound_omega'])"
   ]
  },
  {
   "cell_type": "code",
   "execution_count": null,
   "metadata": {
    "collapsed": true
   },
   "outputs": [],
   "source": []
  }
 ],
 "metadata": {
  "kernelspec": {
   "display_name": "Python 3",
   "language": "python",
   "name": "python3"
  },
  "language_info": {
   "codemirror_mode": {
    "name": "ipython",
    "version": 3
   },
   "file_extension": ".py",
   "mimetype": "text/x-python",
   "name": "python",
   "nbconvert_exporter": "python",
   "pygments_lexer": "ipython3",
   "version": "3.6.3"
  },
  "toc": {
   "colors": {
    "hover_highlight": "#DAA520",
    "running_highlight": "#FF0000",
    "selected_highlight": "#FFD700"
   },
   "moveMenuLeft": true,
   "nav_menu": {
    "height": "48px",
    "width": "252px"
   },
   "navigate_menu": true,
   "number_sections": true,
   "sideBar": true,
   "threshold": 4,
   "toc_cell": false,
   "toc_section_display": "block",
   "toc_window_display": false,
   "widenNotebook": false
  }
 },
 "nbformat": 4,
 "nbformat_minor": 2
}
