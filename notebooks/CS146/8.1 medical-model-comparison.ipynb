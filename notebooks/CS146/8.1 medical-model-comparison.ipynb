{
 "cells": [
  {
   "cell_type": "code",
   "execution_count": 5,
   "metadata": {},
   "outputs": [],
   "source": [
    "treatment_data = matrix(c(20, 3, 10, 6, 13, 3, 35, 10, 22, 9, 7, 3), ncol=2, byrow=TRUE)\n",
    "\n",
    "control_data = matrix(c(9, 6, 11, 7, 4, 6, 21, 18, 12, 17, 0, 10), ncol=2, byrow=TRUE)"
   ]
  },
  {
   "cell_type": "code",
   "execution_count": 14,
   "metadata": {},
   "outputs": [
    {
     "data": {
      "text/html": [
       "<ol class=list-inline>\n",
       "\t<li>3.17805383034795</li>\n",
       "\t<li>2.83321334405622</li>\n",
       "\t<li>2.83321334405622</li>\n",
       "\t<li>3.8286413964891</li>\n",
       "\t<li>3.46573590279973</li>\n",
       "\t<li>2.39789527279837</li>\n",
       "</ol>\n"
      ],
      "text/latex": [
       "\\begin{enumerate*}\n",
       "\\item 3.17805383034795\n",
       "\\item 2.83321334405622\n",
       "\\item 2.83321334405622\n",
       "\\item 3.8286413964891\n",
       "\\item 3.46573590279973\n",
       "\\item 2.39789527279837\n",
       "\\end{enumerate*}\n"
      ],
      "text/markdown": [
       "1. 3.17805383034795\n",
       "2. 2.83321334405622\n",
       "3. 2.83321334405622\n",
       "4. 3.8286413964891\n",
       "5. 3.46573590279973\n",
       "6. 2.39789527279837\n",
       "\n",
       "\n"
      ],
      "text/plain": [
       "[1] 3.178054 2.833213 2.833213 3.828641 3.465736 2.397895"
      ]
     },
     "metadata": {},
     "output_type": "display_data"
    }
   ],
   "source": [
    "log(rowSums(treatment_data) + 1)"
   ]
  },
  {
   "cell_type": "markdown",
   "metadata": {},
   "source": [
    "We consider the eczema medical trial data set again. This time we will compare which of 2 models explain the observed data best.\n",
    "\n",
    "* Model 1: All studies have the same probability of success.\n",
    "* Model 2: A hierarchical model where the probability of success in each study is drawn from a beta prior distribution with unknown $\\alpha$ and $\\beta$ parameters.\n",
    "\n",
    "\n",
    "|Study          | Treatment group |   Control group  |\n",
    "|---------------|-----------------|------------------|\n",
    "|Di Rienzo 2014 |     20 / 23     |        9 / 15    |\n",
    "|Galli 1994     |     10 / 16     |       11 / 18    |\n",
    "|Kaufman 1974   |     13 / 16     |        4 / 10    |\n",
    "|Qin 2014       |     35 / 45     |       21 / 39    |\n",
    "|Sanchez 2012   |     22 / 31     |       12 / 29    |\n",
    "|Silny 2006     |      7 / 10     |        0 / 10    |\n",
    "|**Totals**     |    107 / 141    |       57 / 121   |\n",
    "\n",
    "\n",
    "**Model 1:**\n",
    "\n",
    "* For each group (treatment and control), all 6 studies have the same fixed, but unknown, probability of success, $\\theta_t,\\theta_c\\in[0,1]$.\n",
    "* The data follow a binomial distribution in each study, conditioned on the probability of success — $\\theta_t$ for treatment or $\\theta_c$ for control.\n",
    "* The priors over $\\theta_t$ and $\\theta_c$ are uniform.\n",
    "\n",
    "These assumptions lead to the following model.\n",
    "\n",
    "* Likelihood: $\\prod_{i=1}^6 \\text{Binomial}(s_i\\,|\\,\\theta, n_i)$, where $s_i$ is the number of successful recoveries, $f_i$ is the number of failures (did not recover), and $n_i=s_i+f_i$ the number of patients.\n",
    "\n",
    "* Prior: $\\text{Beta}(\\theta\\,|\\,1,1)$ for both $\\theta_t$ and $\\theta_c$.\n",
    "\n",
    "* Posterior for treatment group: $\\text{Beta}(\\theta_t\\,|\\,108, 35)$.\n",
    "\n",
    "* Posterior for control group: $\\text{Beta}(\\theta_c\\,|\\,58, 65)$."
   ]
  },
  {
   "cell_type": "markdown",
   "metadata": {},
   "source": [
    "Since we have closed-form solutions for the posteriors, we can calculate the marginal likelihood by rearranging Bayes' equation: (marginal likelihood) = (likelihood) x (prior) / (posterior).\n",
    "\n",
    "$$ P(\\text{data}) = \\left[\\prod_{i=1}^6 \\text{Binomial}(s_i\\,|\\,\\theta, n_i) \\right] \\frac{\\text{Beta}(\\theta\\,|\\,\\alpha_0,\\beta_0)}{\\text{Beta}(\\theta\\,|\\,\\alpha_1,\\beta_1)}$$\n",
    "where $\\alpha_0=1$ and $\\beta_0=1$ are the parameters of the prior, and $\\alpha_1$ and $\\beta_1$ are the parameters of the posterior beta distribution.\n",
    "\n",
    "Since all factors involving $\\theta$ cancel out, we are just left with the normalization constants of the likelihood, the prior and the posterior:\n",
    "\n",
    "$$\\begin{align}\n",
    "P(\\text{data})\n",
    "&= \\left[ \\prod_{i=1}^6 \\left(\\begin{array}{c}s_i+f_i \\\\ s_i\\end{array}\\right) \\right] \\frac{\\text{B}(\\alpha_1,\\beta_1)}{\\text{B}(\\alpha_0,\\beta_0)} \\\\\n",
    "&= \\left[\\prod_{i=1}^6 \\frac{1}{(s_i+f_i+1)\\text{B}(s_i+1,f_i+1)}\\right] \\frac{\\text{B}(\\alpha_1,\\beta_1)}{\\text{B}(\\alpha_0,\\beta_0)}\n",
    "\\end{align}$$\n",
    "\n",
    "We usually compute the log of the marginal likelihood since the results can vary over many orders of magnitude.\n",
    "\n",
    "**Task 1:**\n",
    "\n",
    "* Take the log of the marginal likelihood above.\n",
    "* Complete the R function below to calculate the log marginal likelihood.\n",
    "* You can use the built-in function `lbeta(a,b)` to compute $\\log \\text{B}(a,b)$."
   ]
  },
  {
   "cell_type": "markdown",
   "metadata": {},
   "source": [
    "Taking the log of the marginal likelihood form above:\n",
    "\n",
    "$$\\begin{align}\n",
    "P(\\text{data}) &= \\left[\\prod_{i=1}^6 \\frac{1}{(s_i+f_i+1)\\text{B}(s_i+1,f_i+1)}\\right] \\frac{\\text{B}(\\alpha_1,\\beta_1)}{\\text{B}(\\alpha_0,\\beta_0)} \\\\\n",
    "\\log P(\\text{data}) &= \\log \\Big( \\left[\\prod_{i=1}^6 \\frac{1}{(s_i+f_i+1)\\text{B}(s_i+1,f_i+1)}\\right] \\frac{\\text{B}(\\alpha_1,\\beta_1)}{\\text{B}(\\alpha_0,\\beta_0)} \\Big) \\\\\n",
    "&= \\left[\\sum_{i=1}^6 \\log \\big( \\frac{1}{(s_i+f_i+1)\\text{B}(s_i+1,f_i+1)} \\big) \\right] + \\log \\big( \\frac{\\text{B}(\\alpha_1,\\beta_1)}{\\text{B}(\\alpha_0,\\beta_0)} \\big) \\\\\n",
    "&= -\\sum_{i=1}^6 \\big( \\log (s_i+f_i+1) + \\log \\text{B}(s_i+1,f_i+1) \\big) + \\log(\\text{B}(\\alpha_1,\\beta_1)) - \\log (\\text{B}(\\alpha_0,\\beta_0)) \\\\\n",
    "\\log P(\\text{data}) &= \\log \\text{B}(\\alpha_1,\\beta_1)  - \\log \\text{B}(\\alpha_0,\\beta_0) -\\sum_{i=1}^6 \\log (s_i+f_i+1) -\\sum_{i=1}^6 \\log \\text{B}(s_i+1,f_i+1) \n",
    "\\end{align}$$"
   ]
  },
  {
   "cell_type": "code",
   "execution_count": 15,
   "metadata": {},
   "outputs": [
    {
     "data": {
      "text/html": [
       "6"
      ],
      "text/latex": [
       "6"
      ],
      "text/markdown": [
       "6"
      ],
      "text/plain": [
       "[1] 6"
      ]
     },
     "metadata": {},
     "output_type": "display_data"
    }
   ],
   "source": [
    "nrow(treatment_data)"
   ]
  },
  {
   "cell_type": "code",
   "execution_count": 23,
   "metadata": {},
   "outputs": [
    {
     "data": {
      "text/html": [
       "-14.0097518318327"
      ],
      "text/latex": [
       "-14.0097518318327"
      ],
      "text/markdown": [
       "-14.0097518318327"
      ],
      "text/plain": [
       "[1] -14.00975"
      ]
     },
     "metadata": {},
     "output_type": "display_data"
    },
    {
     "data": {
      "text/html": [
       "-18.9939482829064"
      ],
      "text/latex": [
       "-18.9939482829064"
      ],
      "text/markdown": [
       "-18.9939482829064"
      ],
      "text/plain": [
       "[1] -18.99395"
      ]
     },
     "metadata": {},
     "output_type": "display_data"
    }
   ],
   "source": [
    "log_beta_binomial_marginal_likelihood <- function(alpha0, beta0, data) {\n",
    "    # Compute the log marginal likelihood of the beta-binomial model for the eczema data set.\n",
    "    # alpha0, beta0: prior beta distribution parameters.\n",
    "    # data: 2 x n matrix with number of successes in the first row and number of failures in the second row.\n",
    "    log_beta_sum <- 0\n",
    "    for (i in 1:nrow(data)) {\n",
    "        log_beta_sum <- log_beta_sum + lbeta(1 + data[i,1], 1 + data[i,2])\n",
    "    }\n",
    "    \n",
    "    return (lbeta(alpha0 + sum(data[,1]), beta0 + sum(data[,2])) - lbeta(alpha0, beta0) -\n",
    "             sum(log(rowSums(data) + 1)) - log_beta_sum)\n",
    "}\n",
    "\n",
    "log_beta_binomial_marginal_likelihood(1, 1, treatment_data)\n",
    "log_beta_binomial_marginal_likelihood(1, 1, control_data)"
   ]
  },
  {
   "cell_type": "markdown",
   "metadata": {},
   "source": [
    "**Model 2:**\n",
    "\n",
    "* For each group (intervention and control), each of the 6 studies has a different probability of success.\n",
    "* Each probability of success is drawn from a beta prior with unknown parameters $\\alpha$ and $\\beta$.\n",
    "* Since $\\alpha$ and $\\beta$ are unknown, we put a broad hyperprior on them — we choose the Gamma(2, 0.5) distribution, which is shown below."
   ]
  },
  {
   "cell_type": "code",
   "execution_count": 1,
   "metadata": {},
   "outputs": [
    {
     "data": {
      "image/png": "[encoded data removed]"
     },
     "execution_count": 1,
     "metadata": {},
     "output_type": "execute_result"
    }
   ],
   "source": [
    "curve(dgamma(x, 2, 0.5), from=0, to=15)"
   ]
  },
  {
   "cell_type": "markdown",
   "metadata": {},
   "source": [
    "These assumptions lead to the following model:\n",
    "\n",
    "* Likelihood: $\\prod_{i=1}^6 \\text{Binomial}(s_i\\,|\\,\\theta_i, n_i)$, where $s_i$ is the number of successful recoveries, $f_i$ is the number of failures (did not recover), and $n_i=s_i+f_i$ the number of patients. Note that each study has its own $\\theta_i$, whereas Model 1 had the same $\\theta$ for all 6 studies.\n",
    "\n",
    "* Prior: $\\prod_{i=1}^6 \\text{Beta}(\\theta_i\\,|\\,\\alpha,\\beta)$.\n",
    "\n",
    "* Hyperprior: $P(\\alpha,\\beta) = \\text{Gamma}(\\alpha\\,|\\,2,0.5)\\,\\text{Gamma}(\\beta\\,|\\,2,0.5)$.\n",
    "\n",
    "This model has 8 parameters (for each of the treatment and control groups), namely $\\theta_1, \\ldots, \\theta_6$, $\\alpha$, and $\\beta$."
   ]
  },
  {
   "cell_type": "markdown",
   "metadata": {},
   "source": [
    "Since the posterior does not have a closed-form analytical solution, we have to calculate the marginal likelihood by integrating out all of the parameters in the model.\n",
    "\n",
    "$$ P(\\text{data}) = \\int_0^{\\infty} \\int_0^{\\infty} \\int_0^1\\cdots\\int_0^1 \\left[\\prod_{i=1}^6 \\text{Binomial}(s_i\\,|\\,\\theta_i,n_i)\\,\\text{Beta}(\\theta_i\\,|\\,\\alpha,\\beta) \\right] P(\\alpha,\\beta)\\ \\text{d}\\theta_6\\cdots\\text{d}\\theta_1\\,\\text{d}\\beta\\,\\text{d}\\alpha$$\n",
    "\n",
    "This looks like a crazy 8-dimensional integral, but we can actually integrate out the $\\theta_i$ analytically, leaving a 2-dimensional integral over $\\alpha$ and $\\beta$.\n",
    "\n",
    "First, note that $P(\\alpha,\\beta)$ does not contain $\\theta_i$, so we can move it outside of the $\\theta_i$ integrals.\n",
    "\n",
    "$$ = \\int_0^{\\infty} \\int_0^{\\infty} P(\\alpha,\\beta) \\textcolor[rgb]{0.00,0.00,1.00}{\\int_0^1\\cdots\\int_0^1 \\left[\\prod_{i=1}^6 \\text{Binomial}(s_i\\,|\\,\\theta_i,n_i)\\,\\text{Beta}(\\theta_i\\,|\\,\\alpha,\\beta) \\right] \\ \\text{d}\\theta_6\\cdots\\text{d}\\theta_1}\\,\\text{d}\\beta\\,\\text{d}\\alpha$$\n",
    "\n",
    "Next, since there are no factors containing two different $\\theta_i$ variables [(go to explanation)](http://example.com), we can rearrange the integrals and the products (the blue part) like this:\n",
    "\n",
    "$$ = \\int_0^{\\infty} \\int_0^{\\infty} P(\\alpha,\\beta) \\textcolor[rgb]{0.00,0.00,1.00}{\\left[\\prod_{i=1}^6 \\int_0^1\\text{Binomial}(s_i\\,|\\,\\theta_i,n_i)\\,\\text{Beta}(\\theta_i\\,|\\,\\alpha,\\beta)\\,\\text{d}\\theta_i\\right]}\\,\\text{d}\\beta\\,\\text{d}\\alpha$$\n",
    "\n",
    "**Note that we cannot always swap products and integrals.**\n"
   ]
  },
  {
   "cell_type": "markdown",
   "metadata": {},
   "source": [
    "Since the beta distribution is conjugate to the binomial, the blue integrals above can be evaluated analytically (much like we did for Model 1), to get\n",
    "\n",
    "$$ = \\int_0^{\\infty}\\int_0^{\\infty} P(\\alpha,\\beta) \\left[\\prod_{i=1}^6 \\frac{1}{(s_i+f_i+1)\\,\\text{B}(s_i+1,f_i+1)}\\,\\frac{\\text{B}(\\alpha+s_i, \\beta+f_i)}{\\text{B}(\\alpha,\\beta)}\\right]\\,\\text{d}\\beta\\,\\text{d}\\alpha$$\n",
    "\n",
    "Finally, move all the factors that do not depend on $\\alpha$ or $\\beta$ out of the integrals.\n",
    "\n",
    "$$ = \\left[\\prod_{i=1}^6 (s_i+f_i+1)\\,\\text{B}(s_i+1,f_i+1) \\right]^{-1} \\int_0^{\\infty}\\int_0^{\\infty} P(\\alpha,\\beta)\\, \\text{B}(\\alpha,\\beta)^{-6} \\prod_{i=1}^6 \\text{B}(\\alpha+s_i, \\beta+f_i)\\ \\text{d}\\beta\\,\\text{d}\\alpha$$\n",
    "\n",
    "Unfortunately we cannot evaluate the remaining integrals analytically, so we resort to a numerical calculation.\n",
    "\n",
    "**Task 2:**\n",
    "\n",
    "* Read up about the `adaptIntegrate(f, lowerLimit, upperLimit)` function in the `cubature` package — see the function documentation below.\n",
    "* How would you define a function $f$ so that `adaptIntegrate(f, c(0, 0), c(Inf, Inf))` evaluates the 2-dimensional integral over $\\alpha$ and $\\beta$ above?"
   ]
  },
  {
   "cell_type": "markdown",
   "metadata": {},
   "source": [
    "Looking at how to best evaluate the independent factor:\n",
    "$$ \n",
    "\\left[\\prod_{i=1}^6 (s_i+f_i+1)\\,\\text{B}(s_i+1,f_i+1) \\right]^{-1} = \\exp \\Big( \\log \\prod_{i=1}^6 \\frac{1}{(s_i+f_i+1)\\,\\text{B}(s_i+1,f_i+1)} \\Big) = \\exp \\Big( - \\sum_{i=1}^6 \\log (s_i+f_i+1) - \\sum_{i=1}^6 \\log \\text{B}(s_i+1,f_i+1) \\Big)\n",
    "$$\n",
    "\n",
    "As for the integrand itself:\n",
    "\\begin{align*}\n",
    "& \\int_0^{\\infty}\\int_0^{\\infty} P(\\alpha,\\beta)\\, \\prod_{i=1}^6 \\frac{\\text{B}(\\alpha+s_i, \\beta+f_i)}{\\text{B}(\\alpha,\\beta)}\\ \\text{d}\\beta\\,\\text{d}\\alpha \\\\\n",
    "&= \\int_0^{\\infty}\\int_0^{\\infty} P(\\alpha,\\beta)\\, \\exp \\Big( \\log \\big( \\prod_{i=1}^6 \\frac{\\text{B}(\\alpha+s_i, \\beta+f_i)}{\\text{B}(\\alpha,\\beta)} \\big) \\Big) \\text{d}\\beta\\,\\text{d}\\alpha \\\\\n",
    "&= \\int_0^{\\infty}\\int_0^{\\infty} P(\\alpha,\\beta)\\, \\exp \\Big( \\sum_{i=1}^6 \\log \\text{B}(\\alpha+s_i, \\beta+f_i) -6 \\log \\text{B}(\\alpha,\\beta) \\Big) \\text{d}\\beta\\,\\text{d}\\alpha \n",
    "\\end{align*}\n",
    "\n"
   ]
  },
  {
   "cell_type": "code",
   "execution_count": 42,
   "metadata": {},
   "outputs": [],
   "source": [
    "library(cubature)\n",
    "?adaptIntegrate"
   ]
  },
  {
   "cell_type": "code",
   "execution_count": 85,
   "metadata": {},
   "outputs": [],
   "source": [
    "independent_factor <- function(data) {\n",
    "    log_beta_sum <- 0\n",
    "    for (i in 1:nrow(data)) {\n",
    "        log_beta_sum <- log_beta_sum + lbeta(1 + data[i,1], 1 + data[i,2])\n",
    "    }\n",
    "    exp(-1 * (log_beta_sum + sum(log(rowSums(data) + 1))))\n",
    "}\n",
    "\n",
    "    \n",
    "integrand <- function(x, data) {\n",
    "    alpha <- x[1]\n",
    "    beta <- x[2]\n",
    "    hyperprior <- dgamma(alpha, 2, 0.5) * dgamma(beta, 2, 0.5)\n",
    "#     prior <- beta(alpha, beta) ** -6\n",
    "\n",
    "    inner_sum <- 0\n",
    "    for (i in 1:nrow(data)) {\n",
    "        inner_sum <- inner_sum + lbeta(alpha + data[i,1], beta + data[i,2])\n",
    "    }\n",
    "\n",
    "    beta_term <- inner_sum -6 * lbeta(alpha, beta)\n",
    "    product <- hyperprior * exp(beta_term)\n",
    "#     print(c(alpha, beta, hyperprior, beta_term, exp(beta_term), product))\n",
    "    return (product)\n",
    "}"
   ]
  },
  {
   "cell_type": "code",
   "execution_count": 89,
   "metadata": {},
   "outputs": [
    {
     "name": "stdout",
     "output_type": "stream",
     "text": [
      "$integral\n",
      "[1] 2.37651e-36\n",
      "\n",
      "$error\n",
      "[1] 2.347202e-41\n",
      "\n",
      "$functionEvaluations\n",
      "[1] 7769\n",
      "\n",
      "$returnCode\n",
      "[1] 0\n",
      "\n"
     ]
    },
    {
     "data": {
      "text/html": [
       "1.45666538934416e-07"
      ],
      "text/latex": [
       "1.45666538934416e-07"
      ],
      "text/markdown": [
       "1.45666538934416e-07"
      ],
      "text/plain": [
       "[1] 1.456665e-07"
      ]
     },
     "metadata": {},
     "output_type": "display_data"
    }
   ],
   "source": [
    "result <- adaptIntegrate(integrand, c(0, 0), c(1000, 1000), treatment_data)\n",
    "print(result)\n",
    "result$integral * independent_factor(treatment_data)"
   ]
  },
  {
   "cell_type": "code",
   "execution_count": 90,
   "metadata": {},
   "outputs": [
    {
     "name": "stdout",
     "output_type": "stream",
     "text": [
      "$integral\n",
      "[1] 2.249518e-37\n",
      "\n",
      "$error\n",
      "[1] 2.220029e-42\n",
      "\n",
      "$functionEvaluations\n",
      "[1] 8585\n",
      "\n",
      "$returnCode\n",
      "[1] 0\n",
      "\n"
     ]
    },
    {
     "data": {
      "text/html": [
       "2.43501216812545e-08"
      ],
      "text/latex": [
       "2.43501216812545e-08"
      ],
      "text/markdown": [
       "2.43501216812545e-08"
      ],
      "text/plain": [
       "[1] 2.435012e-08"
      ]
     },
     "metadata": {},
     "output_type": "display_data"
    }
   ],
   "source": [
    "result <- adaptIntegrate(integrand, c(0, 0), c(1000, 1000), control_data)\n",
    "print(result)\n",
    "result$integral * independent_factor(control_data)"
   ]
  },
  {
   "cell_type": "code",
   "execution_count": 80,
   "metadata": {},
   "outputs": [
    {
     "data": {
      "text/html": [
       "0.216859322448842"
      ],
      "text/latex": [
       "0.216859322448842"
      ],
      "text/markdown": [
       "0.216859322448842"
      ],
      "text/plain": [
       "[1] 0.2168593"
      ]
     },
     "metadata": {},
     "output_type": "display_data"
    }
   ],
   "source": []
  },
  {
   "cell_type": "code",
   "execution_count": null,
   "metadata": {
    "collapsed": true
   },
   "outputs": [],
   "source": []
  }
 ],
 "metadata": {
  "kernelspec": {
   "display_name": "R",
   "language": "R",
   "name": "ir"
  },
  "language_info": {
   "codemirror_mode": "r",
   "file_extension": ".r",
   "mimetype": "text/x-r-source",
   "name": "R",
   "pygments_lexer": "r",
   "version": "3.4.2"
  }
 },
 "nbformat": 4,
 "nbformat_minor": 1
}
