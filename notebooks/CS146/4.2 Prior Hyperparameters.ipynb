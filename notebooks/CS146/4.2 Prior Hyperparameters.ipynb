{
 "cells": [
  {
   "cell_type": "code",
   "execution_count": 1,
   "metadata": {
    "collapsed": true
   },
   "outputs": [],
   "source": [
    "library(ggplot2)"
   ]
  },
  {
   "cell_type": "code",
   "execution_count": 2,
   "metadata": {
    "collapsed": true
   },
   "outputs": [],
   "source": [
    "# Function definitions for the inverse-gamma probability distribution.\n",
    "# The parameters of the distribution (alpha, beta) are as defined here:\n",
    "# https://en.wikipedia.org/wiki/Inverse-gamma_distribution\n",
    "\n",
    "pinvgamma <- function(x, alpha, beta) {\n",
    "    # The cdf of the inverse-gamma distribution.\n",
    "    return(1 - pgamma(1/x, shape=alpha, rate=beta));\n",
    "}\n",
    "\n",
    "qinvgamma <- function(p, alpha, beta) {\n",
    "    # The quantile function of the inverse-gamma distribution.\n",
    "    return(1 / qgamma(1 - p, shape=alpha, rate=beta));\n",
    "}\n",
    "\n",
    "dinvgamma <- function(x, alpha, beta) {\n",
    "    # The pdf of the inverse-gamma distribution.\n",
    "    if (alpha <= 0 | beta <= 0) {\n",
    "        stop(\"Shape or scale parameter negative in dinvgamma().\\n\");\n",
    "    }\n",
    "    log_density <- alpha * log(beta) - lgamma(alpha) - (alpha + 1) * log(x) - (beta / x);\n",
    "    return(exp(log_density));\n",
    "}\n",
    "\n",
    "rinvgamma <- function(n, alpha, beta) {\n",
    "    # Draw n samples from the inverse-gamma distribution.\n",
    "    return(1 / rgamma(n=n, shape=alpha, rate=beta));\n",
    "}\n",
    "\n",
    "# Function definitions for the normal-inverse-gamma distribution.\n",
    "# The parameters of the distribution (mu, lambda, alpha, beta) are as defined here:\n",
    "# https://en.wikipedia.org/wiki/Normal-inverse-gamma_distribution\n",
    "\n",
    "dnorminvgamma <- function(x, sigma2, mu, lambda, alpha, beta) {\n",
    "    # The pdf of the normal-inverse-gamma distribution at x (mean) and sigma2 (variance).\n",
    "    return(dnorm(x, mu, sqrt(sigma2 / lambda)) * dinvgamma(sigma2, alpha, beta));\n",
    "}\n",
    "\n",
    "rnorminvgamma <- function(n, mu, lambda, alpha, beta) {\n",
    "    # Draw n samples from the normal-inverse-gamma distribution.\n",
    "    # Returns a matrix where each column contains a (x, sigma2) sample.\n",
    "    sigma2 = rinvgamma(n, alpha, beta);  # Sample sigma^2 from the inverse-gamma\n",
    "    x = rnorm(n, mu, sqrt(sigma2 / lambda));  # Sample x from the normal\n",
    "    return(t(matrix(c(x, sigma2), nrow=n, ncol=2)));\n",
    "}"
   ]
  },
  {
   "cell_type": "code",
   "execution_count": 3,
   "metadata": {},
   "outputs": [
    {
     "name": "stdout",
     "output_type": "stream",
     "text": [
      "[1] 10.0000000 24.7500000  0.9453125\n"
     ]
    }
   ],
   "source": [
    "# we want the mean of the variance to be 2.75, which is = beta / alpha - 1\n",
    "# with an SD of about 1 ~= variance of about 1 = beta^2 / (alpha-1)^2(alpha-2)\n",
    "alpha_0 <- 1\n",
    "beta_0 <- 0\n",
    "var <- 10\n",
    "\n",
    "while (var > 1) {\n",
    "    # mean <- beta_0 / (alpha_0 - 1)\n",
    "    alpha_0 <- alpha_0 + 1\n",
    "    beta_0 <- 2.75 * (alpha_0 - 1)\n",
    "    var <- (beta_0 ** 2) / ( (alpha_0 - 2) * (alpha_0 - 1) ** 2 )\n",
    "}\n",
    "print(c(alpha_0, beta_0, var))\n"
   ]
  },
  {
   "cell_type": "code",
   "execution_count": 4,
   "metadata": {
    "collapsed": true
   },
   "outputs": [],
   "source": [
    "mu_0 <- 2.3     # The prior mean is centered around 2.3\n",
    "nu_0 <- 11       # we want SD(x) ~= 0.5 => var(x) ~= 0.25 => nu ~= 0.25 / E[sigma^2] = 0.25 / 2.75 = 11\n",
    "prior_sample <- rnorminvgamma(100, mu_0, nu_0, alpha_0, beta_0)"
   ]
  },
  {
   "cell_type": "code",
   "execution_count": 5,
   "metadata": {},
   "outputs": [
    {
     "data": {
      "text/html": [
       "<dl class=dl-horizontal>\n",
       "\t<dt>2.5%</dt>\n",
       "\t\t<dd>1.2155027837653</dd>\n",
       "\t<dt>16%</dt>\n",
       "\t\t<dd>1.72519840150213</dd>\n",
       "\t<dt>84%</dt>\n",
       "\t\t<dd>2.73227989383914</dd>\n",
       "\t<dt>97.5%</dt>\n",
       "\t\t<dd>3.32409598674919</dd>\n",
       "</dl>\n"
      ],
      "text/latex": [
       "\\begin{description*}\n",
       "\\item[2.5\\textbackslash{}\\%] 1.2155027837653\n",
       "\\item[16\\textbackslash{}\\%] 1.72519840150213\n",
       "\\item[84\\textbackslash{}\\%] 2.73227989383914\n",
       "\\item[97.5\\textbackslash{}\\%] 3.32409598674919\n",
       "\\end{description*}\n"
      ],
      "text/markdown": [
       "2.5%\n",
       ":   1.215502783765316%\n",
       ":   1.7251984015021384%\n",
       ":   2.7322798938391497.5%\n",
       ":   3.32409598674919\n",
       "\n"
      ],
      "text/plain": [
       "    2.5%      16%      84%    97.5% \n",
       "1.215503 1.725198 2.732280 3.324096 "
      ]
     },
     "metadata": {},
     "output_type": "display_data"
    },
    {
     "data": {
      "text/html": [
       "<dl class=dl-horizontal>\n",
       "\t<dt>2.5%</dt>\n",
       "\t\t<dd>1.40101668750449</dd>\n",
       "\t<dt>97.5%</dt>\n",
       "\t\t<dd>4.28920541408979</dd>\n",
       "</dl>\n"
      ],
      "text/latex": [
       "\\begin{description*}\n",
       "\\item[2.5\\textbackslash{}\\%] 1.40101668750449\n",
       "\\item[97.5\\textbackslash{}\\%] 4.28920541408979\n",
       "\\end{description*}\n"
      ],
      "text/markdown": [
       "2.5%\n",
       ":   1.4010166875044997.5%\n",
       ":   4.28920541408979\n",
       "\n"
      ],
      "text/plain": [
       "    2.5%    97.5% \n",
       "1.401017 4.289205 "
      ]
     },
     "metadata": {},
     "output_type": "display_data"
    }
   ],
   "source": [
    "means <- prior_sample[seq(1, length(prior_sample), 2)]\n",
    "variances <- prior_sample[seq(2, length(prior_sample), 2)]\n",
    "quantile(means, probs = c(0.025, 0.5 - 0.34, 0.5 + 0.34, 0.975))\n",
    "quantile(variances, probs = c(0.025, 0.975))"
   ]
  },
  {
   "cell_type": "code",
   "execution_count": 6,
   "metadata": {
    "collapsed": true
   },
   "outputs": [],
   "source": [
    "# sample.df <- data.frame(x=seq(-4, 8, length.out=1000))\n",
    "sample.df <- data.frame(x=-4:8)\n",
    "ps <- rnorminvgamma(1, mu_0, nu_0, alpha_0, beta_0)\n",
    "# dnorm(sample.df$x, mean=ps[1], sd=ps[2] ** 0.5)\n",
    "\n",
    "# prior_plot <- ggplot(sample.df, aes(x=x))\n",
    "\n",
    "# for (i in seq(1, 5)) {\n",
    "#     ps <- prior_sample <- rnorminvgamma(1, mu_0, nu_0, alpha_0, beta_0)\n",
    "#     print(ps)\n",
    "#     prior_plot <- prior_plot + stat_function(fun=dnorm, args=list(mean=ps[1], sd=ps[2] ** 0.5), color=i)   \n",
    "# }\n",
    "\n",
    "# prior_plot + \n",
    "\n"
   ]
  },
  {
   "cell_type": "code",
   "execution_count": null,
   "metadata": {
    "collapsed": true,
    "scrolled": false
   },
   "outputs": [],
   "source": []
  },
  {
   "cell_type": "code",
   "execution_count": null,
   "metadata": {
    "collapsed": true
   },
   "outputs": [],
   "source": [
    "# ggplot(sample.df, aes(x=x)) +\n",
    "#     stat_function(fun=dnorm, args=list(mean=ps[1], sd=ps[2] ** 0.5)) # , color=1) +   \n",
    "# #     theme(aspect.ratio=3/4) + \n",
    "# #     xlab(\"X\") + \n",
    "# #     ylab(\"P(X)\")"
   ]
  },
  {
   "cell_type": "code",
   "execution_count": null,
   "metadata": {
    "collapsed": true
   },
   "outputs": [],
   "source": []
  }
 ],
 "metadata": {
  "kernelspec": {
   "display_name": "R",
   "language": "R",
   "name": "ir"
  },
  "language_info": {
   "codemirror_mode": "r",
   "file_extension": ".r",
   "mimetype": "text/x-r-source",
   "name": "R",
   "pygments_lexer": "r",
   "version": "3.3.2"
  }
 },
 "nbformat": 4,
 "nbformat_minor": 2
}
