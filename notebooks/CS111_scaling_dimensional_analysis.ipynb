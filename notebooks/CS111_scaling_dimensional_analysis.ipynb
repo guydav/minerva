{
 "cells": [
  {
   "cell_type": "code",
   "execution_count": 11,
   "metadata": {
    "collapsed": true
   },
   "outputs": [],
   "source": [
    "%matplotlib inline"
   ]
  },
  {
   "cell_type": "code",
   "execution_count": 12,
   "metadata": {
    "collapsed": false
   },
   "outputs": [],
   "source": [
    "import pandas\n",
    "import numpy as np\n",
    "import statsmodels.api as sm\n",
    "import matplotlib\n",
    "import matplotlib.pyplot as plt\n",
    "matplotlib.style.use('ggplot')"
   ]
  },
  {
   "cell_type": "code",
   "execution_count": 33,
   "metadata": {
    "collapsed": false
   },
   "outputs": [
    {
     "data": {
      "text/html": [
       "<div>\n",
       "<table border=\"1\" class=\"dataframe\">\n",
       "  <thead>\n",
       "    <tr style=\"text-align: right;\">\n",
       "      <th></th>\n",
       "      <th>M</th>\n",
       "      <th>t</th>\n",
       "      <th>log(M)</th>\n",
       "      <th>log(t)</th>\n",
       "      <th>M1/3</th>\n",
       "      <th>M2/3</th>\n",
       "    </tr>\n",
       "  </thead>\n",
       "  <tbody>\n",
       "    <tr>\n",
       "      <th>0</th>\n",
       "      <td>5</td>\n",
       "      <td>2.0</td>\n",
       "      <td>1.609438</td>\n",
       "      <td>0.693147</td>\n",
       "      <td>1.709976</td>\n",
       "      <td>2.924018</td>\n",
       "    </tr>\n",
       "    <tr>\n",
       "      <th>1</th>\n",
       "      <td>6</td>\n",
       "      <td>2.5</td>\n",
       "      <td>1.791759</td>\n",
       "      <td>0.916291</td>\n",
       "      <td>1.817121</td>\n",
       "      <td>3.301927</td>\n",
       "    </tr>\n",
       "    <tr>\n",
       "      <th>2</th>\n",
       "      <td>10</td>\n",
       "      <td>3.4</td>\n",
       "      <td>2.302585</td>\n",
       "      <td>1.223775</td>\n",
       "      <td>2.154435</td>\n",
       "      <td>4.641589</td>\n",
       "    </tr>\n",
       "    <tr>\n",
       "      <th>3</th>\n",
       "      <td>12</td>\n",
       "      <td>3.5</td>\n",
       "      <td>2.484907</td>\n",
       "      <td>1.252763</td>\n",
       "      <td>2.289428</td>\n",
       "      <td>5.241483</td>\n",
       "    </tr>\n",
       "    <tr>\n",
       "      <th>4</th>\n",
       "      <td>15</td>\n",
       "      <td>4.5</td>\n",
       "      <td>2.708050</td>\n",
       "      <td>1.504077</td>\n",
       "      <td>2.466212</td>\n",
       "      <td>6.082202</td>\n",
       "    </tr>\n",
       "    <tr>\n",
       "      <th>5</th>\n",
       "      <td>20</td>\n",
       "      <td>5.4</td>\n",
       "      <td>2.995732</td>\n",
       "      <td>1.686399</td>\n",
       "      <td>2.714418</td>\n",
       "      <td>7.368063</td>\n",
       "    </tr>\n",
       "    <tr>\n",
       "      <th>6</th>\n",
       "      <td>25</td>\n",
       "      <td>5.8</td>\n",
       "      <td>3.218876</td>\n",
       "      <td>1.757858</td>\n",
       "      <td>2.924018</td>\n",
       "      <td>8.549880</td>\n",
       "    </tr>\n",
       "    <tr>\n",
       "      <th>7</th>\n",
       "      <td>30</td>\n",
       "      <td>7.0</td>\n",
       "      <td>3.401197</td>\n",
       "      <td>1.945910</td>\n",
       "      <td>3.107233</td>\n",
       "      <td>9.654894</td>\n",
       "    </tr>\n",
       "  </tbody>\n",
       "</table>\n",
       "</div>"
      ],
      "text/plain": [
       "    M    t    log(M)    log(t)      M1/3      M2/3\n",
       "0   5  2.0  1.609438  0.693147  1.709976  2.924018\n",
       "1   6  2.5  1.791759  0.916291  1.817121  3.301927\n",
       "2  10  3.4  2.302585  1.223775  2.154435  4.641589\n",
       "3  12  3.5  2.484907  1.252763  2.289428  5.241483\n",
       "4  15  4.5  2.708050  1.504077  2.466212  6.082202\n",
       "5  20  5.4  2.995732  1.686399  2.714418  7.368063\n",
       "6  25  5.8  3.218876  1.757858  2.924018  8.549880\n",
       "7  30  7.0  3.401197  1.945910  3.107233  9.654894"
      ]
     },
     "execution_count": 33,
     "metadata": {},
     "output_type": "execute_result"
    }
   ],
   "source": [
    "cooking_time_data = {'M': [5, 6, 10, 12, 15, 20, 25, 30],\n",
    "                    't': [2, 2.5, 3.4, 3.5, 4.5, 5.4, 5.8, 7]}\n",
    "cooking_time_df = pandas.DataFrame(cooking_time_data)\n",
    "cooking_time_df['log(M)'] = np.log(cooking_time_df['M'])\n",
    "cooking_time_df['log(t)'] = np.log(cooking_time_df['t'])\n",
    "cooking_time_df['M1/3'] = cooking_time_df['M'] ** (1.0/3)\n",
    "cooking_time_df['M2/3'] = cooking_time_df['M'] ** (2.0/3)\n",
    "cooking_time_df"
   ]
  },
  {
   "cell_type": "code",
   "execution_count": 37,
   "metadata": {
    "collapsed": false
   },
   "outputs": [
    {
     "data": {
      "text/html": [
       "<table class=\"simpletable\">\n",
       "<caption>OLS Regression Results</caption>\n",
       "<tr>\n",
       "  <th>Dep. Variable:</th>         <td>log(t)</td>      <th>  R-squared:         </th> <td>   0.988</td>\n",
       "</tr>\n",
       "<tr>\n",
       "  <th>Model:</th>                   <td>OLS</td>       <th>  Adj. R-squared:    </th> <td>   0.986</td>\n",
       "</tr>\n",
       "<tr>\n",
       "  <th>Method:</th>             <td>Least Squares</td>  <th>  F-statistic:       </th> <td>   507.1</td>\n",
       "</tr>\n",
       "<tr>\n",
       "  <th>Date:</th>             <td>Sat, 04 Feb 2017</td> <th>  Prob (F-statistic):</th> <td>5.02e-07</td>\n",
       "</tr>\n",
       "<tr>\n",
       "  <th>Time:</th>                 <td>14:26:15</td>     <th>  Log-Likelihood:    </th> <td>  13.714</td>\n",
       "</tr>\n",
       "<tr>\n",
       "  <th>No. Observations:</th>      <td>     8</td>      <th>  AIC:               </th> <td>  -23.43</td>\n",
       "</tr>\n",
       "<tr>\n",
       "  <th>Df Residuals:</th>          <td>     6</td>      <th>  BIC:               </th> <td>  -23.27</td>\n",
       "</tr>\n",
       "<tr>\n",
       "  <th>Df Model:</th>              <td>     1</td>      <th>                     </th>     <td> </td>   \n",
       "</tr>\n",
       "<tr>\n",
       "  <th>Covariance Type:</th>      <td>nonrobust</td>    <th>                     </th>     <td> </td>   \n",
       "</tr>\n",
       "</table>\n",
       "<table class=\"simpletable\">\n",
       "<tr>\n",
       "     <td></td>       <th>coef</th>     <th>std err</th>      <th>t</th>      <th>P>|t|</th> <th>[95.0% Conf. Int.]</th> \n",
       "</tr>\n",
       "<tr>\n",
       "  <th>const</th>  <td>   -0.3281</td> <td>    0.078</td> <td>   -4.228</td> <td> 0.006</td> <td>   -0.518    -0.138</td>\n",
       "</tr>\n",
       "<tr>\n",
       "  <th>log(M)</th> <td>    0.6632</td> <td>    0.029</td> <td>   22.519</td> <td> 0.000</td> <td>    0.591     0.735</td>\n",
       "</tr>\n",
       "</table>\n",
       "<table class=\"simpletable\">\n",
       "<tr>\n",
       "  <th>Omnibus:</th>       <td> 2.403</td> <th>  Durbin-Watson:     </th> <td>   2.698</td>\n",
       "</tr>\n",
       "<tr>\n",
       "  <th>Prob(Omnibus):</th> <td> 0.301</td> <th>  Jarque-Bera (JB):  </th> <td>   0.947</td>\n",
       "</tr>\n",
       "<tr>\n",
       "  <th>Skew:</th>          <td>-0.387</td> <th>  Prob(JB):          </th> <td>   0.623</td>\n",
       "</tr>\n",
       "<tr>\n",
       "  <th>Kurtosis:</th>      <td> 1.503</td> <th>  Cond. No.          </th> <td>    13.1</td>\n",
       "</tr>\n",
       "</table>"
      ],
      "text/plain": [
       "<class 'statsmodels.iolib.summary.Summary'>\n",
       "\"\"\"\n",
       "                            OLS Regression Results                            \n",
       "==============================================================================\n",
       "Dep. Variable:                 log(t)   R-squared:                       0.988\n",
       "Model:                            OLS   Adj. R-squared:                  0.986\n",
       "Method:                 Least Squares   F-statistic:                     507.1\n",
       "Date:                Sat, 04 Feb 2017   Prob (F-statistic):           5.02e-07\n",
       "Time:                        14:26:15   Log-Likelihood:                 13.714\n",
       "No. Observations:                   8   AIC:                            -23.43\n",
       "Df Residuals:                       6   BIC:                            -23.27\n",
       "Df Model:                           1                                         \n",
       "Covariance Type:            nonrobust                                         \n",
       "==============================================================================\n",
       "                 coef    std err          t      P>|t|      [95.0% Conf. Int.]\n",
       "------------------------------------------------------------------------------\n",
       "const         -0.3281      0.078     -4.228      0.006        -0.518    -0.138\n",
       "log(M)         0.6632      0.029     22.519      0.000         0.591     0.735\n",
       "==============================================================================\n",
       "Omnibus:                        2.403   Durbin-Watson:                   2.698\n",
       "Prob(Omnibus):                  0.301   Jarque-Bera (JB):                0.947\n",
       "Skew:                          -0.387   Prob(JB):                        0.623\n",
       "Kurtosis:                       1.503   Cond. No.                         13.1\n",
       "==============================================================================\n",
       "\n",
       "Warnings:\n",
       "[1] Standard Errors assume that the covariance matrix of the errors is correctly specified.\n",
       "\"\"\""
      ]
     },
     "execution_count": 37,
     "metadata": {},
     "output_type": "execute_result"
    }
   ],
   "source": [
    "y_log = cooking_time_df['log(t)']\n",
    "X_log = cooking_time_df['log(M)']\n",
    "X_log = sm.add_constant(X_log)\n",
    "\n",
    "model_log = sm.OLS(y_log, X_log)\n",
    "results_log = model_log.fit()\n",
    "results_log.summary()"
   ]
  },
  {
   "cell_type": "code",
   "execution_count": 45,
   "metadata": {
    "collapsed": false
   },
   "outputs": [
    {
     "data": {
      "text/plain": [
       "<matplotlib.legend.Legend at 0x108e22590>"
      ]
     },
     "execution_count": 45,
     "metadata": {},
     "output_type": "execute_result"
    },
    {
     "data": {
      "image/png": "[encoded data removed]",
      "text/plain": [
       "<matplotlib.figure.Figure at 0x108e22e50>"
      ]
     },
     "metadata": {},
     "output_type": "display_data"
    }
   ],
   "source": [
    "axes = cooking_time_df.plot.scatter(x='log(M)', y='log(t)', figsize=(12, 8), s=100)\n",
    "axes.add_line(plt.Line2D(cooking_time_df['log(M)'], log_results.predict(X_log), ls='--', \n",
    "                         label='log(t) = {m:.3f} * log(M) + {c:.3f}, R^2 = {r2:.3f}'\n",
    "            .format(m=results_log.params['log(M)'], c=results_log.params['const'], r2=results_log.rsquared)))\n",
    "\n",
    "axes.set_xlabel('log(M) (lbs)')\n",
    "axes.set_ylabel('log(t) (hours)')\n",
    "axes.legend()"
   ]
  },
  {
   "cell_type": "code",
   "execution_count": 8,
   "metadata": {
    "collapsed": false
   },
   "outputs": [
    {
     "name": "stderr",
     "output_type": "stream",
     "text": [
      "/Users/guydavidson/Virtualenvs/dev/lib/python2.7/site-packages/scipy/stats/stats.py:1327: UserWarning: kurtosistest only valid for n>=20 ... continuing anyway, n=8\n",
      "  \"anyway, n=%i\" % int(n))\n"
     ]
    },
    {
     "data": {
      "text/html": [
       "<table class=\"simpletable\">\n",
       "<caption>OLS Regression Results</caption>\n",
       "<tr>\n",
       "  <th>Dep. Variable:</th>            <td>t</td>        <th>  R-squared:         </th> <td>   0.982</td>\n",
       "</tr>\n",
       "<tr>\n",
       "  <th>Model:</th>                   <td>OLS</td>       <th>  Adj. R-squared:    </th> <td>   0.979</td>\n",
       "</tr>\n",
       "<tr>\n",
       "  <th>Method:</th>             <td>Least Squares</td>  <th>  F-statistic:       </th> <td>   321.7</td>\n",
       "</tr>\n",
       "<tr>\n",
       "  <th>Date:</th>             <td>Fri, 03 Feb 2017</td> <th>  Prob (F-statistic):</th> <td>1.93e-06</td>\n",
       "</tr>\n",
       "<tr>\n",
       "  <th>Time:</th>                 <td>13:06:13</td>     <th>  Log-Likelihood:    </th> <td> 0.83554</td>\n",
       "</tr>\n",
       "<tr>\n",
       "  <th>No. Observations:</th>      <td>     8</td>      <th>  AIC:               </th> <td>   2.329</td>\n",
       "</tr>\n",
       "<tr>\n",
       "  <th>Df Residuals:</th>          <td>     6</td>      <th>  BIC:               </th> <td>   2.488</td>\n",
       "</tr>\n",
       "<tr>\n",
       "  <th>Df Model:</th>              <td>     1</td>      <th>                     </th>     <td> </td>   \n",
       "</tr>\n",
       "<tr>\n",
       "  <th>Covariance Type:</th>      <td>nonrobust</td>    <th>                     </th>     <td> </td>   \n",
       "</tr>\n",
       "</table>\n",
       "<table class=\"simpletable\">\n",
       "<tr>\n",
       "    <td></td>       <th>coef</th>     <th>std err</th>      <th>t</th>      <th>P>|t|</th> <th>[95.0% Conf. Int.]</th> \n",
       "</tr>\n",
       "<tr>\n",
       "  <th>const</th> <td>   -3.8821</td> <td>    0.463</td> <td>   -8.389</td> <td> 0.000</td> <td>   -5.014    -2.750</td>\n",
       "</tr>\n",
       "<tr>\n",
       "  <th>M1/3</th>  <td>    3.3966</td> <td>    0.189</td> <td>   17.936</td> <td> 0.000</td> <td>    2.933     3.860</td>\n",
       "</tr>\n",
       "</table>\n",
       "<table class=\"simpletable\">\n",
       "<tr>\n",
       "  <th>Omnibus:</th>       <td> 0.430</td> <th>  Durbin-Watson:     </th> <td>   2.108</td>\n",
       "</tr>\n",
       "<tr>\n",
       "  <th>Prob(Omnibus):</th> <td> 0.807</td> <th>  Jarque-Bera (JB):  </th> <td>   0.356</td>\n",
       "</tr>\n",
       "<tr>\n",
       "  <th>Skew:</th>          <td>-0.382</td> <th>  Prob(JB):          </th> <td>   0.837</td>\n",
       "</tr>\n",
       "<tr>\n",
       "  <th>Kurtosis:</th>      <td> 2.304</td> <th>  Cond. No.          </th> <td>    14.8</td>\n",
       "</tr>\n",
       "</table>"
      ],
      "text/plain": [
       "<class 'statsmodels.iolib.summary.Summary'>\n",
       "\"\"\"\n",
       "                            OLS Regression Results                            \n",
       "==============================================================================\n",
       "Dep. Variable:                      t   R-squared:                       0.982\n",
       "Model:                            OLS   Adj. R-squared:                  0.979\n",
       "Method:                 Least Squares   F-statistic:                     321.7\n",
       "Date:                Fri, 03 Feb 2017   Prob (F-statistic):           1.93e-06\n",
       "Time:                        13:06:13   Log-Likelihood:                0.83554\n",
       "No. Observations:                   8   AIC:                             2.329\n",
       "Df Residuals:                       6   BIC:                             2.488\n",
       "Df Model:                           1                                         \n",
       "Covariance Type:            nonrobust                                         \n",
       "==============================================================================\n",
       "                 coef    std err          t      P>|t|      [95.0% Conf. Int.]\n",
       "------------------------------------------------------------------------------\n",
       "const         -3.8821      0.463     -8.389      0.000        -5.014    -2.750\n",
       "M1/3           3.3966      0.189     17.936      0.000         2.933     3.860\n",
       "==============================================================================\n",
       "Omnibus:                        0.430   Durbin-Watson:                   2.108\n",
       "Prob(Omnibus):                  0.807   Jarque-Bera (JB):                0.356\n",
       "Skew:                          -0.382   Prob(JB):                        0.837\n",
       "Kurtosis:                       2.304   Cond. No.                         14.8\n",
       "==============================================================================\n",
       "\n",
       "Warnings:\n",
       "[1] Standard Errors assume that the covariance matrix of the errors is correctly specified.\n",
       "\"\"\""
      ]
     },
     "execution_count": 8,
     "metadata": {},
     "output_type": "execute_result"
    }
   ],
   "source": [
    "y = cooking_time_df['t']\n",
    "\n",
    "X_1_3 = cooking_time_df['M1/3']\n",
    "X_1_3 = sm.add_constant(X_1_3)\n",
    "\n",
    "model_1_3 = sm.OLS(y, X_1_3)\n",
    "results_1_3 = model_1_3.fit()\n",
    "results_1_3.summary()"
   ]
  },
  {
   "cell_type": "code",
   "execution_count": 9,
   "metadata": {
    "collapsed": false
   },
   "outputs": [
    {
     "data": {
      "text/html": [
       "<table class=\"simpletable\">\n",
       "<caption>OLS Regression Results</caption>\n",
       "<tr>\n",
       "  <th>Dep. Variable:</th>            <td>t</td>        <th>  R-squared:         </th> <td>   0.988</td>\n",
       "</tr>\n",
       "<tr>\n",
       "  <th>Model:</th>                   <td>OLS</td>       <th>  Adj. R-squared:    </th> <td>   0.986</td>\n",
       "</tr>\n",
       "<tr>\n",
       "  <th>Method:</th>             <td>Least Squares</td>  <th>  F-statistic:       </th> <td>   510.7</td>\n",
       "</tr>\n",
       "<tr>\n",
       "  <th>Date:</th>             <td>Fri, 03 Feb 2017</td> <th>  Prob (F-statistic):</th> <td>4.91e-07</td>\n",
       "</tr>\n",
       "<tr>\n",
       "  <th>Time:</th>                 <td>13:06:49</td>     <th>  Log-Likelihood:    </th> <td>  2.6572</td>\n",
       "</tr>\n",
       "<tr>\n",
       "  <th>No. Observations:</th>      <td>     8</td>      <th>  AIC:               </th> <td>  -1.314</td>\n",
       "</tr>\n",
       "<tr>\n",
       "  <th>Df Residuals:</th>          <td>     6</td>      <th>  BIC:               </th> <td>  -1.156</td>\n",
       "</tr>\n",
       "<tr>\n",
       "  <th>Df Model:</th>              <td>     1</td>      <th>                     </th>     <td> </td>   \n",
       "</tr>\n",
       "<tr>\n",
       "  <th>Covariance Type:</th>      <td>nonrobust</td>    <th>                     </th>     <td> </td>   \n",
       "</tr>\n",
       "</table>\n",
       "<table class=\"simpletable\">\n",
       "<tr>\n",
       "    <td></td>       <th>coef</th>     <th>std err</th>      <th>t</th>      <th>P>|t|</th> <th>[95.0% Conf. Int.]</th> \n",
       "</tr>\n",
       "<tr>\n",
       "  <th>const</th> <td>    0.0334</td> <td>    0.200</td> <td>    0.167</td> <td> 0.873</td> <td>   -0.456     0.523</td>\n",
       "</tr>\n",
       "<tr>\n",
       "  <th>M2/3</th>  <td>    0.7083</td> <td>    0.031</td> <td>   22.599</td> <td> 0.000</td> <td>    0.632     0.785</td>\n",
       "</tr>\n",
       "</table>\n",
       "<table class=\"simpletable\">\n",
       "<tr>\n",
       "  <th>Omnibus:</th>       <td> 2.129</td> <th>  Durbin-Watson:     </th> <td>   2.866</td>\n",
       "</tr>\n",
       "<tr>\n",
       "  <th>Prob(Omnibus):</th> <td> 0.345</td> <th>  Jarque-Bera (JB):  </th> <td>   1.164</td>\n",
       "</tr>\n",
       "<tr>\n",
       "  <th>Skew:</th>          <td>-0.681</td> <th>  Prob(JB):          </th> <td>   0.559</td>\n",
       "</tr>\n",
       "<tr>\n",
       "  <th>Kurtosis:</th>      <td> 1.720</td> <th>  Cond. No.          </th> <td>    18.4</td>\n",
       "</tr>\n",
       "</table>"
      ],
      "text/plain": [
       "<class 'statsmodels.iolib.summary.Summary'>\n",
       "\"\"\"\n",
       "                            OLS Regression Results                            \n",
       "==============================================================================\n",
       "Dep. Variable:                      t   R-squared:                       0.988\n",
       "Model:                            OLS   Adj. R-squared:                  0.986\n",
       "Method:                 Least Squares   F-statistic:                     510.7\n",
       "Date:                Fri, 03 Feb 2017   Prob (F-statistic):           4.91e-07\n",
       "Time:                        13:06:49   Log-Likelihood:                 2.6572\n",
       "No. Observations:                   8   AIC:                            -1.314\n",
       "Df Residuals:                       6   BIC:                            -1.156\n",
       "Df Model:                           1                                         \n",
       "Covariance Type:            nonrobust                                         \n",
       "==============================================================================\n",
       "                 coef    std err          t      P>|t|      [95.0% Conf. Int.]\n",
       "------------------------------------------------------------------------------\n",
       "const          0.0334      0.200      0.167      0.873        -0.456     0.523\n",
       "M2/3           0.7083      0.031     22.599      0.000         0.632     0.785\n",
       "==============================================================================\n",
       "Omnibus:                        2.129   Durbin-Watson:                   2.866\n",
       "Prob(Omnibus):                  0.345   Jarque-Bera (JB):                1.164\n",
       "Skew:                          -0.681   Prob(JB):                        0.559\n",
       "Kurtosis:                       1.720   Cond. No.                         18.4\n",
       "==============================================================================\n",
       "\n",
       "Warnings:\n",
       "[1] Standard Errors assume that the covariance matrix of the errors is correctly specified.\n",
       "\"\"\""
      ]
     },
     "execution_count": 9,
     "metadata": {},
     "output_type": "execute_result"
    }
   ],
   "source": [
    "X_2_3 = cooking_time_df['M2/3']\n",
    "X_2_3 = sm.add_constant(X_2_3)\n",
    "\n",
    "model_2_3 = sm.OLS(y, X_2_3)\n",
    "results_2_3 = model_2_3.fit()\n",
    "results_2_3.summary()"
   ]
  },
  {
   "cell_type": "code",
   "execution_count": 21,
   "metadata": {
    "collapsed": false
   },
   "outputs": [
    {
     "data": {
      "text/plain": [
       "<matplotlib.legend.Legend at 0x108a00f50>"
      ]
     },
     "execution_count": 21,
     "metadata": {},
     "output_type": "execute_result"
    },
    {
     "data": {
      "image/png": "[encoded data removed]",
      "text/plain": [
       "<matplotlib.figure.Figure at 0x107d92290>"
      ]
     },
     "metadata": {},
     "output_type": "display_data"
    }
   ],
   "source": [
    "axes = cooking_time_df.plot.scatter(x='M', y='t', figsize=(12, 8), s=100)\n",
    "axes.add_line(plt.Line2D(cooking_time_df['M'], results_1_3.predict(X_1_3), ls='--',\n",
    "                        color='red', label='M^(1/3) fit'))\n",
    "axes.add_line(plt.Line2D(cooking_time_df['M'], results_2_3.predict(X_2_3), ls='--',\n",
    "                        color='green', label='M^(2/3) fit'))\n",
    "\n",
    "axes.set_xlabel('M (lbs)')\n",
    "axes.set_ylabel('t (hours)')\n",
    "axes.legend()"
   ]
  },
  {
   "cell_type": "code",
   "execution_count": 32,
   "metadata": {
    "collapsed": false
   },
   "outputs": [
    {
     "name": "stdout",
     "output_type": "stream",
     "text": [
      "[ 288.88277178]\n",
      "[ 61.08707288]\n"
     ]
    }
   ],
   "source": [
    "tyson_weight_kg = 39.09\n",
    "tyson_weight_lbs = tyson_weight_kg * 2.205\n",
    "tyson_df = pandas.DataFrame({'M': [tyson_weight_lbs,]})\n",
    "\n",
    "tyson_df = sm.add_constant(tyson_df)\n",
    "\n",
    "print(results_1_3.predict(tyson_df))\n",
    "print(results_2_3.predict(tyson_df))\n"
   ]
  },
  {
   "cell_type": "code",
   "execution_count": 25,
   "metadata": {
    "collapsed": false
   },
   "outputs": [
    {
     "data": {
      "text/plain": [
       "array([ 86.19345])"
      ]
     },
     "execution_count": 25,
     "metadata": {},
     "output_type": "execute_result"
    }
   ],
   "source": [
    "tyson_with_constant"
   ]
  },
  {
   "cell_type": "code",
   "execution_count": 42,
   "metadata": {
    "collapsed": false
   },
   "outputs": [
    {
     "data": {
      "text/plain": [
       "-0.32806860095512363"
      ]
     },
     "execution_count": 42,
     "metadata": {},
     "output_type": "execute_result"
    }
   ],
   "source": [
    "results_log.params['const']"
   ]
  },
  {
   "cell_type": "code",
   "execution_count": null,
   "metadata": {
    "collapsed": true
   },
   "outputs": [],
   "source": []
  }
 ],
 "metadata": {
  "kernelspec": {
   "display_name": "Python 2",
   "language": "python",
   "name": "python2"
  },
  "language_info": {
   "codemirror_mode": {
    "name": "ipython",
    "version": 2
   },
   "file_extension": ".py",
   "mimetype": "text/x-python",
   "name": "python",
   "nbconvert_exporter": "python",
   "pygments_lexer": "ipython2",
   "version": "2.7.10"
  }
 },
 "nbformat": 4,
 "nbformat_minor": 0
}
