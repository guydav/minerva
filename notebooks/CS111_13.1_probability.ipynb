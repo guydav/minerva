{
 "cells": [
  {
   "cell_type": "code",
   "execution_count": 1,
   "metadata": {
    "collapsed": true
   },
   "outputs": [],
   "source": [
    "%matplotlib inline"
   ]
  },
  {
   "cell_type": "code",
   "execution_count": 4,
   "metadata": {
    "collapsed": true
   },
   "outputs": [],
   "source": [
    "import pandas\n",
    "import numpy as np\n",
    "import matplotlib\n",
    "import matplotlib.pyplot as plt\n",
    "import random\n",
    "from collections import defaultdict"
   ]
  },
  {
   "cell_type": "code",
   "execution_count": 10,
   "metadata": {
    "collapsed": false
   },
   "outputs": [
    {
     "data": {
      "image/png": "[encoded data removed]",
      "text/plain": [
       "<matplotlib.figure.Figure at 0x109cf9ad0>"
      ]
     },
     "metadata": {},
     "output_type": "display_data"
    }
   ],
   "source": [
    "def die_roll_sum(n_trials, rolls_per_trial=3):\n",
    "    \"\"\"\n",
    "    1.1.3\n",
    "    \"\"\"\n",
    "    trials = [sum([random.randint(1, 6) for _ in range(rolls_per_trial)]) for _ in range(n_trials)]\n",
    "    plt.figure(figsize=(12, 8))\n",
    "    plt.hist(trials, bins=max(trials) - min(trials))\n",
    "    plt.show()\n",
    "    \n",
    "die_roll_sum(100000)"
   ]
  },
  {
   "cell_type": "code",
   "execution_count": 11,
   "metadata": {
    "collapsed": false
   },
   "outputs": [
    {
     "data": {
      "text/plain": [
       "1.199999999999818"
      ]
     },
     "execution_count": 11,
     "metadata": {},
     "output_type": "execute_result"
    }
   ],
   "source": [
    "(60.0 ** 2 + 2 * 61 ** 2 + 4 * 62 ** 2 + 2 * 63 ** 2 + 64 ** 2) / 10.0 - 62 ** 2"
   ]
  },
  {
   "cell_type": "code",
   "execution_count": 16,
   "metadata": {
    "collapsed": false
   },
   "outputs": [
    {
     "name": "stdout",
     "output_type": "stream",
     "text": [
      "0 : 508\n",
      "1000 : 489\n",
      "2000 : 470\n",
      "3000 : 457\n",
      "4000 : 484\n",
      "5000 : 479\n",
      "6000 : 478\n",
      "7000 : 462\n",
      "8000 : 473\n",
      "9000 : 474\n"
     ]
    }
   ],
   "source": [
    "def coin_tosses(n_trials=10000, report_interval=1000):\n",
    "    s_n = 0\n",
    "    for i in range(n_trials / report_interval):\n",
    "        s_n += sum([random.randint(0, 1) for _ in range(report_interval)])\n",
    "        trials = i * report_interval\n",
    "        print trials, ':', s_n - (trials / 2)\n",
    "        \n",
    "coin_tosses()"
   ]
  },
  {
   "cell_type": "code",
   "execution_count": null,
   "metadata": {
    "collapsed": true
   },
   "outputs": [],
   "source": []
  },
  {
   "cell_type": "code",
   "execution_count": null,
   "metadata": {
    "collapsed": true
   },
   "outputs": [],
   "source": []
  }
 ],
 "metadata": {
  "kernelspec": {
   "display_name": "Python 2",
   "language": "python",
   "name": "python2"
  },
  "language_info": {
   "codemirror_mode": {
    "name": "ipython",
    "version": 2
   },
   "file_extension": ".py",
   "mimetype": "text/x-python",
   "name": "python",
   "nbconvert_exporter": "python",
   "pygments_lexer": "ipython2",
   "version": "2.7.10"
  }
 },
 "nbformat": 4,
 "nbformat_minor": 0
}
