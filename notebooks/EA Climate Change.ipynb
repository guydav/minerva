{
 "cells": [
  {
   "cell_type": "code",
   "execution_count": 1,
   "metadata": {
    "collapsed": true
   },
   "outputs": [],
   "source": [
    "%matplotlib inline\n",
    "import matplotlib.pyplot as plt\n",
    "import numpy as np"
   ]
  },
  {
   "cell_type": "code",
   "execution_count": 17,
   "metadata": {
    "collapsed": true
   },
   "outputs": [],
   "source": [
    "import csv"
   ]
  },
  {
   "cell_type": "code",
   "execution_count": 18,
   "metadata": {
    "collapsed": true
   },
   "outputs": [],
   "source": [
    "data_path = '499_GRN_ANT_mass_changes.csv'\n",
    "data_file = open(data_path, 'U')\n",
    "\n"
   ]
  },
  {
   "cell_type": "code",
   "execution_count": 4,
   "metadata": {
    "collapsed": true
   },
   "outputs": [],
   "source": [
    "csv.reader?"
   ]
  },
  {
   "cell_type": "code",
   "execution_count": 19,
   "metadata": {
    "collapsed": false
   },
   "outputs": [],
   "source": [
    "rows = [row for row in csv.reader(data_file)]"
   ]
  },
  {
   "cell_type": "code",
   "execution_count": 6,
   "metadata": {
    "collapsed": true
   },
   "outputs": [],
   "source": [
    "open?"
   ]
  },
  {
   "cell_type": "code",
   "execution_count": 7,
   "metadata": {
    "collapsed": true
   },
   "outputs": [],
   "source": [
    "file?"
   ]
  },
  {
   "cell_type": "code",
   "execution_count": 13,
   "metadata": {
    "collapsed": false
   },
   "outputs": [
    {
     "data": {
      "text/plain": [
       "[['TIME (year.decimal)', 'Greenland mass (Gt)', 'Antarctica mass (Gt)'],\n",
       " ['2002.29', '1490.68', '967.2'],\n",
       " ['2002.35', '1485.69', '978.55'],\n",
       " ['2002.62', '1286.84', '512.02'],\n",
       " ['2002.71', '1257.85', '858.85'],\n",
       " ['2002.79', '1257.17', '693.87'],\n",
       " ['2002.87', '1288.44', '591.8'],\n",
       " ['2002.96', '1336.86', '657.56'],\n",
       " ['2003.04', '1354.37', '477.02'],\n",
       " ['2003.12', '1363.42', '545.79'],\n",
       " ['2003.2', '1426.92', '494.39'],\n",
       " ['2003.29', '1479.79', '577.3'],\n",
       " ['2003.36', '1504.11', '679.3'],\n",
       " ['2003.54', '1324.7', '514.42'],\n",
       " ['2003.62', '1162.43', '555.6'],\n",
       " ['2003.71', '1104.46', '603.51'],\n",
       " ['2003.79', '1126.45', '557.76'],\n",
       " ['2003.87', '1168.57', '527.64'],\n",
       " ['2003.96', '1155.66', '556.8'],\n",
       " ['2004.02', '1125.85', '483.31'],\n",
       " ['2004.13', '1133.01', '77.93'],\n",
       " ['2004.21', '1159.06', '366.8'],\n",
       " ['2004.29', '1249.03', '290.7'],\n",
       " ['2004.37', '1235.6', '564.23'],\n",
       " ['2004.46', '1172.84', '552.07'],\n",
       " ['2004.54', '1092.28', '335.96'],\n",
       " ['2004.62', '962.16', '304.95'],\n",
       " ['2004.71', '970.66', '380.4'],\n",
       " ['2004.79', '906.18', '676.83'],\n",
       " ['2004.87', '947.28', '455.02'],\n",
       " ['2004.96', '933.97', '405.3'],\n",
       " ['2005.04', '936.41', '339.3'],\n",
       " ['2005.12', '1021.98', '291.52'],\n",
       " ['2005.2', '1070.69', '296.7'],\n",
       " ['2005.29', '1097.61', '366.57'],\n",
       " ['2005.37', '1058.65', '359.15'],\n",
       " ['2005.46', '1026.6', '435.29'],\n",
       " ['2005.54', '914.1', '483.75'],\n",
       " ['2005.62', '744.81', '282.45'],\n",
       " ['2005.71', '663.34', '499.22'],\n",
       " ['2005.79', '608.83', '482.63'],\n",
       " ['2005.87', '620.45', '510.67'],\n",
       " ['2005.96', '737.9', '488.8'],\n",
       " ['2006.04', '743.89', '320.04'],\n",
       " ['2006.12', '792.83', '289.87'],\n",
       " ['2006.2', '821.97', '335.08'],\n",
       " ['2006.29', '756.04', '347.1'],\n",
       " ['2006.37', '764.83', '482.54'],\n",
       " ['2006.45', '806.94', '487.85'],\n",
       " ['2006.54', '713.56', '411.94'],\n",
       " ['2006.62', '560.78', '574.89'],\n",
       " ['2006.71', '459.64', '581.16'],\n",
       " ['2006.79', '493.23', '502.06'],\n",
       " ['2006.87', '511', '439.38'],\n",
       " ['2006.96', '525.09', '379.08'],\n",
       " ['2007.04', '553', '167.26'],\n",
       " ['2007.12', '554.41', '192.01'],\n",
       " ['2007.2', '539.07', '180.88'],\n",
       " ['2007.29', '572.07', '276.22'],\n",
       " ['2007.37', '595.57', '531.76'],\n",
       " ['2007.45', '588.49', '323.3'],\n",
       " ['2007.54', '402.47', '258.12'],\n",
       " ['2007.62', '187.15', '352.29'],\n",
       " ['2007.71', '123.37', '375.79'],\n",
       " ['2007.79', '165.13', '197.94'],\n",
       " ['2007.87', '172.27', '95.73'],\n",
       " ['2007.96', '225.21', '114.11'],\n",
       " ['2008.04', '222.64', '-114.03'],\n",
       " ['2008.12', '239.65', '-59.76'],\n",
       " ['2008.21', '308.63', '-42.86'],\n",
       " ['2008.29', '291.09', '72.41'],\n",
       " ['2008.37', '224.06', '55.08'],\n",
       " ['2008.46', '222.15', '89.79'],\n",
       " ['2008.54', '76.38', '-190.35'],\n",
       " ['2008.62', '-79.26', '-234.85'],\n",
       " ['2008.71', '-98.79', '4.4'],\n",
       " ['2008.79', '-104.46', '5.44'],\n",
       " ['2008.87', '-33.26', '54.43'],\n",
       " ['2008.96', '-0.64', '-18.83'],\n",
       " ['2009.04', '53.99', '-114.48'],\n",
       " ['2009.12', '67.25', '-67.51'],\n",
       " ['2009.2', '4.28', '-16.88'],\n",
       " ['2009.29', '-19.28', '-2.92'],\n",
       " ['2009.37', '-6.57', '2.72'],\n",
       " ['2009.46', '55.73', '-16.84'],\n",
       " ['2009.54', '-17.52', '-23.45'],\n",
       " ['2009.62', '-190.2', '-30.95'],\n",
       " ['2009.71', '-322.11', '-37.72'],\n",
       " ['2009.79', '-306.62', '-43.66'],\n",
       " ['2009.87', '-308.94', '-74.95'],\n",
       " ['2009.96', '-198.67', '-58.87'],\n",
       " ['2010.04', '-242.49', '-308.32'],\n",
       " ['2010.12', '-247.56', '-144.55'],\n",
       " ['2010.2', '-207.89', '-99.46'],\n",
       " ['2010.29', '-238.37', '-161.34'],\n",
       " ['2010.37', '-210.75', '-207.92'],\n",
       " ['2010.45', '-266.04', '-310.03'],\n",
       " ['2010.54', '-476.04', '-556.86'],\n",
       " ['2010.62', '-683.74', '-458.46'],\n",
       " ['2010.71', '-818.78', '-352.28'],\n",
       " ['2010.79', '-766.25', '-436.11'],\n",
       " ['2010.87', '-763.72', '-430.87'],\n",
       " ['2010.96', '-717.83', '-287.4'],\n",
       " ['2011.13', '-733.29', '-516.25'],\n",
       " ['2011.2', '-702.67', '-546.53'],\n",
       " ['2011.29', '-688.35', '-601.67'],\n",
       " ['2011.37', '-685.31', '-503.56'],\n",
       " ['2011.55', '-922.12', '-569.77'],\n",
       " ['2011.62', '-1102.54', '-494.07'],\n",
       " ['2011.71', '-1169.35', '-371.17'],\n",
       " ['2011.79', '-1136.17', '-460.04'],\n",
       " ['2011.83', '-1202.49', '-154.55'],\n",
       " ['2012', '-1185.68', '-452.2'],\n",
       " ['2012.04', '-1177.29', '-550.2'],\n",
       " ['2012.12', '-1144.9', '-587.79'],\n",
       " ['2012.21', '-1067.83', '-525.47'],\n",
       " ['2012.27', '-1027.98', '-571.73'],\n",
       " ['2012.46', '-1106.6', '-556.78'],\n",
       " ['2012.54', '-1328.83', '-710.84'],\n",
       " ['2012.62', '-1600.71', '-503.54'],\n",
       " ['2012.7', '-1687.68', '-293.29'],\n",
       " ['2012.89', '-1657.63', '-386.15'],\n",
       " ['2012.96', '-1636.74', '-542.45'],\n",
       " ['2013.04', '-1617.52', '-764.15'],\n",
       " ['2013.12', '-1576.41', '-858.67'],\n",
       " ['2013.3', '-1610.05', '-645.84'],\n",
       " ['2013.37', '-1583.06', '-522'],\n",
       " ['2013.46', '-1550.38', '-542.6'],\n",
       " ['2013.54', '-1666.54', '-650.2'],\n",
       " ['2013.79', '-1766.82', '-669.63'],\n",
       " ['2013.87', '-1715.27', '-785.21'],\n",
       " ['2013.96', '-1724.47', '-726.3'],\n",
       " ['2014.02', '-1697.13', '-1006.79'],\n",
       " ['2014.21', '-1677.03', '-1127.43'],\n",
       " ['2014.29', '-1668.19', '-908.13'],\n",
       " ['2014.37', '-1646.49', '-787.54'],\n",
       " ['2014.45', '-1672.08', '-1021.7'],\n",
       " ['2014.62', '-1985.59', '-1067.84'],\n",
       " ['2014.71', '-2024.82', '-780.87'],\n",
       " ['2014.79', '-1973.96', '-904.38'],\n",
       " ['2014.88', '-1911.78', '-1009.8']]"
      ]
     },
     "execution_count": 13,
     "metadata": {},
     "output_type": "execute_result"
    }
   ],
   "source": [
    "rows[9:]"
   ]
  },
  {
   "cell_type": "code",
   "execution_count": 21,
   "metadata": {
    "collapsed": false
   },
   "outputs": [],
   "source": [
    "raw_data = rows[9:]"
   ]
  },
  {
   "cell_type": "code",
   "execution_count": 22,
   "metadata": {
    "collapsed": false
   },
   "outputs": [],
   "source": [
    "header_row = raw_data[0]\n",
    "raw_data = raw_data[1:]"
   ]
  },
  {
   "cell_type": "code",
   "execution_count": 23,
   "metadata": {
    "collapsed": true
   },
   "outputs": [],
   "source": [
    "raw_data = [[row[0], float(row[1]), float(row[2]), float(row[1]) + float(row[2])] for row in raw_data]"
   ]
  },
  {
   "cell_type": "code",
   "execution_count": 24,
   "metadata": {
    "collapsed": false
   },
   "outputs": [
    {
     "data": {
      "text/plain": [
       "[['2002.29', 1490.68, 967.2, 2457.88],\n",
       " ['2002.35', 1485.69, 978.55, 2464.24],\n",
       " ['2002.62', 1286.84, 512.02, 1798.86],\n",
       " ['2002.71', 1257.85, 858.85, 2116.7],\n",
       " ['2002.79', 1257.17, 693.87, 1951.04],\n",
       " ['2002.87', 1288.44, 591.8, 1880.24],\n",
       " ['2002.96', 1336.86, 657.56, 1994.4199999999998],\n",
       " ['2003.04', 1354.37, 477.02, 1831.3899999999999],\n",
       " ['2003.12', 1363.42, 545.79, 1909.21],\n",
       " ['2003.2', 1426.92, 494.39, 1921.31],\n",
       " ['2003.29', 1479.79, 577.3, 2057.09],\n",
       " ['2003.36', 1504.11, 679.3, 2183.41],\n",
       " ['2003.54', 1324.7, 514.42, 1839.12],\n",
       " ['2003.62', 1162.43, 555.6, 1718.0300000000002],\n",
       " ['2003.71', 1104.46, 603.51, 1707.97],\n",
       " ['2003.79', 1126.45, 557.76, 1684.21],\n",
       " ['2003.87', 1168.57, 527.64, 1696.21],\n",
       " ['2003.96', 1155.66, 556.8, 1712.46],\n",
       " ['2004.02', 1125.85, 483.31, 1609.1599999999999],\n",
       " ['2004.13', 1133.01, 77.93, 1210.94],\n",
       " ['2004.21', 1159.06, 366.8, 1525.86],\n",
       " ['2004.29', 1249.03, 290.7, 1539.73],\n",
       " ['2004.37', 1235.6, 564.23, 1799.83],\n",
       " ['2004.46', 1172.84, 552.07, 1724.9099999999999],\n",
       " ['2004.54', 1092.28, 335.96, 1428.24],\n",
       " ['2004.62', 962.16, 304.95, 1267.11],\n",
       " ['2004.71', 970.66, 380.4, 1351.06],\n",
       " ['2004.79', 906.18, 676.83, 1583.01],\n",
       " ['2004.87', 947.28, 455.02, 1402.3],\n",
       " ['2004.96', 933.97, 405.3, 1339.27],\n",
       " ['2005.04', 936.41, 339.3, 1275.71],\n",
       " ['2005.12', 1021.98, 291.52, 1313.5],\n",
       " ['2005.2', 1070.69, 296.7, 1367.39],\n",
       " ['2005.29', 1097.61, 366.57, 1464.1799999999998],\n",
       " ['2005.37', 1058.65, 359.15, 1417.8000000000002],\n",
       " ['2005.46', 1026.6, 435.29, 1461.8899999999999],\n",
       " ['2005.54', 914.1, 483.75, 1397.85],\n",
       " ['2005.62', 744.81, 282.45, 1027.26],\n",
       " ['2005.71', 663.34, 499.22, 1162.56],\n",
       " ['2005.79', 608.83, 482.63, 1091.46],\n",
       " ['2005.87', 620.45, 510.67, 1131.1200000000001],\n",
       " ['2005.96', 737.9, 488.8, 1226.7],\n",
       " ['2006.04', 743.89, 320.04, 1063.93],\n",
       " ['2006.12', 792.83, 289.87, 1082.7],\n",
       " ['2006.2', 821.97, 335.08, 1157.05],\n",
       " ['2006.29', 756.04, 347.1, 1103.1399999999999],\n",
       " ['2006.37', 764.83, 482.54, 1247.3700000000001],\n",
       " ['2006.45', 806.94, 487.85, 1294.79],\n",
       " ['2006.54', 713.56, 411.94, 1125.5],\n",
       " ['2006.62', 560.78, 574.89, 1135.67],\n",
       " ['2006.71', 459.64, 581.16, 1040.8],\n",
       " ['2006.79', 493.23, 502.06, 995.29],\n",
       " ['2006.87', 511.0, 439.38, 950.38],\n",
       " ['2006.96', 525.09, 379.08, 904.1700000000001],\n",
       " ['2007.04', 553.0, 167.26, 720.26],\n",
       " ['2007.12', 554.41, 192.01, 746.42],\n",
       " ['2007.2', 539.07, 180.88, 719.95],\n",
       " ['2007.29', 572.07, 276.22, 848.2900000000001],\n",
       " ['2007.37', 595.57, 531.76, 1127.33],\n",
       " ['2007.45', 588.49, 323.3, 911.79],\n",
       " ['2007.54', 402.47, 258.12, 660.59],\n",
       " ['2007.62', 187.15, 352.29, 539.44],\n",
       " ['2007.71', 123.37, 375.79, 499.16],\n",
       " ['2007.79', 165.13, 197.94, 363.07],\n",
       " ['2007.87', 172.27, 95.73, 268.0],\n",
       " ['2007.96', 225.21, 114.11, 339.32],\n",
       " ['2008.04', 222.64, -114.03, 108.60999999999999],\n",
       " ['2008.12', 239.65, -59.76, 179.89000000000001],\n",
       " ['2008.21', 308.63, -42.86, 265.77],\n",
       " ['2008.29', 291.09, 72.41, 363.5],\n",
       " ['2008.37', 224.06, 55.08, 279.14],\n",
       " ['2008.46', 222.15, 89.79, 311.94],\n",
       " ['2008.54', 76.38, -190.35, -113.97],\n",
       " ['2008.62', -79.26, -234.85, -314.11],\n",
       " ['2008.71', -98.79, 4.4, -94.39],\n",
       " ['2008.79', -104.46, 5.44, -99.02],\n",
       " ['2008.87', -33.26, 54.43, 21.17],\n",
       " ['2008.96', -0.64, -18.83, -19.47],\n",
       " ['2009.04', 53.99, -114.48, -60.49],\n",
       " ['2009.12', 67.25, -67.51, -0.2600000000000051],\n",
       " ['2009.2', 4.28, -16.88, -12.599999999999998],\n",
       " ['2009.29', -19.28, -2.92, -22.200000000000003],\n",
       " ['2009.37', -6.57, 2.72, -3.85],\n",
       " ['2009.46', 55.73, -16.84, 38.89],\n",
       " ['2009.54', -17.52, -23.45, -40.97],\n",
       " ['2009.62', -190.2, -30.95, -221.14999999999998],\n",
       " ['2009.71', -322.11, -37.72, -359.83000000000004],\n",
       " ['2009.79', -306.62, -43.66, -350.28],\n",
       " ['2009.87', -308.94, -74.95, -383.89],\n",
       " ['2009.96', -198.67, -58.87, -257.53999999999996],\n",
       " ['2010.04', -242.49, -308.32, -550.81],\n",
       " ['2010.12', -247.56, -144.55, -392.11],\n",
       " ['2010.2', -207.89, -99.46, -307.34999999999997],\n",
       " ['2010.29', -238.37, -161.34, -399.71000000000004],\n",
       " ['2010.37', -210.75, -207.92, -418.66999999999996],\n",
       " ['2010.45', -266.04, -310.03, -576.0699999999999],\n",
       " ['2010.54', -476.04, -556.86, -1032.9],\n",
       " ['2010.62', -683.74, -458.46, -1142.2],\n",
       " ['2010.71', -818.78, -352.28, -1171.06],\n",
       " ['2010.79', -766.25, -436.11, -1202.3600000000001],\n",
       " ['2010.87', -763.72, -430.87, -1194.5900000000001],\n",
       " ['2010.96', -717.83, -287.4, -1005.23],\n",
       " ['2011.13', -733.29, -516.25, -1249.54],\n",
       " ['2011.2', -702.67, -546.53, -1249.1999999999998],\n",
       " ['2011.29', -688.35, -601.67, -1290.02],\n",
       " ['2011.37', -685.31, -503.56, -1188.87],\n",
       " ['2011.55', -922.12, -569.77, -1491.8899999999999],\n",
       " ['2011.62', -1102.54, -494.07, -1596.61],\n",
       " ['2011.71', -1169.35, -371.17, -1540.52],\n",
       " ['2011.79', -1136.17, -460.04, -1596.21],\n",
       " ['2011.83', -1202.49, -154.55, -1357.04],\n",
       " ['2012', -1185.68, -452.2, -1637.88],\n",
       " ['2012.04', -1177.29, -550.2, -1727.49],\n",
       " ['2012.12', -1144.9, -587.79, -1732.69],\n",
       " ['2012.21', -1067.83, -525.47, -1593.3],\n",
       " ['2012.27', -1027.98, -571.73, -1599.71],\n",
       " ['2012.46', -1106.6, -556.78, -1663.3799999999999],\n",
       " ['2012.54', -1328.83, -710.84, -2039.67],\n",
       " ['2012.62', -1600.71, -503.54, -2104.25],\n",
       " ['2012.7', -1687.68, -293.29, -1980.97],\n",
       " ['2012.89', -1657.63, -386.15, -2043.7800000000002],\n",
       " ['2012.96', -1636.74, -542.45, -2179.19],\n",
       " ['2013.04', -1617.52, -764.15, -2381.67],\n",
       " ['2013.12', -1576.41, -858.67, -2435.08],\n",
       " ['2013.3', -1610.05, -645.84, -2255.89],\n",
       " ['2013.37', -1583.06, -522.0, -2105.06],\n",
       " ['2013.46', -1550.38, -542.6, -2092.98],\n",
       " ['2013.54', -1666.54, -650.2, -2316.74],\n",
       " ['2013.79', -1766.82, -669.63, -2436.45],\n",
       " ['2013.87', -1715.27, -785.21, -2500.48],\n",
       " ['2013.96', -1724.47, -726.3, -2450.77],\n",
       " ['2014.02', -1697.13, -1006.79, -2703.92],\n",
       " ['2014.21', -1677.03, -1127.43, -2804.46],\n",
       " ['2014.29', -1668.19, -908.13, -2576.32],\n",
       " ['2014.37', -1646.49, -787.54, -2434.0299999999997],\n",
       " ['2014.45', -1672.08, -1021.7, -2693.7799999999997],\n",
       " ['2014.62', -1985.59, -1067.84, -3053.43],\n",
       " ['2014.71', -2024.82, -780.87, -2805.69],\n",
       " ['2014.79', -1973.96, -904.38, -2878.34],\n",
       " ['2014.88', -1911.78, -1009.8, -2921.58]]"
      ]
     },
     "execution_count": 24,
     "metadata": {},
     "output_type": "execute_result"
    }
   ],
   "source": [
    "raw_data"
   ]
  },
  {
   "cell_type": "code",
   "execution_count": 25,
   "metadata": {
    "collapsed": false
   },
   "outputs": [],
   "source": [
    "lines = plt.plot([row[0] for row in raw_data], [row[3] for row in raw_data], label='Total Ice Mass')\n",
    "line = lines[0]"
   ]
  },
  {
   "cell_type": "code",
   "execution_count": 13,
   "metadata": {
    "collapsed": false
   },
   "outputs": [
    {
     "ename": "NameError",
     "evalue": "name 'raw_data' is not defined",
     "output_type": "error",
     "traceback": [
      "\u001b[0;31m---------------------------------------------------------------------------\u001b[0m",
      "\u001b[0;31mNameError\u001b[0m                                 Traceback (most recent call last)",
      "\u001b[0;32m<ipython-input-13-f412a60ade5e>\u001b[0m in \u001b[0;36m<module>\u001b[0;34m()\u001b[0m\n\u001b[1;32m      1\u001b[0m \u001b[0;32mimport\u001b[0m \u001b[0mmatplotlib\u001b[0m\u001b[0;34m.\u001b[0m\u001b[0mlines\u001b[0m \u001b[0;32mas\u001b[0m \u001b[0mmlines\u001b[0m\u001b[0;34m\u001b[0m\u001b[0m\n\u001b[0;32m----> 2\u001b[0;31m \u001b[0mblue_line\u001b[0m \u001b[0;34m=\u001b[0m \u001b[0mmlines\u001b[0m\u001b[0;34m.\u001b[0m\u001b[0mLine2D\u001b[0m\u001b[0;34m(\u001b[0m\u001b[0;34m[\u001b[0m\u001b[0mrow\u001b[0m\u001b[0;34m[\u001b[0m\u001b[0;36m0\u001b[0m\u001b[0;34m]\u001b[0m \u001b[0;32mfor\u001b[0m \u001b[0mrow\u001b[0m \u001b[0;32min\u001b[0m \u001b[0mraw_data\u001b[0m\u001b[0;34m]\u001b[0m\u001b[0;34m,\u001b[0m \u001b[0;34m[\u001b[0m\u001b[0mrow\u001b[0m\u001b[0;34m[\u001b[0m\u001b[0;36m3\u001b[0m\u001b[0;34m]\u001b[0m \u001b[0;32mfor\u001b[0m \u001b[0mrow\u001b[0m \u001b[0;32min\u001b[0m \u001b[0mraw_data\u001b[0m\u001b[0;34m]\u001b[0m\u001b[0;34m,\u001b[0m \u001b[0mcolor\u001b[0m\u001b[0;34m=\u001b[0m\u001b[0;34m'blue'\u001b[0m\u001b[0;34m,\u001b[0m \u001b[0mlabel\u001b[0m\u001b[0;34m=\u001b[0m\u001b[0;34m'Total Ice Mass'\u001b[0m\u001b[0;34m)\u001b[0m\u001b[0;34m\u001b[0m\u001b[0m\n\u001b[0m\u001b[1;32m      3\u001b[0m \u001b[0mplt\u001b[0m\u001b[0;34m.\u001b[0m\u001b[0mlegend\u001b[0m\u001b[0;34m(\u001b[0m\u001b[0mhandles\u001b[0m\u001b[0;34m=\u001b[0m\u001b[0;34m[\u001b[0m\u001b[0mblue_line\u001b[0m\u001b[0;34m]\u001b[0m\u001b[0;34m)\u001b[0m\u001b[0;34m\u001b[0m\u001b[0m\n\u001b[1;32m      4\u001b[0m \u001b[0mplt\u001b[0m\u001b[0;34m.\u001b[0m\u001b[0mshow\u001b[0m\u001b[0;34m(\u001b[0m\u001b[0;34m)\u001b[0m\u001b[0;34m\u001b[0m\u001b[0m\n",
      "\u001b[0;31mNameError\u001b[0m: name 'raw_data' is not defined"
     ]
    }
   ],
   "source": [
    "import matplotlib.lines as mlines\n",
    "blue_line = mlines.Line2D([row[0] for row in raw_data], [row[3] for row in raw_data], color='blue', label='Total Ice Mass')\n",
    "plt.legend(handles=[blue_line])\n",
    "plt.show()"
   ]
  },
  {
   "cell_type": "code",
   "execution_count": 31,
   "metadata": {
    "collapsed": true
   },
   "outputs": [],
   "source": [
    "line = line[0]"
   ]
  },
  {
   "cell_type": "code",
   "execution_count": 27,
   "metadata": {
    "collapsed": false
   },
   "outputs": [],
   "source": [
    "lines = plt.plot([row[0] for row in raw_data], [row[3] for row in raw_data], color='#74BBFB', label='Total Ice Mass')\n",
    "line = lines[0]\n",
    "line.axes.set_xlabel('Date (Year)')\n",
    "line.axes.set_ylabel('Mass (Gt)')\n",
    "plt.legend(loc = 'best')\n",
    "plt.show()"
   ]
  },
  {
   "cell_type": "code",
   "execution_count": 38,
   "metadata": {
    "collapsed": true
   },
   "outputs": [],
   "source": [
    "plt.colors?"
   ]
  },
  {
   "cell_type": "code",
   "execution_count": 30,
   "metadata": {
    "collapsed": false
   },
   "outputs": [
    {
     "name": "stdout",
     "output_type": "stream",
     "text": [
      "[<matplotlib.lines.Line2D object at 0x112ce6910>]\n"
     ]
    }
   ],
   "source": [
    "plt.plot([row[0] for row in raw_data], [row[1] for row in raw_data], 'go', label='Greenland Ice Mass', markersize=5)\n",
    "lines = plt.plot([row[0] for row in raw_data], [row[2] for row in raw_data], 'ro', label='Antarctica Ice Mass', markersize=5)\n",
    "print lines\n",
    "line = lines[0]\n",
    "line.axes.set_xlabel('Year')\n",
    "line.axes.set_ylabel('Mass (Gt)')\n",
    "plt.legend(loc = 'best')\n",
    "plt.show()"
   ]
  },
  {
   "cell_type": "code",
   "execution_count": 55,
   "metadata": {
    "collapsed": true
   },
   "outputs": [],
   "source": []
  },
  {
   "cell_type": "code",
   "execution_count": 10,
   "metadata": {
    "collapsed": false
   },
   "outputs": [
    {
     "ename": "NameError",
     "evalue": "name 'raw_data' is not defined",
     "output_type": "error",
     "traceback": [
      "\u001b[0;31m---------------------------------------------------------------------------\u001b[0m",
      "\u001b[0;31mNameError\u001b[0m                                 Traceback (most recent call last)",
      "\u001b[0;32m<ipython-input-10-360a45467848>\u001b[0m in \u001b[0;36m<module>\u001b[0;34m()\u001b[0m\n\u001b[1;32m      1\u001b[0m \u001b[0mplt\u001b[0m\u001b[0;34m.\u001b[0m\u001b[0mfigure\u001b[0m\u001b[0;34m(\u001b[0m\u001b[0mfigsize\u001b[0m \u001b[0;34m=\u001b[0m \u001b[0;34m(\u001b[0m\u001b[0;36m8\u001b[0m\u001b[0;34m,\u001b[0m\u001b[0;36m6\u001b[0m\u001b[0;34m)\u001b[0m\u001b[0;34m,\u001b[0m \u001b[0mdpi\u001b[0m \u001b[0;34m=\u001b[0m \u001b[0;36m400\u001b[0m\u001b[0;34m)\u001b[0m\u001b[0;34m\u001b[0m\u001b[0m\n\u001b[0;32m----> 2\u001b[0;31m \u001b[0mtime\u001b[0m \u001b[0;34m=\u001b[0m \u001b[0mnp\u001b[0m\u001b[0;34m.\u001b[0m\u001b[0marray\u001b[0m\u001b[0;34m(\u001b[0m\u001b[0;34m[\u001b[0m\u001b[0mfloat\u001b[0m\u001b[0;34m(\u001b[0m\u001b[0mrow\u001b[0m\u001b[0;34m[\u001b[0m\u001b[0;36m0\u001b[0m\u001b[0;34m]\u001b[0m\u001b[0;34m)\u001b[0m \u001b[0;32mfor\u001b[0m \u001b[0mrow\u001b[0m \u001b[0;32min\u001b[0m \u001b[0mraw_data\u001b[0m\u001b[0;34m]\u001b[0m\u001b[0;34m)\u001b[0m\u001b[0;34m\u001b[0m\u001b[0m\n\u001b[0m\u001b[1;32m      3\u001b[0m \u001b[0mtotal_ice_mass\u001b[0m \u001b[0;34m=\u001b[0m \u001b[0mnp\u001b[0m\u001b[0;34m.\u001b[0m\u001b[0marray\u001b[0m\u001b[0;34m(\u001b[0m\u001b[0;34m[\u001b[0m\u001b[0mrow\u001b[0m\u001b[0;34m[\u001b[0m\u001b[0;36m3\u001b[0m\u001b[0;34m]\u001b[0m \u001b[0;32mfor\u001b[0m \u001b[0mrow\u001b[0m \u001b[0;32min\u001b[0m \u001b[0mraw_data\u001b[0m\u001b[0;34m]\u001b[0m\u001b[0;34m)\u001b[0m\u001b[0;34m\u001b[0m\u001b[0m\n\u001b[1;32m      4\u001b[0m \u001b[0mregression\u001b[0m \u001b[0;34m=\u001b[0m \u001b[0mstats\u001b[0m\u001b[0;34m.\u001b[0m\u001b[0mlinregress\u001b[0m\u001b[0;34m(\u001b[0m\u001b[0mtime\u001b[0m\u001b[0;34m,\u001b[0m \u001b[0mtotal_ice_mass\u001b[0m\u001b[0;34m)\u001b[0m\u001b[0;34m\u001b[0m\u001b[0m\n\u001b[1;32m      5\u001b[0m \u001b[0;34m\u001b[0m\u001b[0m\n",
      "\u001b[0;31mNameError\u001b[0m: name 'raw_data' is not defined"
     ]
    }
   ],
   "source": [
    "plt.figure(figsize = (8,6), dpi = 400)\n",
    "time = np.array([float(row[0]) for row in raw_data])\n",
    "total_ice_mass = np.array([row[3] for row in raw_data])\n",
    "regression = stats.linregress(time, total_ice_mass)\n",
    "\n",
    "plt.plot(time, total_ice_mass, color='#74BBFB', label='Total Ice Mass')\n",
    "regression_label = 'y = {m:.2e}x + {b:.2e}\\nr = {r:.2f} r^2 = {r2:.2f}'\\\n",
    "    .format(m=regression.slope, b=regression.intercept, r=regression.rvalue, r2=regression.rvalue ** 2)\n",
    "plt.plot(time, regression.slope * time + regression.intercept, '--', label=regression_label)\n",
    "\n",
    "plt.grid(True)\n",
    "plt.xlabel('Date (Year)')\n",
    "plt.ylabel('Mass (Gt) (Normalized)')\n",
    "plt.legend(loc = 'best')"
   ]
  },
  {
   "cell_type": "code",
   "execution_count": 67,
   "metadata": {
    "collapsed": false
   },
   "outputs": [
    {
     "data": {
      "text/plain": [
       "array([ -4.21564440e+02,   8.46678904e+05])"
      ]
     },
     "execution_count": 67,
     "metadata": {},
     "output_type": "execute_result"
    }
   ],
   "source": [
    "np.polyfit(time, total_ice_mass, 1)\n"
   ]
  },
  {
   "cell_type": "code",
   "execution_count": 65,
   "metadata": {
    "collapsed": false
   },
   "outputs": [],
   "source": [
    "time = [float(row[0]) for row in raw_data]"
   ]
  },
  {
   "cell_type": "code",
   "execution_count": 69,
   "metadata": {
    "collapsed": false
   },
   "outputs": [],
   "source": [
    "import scipy"
   ]
  },
  {
   "cell_type": "code",
   "execution_count": 70,
   "metadata": {
    "collapsed": false
   },
   "outputs": [
    {
     "ename": "ImportError",
     "evalue": "No module named np.stats",
     "output_type": "error",
     "traceback": [
      "\u001b[0;31m---------------------------------------------------------------------------\u001b[0m",
      "\u001b[0;31mImportError\u001b[0m                               Traceback (most recent call last)",
      "\u001b[0;32m<ipython-input-70-5f4c6800bda4>\u001b[0m in \u001b[0;36m<module>\u001b[0;34m()\u001b[0m\n\u001b[0;32m----> 1\u001b[0;31m \u001b[0;32mimport\u001b[0m \u001b[0mnp\u001b[0m\u001b[0;34m.\u001b[0m\u001b[0mstats\u001b[0m\u001b[0;34m\u001b[0m\u001b[0m\n\u001b[0m",
      "\u001b[0;31mImportError\u001b[0m: No module named np.stats"
     ]
    }
   ],
   "source": [
    "import np.stats"
   ]
  },
  {
   "cell_type": "code",
   "execution_count": 87,
   "metadata": {
    "collapsed": false
   },
   "outputs": [
    {
     "name": "stdout",
     "output_type": "stream",
     "text": [
      "LinregressResult(slope=-421.56443975484166, intercept=846678.90369717579, rvalue=-0.98525532886110578, pvalue=1.0537128742542539e-107, stderr=6.2316257689514236)\n"
     ]
    }
   ],
   "source": [
    "import scipy.stats as stats\n",
    "regression = stats.linregress(time, total_ice_mass)\n",
    "print regression"
   ]
  },
  {
   "cell_type": "code",
   "execution_count": 245,
   "metadata": {
    "collapsed": false
   },
   "outputs": [
    {
     "data": {
      "text/plain": [
       "<matplotlib.legend.Legend at 0x115c01650>"
      ]
     },
     "execution_count": 245,
     "metadata": {},
     "output_type": "execute_result"
    },
    {
     "data": {
      "image/png": "[encoded data removed]",
      "text/plain": [
       "<matplotlib.figure.Figure at 0x115911690>"
      ]
     },
     "metadata": {},
     "output_type": "display_data"
    }
   ],
   "source": [
    "plt.figure(figsize = (8,6), dpi = 400)\n",
    "time = np.array([float(row[0]) for row in raw_data])\n",
    "greenland_ice_mass = np.array([row[1] for row in raw_data])\n",
    "greenland_reg = stats.linregress(time, greenland_ice_mass)\n",
    "\n",
    "antarctica_ice_mass = np.array([row[2] for row in raw_data])\n",
    "antarctica_reg = stats.linregress(time, antarctica_ice_mass)\n",
    "\n",
    "plt.plot(np.linspace(2002,2016, 100), np.linspace(2002,2016, 100) * 0, color='black')\n",
    "plt.plot(time, greenland_ice_mass, 'o', color='lightgreen', label='Greenland Ice Mass', markersize=4)\n",
    "greenland_reg_label = 'y = {m:.2e}x + {b:.2e}\\nr = {r:.2f} r^2 = {r2:.2f}'\\\n",
    "    .format(m=greenland_reg.slope, b=greenland_reg.intercept, r=greenland_reg.rvalue, r2=greenland_reg.rvalue ** 2)\n",
    "plt.plot(time, greenland_reg.slope * time + greenland_reg.intercept, '--', color='darkgreen', label=greenland_reg_label, linewidth=3)\n",
    "\n",
    "plt.plot(time, antarctica_ice_mass, 'o', color='#74BBFB', label='Antarctica Ice Mass', markersize=4)\n",
    "antarctica_reg_label ='y = {m:.2e}x + {b:.2e}\\nr = {r:.2f} r^2 = {r2:.2f}'\\\n",
    "    .format(m=antarctica_reg.slope, b=antarctica_reg.intercept, r=antarctica_reg.rvalue, r2=antarctica_reg.rvalue ** 2)\n",
    "plt.plot(time, antarctica_reg.slope * time + antarctica_reg.intercept, '--', color='blue', label=antarctica_reg_label, linewidth=3)\n",
    "\n",
    "plt.grid(True)\n",
    "plt.xlabel('Date (Year)')\n",
    "plt.ylabel('Mass (Gt) (Normalized)')\n",
    "plt.legend(loc = 'best')"
   ]
  },
  {
   "cell_type": "code",
   "execution_count": 102,
   "metadata": {
    "collapsed": false
   },
   "outputs": [],
   "source": [
    "plt.axis?"
   ]
  },
  {
   "cell_type": "code",
   "execution_count": 125,
   "metadata": {
    "collapsed": true
   },
   "outputs": [],
   "source": [
    "plt.hist?"
   ]
  },
  {
   "cell_type": "code",
   "execution_count": 236,
   "metadata": {
    "collapsed": false
   },
   "outputs": [
    {
     "data": {
      "image/png": "[encoded data removed]",
      "text/plain": [
       "<matplotlib.figure.Figure at 0x114b75c10>"
      ]
     },
     "metadata": {},
     "output_type": "display_data"
    },
    {
     "name": "stdout",
     "output_type": "stream",
     "text": [
      "0.000214285714277 1031.44935807 -0.000285714285721 496.720531486\n"
     ]
    }
   ],
   "source": [
    "plt.figure(figsize = (8,6), dpi = 400)\n",
    "time = np.array([float(row[0]) for row in raw_data])\n",
    "greenland_ice_mass = np.array([row[1] for row in raw_data])\n",
    "antarctica_ice_mass = np.array([row[2] for row in raw_data])\n",
    "\n",
    "plt.hist([greenland_ice_mass, antarctica_ice_mass], np.linspace(-2500,2000,9), color=['green', '#74BBFB'], alpha=0.75)\n",
    "greenland_mean = np.mean(greenland_ice_mass)\n",
    "greenland_stddev = np.std(greenland_ice_mass)\n",
    "greenland_label = 'Greenland Ice Mass\\n mean = {mean:.2e}\\nstddev = {stddev:.2e}'\\\n",
    "    .format(mean = greenland_mean, stddev=greenland_stddev)\n",
    "\n",
    "antarctica_mean = np.mean(antarctica_ice_mass)\n",
    "antarctica_stddev = np.std(antarctica_ice_mass)\n",
    "antarctica_label = 'Antarctica Ice Mass\\n mean = {mean:.2e}\\nstddev = {stddev:.2e}'\\\n",
    "    .format(mean = antarctica_mean, stddev=antarctica_stddev)\n",
    "\n",
    "plt.legend([greenland_label, antarctica_label], loc='best')\n",
    "plt.xlabel('Mass (Gt) (Normalized)')\n",
    "plt.ylabel('Count')\n",
    "plt.grid(True)\n",
    "plt.show()\n",
    "\n",
    "print greenland_mean, greenland_stddev, antarctica_mean, antarctica_stddev\n"
   ]
  },
  {
   "cell_type": "code",
   "execution_count": 174,
   "metadata": {
    "collapsed": false
   },
   "outputs": [
    {
     "data": {
      "text/plain": [
       "[['2002.29', 1490.68, 967.2, 2457.88, 0.6064901459794619],\n",
       " ['2002.35', 1485.69, 978.55, 2464.24, 0.6028998798818298],\n",
       " ['2002.62', 1286.84, 512.02, 1798.86, 0.7153641750886672],\n",
       " ['2002.71', 1257.85, 858.85, 2116.7, 0.5942504842443426],\n",
       " ['2002.79', 1257.17, 693.87, 1951.04, 0.6443589060193539],\n",
       " ['2002.87', 1288.44, 591.8, 1880.24, 0.6852529464323703],\n",
       " ['2002.96', 1336.86, 657.56, 1994.4199999999998, 0.6703001373832994],\n",
       " ['2003.04', 1354.37, 477.02, 1831.3899999999999, 0.7395311757735927],\n",
       " ['2003.12', 1363.42, 545.79, 1909.21, 0.7141278329780381],\n",
       " ['2003.2', 1426.92, 494.39, 1921.31, 0.7426807750961584],\n",
       " ['2003.29', 1479.79, 577.3, 2057.09, 0.7193608446883704],\n",
       " ['2003.36', 1504.11, 679.3, 2183.41, 0.6888811537915462],\n",
       " ['2003.54', 1324.7, 514.42, 1839.12, 0.7202901387620166],\n",
       " ['2003.62', 1162.43, 555.6, 1718.0300000000002, 0.6766063456400645],\n",
       " ['2003.71', 1104.46, 603.51, 1707.97, 0.6466507022957078],\n",
       " ['2003.79', 1126.45, 557.76, 1684.21, 0.6688298965093427],\n",
       " ['2003.87', 1168.57, 527.64, 1696.21, 0.688930026352869],\n",
       " ['2003.96', 1155.66, 556.8, 1712.46, 0.6748537192109597],\n",
       " ['2004.02', 1125.85, 483.31, 1609.1599999999999, 0.6996507494593452],\n",
       " ['2004.13', 1133.01, 77.93, 1210.94, 0.9356450360876674],\n",
       " ['2004.21', 1159.06, 366.8, 1525.86, 0.7596109734838059],\n",
       " ['2004.29', 1249.03, 290.7, 1539.73, 0.8112006650516649],\n",
       " ['2004.37', 1235.6, 564.23, 1799.83, 0.6865092814321352],\n",
       " ['2004.46', 1172.84, 552.07, 1724.9099999999999, 0.6799427216492455],\n",
       " ['2004.54', 1092.28, 335.96, 1428.24, 0.764773427435165],\n",
       " ['2004.62', 962.16, 304.95, 1267.11, 0.7593342330184436],\n",
       " ['2004.71', 970.66, 380.4, 1351.06, 0.7184432963746984],\n",
       " ['2004.79', 906.18, 676.83, 1583.01, 0.5724411090264748],\n",
       " ['2004.87', 947.28, 455.02, 1402.3, 0.6755187905583684],\n",
       " ['2004.96', 933.97, 405.3, 1339.27, 0.6973724491700702],\n",
       " ['2005.04', 936.41, 339.3, 1275.71, 0.7340304614685155],\n",
       " ['2005.12', 1021.98, 291.52, 1313.5, 0.778058622002284],\n",
       " ['2005.2', 1070.69, 296.7, 1367.39, 0.7830172810975654],\n",
       " ['2005.29', 1097.61, 366.57, 1464.1799999999998, 0.7496414375281728],\n",
       " ['2005.37', 1058.65, 359.15, 1417.8000000000002, 0.7466850049372267],\n",
       " ['2005.46', 1026.6, 435.29, 1461.8899999999999, 0.7022416187264432],\n",
       " ['2005.54', 914.1, 483.75, 1397.85, 0.6539328254104518],\n",
       " ['2005.62', 744.81, 282.45, 1027.26, 0.7250452660475439],\n",
       " ['2005.71', 663.34, 499.22, 1162.56, 0.5705856041838702],\n",
       " ['2005.79', 608.83, 482.63, 1091.46, 0.5578124713686256],\n",
       " ['2005.87', 620.45, 510.67, 1131.1200000000001, 0.5485271235589504],\n",
       " ['2005.96', 737.9, 488.8, 1226.7, 0.6015325670498084],\n",
       " ['2006.04', 743.89, 320.04, 1063.93, 0.6991907362326468],\n",
       " ['2006.12', 792.83, 289.87, 1082.7, 0.7322711739170592],\n",
       " ['2006.2', 821.97, 335.08, 1157.05, 0.7104014519683679],\n",
       " ['2006.29', 756.04, 347.1, 1103.1399999999999, 0.6853527204162664],\n",
       " ['2006.37', 764.83, 482.54, 1247.3700000000001, 0.6131540761762748],\n",
       " ['2006.45', 806.94, 487.85, 1294.79, 0.6232207539446551],\n",
       " ['2006.54', 713.56, 411.94, 1125.5, 0.6339937805419813],\n",
       " ['2006.62', 560.78, 574.89, 1135.67, 0.4937878080780508],\n",
       " ['2006.71', 459.64, 581.16, 1040.8, 0.4416218293620292],\n",
       " ['2006.79', 493.23, 502.06, 995.29, 0.4955641069437049],\n",
       " ['2006.87', 511.0, 439.38, 950.38, 0.5376796649761149],\n",
       " ['2006.96', 525.09, 379.08, 904.1700000000001, 0.5807425594744351],\n",
       " ['2007.04', 553.0, 167.26, 720.26, 0.7677783022797323],\n",
       " ['2007.12', 554.41, 192.01, 746.42, 0.7427587685217438],\n",
       " ['2007.2', 539.07, 180.88, 719.95, 0.7487603305785124],\n",
       " ['2007.29', 572.07, 276.22, 848.2900000000001, 0.6743802237442384],\n",
       " ['2007.37', 595.57, 531.76, 1127.33, 0.5283013846877135],\n",
       " ['2007.45', 588.49, 323.3, 911.79, 0.6454227398852806],\n",
       " ['2007.54', 402.47, 258.12, 660.59, 0.6092583902269184],\n",
       " ['2007.62', 187.15, 352.29, 539.44, 0.34693385733353105],\n",
       " ['2007.71', 123.37, 375.79, 499.16, 0.2471552207708951],\n",
       " ['2007.79', 165.13, 197.94, 363.07, 0.45481587572644394],\n",
       " ['2007.87', 172.27, 95.73, 268.0, 0.6427985074626866],\n",
       " ['2007.96', 225.21, 114.11, 339.32, 0.6637097724861488],\n",
       " ['2008.04', 222.64, -114.03, 108.60999999999999, 2.0499033238191697],\n",
       " ['2008.12', 239.65, -59.76, 179.89000000000001, 1.3322030129523597],\n",
       " ['2008.21', 308.63, -42.86, 265.77, 1.1612672611656696],\n",
       " ['2008.29', 291.09, 72.41, 363.5, 0.8007977991746904],\n",
       " ['2008.37', 224.06, 55.08, 279.14, 0.802679658952497],\n",
       " ['2008.46', 222.15, 89.79, 311.94, 0.7121561838815157],\n",
       " ['2008.54', 76.38, -190.35, -113.97, -0.6701763622005791],\n",
       " ['2008.62', -79.26, -234.85, -314.11, 0.2523319856101366],\n",
       " ['2008.71', -98.79, 4.4, -94.39, 1.0466151075325776],\n",
       " ['2008.79', -104.46, 5.44, -99.02, 1.054938396283579],\n",
       " ['2008.87', -33.26, 54.43, 21.17, -1.5710911667453942],\n",
       " ['2008.96', -0.64, -18.83, -19.47, 0.03287108371854135],\n",
       " ['2009.04', 53.99, -114.48, -60.49, -0.8925442221854852],\n",
       " ['2009.12', 67.25, -67.51, -0.2600000000000051, -258.6538461538411],\n",
       " ['2009.2', 4.28, -16.88, -12.599999999999998, -0.33968253968253975],\n",
       " ['2009.29', -19.28, -2.92, -22.200000000000003, 0.8684684684684684],\n",
       " ['2009.37', -6.57, 2.72, -3.85, 1.7064935064935065],\n",
       " ['2009.46', 55.73, -16.84, 38.89, 1.433016199537156],\n",
       " ['2009.54', -17.52, -23.45, -40.97, 0.42762997315108614],\n",
       " ['2009.62', -190.2, -30.95, -221.14999999999998, 0.8600497399954782],\n",
       " ['2009.71', -322.11, -37.72, -359.83000000000004, 0.8951727204513241],\n",
       " ['2009.79', -306.62, -43.66, -350.28, 0.8753568573712459],\n",
       " ['2009.87', -308.94, -74.95, -383.89, 0.804761780718435],\n",
       " ['2009.96', -198.67, -58.87, -257.53999999999996, 0.7714141492583677],\n",
       " ['2010.04', -242.49, -308.32, -550.81, 0.44024255187814315],\n",
       " ['2010.12', -247.56, -144.55, -392.11, 0.6313534467368851],\n",
       " ['2010.2', -207.89, -99.46, -307.34999999999997, 0.6763949894257362],\n",
       " ['2010.29', -238.37, -161.34, -399.71000000000004, 0.5963573590853368],\n",
       " ['2010.37', -210.75, -207.92, -418.66999999999996, 0.5033797501612248],\n",
       " ['2010.45', -266.04, -310.03, -576.0699999999999, 0.4618188761782423],\n",
       " ['2010.54', -476.04, -556.86, -1032.9, 0.46087714202730173],\n",
       " ['2010.62', -683.74, -458.46, -1142.2, 0.5986167046051479],\n",
       " ['2010.71', -818.78, -352.28, -1171.06, 0.6991785220227827],\n",
       " ['2010.79', -766.25, -436.11, -1202.3600000000001, 0.6372883329452077],\n",
       " ['2010.87', -763.72, -430.87, -1194.5900000000001, 0.6393155810780267],\n",
       " ['2010.96', -717.83, -287.4, -1005.23, 0.7140952816768302],\n",
       " ['2011.13', -733.29, -516.25, -1249.54, 0.5868479600492982],\n",
       " ['2011.2', -702.67, -546.53, -1249.1999999999998, 0.5624959974383607],\n",
       " ['2011.29', -688.35, -601.67, -1290.02, 0.5335963783507233],\n",
       " ['2011.37', -685.31, -503.56, -1188.87, 0.5764381303254351],\n",
       " ['2011.55', -922.12, -569.77, -1491.8899999999999, 0.6180884649672563],\n",
       " ['2011.62', -1102.54, -494.07, -1596.61, 0.6905506040924209],\n",
       " ['2011.71', -1169.35, -371.17, -1540.52, 0.7590618752109677],\n",
       " ['2011.79', -1136.17, -460.04, -1596.21, 0.7117923080296452],\n",
       " ['2011.83', -1202.49, -154.55, -1357.04, 0.8861124211519189],\n",
       " ['2012', -1185.68, -452.2, -1637.88, 0.7239113976603903],\n",
       " ['2012.04', -1177.29, -550.2, -1727.49, 0.6815032214368824],\n",
       " ['2012.12', -1144.9, -587.79, -1732.69, 0.660764476045917],\n",
       " ['2012.21', -1067.83, -525.47, -1593.3, 0.6702002133935856],\n",
       " ['2012.27', -1027.98, -571.73, -1599.71, 0.6426039719699196],\n",
       " ['2012.46', -1106.6, -556.78, -1663.3799999999999, 0.6652719162187835],\n",
       " ['2012.54', -1328.83, -710.84, -2039.67, 0.6514926434178078],\n",
       " ['2012.62', -1600.71, -503.54, -2104.25, 0.7607033384816443],\n",
       " ['2012.7', -1687.68, -293.29, -1980.97, 0.851946268747129],\n",
       " ['2012.89', -1657.63, -386.15, -2043.7800000000002, 0.8110608773938486],\n",
       " ['2012.96', -1636.74, -542.45, -2179.19, 0.751077235119471],\n",
       " ['2013.04', -1617.52, -764.15, -2381.67, 0.6791537030738936],\n",
       " ['2013.12', -1576.41, -858.67, -2435.08, 0.6473750349064508],\n",
       " ['2013.3', -1610.05, -645.84, -2255.89, 0.7137094450527287],\n",
       " ['2013.37', -1583.06, -522.0, -2105.06, 0.7520260705158047],\n",
       " ['2013.46', -1550.38, -542.6, -2092.98, 0.7407524199944577],\n",
       " ['2013.54', -1666.54, -650.2, -2316.74, 0.7193470134758325],\n",
       " ['2013.79', -1766.82, -669.63, -2436.45, 0.7251616080773257],\n",
       " ['2013.87', -1715.27, -785.21, -2500.48, 0.68597629255183],\n",
       " ['2013.96', -1724.47, -726.3, -2450.77, 0.7036441608147643],\n",
       " ['2014.02', -1697.13, -1006.79, -2703.92, 0.6276554040060357],\n",
       " ['2014.21', -1677.03, -1127.43, -2804.46, 0.5979867782032905],\n",
       " ['2014.29', -1668.19, -908.13, -2576.32, 0.6475088498323189],\n",
       " ['2014.37', -1646.49, -787.54, -2434.0299999999997, 0.6764460585941834],\n",
       " ['2014.45', -1672.08, -1021.7, -2693.7799999999997, 0.6207188411822792],\n",
       " ['2014.62', -1985.59, -1067.84, -3053.43, 0.6502818142220388],\n",
       " ['2014.71', -2024.82, -780.87, -2805.69, 0.7216834361600889],\n",
       " ['2014.79', -1973.96, -904.38, -2878.34, 0.6857980641619822],\n",
       " ['2014.88', -1911.78, -1009.8, -2921.58, 0.6543651038136898]]"
      ]
     },
     "execution_count": 174,
     "metadata": {},
     "output_type": "execute_result"
    }
   ],
   "source": [
    "[entry + [entry[1]/entry[3]] for entry in raw_data]"
   ]
  },
  {
   "cell_type": "code",
   "execution_count": 221,
   "metadata": {
    "collapsed": false
   },
   "outputs": [
    {
     "name": "stdout",
     "output_type": "stream",
     "text": [
      "-0.000285714285721 -0.000285714285721\n"
     ]
    }
   ],
   "source": [
    "scipy.stats.describe([entry[1] for entry in raw_data])\n",
    "\n",
    "print np.mean(antarctica_ice_mass), np.average(antarctica_ice_mass)\n",
    "\n",
    "\n"
   ]
  },
  {
   "cell_type": "code",
   "execution_count": 7,
   "metadata": {
    "collapsed": false
   },
   "outputs": [
    {
     "ename": "NameError",
     "evalue": "name 'raw_data' is not defined",
     "output_type": "error",
     "traceback": [
      "\u001b[0;31m---------------------------------------------------------------------------\u001b[0m",
      "\u001b[0;31mNameError\u001b[0m                                 Traceback (most recent call last)",
      "\u001b[0;32m<ipython-input-7-0c73c70dccc0>\u001b[0m in \u001b[0;36m<module>\u001b[0;34m()\u001b[0m\n\u001b[1;32m      4\u001b[0m \u001b[0;34m\u001b[0m\u001b[0m\n\u001b[1;32m      5\u001b[0m \u001b[0mplt\u001b[0m\u001b[0;34m.\u001b[0m\u001b[0mfigure\u001b[0m\u001b[0;34m(\u001b[0m\u001b[0mfigsize\u001b[0m \u001b[0;34m=\u001b[0m \u001b[0;34m(\u001b[0m\u001b[0;36m8\u001b[0m\u001b[0;34m,\u001b[0m\u001b[0;36m6\u001b[0m\u001b[0;34m)\u001b[0m\u001b[0;34m,\u001b[0m \u001b[0mdpi\u001b[0m \u001b[0;34m=\u001b[0m \u001b[0;36m400\u001b[0m\u001b[0;34m)\u001b[0m\u001b[0;34m\u001b[0m\u001b[0m\n\u001b[0;32m----> 6\u001b[0;31m \u001b[0mtime\u001b[0m \u001b[0;34m=\u001b[0m \u001b[0mnp\u001b[0m\u001b[0;34m.\u001b[0m\u001b[0marray\u001b[0m\u001b[0;34m(\u001b[0m\u001b[0;34m[\u001b[0m\u001b[0mfloat\u001b[0m\u001b[0;34m(\u001b[0m\u001b[0mrow\u001b[0m\u001b[0;34m[\u001b[0m\u001b[0;36m0\u001b[0m\u001b[0;34m]\u001b[0m\u001b[0;34m)\u001b[0m \u001b[0;32mfor\u001b[0m \u001b[0mrow\u001b[0m \u001b[0;32min\u001b[0m \u001b[0mraw_data\u001b[0m\u001b[0;34m]\u001b[0m\u001b[0;34m)\u001b[0m\u001b[0;34m\u001b[0m\u001b[0m\n\u001b[0m\u001b[1;32m      7\u001b[0m \u001b[0mgreenland_ice_mass\u001b[0m \u001b[0;34m=\u001b[0m \u001b[0mnp\u001b[0m\u001b[0;34m.\u001b[0m\u001b[0marray\u001b[0m\u001b[0;34m(\u001b[0m\u001b[0;34m[\u001b[0m\u001b[0mrow\u001b[0m\u001b[0;34m[\u001b[0m\u001b[0;36m1\u001b[0m\u001b[0;34m]\u001b[0m \u001b[0;32mfor\u001b[0m \u001b[0mrow\u001b[0m \u001b[0;32min\u001b[0m \u001b[0mraw_data\u001b[0m\u001b[0;34m]\u001b[0m\u001b[0;34m)\u001b[0m\u001b[0;34m\u001b[0m\u001b[0m\n\u001b[1;32m      8\u001b[0m \u001b[0mantarctica_ice_mass\u001b[0m \u001b[0;34m=\u001b[0m \u001b[0mnp\u001b[0m\u001b[0;34m.\u001b[0m\u001b[0marray\u001b[0m\u001b[0;34m(\u001b[0m\u001b[0;34m[\u001b[0m\u001b[0mrow\u001b[0m\u001b[0;34m[\u001b[0m\u001b[0;36m2\u001b[0m\u001b[0;34m]\u001b[0m \u001b[0;32mfor\u001b[0m \u001b[0mrow\u001b[0m \u001b[0;32min\u001b[0m \u001b[0mraw_data\u001b[0m\u001b[0;34m]\u001b[0m\u001b[0;34m)\u001b[0m\u001b[0;34m\u001b[0m\u001b[0m\n",
      "\u001b[0;31mNameError\u001b[0m: name 'raw_data' is not defined"
     ]
    }
   ],
   "source": [
    "import matplotlib.pyplot as plt\n",
    "import matplotlib.patches as patches\n",
    "import numpy as np\n",
    "\n",
    "plt.figure(figsize = (8,6), dpi = 400)\n",
    "time = np.array([float(row[0]) for row in raw_data])\n",
    "greenland_ice_mass = np.array([row[1] for row in raw_data])\n",
    "antarctica_ice_mass = np.array([row[2] for row in raw_data])\n",
    "\n",
    "plt.stackplot(time, greenland_ice_mass, antarctica_ice_mass, alpha=0.75, colors=['green', '#74BBFB'], baseline='zero')\n",
    "plt.legend(['Greenland Ice Mass', 'Antarctica Ice Mass'], loc='best')\n",
    "plt.xlabel('Date (Year)')\n",
    "plt.ylabel('Mass (Gt) (Normalized)')\n",
    "\n",
    "greenland_patch = patches.Patch(color='green', label='Greenland Ice Mass')\n",
    "antarctica_patch = patches.Patch(color='#74BBFB', label='Antarctica Ice Mass')\n",
    "plt.legend(handles=[greenland_patch, antarctica_patch], loc='best')\n",
    "plt.grid(True)\n",
    "plt.show()\n"
   ]
  },
  {
   "cell_type": "code",
   "execution_count": 2,
   "metadata": {
    "collapsed": false
   },
   "outputs": [
    {
     "ename": "NameError",
     "evalue": "name 'greenland_ice_mass' is not defined",
     "output_type": "error",
     "traceback": [
      "\u001b[0;31m---------------------------------------------------------------------------\u001b[0m",
      "\u001b[0;31mNameError\u001b[0m                                 Traceback (most recent call last)",
      "\u001b[0;32m<ipython-input-2-3bee3317ed33>\u001b[0m in \u001b[0;36m<module>\u001b[0;34m()\u001b[0m\n\u001b[0;32m----> 1\u001b[0;31m \u001b[0;32mprint\u001b[0m \u001b[0mgreenland_ice_mass\u001b[0m\u001b[0;34m[\u001b[0m\u001b[0;34m-\u001b[0m\u001b[0;36m1\u001b[0m\u001b[0;34m]\u001b[0m\u001b[0;34m,\u001b[0m \u001b[0mantarctica_ice_mass\u001b[0m\u001b[0;34m[\u001b[0m\u001b[0;34m-\u001b[0m\u001b[0;36m1\u001b[0m\u001b[0;34m]\u001b[0m\u001b[0;34m\u001b[0m\u001b[0m\n\u001b[0m",
      "\u001b[0;31mNameError\u001b[0m: name 'greenland_ice_mass' is not defined"
     ]
    }
   ],
   "source": [
    "print greenland_ice_mass[-1], antarctica_ice_mass[-1]"
   ]
  },
  {
   "cell_type": "code",
   "execution_count": 3,
   "metadata": {
    "collapsed": false
   },
   "outputs": [
    {
     "data": {
      "text/plain": [
       "5.7"
      ]
     },
     "execution_count": 3,
     "metadata": {},
     "output_type": "execute_result"
    }
   ],
   "source": [
    "f = 5.7\n",
    "f"
   ]
  },
  {
   "cell_type": "code",
   "execution_count": 4,
   "metadata": {
    "collapsed": false
   },
   "outputs": [
    {
     "data": {
      "text/plain": [
       "5.7"
      ]
     },
     "execution_count": 4,
     "metadata": {},
     "output_type": "execute_result"
    }
   ],
   "source": [
    "f.real\n"
   ]
  },
  {
   "cell_type": "code",
   "execution_count": 5,
   "metadata": {
    "collapsed": false
   },
   "outputs": [
    {
     "ename": "NameError",
     "evalue": "name 'time' is not defined",
     "output_type": "error",
     "traceback": [
      "\u001b[0;31m---------------------------------------------------------------------------\u001b[0m",
      "\u001b[0;31mNameError\u001b[0m                                 Traceback (most recent call last)",
      "\u001b[0;32m<ipython-input-5-24f3bde5703f>\u001b[0m in \u001b[0;36m<module>\u001b[0;34m()\u001b[0m\n\u001b[1;32m      1\u001b[0m \u001b[0;34m\u001b[0m\u001b[0m\n\u001b[0;32m----> 2\u001b[0;31m \u001b[0mmax\u001b[0m\u001b[0;34m(\u001b[0m\u001b[0mtime\u001b[0m\u001b[0;34m)\u001b[0m\u001b[0;34m\u001b[0m\u001b[0m\n\u001b[0m",
      "\u001b[0;31mNameError\u001b[0m: name 'time' is not defined"
     ]
    }
   ],
   "source": [
    "\n",
    "max(time)"
   ]
  },
  {
   "cell_type": "code",
   "execution_count": null,
   "metadata": {
    "collapsed": true
   },
   "outputs": [],
   "source": []
  },
  {
   "cell_type": "code",
   "execution_count": null,
   "metadata": {
    "collapsed": true
   },
   "outputs": [],
   "source": []
  },
  {
   "cell_type": "code",
   "execution_count": null,
   "metadata": {
    "collapsed": true
   },
   "outputs": [],
   "source": []
  },
  {
   "cell_type": "code",
   "execution_count": null,
   "metadata": {
    "collapsed": true
   },
   "outputs": [],
   "source": []
  },
  {
   "cell_type": "code",
   "execution_count": null,
   "metadata": {
    "collapsed": true
   },
   "outputs": [],
   "source": []
  },
  {
   "cell_type": "code",
   "execution_count": null,
   "metadata": {
    "collapsed": true
   },
   "outputs": [],
   "source": []
  },
  {
   "cell_type": "code",
   "execution_count": null,
   "metadata": {
    "collapsed": true
   },
   "outputs": [],
   "source": []
  },
  {
   "cell_type": "code",
   "execution_count": null,
   "metadata": {
    "collapsed": true
   },
   "outputs": [],
   "source": []
  },
  {
   "cell_type": "code",
   "execution_count": null,
   "metadata": {
    "collapsed": true
   },
   "outputs": [],
   "source": []
  },
  {
   "cell_type": "code",
   "execution_count": null,
   "metadata": {
    "collapsed": true
   },
   "outputs": [],
   "source": []
  },
  {
   "cell_type": "code",
   "execution_count": null,
   "metadata": {
    "collapsed": true
   },
   "outputs": [],
   "source": []
  },
  {
   "cell_type": "code",
   "execution_count": null,
   "metadata": {
    "collapsed": true
   },
   "outputs": [],
   "source": []
  },
  {
   "cell_type": "code",
   "execution_count": null,
   "metadata": {
    "collapsed": true
   },
   "outputs": [],
   "source": []
  },
  {
   "cell_type": "code",
   "execution_count": null,
   "metadata": {
    "collapsed": true
   },
   "outputs": [],
   "source": []
  },
  {
   "cell_type": "code",
   "execution_count": null,
   "metadata": {
    "collapsed": true
   },
   "outputs": [],
   "source": []
  },
  {
   "cell_type": "code",
   "execution_count": null,
   "metadata": {
    "collapsed": true
   },
   "outputs": [],
   "source": []
  },
  {
   "cell_type": "code",
   "execution_count": null,
   "metadata": {
    "collapsed": true
   },
   "outputs": [],
   "source": []
  },
  {
   "cell_type": "code",
   "execution_count": null,
   "metadata": {
    "collapsed": true
   },
   "outputs": [],
   "source": []
  },
  {
   "cell_type": "code",
   "execution_count": null,
   "metadata": {
    "collapsed": true
   },
   "outputs": [],
   "source": []
  },
  {
   "cell_type": "code",
   "execution_count": null,
   "metadata": {
    "collapsed": true
   },
   "outputs": [],
   "source": []
  },
  {
   "cell_type": "code",
   "execution_count": null,
   "metadata": {
    "collapsed": true
   },
   "outputs": [],
   "source": []
  },
  {
   "cell_type": "code",
   "execution_count": null,
   "metadata": {
    "collapsed": true
   },
   "outputs": [],
   "source": []
  },
  {
   "cell_type": "code",
   "execution_count": null,
   "metadata": {
    "collapsed": true
   },
   "outputs": [],
   "source": []
  },
  {
   "cell_type": "code",
   "execution_count": null,
   "metadata": {
    "collapsed": true
   },
   "outputs": [],
   "source": []
  },
  {
   "cell_type": "code",
   "execution_count": null,
   "metadata": {
    "collapsed": true
   },
   "outputs": [],
   "source": []
  },
  {
   "cell_type": "code",
   "execution_count": null,
   "metadata": {
    "collapsed": true
   },
   "outputs": [],
   "source": []
  },
  {
   "cell_type": "code",
   "execution_count": null,
   "metadata": {
    "collapsed": true
   },
   "outputs": [],
   "source": []
  },
  {
   "cell_type": "code",
   "execution_count": null,
   "metadata": {
    "collapsed": true
   },
   "outputs": [],
   "source": []
  },
  {
   "cell_type": "code",
   "execution_count": null,
   "metadata": {
    "collapsed": true
   },
   "outputs": [],
   "source": []
  },
  {
   "cell_type": "code",
   "execution_count": null,
   "metadata": {
    "collapsed": true
   },
   "outputs": [],
   "source": []
  },
  {
   "cell_type": "code",
   "execution_count": null,
   "metadata": {
    "collapsed": true
   },
   "outputs": [],
   "source": []
  },
  {
   "cell_type": "code",
   "execution_count": null,
   "metadata": {
    "collapsed": true
   },
   "outputs": [],
   "source": []
  },
  {
   "cell_type": "code",
   "execution_count": null,
   "metadata": {
    "collapsed": true
   },
   "outputs": [],
   "source": []
  },
  {
   "cell_type": "code",
   "execution_count": null,
   "metadata": {
    "collapsed": true
   },
   "outputs": [],
   "source": []
  },
  {
   "cell_type": "code",
   "execution_count": null,
   "metadata": {
    "collapsed": true
   },
   "outputs": [],
   "source": []
  },
  {
   "cell_type": "code",
   "execution_count": null,
   "metadata": {
    "collapsed": true
   },
   "outputs": [],
   "source": []
  },
  {
   "cell_type": "code",
   "execution_count": null,
   "metadata": {
    "collapsed": true
   },
   "outputs": [],
   "source": []
  },
  {
   "cell_type": "code",
   "execution_count": null,
   "metadata": {
    "collapsed": true
   },
   "outputs": [],
   "source": []
  },
  {
   "cell_type": "code",
   "execution_count": null,
   "metadata": {
    "collapsed": true
   },
   "outputs": [],
   "source": []
  },
  {
   "cell_type": "code",
   "execution_count": null,
   "metadata": {
    "collapsed": true
   },
   "outputs": [],
   "source": []
  },
  {
   "cell_type": "code",
   "execution_count": null,
   "metadata": {
    "collapsed": true
   },
   "outputs": [],
   "source": []
  },
  {
   "cell_type": "code",
   "execution_count": null,
   "metadata": {
    "collapsed": true
   },
   "outputs": [],
   "source": []
  },
  {
   "cell_type": "code",
   "execution_count": null,
   "metadata": {
    "collapsed": true
   },
   "outputs": [],
   "source": []
  },
  {
   "cell_type": "code",
   "execution_count": null,
   "metadata": {
    "collapsed": true
   },
   "outputs": [],
   "source": []
  },
  {
   "cell_type": "code",
   "execution_count": null,
   "metadata": {
    "collapsed": true
   },
   "outputs": [],
   "source": []
  },
  {
   "cell_type": "code",
   "execution_count": null,
   "metadata": {
    "collapsed": true
   },
   "outputs": [],
   "source": []
  },
  {
   "cell_type": "code",
   "execution_count": null,
   "metadata": {
    "collapsed": true
   },
   "outputs": [],
   "source": []
  },
  {
   "cell_type": "code",
   "execution_count": null,
   "metadata": {
    "collapsed": true
   },
   "outputs": [],
   "source": []
  },
  {
   "cell_type": "code",
   "execution_count": null,
   "metadata": {
    "collapsed": true
   },
   "outputs": [],
   "source": []
  },
  {
   "cell_type": "code",
   "execution_count": null,
   "metadata": {
    "collapsed": true
   },
   "outputs": [],
   "source": []
  },
  {
   "cell_type": "code",
   "execution_count": null,
   "metadata": {
    "collapsed": true
   },
   "outputs": [],
   "source": []
  },
  {
   "cell_type": "code",
   "execution_count": null,
   "metadata": {
    "collapsed": true
   },
   "outputs": [],
   "source": []
  },
  {
   "cell_type": "code",
   "execution_count": null,
   "metadata": {
    "collapsed": true
   },
   "outputs": [],
   "source": []
  },
  {
   "cell_type": "code",
   "execution_count": null,
   "metadata": {
    "collapsed": true
   },
   "outputs": [],
   "source": []
  },
  {
   "cell_type": "code",
   "execution_count": null,
   "metadata": {
    "collapsed": true
   },
   "outputs": [],
   "source": []
  },
  {
   "cell_type": "code",
   "execution_count": null,
   "metadata": {
    "collapsed": true
   },
   "outputs": [],
   "source": []
  },
  {
   "cell_type": "code",
   "execution_count": null,
   "metadata": {
    "collapsed": true
   },
   "outputs": [],
   "source": []
  },
  {
   "cell_type": "code",
   "execution_count": null,
   "metadata": {
    "collapsed": true
   },
   "outputs": [],
   "source": []
  },
  {
   "cell_type": "code",
   "execution_count": null,
   "metadata": {
    "collapsed": true
   },
   "outputs": [],
   "source": []
  },
  {
   "cell_type": "code",
   "execution_count": null,
   "metadata": {
    "collapsed": true
   },
   "outputs": [],
   "source": []
  },
  {
   "cell_type": "code",
   "execution_count": null,
   "metadata": {
    "collapsed": true
   },
   "outputs": [],
   "source": []
  },
  {
   "cell_type": "code",
   "execution_count": null,
   "metadata": {
    "collapsed": true
   },
   "outputs": [],
   "source": []
  },
  {
   "cell_type": "code",
   "execution_count": null,
   "metadata": {
    "collapsed": true
   },
   "outputs": [],
   "source": []
  },
  {
   "cell_type": "code",
   "execution_count": null,
   "metadata": {
    "collapsed": true
   },
   "outputs": [],
   "source": []
  },
  {
   "cell_type": "code",
   "execution_count": null,
   "metadata": {
    "collapsed": true
   },
   "outputs": [],
   "source": []
  },
  {
   "cell_type": "code",
   "execution_count": null,
   "metadata": {
    "collapsed": true
   },
   "outputs": [],
   "source": []
  },
  {
   "cell_type": "code",
   "execution_count": null,
   "metadata": {
    "collapsed": true
   },
   "outputs": [],
   "source": []
  },
  {
   "cell_type": "code",
   "execution_count": null,
   "metadata": {
    "collapsed": true
   },
   "outputs": [],
   "source": []
  },
  {
   "cell_type": "code",
   "execution_count": null,
   "metadata": {
    "collapsed": true
   },
   "outputs": [],
   "source": []
  },
  {
   "cell_type": "code",
   "execution_count": null,
   "metadata": {
    "collapsed": true
   },
   "outputs": [],
   "source": []
  }
 ],
 "metadata": {
  "kernelspec": {
   "display_name": "Python 2",
   "language": "python",
   "name": "python2"
  },
  "language_info": {
   "codemirror_mode": {
    "name": "ipython",
    "version": 2
   },
   "file_extension": ".py",
   "mimetype": "text/x-python",
   "name": "python",
   "nbconvert_exporter": "python",
   "pygments_lexer": "ipython2",
   "version": "2.7.10"
  }
 },
 "nbformat": 4,
 "nbformat_minor": 0
}
