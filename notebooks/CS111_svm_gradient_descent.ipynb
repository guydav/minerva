{
 "cells": [
  {
   "cell_type": "code",
   "execution_count": 1,
   "metadata": {
    "collapsed": true
   },
   "outputs": [],
   "source": [
    "%matplotlib inline"
   ]
  },
  {
   "cell_type": "code",
   "execution_count": 2,
   "metadata": {
    "collapsed": false
   },
   "outputs": [],
   "source": [
    "import pandas\n",
    "import numpy as np\n",
    "import matplotlib\n",
    "from matplotlib import pyplot as plt\n",
    "matplotlib.style.use('ggplot')\n",
    "\n",
    "DATA_FILE = 'cs111_svm_dataset.csv'"
   ]
  },
  {
   "cell_type": "code",
   "execution_count": 255,
   "metadata": {
    "collapsed": false
   },
   "outputs": [],
   "source": [
    "data = pandas.read_csv(DATA_FILE)\n",
    "BIAS_COLUMN = 'bias'\n",
    "LABEL_COLUMN = 'Classification'\n",
    "\n",
    "data[BIAS_COLUMN] = 1\n",
    "data[LABEL_COLUMN].replace(0, -1, inplace=True)"
   ]
  },
  {
   "cell_type": "code",
   "execution_count": 245,
   "metadata": {
    "collapsed": false
   },
   "outputs": [
    {
     "data": {
      "image/png": "[encoded data removed]",
      "text/plain": [
       "<matplotlib.figure.Figure at 0x1090ac990>"
      ]
     },
     "metadata": {},
     "output_type": "display_data"
    }
   ],
   "source": [
    "def line_from_theta(theta, x_range):\n",
    "    b0, b1, b2 = theta\n",
    "    return -1.0 * (b0 + b1 * x_range) / b2\n",
    "\n",
    "\n",
    "def plot_data(data, theta=None, title=None):\n",
    "    ax = data[data[LABEL_COLUMN] == 1].plot(kind='scatter', x='X1', y='X2', marker='o', s=50,\n",
    "                                                    label='Class 1', figsize=(8, 6))\n",
    "    data[data[LABEL_COLUMN] == -1].plot(kind='scatter', x='X1', y='X2', marker='x', s=50, \n",
    "                                            c='red', label='Class -1 (0)', ax=ax)\n",
    "    ax.set_xlabel('X1')\n",
    "    \n",
    "    if theta is not None:\n",
    "        x_min = data.min()['X1']\n",
    "        x_max = data.max()['X1']\n",
    "        x_range = np.linspace(x_min, x_max)\n",
    "\n",
    "        ax.plot(x_range, line_from_theta(theta, x_range), color='black', ls='--')\n",
    "        \n",
    "    if title:\n",
    "        ax.set_title(title)\n",
    "        \n",
    "    ax.legend(loc=2)\n",
    "    plt.show()\n",
    "    \n",
    "plot_data(data)"
   ]
  },
  {
   "cell_type": "code",
   "execution_count": 292,
   "metadata": {
    "collapsed": false
   },
   "outputs": [],
   "source": [
    "DATA_COLUMN_PREFIX = 'X'\n",
    "\n",
    "def generate_relevant_columns(data, include_bias=True, prefix=DATA_COLUMN_PREFIX):\n",
    "    columns = data.filter(like=prefix).columns\n",
    "    if include_bias:\n",
    "        columns = columns.insert(0, BIAS_COLUMN)\n",
    "        \n",
    "    return columns\n",
    "\n",
    "def loss_function(data, theta, label_column=LABEL_COLUMN, \n",
    "                  data_cols_generator=generate_relevant_columns):\n",
    "    return np.log(1.0 + np.exp(-1.0 * data[label_column] * \n",
    "                             data.filter(items=data_cols_generator(data)).values.dot(theta)))\n",
    "\n",
    "\n",
    "def error_function(data, theta, label_column=LABEL_COLUMN, \n",
    "                   data_cols_generator=generate_relevant_columns):\n",
    "    return np.mean(loss_function(data, theta, label_column, data_cols_generator))\n",
    "    \n",
    "\n",
    "def generate_partial_derivatives(label_column=LABEL_COLUMN, \n",
    "                                 data_cols_generator=generate_relevant_columns):\n",
    "    return pandas.concat([-1 * data[label_column] * data[col] \n",
    "                          for col in data_cols_generator(data)], axis=1)\n",
    "\n",
    "\n",
    "def gradient(data, theta, partial_derivatives, \n",
    "             label_column=LABEL_COLUMN, \n",
    "             data_cols_generator=generate_relevant_columns):\n",
    "    return partial_derivatives.multiply(1.0 / (\n",
    "            1.0 + np.exp(data[label_column] * data.filter(items=data_cols_generator(data)).values.dot(theta))), \n",
    "                                        axis=0).sum()\n",
    "\n",
    "\n",
    "GRADIENT_CHECK_STEP = 0.001\n",
    "\n",
    "\n",
    "def gradient_check(data, theta, step=GRADIENT_CHECK_STEP,\n",
    "                   label_column=LABEL_COLUMN, \n",
    "                   data_cols_generator=generate_relevant_columns):\n",
    "    \"\"\"\n",
    "    Implement gradient checking using the centered formula for the derivative:\n",
    "    f'(x) = (f(x + h) - f(x - h)) / 2h\n",
    "    \"\"\"\n",
    "    step_configurations = ([step, 0, 0], [0, step, 0], [0, 0, step])\n",
    "    \n",
    "    gradients = [(loss_function(data, theta + step_config) - loss_function(data, theta - step_config)) \\\n",
    "            / (2 * step) for step_config in step_configurations]\n",
    "    \n",
    "    return [grad.sum() for grad in gradients]\n",
    "\n",
    "\n",
    "def compare_gradients(step=GRADIENT_CHECK_STEP, label_column=LABEL_COLUMN, \n",
    "                      data_cols_generator=generate_relevant_columns):\n",
    "    test_theta = np.random.random(3)\n",
    "    partial_derivatives = generate_partial_derivatives(label_column, data_cols_generator)\n",
    "    \n",
    "    return gradient_check(data, test_theta, step, label_column, data_cols_generator) - \\\n",
    "            gradient(data, test_theta, partial_derivatives, label_column, data_cols_generator)\n",
    "\n",
    "\n",
    "LEARNING_RATE = 0.1\n",
    "DEFAULT_EPOCHS = 1000\n",
    "DEFAULT_GRAPH_INTERVAL = 10\n",
    "MIN_DELTA_ERROR = 10 ** -6\n",
    "\n",
    "\n",
    "def split_data_into_batches(data, batch_size=None):\n",
    "    if batch_size is None:\n",
    "        return [data]\n",
    "    \n",
    "    if 1 == batch_size:\n",
    "        return data.sample(frac=1)\n",
    "    \n",
    "    shuffled_rows = range(len(data))\n",
    "    np.random.shuffle(shuffled_rows)\n",
    "    \n",
    "    return [data.iloc[shuffled_rows[i * batch_size:(i + 1) * batch_size]] \n",
    "            for i in range(len(data) / batch_size)]\n",
    "\n",
    "\n",
    "def train_model(data, theta=None, batch_size=None, num_epochs=DEFAULT_EPOCHS, \n",
    "                learning_rate=LEARNING_RATE, min_delta_error=MIN_DELTA_ERROR, \n",
    "                should_print=True, should_graph=False, graph_interval=DEFAULT_GRAPH_INTERVAL,\n",
    "                label_column=LABEL_COLUMN, data_cols_generator=generate_relevant_columns):\n",
    "    if batch_size > len(data):\n",
    "        raise ValueError('Batch size cannot be larger than the entire data. Aborting...')\n",
    "    \n",
    "    if theta is None:\n",
    "        theta = np.random.rand(3)\n",
    "        \n",
    "    last_error = float('inf')\n",
    "    \n",
    "    partial_derivatives = generate_partial_derivatives(label_column, data_cols_generator)\n",
    "    \n",
    "    for i in xrange(num_epochs):\n",
    "        for batch in split_data_into_batches(data, batch_size):        \n",
    "            error = error_function(data, theta, label_column, data_cols_generator)\n",
    "            if should_print:\n",
    "                print 'In epoch {i} the error is {error}'.format(i=i, error=error)\n",
    "\n",
    "            if last_error - error < min_delta_error:\n",
    "                print 'Reached a change in error below the minimum, terminating'\n",
    "                return theta\n",
    "\n",
    "            last_error = error\n",
    "\n",
    "            if should_graph and 0 == i % graph_interval:\n",
    "                plot_data(data, theta, 'Epoch {i}, error = {error:.4e}'.format(i=i, error=error))\n",
    "\n",
    "            theta_grad = gradient(data, theta, partial_derivatives, label_column, data_cols_generator)\n",
    "            theta -= learning_rate * theta_grad\n",
    "        \n",
    "    return theta\n"
   ]
  },
  {
   "cell_type": "code",
   "execution_count": 289,
   "metadata": {
    "collapsed": false,
    "scrolled": false
   },
   "outputs": [
    {
     "name": "stdout",
     "output_type": "stream",
     "text": [
      "True\n",
      "True\n",
      "In epoch 0 the error is 20.2174500043\n",
      "True\n",
      "True\n",
      "In epoch 0 the error is 9.93686848862e-06\n",
      "True\n",
      "True\n",
      "In epoch 0 the error is 9.93193509785e-06\n",
      "Reached a change in error below the minimum, terminating\n"
     ]
    },
    {
     "name": "stderr",
     "output_type": "stream",
     "text": [
      "/Users/guydavidson/Virtualenvs/dev/lib/python2.7/site-packages/ipykernel/__main__.py:32: RuntimeWarning: overflow encountered in exp\n"
     ]
    },
    {
     "data": {
      "image/png": "[encoded data removed]",
      "text/plain": [
       "<matplotlib.figure.Figure at 0x109b390d0>"
      ]
     },
     "metadata": {},
     "output_type": "display_data"
    }
   ],
   "source": [
    "theta = train_model(data, batch_size=10, learning_rate=1)\n",
    "plot_data(data, theta)"
   ]
  },
  {
   "cell_type": "code",
   "execution_count": 298,
   "metadata": {
    "collapsed": false,
    "scrolled": false
   },
   "outputs": [
    {
     "data": {
      "text/plain": [
       "0    5.005966e-08\n",
       "1   -5.663140e-06\n",
       "2   -4.336831e-06\n",
       "dtype: float64"
      ]
     },
     "execution_count": 298,
     "metadata": {},
     "output_type": "execute_result"
    }
   ],
   "source": [
    "compare_gradients()"
   ]
  },
  {
   "cell_type": "code",
   "execution_count": null,
   "metadata": {
    "collapsed": false
   },
   "outputs": [],
   "source": []
  },
  {
   "cell_type": "code",
   "execution_count": 254,
   "metadata": {
    "collapsed": false
   },
   "outputs": [
    {
     "data": {
      "text/plain": [
       "Index([u'bias', u'X1', u'X2'], dtype='object')"
      ]
     },
     "execution_count": 254,
     "metadata": {},
     "output_type": "execute_result"
    }
   ],
   "source": [
    "c = data.filter(like='X').columns\n",
    "c.insert(0, 'bias')"
   ]
  },
  {
   "cell_type": "code",
   "execution_count": 287,
   "metadata": {
    "collapsed": false
   },
   "outputs": [
    {
     "name": "stdout",
     "output_type": "stream",
     "text": [
      "True\n"
     ]
    },
    {
     "data": {
      "text/plain": [
       "0     0.000000\n",
       "1     0.000000\n",
       "2     0.000000\n",
       "3     0.000000\n",
       "4     0.000000\n",
       "5     0.000000\n",
       "6     0.000000\n",
       "7     0.000000\n",
       "8     0.000000\n",
       "9     0.000000\n",
       "10    0.000000\n",
       "11    0.000000\n",
       "12    0.000000\n",
       "13    0.000000\n",
       "14    0.000000\n",
       "15    0.000000\n",
       "16    0.000000\n",
       "17    0.000000\n",
       "18    0.000000\n",
       "19    0.000000\n",
       "20    0.000000\n",
       "21    0.000000\n",
       "22    0.000000\n",
       "23    0.000000\n",
       "24    0.000000\n",
       "25    0.000000\n",
       "26    0.000000\n",
       "27    0.000000\n",
       "28    0.000000\n",
       "29    0.000000\n",
       "30    0.000000\n",
       "31    0.000000\n",
       "32    0.000000\n",
       "33    0.000000\n",
       "34    0.000000\n",
       "35    0.000000\n",
       "36    0.000000\n",
       "37    0.000000\n",
       "38    0.000000\n",
       "39    0.000000\n",
       "40    0.000000\n",
       "41    0.000000\n",
       "42    0.000000\n",
       "43    0.000000\n",
       "44    0.000000\n",
       "45    0.000000\n",
       "46    0.000000\n",
       "47    0.000321\n",
       "48    0.000000\n",
       "49    0.000000\n",
       "Name: Classification, dtype: float64"
      ]
     },
     "execution_count": 287,
     "metadata": {},
     "output_type": "execute_result"
    }
   ],
   "source": [
    "loss_function(data, theta)"
   ]
  },
  {
   "cell_type": "code",
   "execution_count": 280,
   "metadata": {
    "collapsed": false
   },
   "outputs": [
    {
     "data": {
      "text/plain": [
       "Index([u'X1', u'X2'], dtype='object')"
      ]
     },
     "execution_count": 280,
     "metadata": {},
     "output_type": "execute_result"
    }
   ],
   "source": [
    "generate_relevant_columns(data, True)"
   ]
  },
  {
   "cell_type": "code",
   "execution_count": null,
   "metadata": {
    "collapsed": true
   },
   "outputs": [],
   "source": []
  }
 ],
 "metadata": {
  "kernelspec": {
   "display_name": "Python 2",
   "language": "python",
   "name": "python2"
  },
  "language_info": {
   "codemirror_mode": {
    "name": "ipython",
    "version": 2
   },
   "file_extension": ".py",
   "mimetype": "text/x-python",
   "name": "python",
   "nbconvert_exporter": "python",
   "pygments_lexer": "ipython2",
   "version": "2.7.10"
  }
 },
 "nbformat": 4,
 "nbformat_minor": 0
}
